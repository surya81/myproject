{
  "nbformat": 4,
  "nbformat_minor": 0,
  "metadata": {
    "colab": {
      "provenance": [],
      "authorship_tag": "ABX9TyPVJg2KJhkxRTymok6ExgM7",
      "include_colab_link": true
    },
    "kernelspec": {
      "name": "python3",
      "display_name": "Python 3"
    },
    "language_info": {
      "name": "python"
    }
  },
  "cells": [
    {
      "cell_type": "markdown",
      "metadata": {
        "id": "view-in-github",
        "colab_type": "text"
      },
      "source": [
        "<a href=\"https://colab.research.google.com/github/surya81/Alma-better-projects/blob/main/Transport_demand_prediction.ipynb\" target=\"_parent\"><img src=\"https://colab.research.google.com/assets/colab-badge.svg\" alt=\"Open In Colab\"/></a>"
      ]
    },
    {
      "cell_type": "markdown",
      "source": [
        "# **Project Name**\n",
        "$\\color{blue}{\\text{Transport Demand Prediction}}$"
      ],
      "metadata": {
        "id": "9Qu3XcOug5sy"
      }
    },
    {
      "cell_type": "markdown",
      "source": [
        "###**Project type** - Classification\n",
        "###**Contribution** - Individual\n",
        "###**Team Member1** - $\\color{Green}{\\text{Surya Prakash}}$"
      ],
      "metadata": {
        "id": "hlFcJdljhvyw"
      }
    },
    {
      "cell_type": "markdown",
      "source": [
        "# **Project Summary**"
      ],
      "metadata": {
        "id": "aSGKSz_Li6-L"
      }
    },
    {
      "cell_type": "markdown",
      "source": [
        "**Data Processing**\n",
        "    1.\n",
        "    2.\n",
        "    3.\n",
        "    4.\n",
        "\n",
        "**Exploratory Data Analysis**\n",
        "\n",
        "**Supervised Machine learning Algorithm**\n",
        "\n",
        "```\n",
        "# This is formatted as code\n",
        "```\n",
        "\n"
      ],
      "metadata": {
        "id": "NRfxqEXAjC2G"
      }
    },
    {
      "cell_type": "markdown",
      "source": [
        "#**Github Link**"
      ],
      "metadata": {
        "id": "HG_OsaKVjzZz"
      }
    },
    {
      "cell_type": "markdown",
      "source": [],
      "metadata": {
        "id": "r2rAbMJDkbwx"
      }
    }
  ]
}