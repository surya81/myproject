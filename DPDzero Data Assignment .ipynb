{
 "cells": [
  {
   "cell_type": "markdown",
   "id": "340cdc3f-24e8-4c91-998b-a7eeafbc4fad",
   "metadata": {
    "tags": []
   },
   "source": [
    "# **Project Name**\n",
    "$\\color{red}{\\text{DPDzero Data Assignment}}$"
   ]
  },
  {
   "cell_type": "markdown",
   "id": "38948fa2-7444-42bf-a5d9-92e542c4e429",
   "metadata": {
    "jp-MarkdownHeadingCollapsed": true,
    "tags": []
   },
   "source": [
    "# **Project Summary**"
   ]
  },
  {
   "cell_type": "markdown",
   "id": "1ae263f4-b9ef-4184-92ad-4738e1bdd07f",
   "metadata": {},
   "source": [
    "**Data Processing**\n",
    "\n",
    "    1.Importing libraries\n",
    "    2.Function for reading dataset\n",
    "    3.dataset information \n",
    "    4.Missing values,Duplicated values\n",
    "\n",
    "**Exploratory Data Analysis**\n",
    "\n",
    "**Supervised Machine learning Algorithm**\n",
    "\n",
    "```\n",
    "# This is formatted as code\n",
    "```"
   ]
  },
  {
   "cell_type": "markdown",
   "id": "042652d0-1bcd-4527-b01b-2b3fdcfbdb31",
   "metadata": {
    "jp-MarkdownHeadingCollapsed": true,
    "tags": []
   },
   "source": [
    "# **Problem Statement**"
   ]
  },
  {
   "cell_type": "code",
   "execution_count": null,
   "id": "2deee222-4fdd-4060-a004-1e29475be215",
   "metadata": {},
   "outputs": [],
   "source": []
  },
  {
   "cell_type": "markdown",
   "id": "999e2cb8-7ed8-435c-8fc6-56615104af8b",
   "metadata": {
    "jp-MarkdownHeadingCollapsed": true,
    "tags": []
   },
   "source": [
    "# **Data overview and column description**"
   ]
  },
  {
   "cell_type": "markdown",
   "id": "5814aa61-66b7-47b3-85f6-98ee0032a13d",
   "metadata": {},
   "source": [
    "**There are two dataset needed for the project**"
   ]
  },
  {
   "cell_type": "markdown",
   "id": "c45d96a7-9b58-4a2d-85cd-b04a80595dee",
   "metadata": {
    "jp-MarkdownHeadingCollapsed": true,
    "tags": []
   },
   "source": [
    "## **portfolio data** \n",
    "**This contains the details on loans given to few customers and their demographic information**"
   ]
  },
  {
   "cell_type": "markdown",
   "id": "f2b94efb-d3e7-49fb-94a0-a49acfd229d3",
   "metadata": {},
   "source": [
    "| Column          | Description     |\n",
    "| --------------- | --------------- |\n",
    "| Loan Number     | Loan Number given to each customer  |\n",
    "| Due Date        |  Repaying dae of loan by the customer |\n",
    "| State           |  origin of state of each customer |\n",
    "| DOB             |Date of birth of the customer   |\n",
    "| Loan Amount     | Loan amount given to each customer |\n"
   ]
  },
  {
   "cell_type": "markdown",
   "id": "bf44474e-9c7e-4e87-b06d-72000a3219b6",
   "metadata": {
    "jp-MarkdownHeadingCollapsed": true,
    "tags": []
   },
   "source": [
    "## **Communication History**\n",
    "**The attempts made to reach out to these customers and the status of these calls.**"
   ]
  },
  {
   "cell_type": "markdown",
   "id": "a7720894-2205-4267-872f-40c5e6cdd822",
   "metadata": {},
   "source": [
    "| Column          | Description     |\n",
    "| --------------- | --------------- |\n",
    "| Loan Number     | Loan Number given to each customer  |\n",
    "| Campaign ID     |  Campaign ID by the bank  |\n",
    "|Communication Operator Message ID  |  operator Id for each communication done in messages |\n",
    "| Call time       |Date of birth of the customer   |\n",
    "| Status    | status of the repayment |"
   ]
  },
  {
   "cell_type": "markdown",
   "id": "75ddece6-30ec-4ae4-90c8-f5cc4f94e1e0",
   "metadata": {},
   "source": [
    "# **Let's Begin**"
   ]
  },
  {
   "cell_type": "markdown",
   "id": "b73dea57-6ff3-487f-8e1d-bef210ae0b98",
   "metadata": {
    "tags": []
   },
   "source": [
    "## **Knowing the Data**"
   ]
  },
  {
   "cell_type": "markdown",
   "id": "d35ff6dd-1366-490f-950d-dd801e34653d",
   "metadata": {
    "jp-MarkdownHeadingCollapsed": true,
    "tags": []
   },
   "source": [
    "### Import Libraries"
   ]
  },
  {
   "cell_type": "code",
   "execution_count": 2,
   "id": "1b54bd09-7433-4f44-af85-3ba7bbe8f1fd",
   "metadata": {},
   "outputs": [],
   "source": [
    "import numpy as np \n",
    "import pandas as pd \n",
    "import seaborn as sns\n",
    "import matplotlib.pyplot as plt\n",
    "%matplotlib inline\n",
    "import warnings\n",
    "warnings.filterwarnings(\"ignore\")"
   ]
  },
  {
   "cell_type": "markdown",
   "id": "7650a86e-077c-4d7a-95d5-5665903a5cbe",
   "metadata": {
    "jp-MarkdownHeadingCollapsed": true,
    "tags": []
   },
   "source": [
    "### Dataset Loading"
   ]
  },
  {
   "cell_type": "code",
   "execution_count": 28,
   "id": "89de2f8d-34d7-4ce8-b732-918125d6f79a",
   "metadata": {},
   "outputs": [],
   "source": [
    "# Function to load the data \n",
    "def DataLoader(path,Date=None,date_cols=None):\n",
    "    \"\"\"\n",
    "    A function to load the datset \n",
    "    Argumet - Path(path to the data file)\n",
    "    return - dataframe\n",
    "    \"\"\"\n",
    "    try:\n",
    "        dataframe = pd.read_excel(path,index_col=Date,parse_dates=date_cols)\n",
    "        return dataframe\n",
    "    except: # if path is incorrect or does not exist\n",
    "        print(\"path does not find\")\n",
    "\n",
    "    finally:\n",
    "        print(\"operation performed on the  dataset Location\")"
   ]
  },
  {
   "cell_type": "code",
   "execution_count": 35,
   "id": "5ae4e46d-4980-4b68-a56f-8eb6ec388745",
   "metadata": {},
   "outputs": [
    {
     "name": "stdout",
     "output_type": "stream",
     "text": [
      "operation performed on the  dataset Location\n"
     ]
    }
   ],
   "source": [
    "CommunicationHistory_df = DataLoader(\"CommunicationHistory.xlsx\",'Call time',['Call time'])"
   ]
  },
  {
   "cell_type": "code",
   "execution_count": 34,
   "id": "1f627c37-31bc-47ed-ace7-335a16365cdf",
   "metadata": {},
   "outputs": [
    {
     "name": "stdout",
     "output_type": "stream",
     "text": [
      "operation performed on the  dataset Location\n"
     ]
    }
   ],
   "source": [
    "date_cols = ['Due Date','DOB']\n",
    "portfolio_df = DataLoader(\"Portfolio_data.xlsx\",date_cols=date_cols)"
   ]
  },
  {
   "cell_type": "markdown",
   "id": "784ee635-22e3-46ef-9584-5eb7e9e8e9f9",
   "metadata": {},
   "source": [
    "### Dataset First View"
   ]
  },
  {
   "cell_type": "code",
   "execution_count": 36,
   "id": "3fd78b74-e85f-4397-a67f-2670bd5d23fb",
   "metadata": {},
   "outputs": [
    {
     "data": {
      "text/html": [
       "<div>\n",
       "<style scoped>\n",
       "    .dataframe tbody tr th:only-of-type {\n",
       "        vertical-align: middle;\n",
       "    }\n",
       "\n",
       "    .dataframe tbody tr th {\n",
       "        vertical-align: top;\n",
       "    }\n",
       "\n",
       "    .dataframe thead th {\n",
       "        text-align: right;\n",
       "    }\n",
       "</style>\n",
       "<table border=\"1\" class=\"dataframe\">\n",
       "  <thead>\n",
       "    <tr style=\"text-align: right;\">\n",
       "      <th></th>\n",
       "      <th>Loan Number</th>\n",
       "      <th>Campaign ID</th>\n",
       "      <th>Communication Operator Message ID</th>\n",
       "      <th>Status</th>\n",
       "    </tr>\n",
       "    <tr>\n",
       "      <th>Call time</th>\n",
       "      <th></th>\n",
       "      <th></th>\n",
       "      <th></th>\n",
       "      <th></th>\n",
       "    </tr>\n",
       "  </thead>\n",
       "  <tbody>\n",
       "    <tr>\n",
       "      <th>2022-12-02 02:59:40.973000+00:00</th>\n",
       "      <td>16748071234</td>\n",
       "      <td>161584404</td>\n",
       "      <td>21a1f7b1ce4d23d558e300626d5016c2</td>\n",
       "      <td>completed</td>\n",
       "    </tr>\n",
       "    <tr>\n",
       "      <th>2022-12-02 03:57:51.335000+00:00</th>\n",
       "      <td>16734601234</td>\n",
       "      <td>161584404</td>\n",
       "      <td>edecb5cd796826ef8bcde2f4814f16c2</td>\n",
       "      <td>completed</td>\n",
       "    </tr>\n",
       "    <tr>\n",
       "      <th>2022-12-02 04:34:26.950000+00:00</th>\n",
       "      <td>1631580</td>\n",
       "      <td>161307935</td>\n",
       "      <td>6a79ed24fa727ae9341f53a9df8816c2</td>\n",
       "      <td>completed</td>\n",
       "    </tr>\n",
       "    <tr>\n",
       "      <th>2022-12-02 04:34:57.213000+00:00</th>\n",
       "      <td>1631580</td>\n",
       "      <td>161307935</td>\n",
       "      <td>ce45ac657c26d5d10e6d1eb4aacc16c2</td>\n",
       "      <td>completed</td>\n",
       "    </tr>\n",
       "    <tr>\n",
       "      <th>2022-12-02 04:36:21.594000+00:00</th>\n",
       "      <td>1631580</td>\n",
       "      <td>161307935</td>\n",
       "      <td>6c864d7097f2df3eed4900ea892816c2</td>\n",
       "      <td>completed</td>\n",
       "    </tr>\n",
       "  </tbody>\n",
       "</table>\n",
       "</div>"
      ],
      "text/plain": [
       "                                  Loan Number  Campaign ID  \\\n",
       "Call time                                                    \n",
       "2022-12-02 02:59:40.973000+00:00  16748071234    161584404   \n",
       "2022-12-02 03:57:51.335000+00:00  16734601234    161584404   \n",
       "2022-12-02 04:34:26.950000+00:00      1631580    161307935   \n",
       "2022-12-02 04:34:57.213000+00:00      1631580    161307935   \n",
       "2022-12-02 04:36:21.594000+00:00      1631580    161307935   \n",
       "\n",
       "                                 Communication Operator Message ID     Status  \n",
       "Call time                                                                      \n",
       "2022-12-02 02:59:40.973000+00:00  21a1f7b1ce4d23d558e300626d5016c2  completed  \n",
       "2022-12-02 03:57:51.335000+00:00  edecb5cd796826ef8bcde2f4814f16c2  completed  \n",
       "2022-12-02 04:34:26.950000+00:00  6a79ed24fa727ae9341f53a9df8816c2  completed  \n",
       "2022-12-02 04:34:57.213000+00:00  ce45ac657c26d5d10e6d1eb4aacc16c2  completed  \n",
       "2022-12-02 04:36:21.594000+00:00  6c864d7097f2df3eed4900ea892816c2  completed  "
      ]
     },
     "execution_count": 36,
     "metadata": {},
     "output_type": "execute_result"
    }
   ],
   "source": [
    "CommunicationHistory_df.head()"
   ]
  },
  {
   "cell_type": "code",
   "execution_count": 37,
   "id": "b2498592-ea46-4ffe-9153-01ac4641eea7",
   "metadata": {},
   "outputs": [
    {
     "data": {
      "text/html": [
       "<div>\n",
       "<style scoped>\n",
       "    .dataframe tbody tr th:only-of-type {\n",
       "        vertical-align: middle;\n",
       "    }\n",
       "\n",
       "    .dataframe tbody tr th {\n",
       "        vertical-align: top;\n",
       "    }\n",
       "\n",
       "    .dataframe thead th {\n",
       "        text-align: right;\n",
       "    }\n",
       "</style>\n",
       "<table border=\"1\" class=\"dataframe\">\n",
       "  <thead>\n",
       "    <tr style=\"text-align: right;\">\n",
       "      <th></th>\n",
       "      <th>Loan Number</th>\n",
       "      <th>Due Date</th>\n",
       "      <th>State</th>\n",
       "      <th>DOB</th>\n",
       "      <th>Loan Amount</th>\n",
       "    </tr>\n",
       "  </thead>\n",
       "  <tbody>\n",
       "    <tr>\n",
       "      <th>0</th>\n",
       "      <td>1003431</td>\n",
       "      <td>2022-10-31</td>\n",
       "      <td>KARNATAKA</td>\n",
       "      <td>1987-02-09 00:00:00</td>\n",
       "      <td>240000.0</td>\n",
       "    </tr>\n",
       "    <tr>\n",
       "      <th>1</th>\n",
       "      <td>1004356</td>\n",
       "      <td>2022-10-31</td>\n",
       "      <td>MAHARASHTRA</td>\n",
       "      <td>1994-05-23 00:00:00</td>\n",
       "      <td>56000.0</td>\n",
       "    </tr>\n",
       "    <tr>\n",
       "      <th>2</th>\n",
       "      <td>1004464</td>\n",
       "      <td>2022-11-01</td>\n",
       "      <td>UTTAR PRADESH</td>\n",
       "      <td>1996-12-01 00:00:00</td>\n",
       "      <td>50000.0</td>\n",
       "    </tr>\n",
       "    <tr>\n",
       "      <th>3</th>\n",
       "      <td>1004626</td>\n",
       "      <td>2022-11-01</td>\n",
       "      <td>KERALA</td>\n",
       "      <td>1995-07-14 00:00:00</td>\n",
       "      <td>63000.0</td>\n",
       "    </tr>\n",
       "    <tr>\n",
       "      <th>4</th>\n",
       "      <td>1005011</td>\n",
       "      <td>2022-11-01</td>\n",
       "      <td>MAHARASHTRA</td>\n",
       "      <td>1994-05-30 00:00:00</td>\n",
       "      <td>50000.0</td>\n",
       "    </tr>\n",
       "  </tbody>\n",
       "</table>\n",
       "</div>"
      ],
      "text/plain": [
       "   Loan Number   Due Date          State                  DOB  Loan Amount\n",
       "0      1003431 2022-10-31      KARNATAKA  1987-02-09 00:00:00     240000.0\n",
       "1      1004356 2022-10-31    MAHARASHTRA  1994-05-23 00:00:00      56000.0\n",
       "2      1004464 2022-11-01  UTTAR PRADESH  1996-12-01 00:00:00      50000.0\n",
       "3      1004626 2022-11-01         KERALA  1995-07-14 00:00:00      63000.0\n",
       "4      1005011 2022-11-01    MAHARASHTRA  1994-05-30 00:00:00      50000.0"
      ]
     },
     "execution_count": 37,
     "metadata": {},
     "output_type": "execute_result"
    }
   ],
   "source": [
    "portfolio_df.head()"
   ]
  },
  {
   "cell_type": "markdown",
   "id": "a41ee06c-0e8f-40de-9ab8-5794b2a93351",
   "metadata": {},
   "source": [
    "### Dataset Rows & Columns count"
   ]
  },
  {
   "cell_type": "code",
   "execution_count": 39,
   "id": "57046c5a-94ac-48e1-9392-c898822c9378",
   "metadata": {},
   "outputs": [
    {
     "name": "stdout",
     "output_type": "stream",
     "text": [
      "the CommunicationHistory dataset has toltal of  70607 rows and 4 columns\n"
     ]
    }
   ],
   "source": [
    "# Dataset Rows & Columns count\n",
    "print(f\"the CommunicationHistory dataset has toltal of  {CommunicationHistory_df.shape[0]} rows and {CommunicationHistory_df.shape[1]} columns\")"
   ]
  },
  {
   "cell_type": "code",
   "execution_count": 40,
   "id": "4e3c99b2-1ca8-4b30-afc3-b83f565f62f2",
   "metadata": {},
   "outputs": [
    {
     "name": "stdout",
     "output_type": "stream",
     "text": [
      "the portfolio dataset has toltal of  15962 rows and 5 columns\n"
     ]
    }
   ],
   "source": [
    "# Dataset Rows & Columns count\n",
    "print(f\"the portfolio dataset has toltal of  {portfolio_df.shape[0]} rows and {portfolio_df.shape[1]} columns\")"
   ]
  },
  {
   "cell_type": "markdown",
   "id": "0f881d67-0fd5-4a68-a7ac-fbb51fcc5a96",
   "metadata": {},
   "source": [
    "### Dataset Information"
   ]
  },
  {
   "cell_type": "code",
   "execution_count": 41,
   "id": "cd12cc07-aad3-46ec-862b-6313356b23df",
   "metadata": {},
   "outputs": [
    {
     "name": "stdout",
     "output_type": "stream",
     "text": [
      "<class 'pandas.core.frame.DataFrame'>\n",
      "DatetimeIndex: 70607 entries, 2022-12-02 02:59:40.973000+00:00 to 2022-12-07 23:25:16.448000+00:00\n",
      "Data columns (total 4 columns):\n",
      " #   Column                             Non-Null Count  Dtype \n",
      "---  ------                             --------------  ----- \n",
      " 0   Loan Number                        70607 non-null  int64 \n",
      " 1   Campaign ID                        70607 non-null  int64 \n",
      " 2   Communication Operator Message ID  70597 non-null  object\n",
      " 3   Status                             70607 non-null  object\n",
      "dtypes: int64(2), object(2)\n",
      "memory usage: 2.7+ MB\n"
     ]
    }
   ],
   "source": [
    "# Dataset Info\n",
    "CommunicationHistory_df.info()"
   ]
  },
  {
   "cell_type": "code",
   "execution_count": 42,
   "id": "0e7a5eed-8a90-4154-ad45-df602fb45cdd",
   "metadata": {},
   "outputs": [
    {
     "name": "stdout",
     "output_type": "stream",
     "text": [
      "<class 'pandas.core.frame.DataFrame'>\n",
      "RangeIndex: 15962 entries, 0 to 15961\n",
      "Data columns (total 5 columns):\n",
      " #   Column       Non-Null Count  Dtype         \n",
      "---  ------       --------------  -----         \n",
      " 0   Loan Number  15962 non-null  int64         \n",
      " 1   Due Date     15962 non-null  datetime64[ns]\n",
      " 2   State        15962 non-null  object        \n",
      " 3   DOB          15961 non-null  object        \n",
      " 4   Loan Amount  15962 non-null  float64       \n",
      "dtypes: datetime64[ns](1), float64(1), int64(1), object(2)\n",
      "memory usage: 623.6+ KB\n"
     ]
    }
   ],
   "source": [
    "# portfolio Dataset Info\n",
    "portfolio_df.info()"
   ]
  },
  {
   "cell_type": "markdown",
   "id": "05956244-94ad-4832-ae36-e9dca007e74f",
   "metadata": {},
   "source": [
    "#### Duplicate Values"
   ]
  },
  {
   "cell_type": "code",
   "execution_count": 43,
   "id": "9ffbd898-70ed-4d3d-9128-10e94e40c682",
   "metadata": {},
   "outputs": [
    {
     "data": {
      "text/plain": [
       "0"
      ]
     },
     "execution_count": 43,
     "metadata": {},
     "output_type": "execute_result"
    }
   ],
   "source": [
    "# CommunicationHistory Dataset Duplicate Value Count\n",
    "CommunicationHistory_df.duplicated().sum()"
   ]
  },
  {
   "cell_type": "code",
   "execution_count": 44,
   "id": "af8be46f-b079-47b0-91aa-40d5e4128265",
   "metadata": {},
   "outputs": [
    {
     "data": {
      "text/plain": [
       "0"
      ]
     },
     "execution_count": 44,
     "metadata": {},
     "output_type": "execute_result"
    }
   ],
   "source": [
    "# portfolio Dataset Duplicate Value Count\n",
    "portfolio_df.duplicated().sum()"
   ]
  },
  {
   "cell_type": "markdown",
   "id": "eec1c1c2-c49b-4d5f-a5a4-727c3ac6a48b",
   "metadata": {},
   "source": [
    "#### Missing Values/Null Values"
   ]
  },
  {
   "cell_type": "code",
   "execution_count": 45,
   "id": "d8c3f7df-51f0-45b9-b889-e5a46e384478",
   "metadata": {},
   "outputs": [
    {
     "data": {
      "text/plain": [
       "Communication Operator Message ID    10\n",
       "Loan Number                           0\n",
       "Campaign ID                           0\n",
       "Status                                0\n",
       "dtype: int64"
      ]
     },
     "execution_count": 45,
     "metadata": {},
     "output_type": "execute_result"
    }
   ],
   "source": [
    "# Missing Values/Null Values Count in CommunicationHistory dataset\n",
    "CommunicationHistory_df.isna().sum().sort_values(ascending=False)"
   ]
  },
  {
   "cell_type": "code",
   "execution_count": 46,
   "id": "4ab89b3d-c515-444b-9048-63ae1871ae31",
   "metadata": {},
   "outputs": [
    {
     "data": {
      "text/plain": [
       "DOB            1\n",
       "Loan Number    0\n",
       "Due Date       0\n",
       "State          0\n",
       "Loan Amount    0\n",
       "dtype: int64"
      ]
     },
     "execution_count": 46,
     "metadata": {},
     "output_type": "execute_result"
    }
   ],
   "source": [
    "# Missing Values/Null Values Count in portfolio dataset\n",
    "portfolio_df.isna().sum().sort_values(ascending=False)"
   ]
  },
  {
   "cell_type": "markdown",
   "id": "e0e323e9-38f6-42f0-8ad5-fe82389b31b3",
   "metadata": {},
   "source": [
    "### Dataset Description"
   ]
  },
  {
   "cell_type": "code",
   "execution_count": 47,
   "id": "e716ee54-9f7c-4356-8992-f76c5e293ae5",
   "metadata": {},
   "outputs": [
    {
     "data": {
      "text/html": [
       "<div>\n",
       "<style scoped>\n",
       "    .dataframe tbody tr th:only-of-type {\n",
       "        vertical-align: middle;\n",
       "    }\n",
       "\n",
       "    .dataframe tbody tr th {\n",
       "        vertical-align: top;\n",
       "    }\n",
       "\n",
       "    .dataframe thead th {\n",
       "        text-align: right;\n",
       "    }\n",
       "</style>\n",
       "<table border=\"1\" class=\"dataframe\">\n",
       "  <thead>\n",
       "    <tr style=\"text-align: right;\">\n",
       "      <th></th>\n",
       "      <th>Loan Number</th>\n",
       "      <th>Campaign ID</th>\n",
       "      <th>Communication Operator Message ID</th>\n",
       "      <th>Status</th>\n",
       "    </tr>\n",
       "  </thead>\n",
       "  <tbody>\n",
       "    <tr>\n",
       "      <th>count</th>\n",
       "      <td>7.060700e+04</td>\n",
       "      <td>7.060700e+04</td>\n",
       "      <td>70597</td>\n",
       "      <td>70607</td>\n",
       "    </tr>\n",
       "    <tr>\n",
       "      <th>unique</th>\n",
       "      <td>NaN</td>\n",
       "      <td>NaN</td>\n",
       "      <td>70597</td>\n",
       "      <td>2</td>\n",
       "    </tr>\n",
       "    <tr>\n",
       "      <th>top</th>\n",
       "      <td>NaN</td>\n",
       "      <td>NaN</td>\n",
       "      <td>21a1f7b1ce4d23d558e300626d5016c2</td>\n",
       "      <td>completed</td>\n",
       "    </tr>\n",
       "    <tr>\n",
       "      <th>freq</th>\n",
       "      <td>NaN</td>\n",
       "      <td>NaN</td>\n",
       "      <td>1</td>\n",
       "      <td>70589</td>\n",
       "    </tr>\n",
       "    <tr>\n",
       "      <th>mean</th>\n",
       "      <td>2.387413e+06</td>\n",
       "      <td>1.681513e+08</td>\n",
       "      <td>NaN</td>\n",
       "      <td>NaN</td>\n",
       "    </tr>\n",
       "    <tr>\n",
       "      <th>std</th>\n",
       "      <td>1.077388e+08</td>\n",
       "      <td>2.845385e+06</td>\n",
       "      <td>NaN</td>\n",
       "      <td>NaN</td>\n",
       "    </tr>\n",
       "    <tr>\n",
       "      <th>min</th>\n",
       "      <td>8.727770e+05</td>\n",
       "      <td>1.354742e+08</td>\n",
       "      <td>NaN</td>\n",
       "      <td>NaN</td>\n",
       "    </tr>\n",
       "    <tr>\n",
       "      <th>25%</th>\n",
       "      <td>1.635118e+06</td>\n",
       "      <td>1.654490e+08</td>\n",
       "      <td>NaN</td>\n",
       "      <td>NaN</td>\n",
       "    </tr>\n",
       "    <tr>\n",
       "      <th>50%</th>\n",
       "      <td>1.705979e+06</td>\n",
       "      <td>1.678209e+08</td>\n",
       "      <td>NaN</td>\n",
       "      <td>NaN</td>\n",
       "    </tr>\n",
       "    <tr>\n",
       "      <th>75%</th>\n",
       "      <td>1.778082e+06</td>\n",
       "      <td>1.707402e+08</td>\n",
       "      <td>NaN</td>\n",
       "      <td>NaN</td>\n",
       "    </tr>\n",
       "    <tr>\n",
       "      <th>max</th>\n",
       "      <td>1.674807e+10</td>\n",
       "      <td>1.735366e+08</td>\n",
       "      <td>NaN</td>\n",
       "      <td>NaN</td>\n",
       "    </tr>\n",
       "  </tbody>\n",
       "</table>\n",
       "</div>"
      ],
      "text/plain": [
       "         Loan Number   Campaign ID Communication Operator Message ID  \\\n",
       "count   7.060700e+04  7.060700e+04                             70597   \n",
       "unique           NaN           NaN                             70597   \n",
       "top              NaN           NaN  21a1f7b1ce4d23d558e300626d5016c2   \n",
       "freq             NaN           NaN                                 1   \n",
       "mean    2.387413e+06  1.681513e+08                               NaN   \n",
       "std     1.077388e+08  2.845385e+06                               NaN   \n",
       "min     8.727770e+05  1.354742e+08                               NaN   \n",
       "25%     1.635118e+06  1.654490e+08                               NaN   \n",
       "50%     1.705979e+06  1.678209e+08                               NaN   \n",
       "75%     1.778082e+06  1.707402e+08                               NaN   \n",
       "max     1.674807e+10  1.735366e+08                               NaN   \n",
       "\n",
       "           Status  \n",
       "count       70607  \n",
       "unique          2  \n",
       "top     completed  \n",
       "freq        70589  \n",
       "mean          NaN  \n",
       "std           NaN  \n",
       "min           NaN  \n",
       "25%           NaN  \n",
       "50%           NaN  \n",
       "75%           NaN  \n",
       "max           NaN  "
      ]
     },
     "execution_count": 47,
     "metadata": {},
     "output_type": "execute_result"
    }
   ],
   "source": [
    "CommunicationHistory_df.describe(include='all')"
   ]
  },
  {
   "cell_type": "code",
   "execution_count": 48,
   "id": "33bd7e9d-64c0-4abb-afd0-3c7f444a45ec",
   "metadata": {},
   "outputs": [
    {
     "data": {
      "text/html": [
       "<div>\n",
       "<style scoped>\n",
       "    .dataframe tbody tr th:only-of-type {\n",
       "        vertical-align: middle;\n",
       "    }\n",
       "\n",
       "    .dataframe tbody tr th {\n",
       "        vertical-align: top;\n",
       "    }\n",
       "\n",
       "    .dataframe thead th {\n",
       "        text-align: right;\n",
       "    }\n",
       "</style>\n",
       "<table border=\"1\" class=\"dataframe\">\n",
       "  <thead>\n",
       "    <tr style=\"text-align: right;\">\n",
       "      <th></th>\n",
       "      <th>Loan Number</th>\n",
       "      <th>Due Date</th>\n",
       "      <th>State</th>\n",
       "      <th>DOB</th>\n",
       "      <th>Loan Amount</th>\n",
       "    </tr>\n",
       "  </thead>\n",
       "  <tbody>\n",
       "    <tr>\n",
       "      <th>count</th>\n",
       "      <td>1.596200e+04</td>\n",
       "      <td>15962</td>\n",
       "      <td>15962</td>\n",
       "      <td>15961</td>\n",
       "      <td>15962.000000</td>\n",
       "    </tr>\n",
       "    <tr>\n",
       "      <th>unique</th>\n",
       "      <td>NaN</td>\n",
       "      <td>30</td>\n",
       "      <td>40</td>\n",
       "      <td>6741</td>\n",
       "      <td>NaN</td>\n",
       "    </tr>\n",
       "    <tr>\n",
       "      <th>top</th>\n",
       "      <td>NaN</td>\n",
       "      <td>2022-11-25 00:00:00</td>\n",
       "      <td>MAHARASHTRA</td>\n",
       "      <td>1998-01-01 00:00:00</td>\n",
       "      <td>NaN</td>\n",
       "    </tr>\n",
       "    <tr>\n",
       "      <th>freq</th>\n",
       "      <td>NaN</td>\n",
       "      <td>1080</td>\n",
       "      <td>2538</td>\n",
       "      <td>56</td>\n",
       "      <td>NaN</td>\n",
       "    </tr>\n",
       "    <tr>\n",
       "      <th>first</th>\n",
       "      <td>NaN</td>\n",
       "      <td>2022-10-31 00:00:00</td>\n",
       "      <td>NaN</td>\n",
       "      <td>NaN</td>\n",
       "      <td>NaN</td>\n",
       "    </tr>\n",
       "    <tr>\n",
       "      <th>last</th>\n",
       "      <td>NaN</td>\n",
       "      <td>2022-11-29 00:00:00</td>\n",
       "      <td>NaN</td>\n",
       "      <td>NaN</td>\n",
       "      <td>NaN</td>\n",
       "    </tr>\n",
       "    <tr>\n",
       "      <th>mean</th>\n",
       "      <td>1.689427e+06</td>\n",
       "      <td>NaN</td>\n",
       "      <td>NaN</td>\n",
       "      <td>NaN</td>\n",
       "      <td>7362.359952</td>\n",
       "    </tr>\n",
       "    <tr>\n",
       "      <th>std</th>\n",
       "      <td>1.211048e+05</td>\n",
       "      <td>NaN</td>\n",
       "      <td>NaN</td>\n",
       "      <td>NaN</td>\n",
       "      <td>6398.129954</td>\n",
       "    </tr>\n",
       "    <tr>\n",
       "      <th>min</th>\n",
       "      <td>8.727770e+05</td>\n",
       "      <td>NaN</td>\n",
       "      <td>NaN</td>\n",
       "      <td>NaN</td>\n",
       "      <td>3000.000000</td>\n",
       "    </tr>\n",
       "    <tr>\n",
       "      <th>25%</th>\n",
       "      <td>1.640865e+06</td>\n",
       "      <td>NaN</td>\n",
       "      <td>NaN</td>\n",
       "      <td>NaN</td>\n",
       "      <td>5000.000000</td>\n",
       "    </tr>\n",
       "    <tr>\n",
       "      <th>50%</th>\n",
       "      <td>1.714308e+06</td>\n",
       "      <td>NaN</td>\n",
       "      <td>NaN</td>\n",
       "      <td>NaN</td>\n",
       "      <td>5017.000000</td>\n",
       "    </tr>\n",
       "    <tr>\n",
       "      <th>75%</th>\n",
       "      <td>1.778172e+06</td>\n",
       "      <td>NaN</td>\n",
       "      <td>NaN</td>\n",
       "      <td>NaN</td>\n",
       "      <td>7000.000000</td>\n",
       "    </tr>\n",
       "    <tr>\n",
       "      <th>max</th>\n",
       "      <td>1.881403e+06</td>\n",
       "      <td>NaN</td>\n",
       "      <td>NaN</td>\n",
       "      <td>NaN</td>\n",
       "      <td>240000.000000</td>\n",
       "    </tr>\n",
       "  </tbody>\n",
       "</table>\n",
       "</div>"
      ],
      "text/plain": [
       "         Loan Number             Due Date        State                  DOB  \\\n",
       "count   1.596200e+04                15962        15962                15961   \n",
       "unique           NaN                   30           40                 6741   \n",
       "top              NaN  2022-11-25 00:00:00  MAHARASHTRA  1998-01-01 00:00:00   \n",
       "freq             NaN                 1080         2538                   56   \n",
       "first            NaN  2022-10-31 00:00:00          NaN                  NaN   \n",
       "last             NaN  2022-11-29 00:00:00          NaN                  NaN   \n",
       "mean    1.689427e+06                  NaN          NaN                  NaN   \n",
       "std     1.211048e+05                  NaN          NaN                  NaN   \n",
       "min     8.727770e+05                  NaN          NaN                  NaN   \n",
       "25%     1.640865e+06                  NaN          NaN                  NaN   \n",
       "50%     1.714308e+06                  NaN          NaN                  NaN   \n",
       "75%     1.778172e+06                  NaN          NaN                  NaN   \n",
       "max     1.881403e+06                  NaN          NaN                  NaN   \n",
       "\n",
       "          Loan Amount  \n",
       "count    15962.000000  \n",
       "unique            NaN  \n",
       "top               NaN  \n",
       "freq              NaN  \n",
       "first             NaN  \n",
       "last              NaN  \n",
       "mean      7362.359952  \n",
       "std       6398.129954  \n",
       "min       3000.000000  \n",
       "25%       5000.000000  \n",
       "50%       5017.000000  \n",
       "75%       7000.000000  \n",
       "max     240000.000000  "
      ]
     },
     "execution_count": 48,
     "metadata": {},
     "output_type": "execute_result"
    }
   ],
   "source": [
    "portfolio_df.describe(include='all')"
   ]
  },
  {
   "cell_type": "code",
   "execution_count": 55,
   "id": "2d193cbd-18e4-4933-9e49-20dbc77bfc62",
   "metadata": {},
   "outputs": [],
   "source": [
    "#print unique value in categorical value \n",
    "#since the dataset is large numerical value whose unique number are less than should be focussed\n",
    "\n",
    "def print_values(dataframe):\n",
    "    for i in dataframe.columns.tolist():\n",
    "        if dataframe[i].dtype=='O':\n",
    "            print(f\"the categorical column {i} have {dataframe[i].nunique()} unique values \")\n",
    "            if dataframe[i].nunique() <=31 :\n",
    "                print(f\"the unique value in the columns are {dataframe[i].unique()}\")\n",
    "        else:\n",
    "            print(f\"the  numerical column {i} have {dataframe[i].nunique()} unique values \")\n",
    "            if dataframe[i].nunique() <=15:\n",
    "                print(f\" the unique value in the columns are{dataframe[i].unique()}\")"
   ]
  },
  {
   "cell_type": "code",
   "execution_count": 56,
   "id": "126649a5-5acc-4315-b039-0b21281803ee",
   "metadata": {},
   "outputs": [
    {
     "name": "stdout",
     "output_type": "stream",
     "text": [
      "the  numerical column Loan Number have 11220 unique values \n",
      "the  numerical column Campaign ID have 40 unique values \n",
      "the categorical column Communication Operator Message ID have 70597 unique values \n",
      "the categorical column Status have 2 unique values \n",
      "the unique value in the columns are ['completed' 'FAILED']\n"
     ]
    }
   ],
   "source": [
    "print_values(CommunicationHistory_df)"
   ]
  },
  {
   "cell_type": "code",
   "execution_count": 57,
   "id": "7abd6656-de7b-47a9-9926-e0d0c6ed828e",
   "metadata": {},
   "outputs": [
    {
     "name": "stdout",
     "output_type": "stream",
     "text": [
      "the  numerical column Loan Number have 15962 unique values \n",
      "the  numerical column Due Date have 30 unique values \n",
      "the categorical column State have 40 unique values \n",
      "the categorical column DOB have 6741 unique values \n",
      "the  numerical column Loan Amount have 304 unique values \n"
     ]
    }
   ],
   "source": [
    "print_values(portfolio_df)"
   ]
  },
  {
   "cell_type": "markdown",
   "id": "6d80b44b-b73a-48c5-99c4-5b7dc793bd59",
   "metadata": {},
   "source": [
    "## Data Wrangling "
   ]
  },
  {
   "cell_type": "markdown",
   "id": "37857f8e-555e-4bc8-8399-da9dbc2d0fea",
   "metadata": {},
   "source": [
    "**To perform opearationon dataset we have to merge the dataset,Since both the dataset have Loan number in common we would merge the dataset on Loan number **"
   ]
  }
 ],
 "metadata": {
  "kernelspec": {
   "display_name": "myenv:Python",
   "language": "python",
   "name": "conda-env-myenv-py"
  },
  "language_info": {
   "codemirror_mode": {
    "name": "ipython",
    "version": 3
   },
   "file_extension": ".py",
   "mimetype": "text/x-python",
   "name": "python",
   "nbconvert_exporter": "python",
   "pygments_lexer": "ipython3",
   "version": "3.9.16"
  },
  "toc-autonumbering": true,
  "toc-showmarkdowntxt": false,
  "widgets": {
   "application/vnd.jupyter.widget-state+json": {
    "state": {},
    "version_major": 2,
    "version_minor": 0
   }
  }
 },
 "nbformat": 4,
 "nbformat_minor": 5
}
