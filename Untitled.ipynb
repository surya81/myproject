{
 "cells": [
  {
   "cell_type": "markdown",
   "id": "be24674b-9c04-45bf-85f2-703c207fcddf",
   "metadata": {
    "tags": []
   },
   "source": [
    "# **Project Name**\n",
    "$\\color{blue}{\\text{Bike Sharing Demand Prediction}}$"
   ]
  },
  {
   "cell_type": "markdown",
   "id": "5706e3d6-bc9c-409b-b752-d5ce86897299",
   "metadata": {
    "tags": []
   },
   "source": [
    "### **Project type** - Classification\n",
    "### **Contribution** - Individual\n",
    "### **Team Member1** - $\\color{Green}{\\text{Surya Prakash}}$"
   ]
  },
  {
   "cell_type": "markdown",
   "id": "1402af57-54cb-4d71-a191-62af44c08d14",
   "metadata": {},
   "source": [
    "# **Project Summary**"
   ]
  },
  {
   "cell_type": "markdown",
   "id": "fe71a46d-f4bd-4e2c-a855-13351f138017",
   "metadata": {
    "tags": []
   },
   "source": [
    "**Data Processing**\n",
    "\n",
    "    1.Importing libraries\n",
    "    2.Function for reading dataset\n",
    "    3.dataset information \n",
    "    4.Missing values,Duplicated values\n",
    "\n",
    "**Exploratory Data Analysis**\n",
    "\n",
    "**Supervised Machine learning Algorithm**\n",
    "\n",
    "```\n",
    "# This is formatted as code\n",
    "```\n",
    "\n"
   ]
  },
  {
   "cell_type": "markdown",
   "id": "00681fc2-7965-4c4b-a8f8-80d77a14d108",
   "metadata": {},
   "source": [
    "# **Problem Statement**"
   ]
  },
  {
   "cell_type": "markdown",
   "id": "8d3f48ff-13d5-4cd9-aaef-0d200f503210",
   "metadata": {},
   "source": [
    "# **Data overview and column description**"
   ]
  },
  {
   "cell_type": "markdown",
   "id": "23941e5d-ad16-4c5c-98c0-ddf859e8f495",
   "metadata": {},
   "source": [
    "# **Let's Begin**"
   ]
  },
  {
   "cell_type": "markdown",
   "id": "5bf0abb8-0d51-4a49-ab76-af62070bcf6d",
   "metadata": {
    "tags": []
   },
   "source": [
    "## ***Know Your Data***"
   ]
  },
  {
   "cell_type": "markdown",
   "id": "f2051e2d-f2fc-412f-b3b1-10a7df644d11",
   "metadata": {
    "tags": []
   },
   "source": [
    "### **Import Libraries**"
   ]
  },
  {
   "cell_type": "code",
   "execution_count": 1,
   "id": "38aeb14d-7e13-4531-a4ab-406dd8bfe0f2",
   "metadata": {},
   "outputs": [],
   "source": [
    "import numpy as np \n",
    "import pandas as pd \n",
    "import seaborn as sns\n",
    "import matplotlib.pyplot as plt\n",
    "%matplotlib inline\n",
    "import warnings\n",
    "warnings.filterwarnings(\"ignore\")\n",
    "from sklearn.impute import KNNImputer\n",
    "from sklearn.preprocessing import StandardScaler\n",
    "from sklearn.model_selection import train_test_split\n",
    "from sklearn.linear_model import LinearRegression\n",
    "from sklearn.linear_model import Lasso\n",
    "from sklearn.metrics import r2_score\n",
    "from sklearn.metrics import mean_squared_error\n",
    "from sklearn.model_selection import GridSearchCV\n",
    "from sklearn.ensemble import RandomForestRegressor"
   ]
  },
  {
   "cell_type": "markdown",
   "id": "149850b1-a03f-4197-bd22-9d696cf7349e",
   "metadata": {
    "tags": []
   },
   "source": [
    "### **Datset Loading**"
   ]
  },
  {
   "cell_type": "code",
   "execution_count": 2,
   "id": "f47645e4-5195-41be-9065-9f0bcff5f957",
   "metadata": {},
   "outputs": [],
   "source": [
    "# Function to load the data \n",
    "def DataLoader(path):\n",
    "    \"\"\"\n",
    "    A function to load the datset \n",
    "    Argumet - Path(path to the data file)\n",
    "    return - dataframe\n",
    "    \"\"\"\n",
    "    try:\n",
    "        dataframe = pd.read_excel(path)\n",
    "        return dataframe\n",
    "    except: # if path is incorrect or does not exist\n",
    "        print(\"path does not find\")\n",
    "\n",
    "    finally:\n",
    "        print(\"operation performed on the  dataset Location\")\n"
   ]
  },
  {
   "cell_type": "code",
   "execution_count": 3,
   "id": "365ed077-c78e-474e-8cb1-677a2c862e7c",
   "metadata": {},
   "outputs": [
    {
     "name": "stdout",
     "output_type": "stream",
     "text": [
      "operation performed on the  dataset Location\n"
     ]
    }
   ],
   "source": [
    "daily_offers_dataset = DataLoader(\"daily_offers.xlsx\")"
   ]
  },
  {
   "cell_type": "markdown",
   "id": "fee12613-3668-4b41-9189-8f2b7717161b",
   "metadata": {
    "jp-MarkdownHeadingCollapsed": true,
    "tags": []
   },
   "source": [
    "### **Dataset First View**"
   ]
  },
  {
   "cell_type": "code",
   "execution_count": 4,
   "id": "43c2c756-b607-4c34-a23d-4cf1e5ed3db2",
   "metadata": {},
   "outputs": [
    {
     "data": {
      "text/html": [
       "<div>\n",
       "<style scoped>\n",
       "    .dataframe tbody tr th:only-of-type {\n",
       "        vertical-align: middle;\n",
       "    }\n",
       "\n",
       "    .dataframe tbody tr th {\n",
       "        vertical-align: top;\n",
       "    }\n",
       "\n",
       "    .dataframe thead th {\n",
       "        text-align: right;\n",
       "    }\n",
       "</style>\n",
       "<table border=\"1\" class=\"dataframe\">\n",
       "  <thead>\n",
       "    <tr style=\"text-align: right;\">\n",
       "      <th></th>\n",
       "      <th>id</th>\n",
       "      <th>item_date</th>\n",
       "      <th>quantity tons</th>\n",
       "      <th>customer</th>\n",
       "      <th>country</th>\n",
       "      <th>status</th>\n",
       "      <th>item type</th>\n",
       "      <th>application</th>\n",
       "      <th>thickness</th>\n",
       "      <th>width</th>\n",
       "      <th>material_ref</th>\n",
       "      <th>product_ref</th>\n",
       "      <th>delivery date</th>\n",
       "      <th>selling_price</th>\n",
       "    </tr>\n",
       "  </thead>\n",
       "  <tbody>\n",
       "    <tr>\n",
       "      <th>0</th>\n",
       "      <td>EC06F063-9DF0-440C-8764-0B0C05A4F6AE</td>\n",
       "      <td>20210401.0</td>\n",
       "      <td>54.151139</td>\n",
       "      <td>30156308.0</td>\n",
       "      <td>28.0</td>\n",
       "      <td>Won</td>\n",
       "      <td>W</td>\n",
       "      <td>10.0</td>\n",
       "      <td>2.00</td>\n",
       "      <td>1500.0</td>\n",
       "      <td>DEQ1 S460MC</td>\n",
       "      <td>1670798778</td>\n",
       "      <td>20210701.0</td>\n",
       "      <td>854.00</td>\n",
       "    </tr>\n",
       "    <tr>\n",
       "      <th>1</th>\n",
       "      <td>4E5F4B3D-DDDF-499D-AFDE-A3227EC49425</td>\n",
       "      <td>20210401.0</td>\n",
       "      <td>768.024839</td>\n",
       "      <td>30202938.0</td>\n",
       "      <td>25.0</td>\n",
       "      <td>Won</td>\n",
       "      <td>W</td>\n",
       "      <td>41.0</td>\n",
       "      <td>0.80</td>\n",
       "      <td>1210.0</td>\n",
       "      <td>0000000000000000000000000000000000104991</td>\n",
       "      <td>1668701718</td>\n",
       "      <td>20210401.0</td>\n",
       "      <td>1047.00</td>\n",
       "    </tr>\n",
       "    <tr>\n",
       "      <th>2</th>\n",
       "      <td>E140FF1B-2407-4C02-A0DD-780A093B1158</td>\n",
       "      <td>20210401.0</td>\n",
       "      <td>386.127949</td>\n",
       "      <td>30153963.0</td>\n",
       "      <td>30.0</td>\n",
       "      <td>Won</td>\n",
       "      <td>WI</td>\n",
       "      <td>28.0</td>\n",
       "      <td>0.38</td>\n",
       "      <td>952.0</td>\n",
       "      <td>S0380700</td>\n",
       "      <td>628377</td>\n",
       "      <td>20210101.0</td>\n",
       "      <td>644.33</td>\n",
       "    </tr>\n",
       "    <tr>\n",
       "      <th>3</th>\n",
       "      <td>F8D507A0-9C62-4EFE-831E-33E1DA53BB50</td>\n",
       "      <td>20210401.0</td>\n",
       "      <td>202.411065</td>\n",
       "      <td>30349574.0</td>\n",
       "      <td>32.0</td>\n",
       "      <td>Won</td>\n",
       "      <td>S</td>\n",
       "      <td>59.0</td>\n",
       "      <td>2.30</td>\n",
       "      <td>1317.0</td>\n",
       "      <td>DX51D+ZM310MAO 2.3X1317</td>\n",
       "      <td>1668701718</td>\n",
       "      <td>20210101.0</td>\n",
       "      <td>768.00</td>\n",
       "    </tr>\n",
       "    <tr>\n",
       "      <th>4</th>\n",
       "      <td>4E1C4E78-152B-430A-8094-ADD889C9D0AD</td>\n",
       "      <td>20210401.0</td>\n",
       "      <td>785.526262</td>\n",
       "      <td>30211560.0</td>\n",
       "      <td>28.0</td>\n",
       "      <td>Won</td>\n",
       "      <td>W</td>\n",
       "      <td>10.0</td>\n",
       "      <td>4.00</td>\n",
       "      <td>2000.0</td>\n",
       "      <td>2_S275JR+AR-CL1</td>\n",
       "      <td>640665</td>\n",
       "      <td>20210301.0</td>\n",
       "      <td>577.00</td>\n",
       "    </tr>\n",
       "  </tbody>\n",
       "</table>\n",
       "</div>"
      ],
      "text/plain": [
       "                                     id   item_date quantity tons    customer  \\\n",
       "0  EC06F063-9DF0-440C-8764-0B0C05A4F6AE  20210401.0     54.151139  30156308.0   \n",
       "1  4E5F4B3D-DDDF-499D-AFDE-A3227EC49425  20210401.0    768.024839  30202938.0   \n",
       "2  E140FF1B-2407-4C02-A0DD-780A093B1158  20210401.0    386.127949  30153963.0   \n",
       "3  F8D507A0-9C62-4EFE-831E-33E1DA53BB50  20210401.0    202.411065  30349574.0   \n",
       "4  4E1C4E78-152B-430A-8094-ADD889C9D0AD  20210401.0    785.526262  30211560.0   \n",
       "\n",
       "   country status item type  application  thickness   width  \\\n",
       "0     28.0    Won         W         10.0       2.00  1500.0   \n",
       "1     25.0    Won         W         41.0       0.80  1210.0   \n",
       "2     30.0    Won        WI         28.0       0.38   952.0   \n",
       "3     32.0    Won         S         59.0       2.30  1317.0   \n",
       "4     28.0    Won         W         10.0       4.00  2000.0   \n",
       "\n",
       "                               material_ref  product_ref  delivery date  \\\n",
       "0                               DEQ1 S460MC   1670798778     20210701.0   \n",
       "1  0000000000000000000000000000000000104991   1668701718     20210401.0   \n",
       "2                                  S0380700       628377     20210101.0   \n",
       "3                   DX51D+ZM310MAO 2.3X1317   1668701718     20210101.0   \n",
       "4                           2_S275JR+AR-CL1       640665     20210301.0   \n",
       "\n",
       "   selling_price  \n",
       "0         854.00  \n",
       "1        1047.00  \n",
       "2         644.33  \n",
       "3         768.00  \n",
       "4         577.00  "
      ]
     },
     "execution_count": 4,
     "metadata": {},
     "output_type": "execute_result"
    }
   ],
   "source": [
    "# Dataset First Look\n",
    "daily_offers_dataset.head()"
   ]
  },
  {
   "cell_type": "markdown",
   "id": "d38c5648-84e9-4ea8-90eb-3fa3e63e1cd2",
   "metadata": {
    "tags": []
   },
   "source": [
    "### Dataset Rows & Columns count"
   ]
  },
  {
   "cell_type": "code",
   "execution_count": 5,
   "id": "b5370faf-2beb-4331-aa30-413e257dfbaa",
   "metadata": {},
   "outputs": [
    {
     "name": "stdout",
     "output_type": "stream",
     "text": [
      "the dataset has toltal of  181673 rows and 14 columns\n"
     ]
    }
   ],
   "source": [
    "print(f\"the dataset has toltal of  {daily_offers_dataset.shape[0]} rows and {daily_offers_dataset.shape[1]} columns\") "
   ]
  },
  {
   "cell_type": "markdown",
   "id": "3e0f28ae-df42-4758-82c1-221728326e80",
   "metadata": {
    "tags": []
   },
   "source": [
    "### Dataset Information"
   ]
  },
  {
   "cell_type": "code",
   "execution_count": 6,
   "id": "6a5b548e-6394-4501-9244-a3eaa71b86b5",
   "metadata": {},
   "outputs": [
    {
     "name": "stdout",
     "output_type": "stream",
     "text": [
      "<class 'pandas.core.frame.DataFrame'>\n",
      "RangeIndex: 181673 entries, 0 to 181672\n",
      "Data columns (total 14 columns):\n",
      " #   Column         Non-Null Count   Dtype  \n",
      "---  ------         --------------   -----  \n",
      " 0   id             181671 non-null  object \n",
      " 1   item_date      181672 non-null  float64\n",
      " 2   quantity tons  181673 non-null  object \n",
      " 3   customer       181672 non-null  float64\n",
      " 4   country        181645 non-null  float64\n",
      " 5   status         181671 non-null  object \n",
      " 6   item type      181673 non-null  object \n",
      " 7   application    181649 non-null  float64\n",
      " 8   thickness      181672 non-null  float64\n",
      " 9   width          181673 non-null  float64\n",
      " 10  material_ref   103754 non-null  object \n",
      " 11  product_ref    181673 non-null  int64  \n",
      " 12  delivery date  181672 non-null  float64\n",
      " 13  selling_price  181672 non-null  float64\n",
      "dtypes: float64(8), int64(1), object(5)\n",
      "memory usage: 19.4+ MB\n"
     ]
    }
   ],
   "source": [
    "# Dataset Info\n",
    "daily_offers_dataset.info()"
   ]
  },
  {
   "cell_type": "markdown",
   "id": "f05eb494-37f5-47bf-83e1-495d9d90f250",
   "metadata": {},
   "source": [
    "#### Duplicate Values"
   ]
  },
  {
   "cell_type": "code",
   "execution_count": 7,
   "id": "15870bd9-11b7-420e-826f-127c5d52ef15",
   "metadata": {},
   "outputs": [
    {
     "name": "stdout",
     "output_type": "stream",
     "text": [
      " We have 0 duplicate values in dataset.\n"
     ]
    }
   ],
   "source": [
    "# Dataset Duplicate Value Count\n",
    "print(f' We have {daily_offers_dataset.duplicated().sum()} duplicate values in dataset.')"
   ]
  },
  {
   "cell_type": "markdown",
   "id": "2998c297-0b2c-4565-b584-0564d25e8f61",
   "metadata": {},
   "source": [
    "#### Missing Values/Null Values"
   ]
  },
  {
   "cell_type": "code",
   "execution_count": 8,
   "id": "22f3a02d-503c-4e0b-8112-801fc8948bf5",
   "metadata": {},
   "outputs": [
    {
     "data": {
      "text/plain": [
       "material_ref     77919\n",
       "country             28\n",
       "application         24\n",
       "id                   2\n",
       "status               2\n",
       "item_date            1\n",
       "customer             1\n",
       "thickness            1\n",
       "delivery date        1\n",
       "selling_price        1\n",
       "quantity tons        0\n",
       "item type            0\n",
       "width                0\n",
       "product_ref          0\n",
       "dtype: int64"
      ]
     },
     "execution_count": 8,
     "metadata": {},
     "output_type": "execute_result"
    }
   ],
   "source": [
    "# Missing Values/Null Values Count\n",
    "daily_offers_dataset.isna().sum().sort_values(ascending=False)"
   ]
  },
  {
   "cell_type": "code",
   "execution_count": 9,
   "id": "89a2578b-3289-4e90-aa58-d3fec21f9848",
   "metadata": {},
   "outputs": [
    {
     "data": {
      "text/plain": [
       "Text(0.5, 1.0, ' Visualising Missing Values')"
      ]
     },
     "execution_count": 9,
     "metadata": {},
     "output_type": "execute_result"
    },
    {
     "data": {
      "image/png": "[encoded data removed]",
      "text/plain": [
       "<Figure size 1500x500 with 2 Axes>"
      ]
     },
     "metadata": {},
     "output_type": "display_data"
    }
   ],
   "source": [
    "# Visualizing the missing values\n",
    "plt.figure(figsize=(15,5))\n",
    "sns.heatmap(daily_offers_dataset.isnull(),cmap='plasma',annot=False,yticklabels=False)\n",
    "plt.title(\" Visualising Missing Values\")"
   ]
  },
  {
   "cell_type": "markdown",
   "id": "f2d8fa27-9b6a-46b8-94ed-629713ac996a",
   "metadata": {
    "tags": []
   },
   "source": [
    "## ***Understanding The Variables***"
   ]
  },
  {
   "cell_type": "code",
   "execution_count": 10,
   "id": "cc9953ae-268a-46c8-bcef-43fa74633b32",
   "metadata": {},
   "outputs": [
    {
     "data": {
      "text/plain": [
       "Index(['id', 'item_date', 'quantity tons', 'customer', 'country', 'status',\n",
       "       'item type', 'application', 'thickness', 'width', 'material_ref',\n",
       "       'product_ref', 'delivery date', 'selling_price'],\n",
       "      dtype='object')"
      ]
     },
     "execution_count": 10,
     "metadata": {},
     "output_type": "execute_result"
    }
   ],
   "source": [
    "# Dataset Columns\n",
    "daily_offers_dataset.columns"
   ]
  },
  {
   "cell_type": "code",
   "execution_count": 11,
   "id": "14874f66-e020-433d-91e3-e589cf9158c5",
   "metadata": {},
   "outputs": [
    {
     "data": {
      "text/html": [
       "<div>\n",
       "<style scoped>\n",
       "    .dataframe tbody tr th:only-of-type {\n",
       "        vertical-align: middle;\n",
       "    }\n",
       "\n",
       "    .dataframe tbody tr th {\n",
       "        vertical-align: top;\n",
       "    }\n",
       "\n",
       "    .dataframe thead th {\n",
       "        text-align: right;\n",
       "    }\n",
       "</style>\n",
       "<table border=\"1\" class=\"dataframe\">\n",
       "  <thead>\n",
       "    <tr style=\"text-align: right;\">\n",
       "      <th></th>\n",
       "      <th>item_date</th>\n",
       "      <th>customer</th>\n",
       "      <th>country</th>\n",
       "      <th>application</th>\n",
       "      <th>thickness</th>\n",
       "      <th>width</th>\n",
       "      <th>product_ref</th>\n",
       "      <th>delivery date</th>\n",
       "      <th>selling_price</th>\n",
       "    </tr>\n",
       "  </thead>\n",
       "  <tbody>\n",
       "    <tr>\n",
       "      <th>count</th>\n",
       "      <td>1.816720e+05</td>\n",
       "      <td>1.816720e+05</td>\n",
       "      <td>181645.000000</td>\n",
       "      <td>181649.000000</td>\n",
       "      <td>181672.000000</td>\n",
       "      <td>181673.000000</td>\n",
       "      <td>1.816730e+05</td>\n",
       "      <td>1.816720e+05</td>\n",
       "      <td>1.816720e+05</td>\n",
       "    </tr>\n",
       "    <tr>\n",
       "      <th>mean</th>\n",
       "      <td>2.020459e+07</td>\n",
       "      <td>3.051221e+07</td>\n",
       "      <td>44.893022</td>\n",
       "      <td>25.615809</td>\n",
       "      <td>2.564827</td>\n",
       "      <td>1295.286724</td>\n",
       "      <td>4.739679e+08</td>\n",
       "      <td>2.020738e+07</td>\n",
       "      <td>1.918036e+03</td>\n",
       "    </tr>\n",
       "    <tr>\n",
       "      <th>std</th>\n",
       "      <td>4.551119e+03</td>\n",
       "      <td>2.433382e+07</td>\n",
       "      <td>24.404214</td>\n",
       "      <td>17.754175</td>\n",
       "      <td>6.572321</td>\n",
       "      <td>261.631754</td>\n",
       "      <td>7.175101e+08</td>\n",
       "      <td>2.411059e+04</td>\n",
       "      <td>3.317956e+05</td>\n",
       "    </tr>\n",
       "    <tr>\n",
       "      <th>min</th>\n",
       "      <td>1.995000e+07</td>\n",
       "      <td>1.245800e+04</td>\n",
       "      <td>25.000000</td>\n",
       "      <td>2.000000</td>\n",
       "      <td>0.180000</td>\n",
       "      <td>1.000000</td>\n",
       "      <td>6.117280e+05</td>\n",
       "      <td>2.019040e+07</td>\n",
       "      <td>-1.160000e+03</td>\n",
       "    </tr>\n",
       "    <tr>\n",
       "      <th>25%</th>\n",
       "      <td>2.020093e+07</td>\n",
       "      <td>3.019688e+07</td>\n",
       "      <td>26.000000</td>\n",
       "      <td>10.000000</td>\n",
       "      <td>0.700000</td>\n",
       "      <td>1180.000000</td>\n",
       "      <td>6.119930e+05</td>\n",
       "      <td>2.020110e+07</td>\n",
       "      <td>6.690000e+02</td>\n",
       "    </tr>\n",
       "    <tr>\n",
       "      <th>50%</th>\n",
       "      <td>2.020113e+07</td>\n",
       "      <td>3.020524e+07</td>\n",
       "      <td>30.000000</td>\n",
       "      <td>15.000000</td>\n",
       "      <td>1.500000</td>\n",
       "      <td>1250.000000</td>\n",
       "      <td>6.406650e+05</td>\n",
       "      <td>2.021010e+07</td>\n",
       "      <td>8.120000e+02</td>\n",
       "    </tr>\n",
       "    <tr>\n",
       "      <th>75%</th>\n",
       "      <td>2.021020e+07</td>\n",
       "      <td>3.028042e+07</td>\n",
       "      <td>78.000000</td>\n",
       "      <td>41.000000</td>\n",
       "      <td>3.000000</td>\n",
       "      <td>1500.000000</td>\n",
       "      <td>1.332077e+09</td>\n",
       "      <td>2.021040e+07</td>\n",
       "      <td>9.530000e+02</td>\n",
       "    </tr>\n",
       "    <tr>\n",
       "      <th>max</th>\n",
       "      <td>2.021040e+07</td>\n",
       "      <td>2.147484e+09</td>\n",
       "      <td>113.000000</td>\n",
       "      <td>99.000000</td>\n",
       "      <td>2500.000000</td>\n",
       "      <td>2990.000000</td>\n",
       "      <td>1.722208e+09</td>\n",
       "      <td>3.031010e+07</td>\n",
       "      <td>1.000010e+08</td>\n",
       "    </tr>\n",
       "  </tbody>\n",
       "</table>\n",
       "</div>"
      ],
      "text/plain": [
       "          item_date      customer        country    application  \\\n",
       "count  1.816720e+05  1.816720e+05  181645.000000  181649.000000   \n",
       "mean   2.020459e+07  3.051221e+07      44.893022      25.615809   \n",
       "std    4.551119e+03  2.433382e+07      24.404214      17.754175   \n",
       "min    1.995000e+07  1.245800e+04      25.000000       2.000000   \n",
       "25%    2.020093e+07  3.019688e+07      26.000000      10.000000   \n",
       "50%    2.020113e+07  3.020524e+07      30.000000      15.000000   \n",
       "75%    2.021020e+07  3.028042e+07      78.000000      41.000000   \n",
       "max    2.021040e+07  2.147484e+09     113.000000      99.000000   \n",
       "\n",
       "           thickness          width   product_ref  delivery date  \\\n",
       "count  181672.000000  181673.000000  1.816730e+05   1.816720e+05   \n",
       "mean        2.564827    1295.286724  4.739679e+08   2.020738e+07   \n",
       "std         6.572321     261.631754  7.175101e+08   2.411059e+04   \n",
       "min         0.180000       1.000000  6.117280e+05   2.019040e+07   \n",
       "25%         0.700000    1180.000000  6.119930e+05   2.020110e+07   \n",
       "50%         1.500000    1250.000000  6.406650e+05   2.021010e+07   \n",
       "75%         3.000000    1500.000000  1.332077e+09   2.021040e+07   \n",
       "max      2500.000000    2990.000000  1.722208e+09   3.031010e+07   \n",
       "\n",
       "       selling_price  \n",
       "count   1.816720e+05  \n",
       "mean    1.918036e+03  \n",
       "std     3.317956e+05  \n",
       "min    -1.160000e+03  \n",
       "25%     6.690000e+02  \n",
       "50%     8.120000e+02  \n",
       "75%     9.530000e+02  \n",
       "max     1.000010e+08  "
      ]
     },
     "execution_count": 11,
     "metadata": {},
     "output_type": "execute_result"
    }
   ],
   "source": [
    "# Dataset Describe \n",
    "daily_offers_dataset.describe()"
   ]
  },
  {
   "cell_type": "code",
   "execution_count": 12,
   "id": "ee131f84-0bfd-4dad-9773-a3bb1dcb08e3",
   "metadata": {},
   "outputs": [],
   "source": [
    "def datacategory(dataframe):\n",
    "    \"\"\" \n",
    "    A function To segragate the numerical and categorical columns data from pandas dataframe\n",
    "\n",
    "    Argument- dataframe to which action is to performed\n",
    "\n",
    "    returns - list of caetogriacl and numerical data \n",
    "    \"\"\"\n",
    "    categorical_data = []\n",
    "    numerical_data= []\n",
    "    for i in dataframe.columns.tolist():\n",
    "        if dataframe[i].dtype ==\"O\": # if data type of columns is object \n",
    "            categorical_data.append(i)\n",
    "\n",
    "        else:\n",
    "            numerical_data.append(i)\n",
    "    print(f'total no of categorical data is {len(categorical_data)}')\n",
    "    print(f'total no of numerical data is {len(numerical_data)}')\n",
    "\n",
    "    return categorical_data, numerical_data"
   ]
  },
  {
   "cell_type": "code",
   "execution_count": 13,
   "id": "9f1b8c13-6a4e-44f0-b9ab-663c48f1081b",
   "metadata": {},
   "outputs": [
    {
     "name": "stdout",
     "output_type": "stream",
     "text": [
      "total no of categorical data is 5\n",
      "total no of numerical data is 9\n"
     ]
    }
   ],
   "source": [
    "categorical_columns, numerical_columns = datacategory(daily_offers_dataset)"
   ]
  },
  {
   "cell_type": "code",
   "execution_count": 14,
   "id": "0893ccb7-63aa-4003-af33-2537ff0f57c3",
   "metadata": {},
   "outputs": [],
   "source": [
    "#print unique value in categorical value \n",
    "#since the dataset is large numerical value whose unique number are less than should be focussed\n",
    "\n",
    "def print_values(dataframe):\n",
    "    for i in dataframe.columns.tolist():\n",
    "        if dataframe[i].dtype=='O':\n",
    "            print(f\"the categorical column {i} have {dataframe[i].nunique()} unique values \")\n",
    "            if dataframe[i].nunique() <=50 :\n",
    "                print(f\"the unique value in the columns are {dataframe[i].unique()}\")\n",
    "        else:\n",
    "            print(f\"the  numerical column {i} have {dataframe[i].nunique()} unique values \")\n",
    "            if dataframe[i].nunique() <=50:\n",
    "                print(f\" the unique value in the columns are{dataframe[i].unique()}\")"
   ]
  },
  {
   "cell_type": "code",
   "execution_count": 15,
   "id": "cbb8b699-9497-4842-8578-34ae6c089780",
   "metadata": {},
   "outputs": [
    {
     "name": "stdout",
     "output_type": "stream",
     "text": [
      "the categorical column id have 181671 unique values \n",
      "the categorical column quantity tons have 181673 unique values \n",
      "the categorical column status have 9 unique values \n",
      "the unique value in the columns are ['Won' 'Draft' 'To be approved' 'Lost' 'Not lost for AM' 'Wonderful'\n",
      " 'Revised' 'Offered' 'Offerable' nan]\n",
      "the categorical column item type have 7 unique values \n",
      "the unique value in the columns are ['W' 'WI' 'S' 'Others' 'PL' 'IPL' 'SLAWR']\n",
      "the categorical column material_ref have 16563 unique values \n"
     ]
    }
   ],
   "source": [
    "# call the function to see the unique categorical value if it is less than 50 \n",
    "print_values(daily_offers_dataset[categorical_columns])"
   ]
  },
  {
   "cell_type": "code",
   "execution_count": 16,
   "id": "779cdafc-1d28-4dbf-b6b0-c19ad94cbba5",
   "metadata": {},
   "outputs": [
    {
     "name": "stdout",
     "output_type": "stream",
     "text": [
      "the  numerical column item_date have 252 unique values \n",
      "the  numerical column customer have 1169 unique values \n",
      "the  numerical column country have 17 unique values \n",
      " the unique value in the columns are[ 28.  25.  30.  32.  38.  78.  27.  77. 113.  79.  26.  39.  40.  84.\n",
      "  80. 107.  89.  nan]\n",
      "the  numerical column application have 30 unique values \n",
      " the unique value in the columns are[10. 41. 28. 59. 15.  4. 38. 56. 42. 26. 27. 19. 20. 66. 29. 22. 40. 25.\n",
      " 67. 79.  3. 99.  2.  5. 39. 69. 70. 65. 58. 68. nan]\n",
      "the  numerical column thickness have 594 unique values \n",
      "the  numerical column width have 1386 unique values \n",
      "the  numerical column product_ref have 33 unique values \n",
      " the unique value in the columns are[1670798778 1668701718     628377     640665     611993 1668701376\n",
      "  164141591 1671863738 1332077137     640405 1693867550 1665572374\n",
      " 1282007633 1668701698     628117 1690738206     628112     640400\n",
      " 1671876026  164336407  164337175 1668701725 1665572032     611728\n",
      " 1721130331 1693867563     611733 1690738219 1722207579  929423819\n",
      " 1665584320 1665584662 1665584642]\n",
      "the  numerical column delivery date have 28 unique values \n",
      " the unique value in the columns are[20210701. 20210401. 20210101. 20210301. 20210601. 20210501. 20210801.\n",
      " 30310101. 20210901. 20211001. 20211101. 20220101. 20200701. 20201001.\n",
      " 20200101. 20210201. 20211201. 20190701. 20200801. 20201101. 20201201.\n",
      " 20190401. 20200601. 20200401. 20200901. 20200501.       nan 20212222.\n",
      " 20191001.]\n",
      "the  numerical column selling_price have 9795 unique values \n"
     ]
    }
   ],
   "source": [
    "# call the function to see the unique numerical_columns value if it is less than 50 \n",
    "print_values(daily_offers_dataset[numerical_columns])"
   ]
  },
  {
   "cell_type": "markdown",
   "id": "55fd53d8-3600-49c9-bd3a-390d4686513c",
   "metadata": {},
   "source": [
    "##  ***Data Wrangling***"
   ]
  },
  {
   "cell_type": "markdown",
   "id": "2132a4b9-4c23-4185-882b-d287e7c8a919",
   "metadata": {},
   "source": [
    "### Data Wrangling Code"
   ]
  },
  {
   "cell_type": "markdown",
   "id": "e45b3253-c096-4e1f-a066-751569a05604",
   "metadata": {},
   "source": [
    "#### **Handling Missing Values**"
   ]
  },
  {
   "cell_type": "code",
   "execution_count": 17,
   "id": "30561c17-2328-4fdd-bfac-98c09e93851b",
   "metadata": {},
   "outputs": [],
   "source": [
    "# Convert \"item_date\" column to datetime format\n",
    "daily_offers_dataset[\"item_date\"] = pd.to_datetime(daily_offers_dataset[\"item_date\"], format='%Y%m%d', errors='coerce')"
   ]
  },
  {
   "cell_type": "code",
   "execution_count": 18,
   "id": "7deabf03-ef75-40f0-9a91-5f02fafda0c2",
   "metadata": {},
   "outputs": [],
   "source": [
    "# Convert \"delivery date\" column to datetime format\n",
    "daily_offers_dataset[\"delivery date\"] = pd.to_datetime(daily_offers_dataset[\"delivery date\"], format='%Y%m%d', errors='coerce')"
   ]
  },
  {
   "cell_type": "markdown",
   "id": "34822158-45a8-4106-b712-75dab1b4be77",
   "metadata": {},
   "source": [
    "*We will use forward method to fill the missing value since the column is time series data , also the data is is 252 days ,where as delivery data is of only 8 days so forward methode seemed most appropriate than others*"
   ]
  },
  {
   "cell_type": "code",
   "execution_count": 19,
   "id": "920d41b5-11af-4ed3-acaf-100e0de8c7ee",
   "metadata": {},
   "outputs": [],
   "source": [
    "# Impute missing values with the previous  value\n",
    "daily_offers_dataset[\"item_date\"] =daily_offers_dataset[\"item_date\"].fillna(method='ffill')  # Forward fill"
   ]
  },
  {
   "cell_type": "code",
   "execution_count": 20,
   "id": "55878393-144b-46a3-a3ea-e7b328219a43",
   "metadata": {},
   "outputs": [],
   "source": [
    "# Impute missing values with the previous  value\n",
    "daily_offers_dataset[\"delivery date\"] =daily_offers_dataset[\"delivery date\"].fillna(method='ffill')  # Forward fill"
   ]
  },
  {
   "cell_type": "markdown",
   "id": "a6c187bb-668e-450a-8263-a5adff07a395",
   "metadata": {},
   "source": [
    "*Thickness of the item can be different for different product we can use mean value to compute the missing value in a dataframe*"
   ]
  },
  {
   "cell_type": "code",
   "execution_count": 21,
   "id": "05fa081d-d865-4617-87af-5b8080a86913",
   "metadata": {},
   "outputs": [],
   "source": [
    "# Fill the missing values in column 'Thickness' with the mean of non-missing values\n",
    "mean_B = daily_offers_dataset['thickness'].mean()\n",
    "daily_offers_dataset['thickness'] = daily_offers_dataset['thickness'].fillna(mean_B)"
   ]
  },
  {
   "cell_type": "code",
   "execution_count": 22,
   "id": "4115011d-c9a0-4657-a63a-9c6372f7bb13",
   "metadata": {},
   "outputs": [],
   "source": [
    "# should not fil missing value in Our target variable \n",
    "daily_offers_dataset.dropna(subset=['selling_price'], inplace=True)"
   ]
  },
  {
   "cell_type": "code",
   "execution_count": 23,
   "id": "d449b814-8958-4988-83e4-36d93f6d37ca",
   "metadata": {},
   "outputs": [],
   "source": [
    "# status have only two missing values \n",
    "# fill it with mode value \n",
    "\n",
    "# fill missing values with the mode of the 'status' column\n",
    "mode_val = daily_offers_dataset['status'].mode()[0]\n",
    "daily_offers_dataset['status'] = daily_offers_dataset['status'].fillna(mode_val)"
   ]
  },
  {
   "cell_type": "markdown",
   "id": "f5693d39-a806-40ed-8974-31ca469b4ae2",
   "metadata": {},
   "source": [
    "*Since most of the missing value now are categorical data and the data set consist of customer behavious the rows with similar behaviour ca may be imputer by taking reference from their neighburs which have similar propert*"
   ]
  },
  {
   "cell_type": "code",
   "execution_count": 24,
   "id": "b0c771e9-fdd2-4f6c-bbb0-826fd5c303f1",
   "metadata": {},
   "outputs": [],
   "source": [
    "# select the columns to impute\n",
    "cols_to_impute = ['application',  'customer','country']\n",
    "# create the imputer\n",
    "imputer = KNNImputer(n_neighbors=5)\n",
    "\n",
    "# fit and transform the imputer on the selected columns\n",
    "imputed_cols = imputer.fit_transform(daily_offers_dataset[cols_to_impute])\n",
    "\n",
    "# replace the original columns with the imputed values\n",
    "daily_offers_dataset[cols_to_impute] = imputed_cols"
   ]
  },
  {
   "cell_type": "code",
   "execution_count": 25,
   "id": "40dd2515-0b6d-47e4-87b4-c4b11f4110e6",
   "metadata": {},
   "outputs": [],
   "source": [
    "# id column have 181671 unique values\n",
    "# it accouts as serial number for the row \n",
    "daily_offers_dataset.drop(\"id\",axis=1,inplace =True)"
   ]
  },
  {
   "cell_type": "code",
   "execution_count": 26,
   "id": "fefe08d9-7a09-4c67-9a27-2978f9eeca8a",
   "metadata": {},
   "outputs": [],
   "source": [
    "#material_ref ave almost 60%  as Nan value\n",
    "# it also has 1678 unique categoriacl value \n",
    "daily_offers_dataset.drop(\"material_ref\",axis=1,inplace =True)"
   ]
  },
  {
   "cell_type": "markdown",
   "id": "38cc7b7a-42a6-42e9-bd77-930e272c982a",
   "metadata": {},
   "source": [
    "##### Univariate analysis "
   ]
  },
  {
   "cell_type": "markdown",
   "id": "8be9695e-bba7-4b36-b712-b495db9b2e64",
   "metadata": {},
   "source": [
    "*With respect to item date*"
   ]
  },
  {
   "cell_type": "code",
   "execution_count": 27,
   "id": "e2e1a9e9-1205-4282-b750-5dfd1ebbd3e9",
   "metadata": {},
   "outputs": [],
   "source": [
    "# set the 'date' column as the index\n",
    "daily_offers_dataset_item_date =daily_offers_dataset.set_index('item_date')"
   ]
  },
  {
   "cell_type": "code",
   "execution_count": 28,
   "id": "4dd29e4c-1eb0-4f84-9996-bccad84b5c51",
   "metadata": {},
   "outputs": [
    {
     "data": {
      "image/png": "[encoded data removed]",
      "text/plain": [
       "<Figure size 1500x700 with 1 Axes>"
      ]
     },
     "metadata": {},
     "output_type": "display_data"
    }
   ],
   "source": [
    "plt.figure(figsize=(15, 7))\n",
    "plt.plot(daily_offers_dataset_item_date.selling_price)\n",
    "plt.title('Selling price per day )')\n",
    "plt.grid(True)\n",
    "plt.show()"
   ]
  },
  {
   "cell_type": "markdown",
   "id": "21ad27eb-dab2-4406-b396-a42607d945f9",
   "metadata": {},
   "source": [
    "*It shows on large number of calendr days are our selling prce are zero must inspect them*"
   ]
  },
  {
   "cell_type": "code",
   "execution_count": 29,
   "id": "0670ee28-ce00-4d54-af70-e3f6c7c225f0",
   "metadata": {},
   "outputs": [
    {
     "data": {
      "text/html": [
       "<div>\n",
       "<style scoped>\n",
       "    .dataframe tbody tr th:only-of-type {\n",
       "        vertical-align: middle;\n",
       "    }\n",
       "\n",
       "    .dataframe tbody tr th {\n",
       "        vertical-align: top;\n",
       "    }\n",
       "\n",
       "    .dataframe thead th {\n",
       "        text-align: right;\n",
       "    }\n",
       "</style>\n",
       "<table border=\"1\" class=\"dataframe\">\n",
       "  <thead>\n",
       "    <tr style=\"text-align: right;\">\n",
       "      <th></th>\n",
       "      <th>item_date</th>\n",
       "      <th>quantity tons</th>\n",
       "      <th>customer</th>\n",
       "      <th>country</th>\n",
       "      <th>status</th>\n",
       "      <th>item type</th>\n",
       "      <th>application</th>\n",
       "      <th>thickness</th>\n",
       "      <th>width</th>\n",
       "      <th>product_ref</th>\n",
       "      <th>delivery date</th>\n",
       "      <th>selling_price</th>\n",
       "    </tr>\n",
       "  </thead>\n",
       "  <tbody>\n",
       "    <tr>\n",
       "      <th>28</th>\n",
       "      <td>2021-04-01</td>\n",
       "      <td>99.059199</td>\n",
       "      <td>30153510.0</td>\n",
       "      <td>30.0</td>\n",
       "      <td>Won</td>\n",
       "      <td>W</td>\n",
       "      <td>41.0</td>\n",
       "      <td>0.595</td>\n",
       "      <td>1207.0</td>\n",
       "      <td>611993</td>\n",
       "      <td>2021-04-01</td>\n",
       "      <td>-1160.0</td>\n",
       "    </tr>\n",
       "    <tr>\n",
       "      <th>44761</th>\n",
       "      <td>2021-02-04</td>\n",
       "      <td>101.397995</td>\n",
       "      <td>30198657.0</td>\n",
       "      <td>32.0</td>\n",
       "      <td>Won</td>\n",
       "      <td>W</td>\n",
       "      <td>41.0</td>\n",
       "      <td>1.250</td>\n",
       "      <td>1100.0</td>\n",
       "      <td>1721130331</td>\n",
       "      <td>2021-04-01</td>\n",
       "      <td>-730.0</td>\n",
       "    </tr>\n",
       "    <tr>\n",
       "      <th>44810</th>\n",
       "      <td>2021-02-03</td>\n",
       "      <td>12.225889</td>\n",
       "      <td>30157111.0</td>\n",
       "      <td>78.0</td>\n",
       "      <td>Won</td>\n",
       "      <td>W</td>\n",
       "      <td>41.0</td>\n",
       "      <td>0.750</td>\n",
       "      <td>1250.0</td>\n",
       "      <td>164141591</td>\n",
       "      <td>2021-04-01</td>\n",
       "      <td>-445.0</td>\n",
       "    </tr>\n",
       "    <tr>\n",
       "      <th>44865</th>\n",
       "      <td>2021-02-03</td>\n",
       "      <td>28.368563</td>\n",
       "      <td>30217604.0</td>\n",
       "      <td>27.0</td>\n",
       "      <td>Not lost for AM</td>\n",
       "      <td>PL</td>\n",
       "      <td>10.0</td>\n",
       "      <td>1.500</td>\n",
       "      <td>1270.0</td>\n",
       "      <td>164141591</td>\n",
       "      <td>2021-05-01</td>\n",
       "      <td>-25.0</td>\n",
       "    </tr>\n",
       "    <tr>\n",
       "      <th>105189</th>\n",
       "      <td>2020-11-12</td>\n",
       "      <td>5.280274</td>\n",
       "      <td>30209814.0</td>\n",
       "      <td>25.0</td>\n",
       "      <td>Won</td>\n",
       "      <td>W</td>\n",
       "      <td>15.0</td>\n",
       "      <td>6.000</td>\n",
       "      <td>1250.0</td>\n",
       "      <td>1671863738</td>\n",
       "      <td>2021-02-01</td>\n",
       "      <td>-336.0</td>\n",
       "    </tr>\n",
       "  </tbody>\n",
       "</table>\n",
       "</div>"
      ],
      "text/plain": [
       "        item_date quantity tons    customer  country           status  \\\n",
       "28     2021-04-01     99.059199  30153510.0     30.0              Won   \n",
       "44761  2021-02-04    101.397995  30198657.0     32.0              Won   \n",
       "44810  2021-02-03     12.225889  30157111.0     78.0              Won   \n",
       "44865  2021-02-03     28.368563  30217604.0     27.0  Not lost for AM   \n",
       "105189 2020-11-12      5.280274  30209814.0     25.0              Won   \n",
       "\n",
       "       item type  application  thickness   width  product_ref delivery date  \\\n",
       "28             W         41.0      0.595  1207.0       611993    2021-04-01   \n",
       "44761          W         41.0      1.250  1100.0   1721130331    2021-04-01   \n",
       "44810          W         41.0      0.750  1250.0    164141591    2021-04-01   \n",
       "44865         PL         10.0      1.500  1270.0    164141591    2021-05-01   \n",
       "105189         W         15.0      6.000  1250.0   1671863738    2021-02-01   \n",
       "\n",
       "        selling_price  \n",
       "28            -1160.0  \n",
       "44761          -730.0  \n",
       "44810          -445.0  \n",
       "44865           -25.0  \n",
       "105189         -336.0  "
      ]
     },
     "execution_count": 29,
     "metadata": {},
     "output_type": "execute_result"
    }
   ],
   "source": [
    "# see if there are selling price which are less than zero\n",
    "daily_offers_dataset[daily_offers_dataset[\"selling_price\"]< 0 ]"
   ]
  },
  {
   "cell_type": "markdown",
   "id": "6fa84fb6-e915-42f2-930b-d4c79dd717dd",
   "metadata": {},
   "source": [
    "*selling price could not be negative , it can either be greater than 0 or equal to zero not less than zero these rows fortunately these are only 5 rows so we can remove these rows*"
   ]
  },
  {
   "cell_type": "code",
   "execution_count": 30,
   "id": "0e3acc5e-6cc9-4108-be5e-50d3aad9fe5e",
   "metadata": {},
   "outputs": [],
   "source": [
    "#select those rows where selling price are greater than zero \n",
    "daily_offers_dataset= daily_offers_dataset[daily_offers_dataset[\"selling_price\"] >= 0 ]"
   ]
  },
  {
   "cell_type": "markdown",
   "id": "e158cb34-f87b-4c32-a7cf-5d3136a33369",
   "metadata": {},
   "source": [
    "*wit respect to delivery date*"
   ]
  },
  {
   "cell_type": "code",
   "execution_count": 35,
   "id": "49652e45-bd82-4577-8d5c-c577431a2c97",
   "metadata": {},
   "outputs": [
    {
     "data": {
      "image/png": "[encoded data removed]",
      "text/plain": [
       "<Figure size 1500x700 with 2 Axes>"
      ]
     },
     "metadata": {},
     "output_type": "display_data"
    }
   ],
   "source": [
    "\n",
    "\n",
    "# set the 'delivery date' column as the index for the first dataset\n",
    "daily_offers_dataset1 =daily_offers_dataset.set_index('delivery date')\n",
    "\n",
    "# set the 'item_date' column as the index for the second dataset\n",
    "daily_offers_dataset2=daily_offers_dataset.set_index('item_date')\n",
    "\n",
    "# plot the 'selling_price' column for the first dataset\n",
    "fig, ax1 = plt.subplots(figsize=(15, 7))\n",
    "color = 'tab:red'\n",
    "ax1.set_xlabel('Date')\n",
    "ax1.set_ylabel('Selling Price (Dataset 1)', color=color)\n",
    "ax1.plot(daily_offers_dataset1['selling_price'], color=color,label='Selling Price with Delivery Date')\n",
    "ax1.tick_params(axis='y', labelcolor=color)\n",
    "\n",
    "# instantiate a second axes object that shares the same x-axis as ax1\n",
    "ax2 = ax1.twinx()\n",
    "\n",
    "# plot the 'selling_price' column for the second dataset\n",
    "color = 'tab:blue'\n",
    "ax2.set_ylabel('Selling Price (Dataset 2)', color=color)\n",
    "ax2.plot(daily_offers_dataset2['selling_price'], color=color,label='Selling Price with Item Date')\n",
    "ax2.tick_params(axis='y', labelcolor=color)\n",
    "\n",
    "         \n",
    "# add a legend to the plot\n",
    "lines1, labels1 = ax1.get_legend_handles_labels()\n",
    "lines2, labels2 = ax2.get_legend_handles_labels()\n",
    "ax2.legend(lines1+lines2, labels1+labels2, loc='best')\n",
    "# set the title and display the plot\n",
    "plt.title('Selling price per day')\n",
    "plt.grid(True)\n",
    "plt.show()\n"
   ]
  },
  {
   "cell_type": "code",
   "execution_count": null,
   "id": "38f08881-db9c-42f2-9016-7af940d90ffc",
   "metadata": {},
   "outputs": [],
   "source": []
  }
 ],
 "metadata": {
  "kernelspec": {
   "display_name": "myenv:Python",
   "language": "python",
   "name": "conda-env-myenv-py"
  },
  "language_info": {
   "codemirror_mode": {
    "name": "ipython",
    "version": 3
   },
   "file_extension": ".py",
   "mimetype": "text/x-python",
   "name": "python",
   "nbconvert_exporter": "python",
   "pygments_lexer": "ipython3",
   "version": "3.9.16"
  },
  "widgets": {
   "application/vnd.jupyter.widget-state+json": {
    "state": {},
    "version_major": 2,
    "version_minor": 0
   }
  }
 },
 "nbformat": 4,
 "nbformat_minor": 5
}
