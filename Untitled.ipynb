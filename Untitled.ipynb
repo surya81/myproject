{
 "cells": [
  {
   "cell_type": "markdown",
   "id": "be24674b-9c04-45bf-85f2-703c207fcddf",
   "metadata": {
    "tags": []
   },
   "source": [
    "# **Project Name**\n",
    "$\\color{blue}{\\text{Overdose AI\n",
    "Data Science internship Task}}$"
   ]
  },
  {
   "cell_type": "markdown",
   "id": "5706e3d6-bc9c-409b-b752-d5ce86897299",
   "metadata": {
    "jp-MarkdownHeadingCollapsed": true,
    "tags": []
   },
   "source": [
    "### **Project type** - Regression\n",
    "### **Contribution** - Individual\n",
    "### **Team Member1** - $\\color{Green}{\\text{Surya Prakash}}$"
   ]
  },
  {
   "cell_type": "markdown",
   "id": "1402af57-54cb-4d71-a191-62af44c08d14",
   "metadata": {},
   "source": [
    "# **Project Summary**"
   ]
  },
  {
   "cell_type": "markdown",
   "id": "fe71a46d-f4bd-4e2c-a855-13351f138017",
   "metadata": {
    "tags": []
   },
   "source": [
    "**Data Preprocessing** : \n",
    "\n",
    "1. Getting the dataset\n",
    "2. Importing libraries\n",
    "3. Importing datasets\n",
    "4. Finding Missing Data\n",
    "5. Encoding Categorical Data\n",
    "6. Data Cleaning and Feature Engineering\n",
    "\n",
    "**Exploratory data analysis(EDA) :** \n",
    "\n",
    "1.Firstly Checked correlation between Each Features in dataset.\n",
    "\n",
    "2.Checked if bluetooth and wifi available or not???\n",
    "\n",
    "3.Checked can Battery Power be affected in mobile Price?? and how the battery mAh is spread\n",
    "\n",
    "4.Checked can Ram, Screen Height  ,Screen width,pixel Height ,pixel width be affected in mobile Price??\n",
    "\n",
    "5.Checked can 4G and 3G be affected in mobile Price??\n",
    "\n",
    "6.Checked can FC (front camera megapixels) ,PC (Primary camera Megapixels) and Mobile Weight affected in mobile Price??\n",
    "\n",
    "**Supervise Machine learning algorithms and implementation :**\n",
    "\n",
    "\n",
    "1. Logistic regression\n",
    "\n",
    "2. Random Forest Classifier\n",
    "\n",
    "3. XG Boost Classifier"
   ]
  },
  {
   "cell_type": "markdown",
   "id": "8d3f48ff-13d5-4cd9-aaef-0d200f503210",
   "metadata": {
    "jp-MarkdownHeadingCollapsed": true,
    "tags": []
   },
   "source": [
    "# Data overview and column description"
   ]
  },
  {
   "cell_type": "markdown",
   "id": "23941e5d-ad16-4c5c-98c0-ddf859e8f495",
   "metadata": {
    "tags": []
   },
   "source": [
    "# **Let's Begin**"
   ]
  },
  {
   "cell_type": "markdown",
   "id": "5bf0abb8-0d51-4a49-ab76-af62070bcf6d",
   "metadata": {
    "tags": []
   },
   "source": [
    "## ***Know Your Data***"
   ]
  },
  {
   "cell_type": "markdown",
   "id": "f2051e2d-f2fc-412f-b3b1-10a7df644d11",
   "metadata": {
    "tags": []
   },
   "source": [
    "### **Import Libraries**"
   ]
  },
  {
   "cell_type": "code",
   "execution_count": 1,
   "id": "38aeb14d-7e13-4531-a4ab-406dd8bfe0f2",
   "metadata": {
    "tags": []
   },
   "outputs": [],
   "source": [
    "import numpy as np \n",
    "import pandas as pd \n",
    "import seaborn as sns\n",
    "import matplotlib.pyplot as plt\n",
    "%matplotlib inline\n",
    "import warnings\n",
    "warnings.filterwarnings(\"ignore\")\n",
    "from sklearn.impute import KNNImputer\n",
    "from sklearn.preprocessing import StandardScaler\n",
    "from sklearn.model_selection import train_test_split\n",
    "from sklearn.preprocessing import MinMaxScaler\n",
    "from scipy.stats import skew\n",
    "from scipy.stats import yeojohnson\n",
    "from sklearn.preprocessing import PolynomialFeatures\n",
    "from sklearn.pipeline import make_pipeline\n",
    "from sklearn.linear_model import Lasso\n",
    "from sklearn.svm import SVR\n",
    "from sklearn.ensemble import RandomForestRegressor\n",
    "from xgboost import XGBRegressor\n",
    "from sklearn.metrics import r2_score\n",
    "from sklearn.metrics import r2_score\n",
    "from sklearn.metrics import mean_squared_error\n",
    "from sklearn.model_selection import GridSearchCV\n",
    "from sklearn.ensemble import RandomForestRegressor"
   ]
  },
  {
   "cell_type": "markdown",
   "id": "149850b1-a03f-4197-bd22-9d696cf7349e",
   "metadata": {
    "jp-MarkdownHeadingCollapsed": true,
    "tags": []
   },
   "source": [
    "### **Datset Loading**"
   ]
  },
  {
   "cell_type": "code",
   "execution_count": 2,
   "id": "f47645e4-5195-41be-9065-9f0bcff5f957",
   "metadata": {},
   "outputs": [],
   "source": [
    "# Function to load the data \n",
    "def DataLoader(path):\n",
    "    \"\"\"\n",
    "    A function to load the datset \n",
    "    Argumet - Path(path to the data file)\n",
    "    return - dataframe\n",
    "    \"\"\"\n",
    "    try:\n",
    "        dataframe = pd.read_excel(path)\n",
    "        return dataframe\n",
    "    except: # if path is incorrect or does not exist\n",
    "        print(\"path does not find\")\n",
    "\n",
    "    finally:\n",
    "        print(\"operation performed on the  dataset Location\")\n"
   ]
  },
  {
   "cell_type": "code",
   "execution_count": 3,
   "id": "365ed077-c78e-474e-8cb1-677a2c862e7c",
   "metadata": {},
   "outputs": [
    {
     "name": "stdout",
     "output_type": "stream",
     "text": [
      "operation performed on the  dataset Location\n"
     ]
    }
   ],
   "source": [
    "daily_offers_dataset = DataLoader(\"daily_offers.xlsx\")"
   ]
  },
  {
   "cell_type": "markdown",
   "id": "fee12613-3668-4b41-9189-8f2b7717161b",
   "metadata": {
    "jp-MarkdownHeadingCollapsed": true,
    "tags": []
   },
   "source": [
    "### **Dataset First View**"
   ]
  },
  {
   "cell_type": "code",
   "execution_count": 4,
   "id": "43c2c756-b607-4c34-a23d-4cf1e5ed3db2",
   "metadata": {},
   "outputs": [
    {
     "data": {
      "text/html": [
       "<div>\n",
       "<style scoped>\n",
       "    .dataframe tbody tr th:only-of-type {\n",
       "        vertical-align: middle;\n",
       "    }\n",
       "\n",
       "    .dataframe tbody tr th {\n",
       "        vertical-align: top;\n",
       "    }\n",
       "\n",
       "    .dataframe thead th {\n",
       "        text-align: right;\n",
       "    }\n",
       "</style>\n",
       "<table border=\"1\" class=\"dataframe\">\n",
       "  <thead>\n",
       "    <tr style=\"text-align: right;\">\n",
       "      <th></th>\n",
       "      <th>id</th>\n",
       "      <th>item_date</th>\n",
       "      <th>quantity tons</th>\n",
       "      <th>customer</th>\n",
       "      <th>country</th>\n",
       "      <th>status</th>\n",
       "      <th>item type</th>\n",
       "      <th>application</th>\n",
       "      <th>thickness</th>\n",
       "      <th>width</th>\n",
       "      <th>material_ref</th>\n",
       "      <th>product_ref</th>\n",
       "      <th>delivery date</th>\n",
       "      <th>selling_price</th>\n",
       "    </tr>\n",
       "  </thead>\n",
       "  <tbody>\n",
       "    <tr>\n",
       "      <th>0</th>\n",
       "      <td>EC06F063-9DF0-440C-8764-0B0C05A4F6AE</td>\n",
       "      <td>20210401.0</td>\n",
       "      <td>54.151139</td>\n",
       "      <td>30156308.0</td>\n",
       "      <td>28.0</td>\n",
       "      <td>Won</td>\n",
       "      <td>W</td>\n",
       "      <td>10.0</td>\n",
       "      <td>2.00</td>\n",
       "      <td>1500.0</td>\n",
       "      <td>DEQ1 S460MC</td>\n",
       "      <td>1670798778</td>\n",
       "      <td>20210701.0</td>\n",
       "      <td>854.00</td>\n",
       "    </tr>\n",
       "    <tr>\n",
       "      <th>1</th>\n",
       "      <td>4E5F4B3D-DDDF-499D-AFDE-A3227EC49425</td>\n",
       "      <td>20210401.0</td>\n",
       "      <td>768.024839</td>\n",
       "      <td>30202938.0</td>\n",
       "      <td>25.0</td>\n",
       "      <td>Won</td>\n",
       "      <td>W</td>\n",
       "      <td>41.0</td>\n",
       "      <td>0.80</td>\n",
       "      <td>1210.0</td>\n",
       "      <td>0000000000000000000000000000000000104991</td>\n",
       "      <td>1668701718</td>\n",
       "      <td>20210401.0</td>\n",
       "      <td>1047.00</td>\n",
       "    </tr>\n",
       "    <tr>\n",
       "      <th>2</th>\n",
       "      <td>E140FF1B-2407-4C02-A0DD-780A093B1158</td>\n",
       "      <td>20210401.0</td>\n",
       "      <td>386.127949</td>\n",
       "      <td>30153963.0</td>\n",
       "      <td>30.0</td>\n",
       "      <td>Won</td>\n",
       "      <td>WI</td>\n",
       "      <td>28.0</td>\n",
       "      <td>0.38</td>\n",
       "      <td>952.0</td>\n",
       "      <td>S0380700</td>\n",
       "      <td>628377</td>\n",
       "      <td>20210101.0</td>\n",
       "      <td>644.33</td>\n",
       "    </tr>\n",
       "    <tr>\n",
       "      <th>3</th>\n",
       "      <td>F8D507A0-9C62-4EFE-831E-33E1DA53BB50</td>\n",
       "      <td>20210401.0</td>\n",
       "      <td>202.411065</td>\n",
       "      <td>30349574.0</td>\n",
       "      <td>32.0</td>\n",
       "      <td>Won</td>\n",
       "      <td>S</td>\n",
       "      <td>59.0</td>\n",
       "      <td>2.30</td>\n",
       "      <td>1317.0</td>\n",
       "      <td>DX51D+ZM310MAO 2.3X1317</td>\n",
       "      <td>1668701718</td>\n",
       "      <td>20210101.0</td>\n",
       "      <td>768.00</td>\n",
       "    </tr>\n",
       "    <tr>\n",
       "      <th>4</th>\n",
       "      <td>4E1C4E78-152B-430A-8094-ADD889C9D0AD</td>\n",
       "      <td>20210401.0</td>\n",
       "      <td>785.526262</td>\n",
       "      <td>30211560.0</td>\n",
       "      <td>28.0</td>\n",
       "      <td>Won</td>\n",
       "      <td>W</td>\n",
       "      <td>10.0</td>\n",
       "      <td>4.00</td>\n",
       "      <td>2000.0</td>\n",
       "      <td>2_S275JR+AR-CL1</td>\n",
       "      <td>640665</td>\n",
       "      <td>20210301.0</td>\n",
       "      <td>577.00</td>\n",
       "    </tr>\n",
       "  </tbody>\n",
       "</table>\n",
       "</div>"
      ],
      "text/plain": [
       "                                     id   item_date quantity tons    customer  \\\n",
       "0  EC06F063-9DF0-440C-8764-0B0C05A4F6AE  20210401.0     54.151139  30156308.0   \n",
       "1  4E5F4B3D-DDDF-499D-AFDE-A3227EC49425  20210401.0    768.024839  30202938.0   \n",
       "2  E140FF1B-2407-4C02-A0DD-780A093B1158  20210401.0    386.127949  30153963.0   \n",
       "3  F8D507A0-9C62-4EFE-831E-33E1DA53BB50  20210401.0    202.411065  30349574.0   \n",
       "4  4E1C4E78-152B-430A-8094-ADD889C9D0AD  20210401.0    785.526262  30211560.0   \n",
       "\n",
       "   country status item type  application  thickness   width  \\\n",
       "0     28.0    Won         W         10.0       2.00  1500.0   \n",
       "1     25.0    Won         W         41.0       0.80  1210.0   \n",
       "2     30.0    Won        WI         28.0       0.38   952.0   \n",
       "3     32.0    Won         S         59.0       2.30  1317.0   \n",
       "4     28.0    Won         W         10.0       4.00  2000.0   \n",
       "\n",
       "                               material_ref  product_ref  delivery date  \\\n",
       "0                               DEQ1 S460MC   1670798778     20210701.0   \n",
       "1  0000000000000000000000000000000000104991   1668701718     20210401.0   \n",
       "2                                  S0380700       628377     20210101.0   \n",
       "3                   DX51D+ZM310MAO 2.3X1317   1668701718     20210101.0   \n",
       "4                           2_S275JR+AR-CL1       640665     20210301.0   \n",
       "\n",
       "   selling_price  \n",
       "0         854.00  \n",
       "1        1047.00  \n",
       "2         644.33  \n",
       "3         768.00  \n",
       "4         577.00  "
      ]
     },
     "execution_count": 4,
     "metadata": {},
     "output_type": "execute_result"
    }
   ],
   "source": [
    "# Dataset First Look\n",
    "daily_offers_dataset.head()"
   ]
  },
  {
   "cell_type": "markdown",
   "id": "d38c5648-84e9-4ea8-90eb-3fa3e63e1cd2",
   "metadata": {
    "jp-MarkdownHeadingCollapsed": true,
    "tags": []
   },
   "source": [
    "### Dataset Rows & Columns count"
   ]
  },
  {
   "cell_type": "code",
   "execution_count": 5,
   "id": "b5370faf-2beb-4331-aa30-413e257dfbaa",
   "metadata": {},
   "outputs": [
    {
     "name": "stdout",
     "output_type": "stream",
     "text": [
      "the dataset has toltal of  181673 rows and 14 columns\n"
     ]
    }
   ],
   "source": [
    "print(f\"the dataset has toltal of  {daily_offers_dataset.shape[0]} rows and {daily_offers_dataset.shape[1]} columns\") "
   ]
  },
  {
   "cell_type": "markdown",
   "id": "3e0f28ae-df42-4758-82c1-221728326e80",
   "metadata": {
    "jp-MarkdownHeadingCollapsed": true,
    "tags": []
   },
   "source": [
    "### Dataset Information"
   ]
  },
  {
   "cell_type": "code",
   "execution_count": 6,
   "id": "6a5b548e-6394-4501-9244-a3eaa71b86b5",
   "metadata": {},
   "outputs": [
    {
     "name": "stdout",
     "output_type": "stream",
     "text": [
      "<class 'pandas.core.frame.DataFrame'>\n",
      "RangeIndex: 181673 entries, 0 to 181672\n",
      "Data columns (total 14 columns):\n",
      " #   Column         Non-Null Count   Dtype  \n",
      "---  ------         --------------   -----  \n",
      " 0   id             181671 non-null  object \n",
      " 1   item_date      181672 non-null  float64\n",
      " 2   quantity tons  181673 non-null  object \n",
      " 3   customer       181672 non-null  float64\n",
      " 4   country        181645 non-null  float64\n",
      " 5   status         181671 non-null  object \n",
      " 6   item type      181673 non-null  object \n",
      " 7   application    181649 non-null  float64\n",
      " 8   thickness      181672 non-null  float64\n",
      " 9   width          181673 non-null  float64\n",
      " 10  material_ref   103754 non-null  object \n",
      " 11  product_ref    181673 non-null  int64  \n",
      " 12  delivery date  181672 non-null  float64\n",
      " 13  selling_price  181672 non-null  float64\n",
      "dtypes: float64(8), int64(1), object(5)\n",
      "memory usage: 19.4+ MB\n"
     ]
    }
   ],
   "source": [
    "# Dataset Info\n",
    "daily_offers_dataset.info()"
   ]
  },
  {
   "cell_type": "markdown",
   "id": "f05eb494-37f5-47bf-83e1-495d9d90f250",
   "metadata": {},
   "source": [
    "#### Duplicate Values"
   ]
  },
  {
   "cell_type": "code",
   "execution_count": 7,
   "id": "15870bd9-11b7-420e-826f-127c5d52ef15",
   "metadata": {},
   "outputs": [
    {
     "name": "stdout",
     "output_type": "stream",
     "text": [
      " We have 0 duplicate values in dataset.\n"
     ]
    }
   ],
   "source": [
    "# Dataset Duplicate Value Count\n",
    "print(f' We have {daily_offers_dataset.duplicated().sum()} duplicate values in dataset.')"
   ]
  },
  {
   "cell_type": "markdown",
   "id": "2998c297-0b2c-4565-b584-0564d25e8f61",
   "metadata": {},
   "source": [
    "#### Missing Values/Null Values"
   ]
  },
  {
   "cell_type": "code",
   "execution_count": 8,
   "id": "22f3a02d-503c-4e0b-8112-801fc8948bf5",
   "metadata": {},
   "outputs": [
    {
     "data": {
      "text/plain": [
       "material_ref     77919\n",
       "country             28\n",
       "application         24\n",
       "id                   2\n",
       "status               2\n",
       "item_date            1\n",
       "customer             1\n",
       "thickness            1\n",
       "delivery date        1\n",
       "selling_price        1\n",
       "quantity tons        0\n",
       "item type            0\n",
       "width                0\n",
       "product_ref          0\n",
       "dtype: int64"
      ]
     },
     "execution_count": 8,
     "metadata": {},
     "output_type": "execute_result"
    }
   ],
   "source": [
    "# Missing Values/Null Values Count\n",
    "daily_offers_dataset.isna().sum().sort_values(ascending=False)"
   ]
  },
  {
   "cell_type": "code",
   "execution_count": 9,
   "id": "89a2578b-3289-4e90-aa58-d3fec21f9848",
   "metadata": {},
   "outputs": [
    {
     "data": {
      "text/plain": [
       "Text(0.5, 1.0, ' Visualising Missing Values')"
      ]
     },
     "execution_count": 9,
     "metadata": {},
     "output_type": "execute_result"
    },
    {
     "data": {
      "image/png": "[encoded data removed]",
      "text/plain": [
       "<Figure size 1500x500 with 2 Axes>"
      ]
     },
     "metadata": {},
     "output_type": "display_data"
    }
   ],
   "source": [
    "# Visualizing the missing values\n",
    "plt.figure(figsize=(15,5))\n",
    "sns.heatmap(daily_offers_dataset.isnull(),cmap='plasma',annot=False,yticklabels=False)\n",
    "plt.title(\" Visualising Missing Values\")"
   ]
  },
  {
   "cell_type": "markdown",
   "id": "f2d8fa27-9b6a-46b8-94ed-629713ac996a",
   "metadata": {
    "tags": []
   },
   "source": [
    "## **Understanding The Variables**"
   ]
  },
  {
   "cell_type": "code",
   "execution_count": 10,
   "id": "cc9953ae-268a-46c8-bcef-43fa74633b32",
   "metadata": {},
   "outputs": [
    {
     "data": {
      "text/plain": [
       "Index(['id', 'item_date', 'quantity tons', 'customer', 'country', 'status',\n",
       "       'item type', 'application', 'thickness', 'width', 'material_ref',\n",
       "       'product_ref', 'delivery date', 'selling_price'],\n",
       "      dtype='object')"
      ]
     },
     "execution_count": 10,
     "metadata": {},
     "output_type": "execute_result"
    }
   ],
   "source": [
    "# Dataset Columns\n",
    "daily_offers_dataset.columns"
   ]
  },
  {
   "cell_type": "code",
   "execution_count": 11,
   "id": "14874f66-e020-433d-91e3-e589cf9158c5",
   "metadata": {},
   "outputs": [
    {
     "data": {
      "text/html": [
       "<div>\n",
       "<style scoped>\n",
       "    .dataframe tbody tr th:only-of-type {\n",
       "        vertical-align: middle;\n",
       "    }\n",
       "\n",
       "    .dataframe tbody tr th {\n",
       "        vertical-align: top;\n",
       "    }\n",
       "\n",
       "    .dataframe thead th {\n",
       "        text-align: right;\n",
       "    }\n",
       "</style>\n",
       "<table border=\"1\" class=\"dataframe\">\n",
       "  <thead>\n",
       "    <tr style=\"text-align: right;\">\n",
       "      <th></th>\n",
       "      <th>item_date</th>\n",
       "      <th>customer</th>\n",
       "      <th>country</th>\n",
       "      <th>application</th>\n",
       "      <th>thickness</th>\n",
       "      <th>width</th>\n",
       "      <th>product_ref</th>\n",
       "      <th>delivery date</th>\n",
       "      <th>selling_price</th>\n",
       "    </tr>\n",
       "  </thead>\n",
       "  <tbody>\n",
       "    <tr>\n",
       "      <th>count</th>\n",
       "      <td>1.816720e+05</td>\n",
       "      <td>1.816720e+05</td>\n",
       "      <td>181645.000000</td>\n",
       "      <td>181649.000000</td>\n",
       "      <td>181672.000000</td>\n",
       "      <td>181673.000000</td>\n",
       "      <td>1.816730e+05</td>\n",
       "      <td>1.816720e+05</td>\n",
       "      <td>1.816720e+05</td>\n",
       "    </tr>\n",
       "    <tr>\n",
       "      <th>mean</th>\n",
       "      <td>2.020459e+07</td>\n",
       "      <td>3.051221e+07</td>\n",
       "      <td>44.893022</td>\n",
       "      <td>25.615809</td>\n",
       "      <td>2.564827</td>\n",
       "      <td>1295.286724</td>\n",
       "      <td>4.739679e+08</td>\n",
       "      <td>2.020738e+07</td>\n",
       "      <td>1.918036e+03</td>\n",
       "    </tr>\n",
       "    <tr>\n",
       "      <th>std</th>\n",
       "      <td>4.551119e+03</td>\n",
       "      <td>2.433382e+07</td>\n",
       "      <td>24.404214</td>\n",
       "      <td>17.754175</td>\n",
       "      <td>6.572321</td>\n",
       "      <td>261.631754</td>\n",
       "      <td>7.175101e+08</td>\n",
       "      <td>2.411059e+04</td>\n",
       "      <td>3.317956e+05</td>\n",
       "    </tr>\n",
       "    <tr>\n",
       "      <th>min</th>\n",
       "      <td>1.995000e+07</td>\n",
       "      <td>1.245800e+04</td>\n",
       "      <td>25.000000</td>\n",
       "      <td>2.000000</td>\n",
       "      <td>0.180000</td>\n",
       "      <td>1.000000</td>\n",
       "      <td>6.117280e+05</td>\n",
       "      <td>2.019040e+07</td>\n",
       "      <td>-1.160000e+03</td>\n",
       "    </tr>\n",
       "    <tr>\n",
       "      <th>25%</th>\n",
       "      <td>2.020093e+07</td>\n",
       "      <td>3.019688e+07</td>\n",
       "      <td>26.000000</td>\n",
       "      <td>10.000000</td>\n",
       "      <td>0.700000</td>\n",
       "      <td>1180.000000</td>\n",
       "      <td>6.119930e+05</td>\n",
       "      <td>2.020110e+07</td>\n",
       "      <td>6.690000e+02</td>\n",
       "    </tr>\n",
       "    <tr>\n",
       "      <th>50%</th>\n",
       "      <td>2.020113e+07</td>\n",
       "      <td>3.020524e+07</td>\n",
       "      <td>30.000000</td>\n",
       "      <td>15.000000</td>\n",
       "      <td>1.500000</td>\n",
       "      <td>1250.000000</td>\n",
       "      <td>6.406650e+05</td>\n",
       "      <td>2.021010e+07</td>\n",
       "      <td>8.120000e+02</td>\n",
       "    </tr>\n",
       "    <tr>\n",
       "      <th>75%</th>\n",
       "      <td>2.021020e+07</td>\n",
       "      <td>3.028042e+07</td>\n",
       "      <td>78.000000</td>\n",
       "      <td>41.000000</td>\n",
       "      <td>3.000000</td>\n",
       "      <td>1500.000000</td>\n",
       "      <td>1.332077e+09</td>\n",
       "      <td>2.021040e+07</td>\n",
       "      <td>9.530000e+02</td>\n",
       "    </tr>\n",
       "    <tr>\n",
       "      <th>max</th>\n",
       "      <td>2.021040e+07</td>\n",
       "      <td>2.147484e+09</td>\n",
       "      <td>113.000000</td>\n",
       "      <td>99.000000</td>\n",
       "      <td>2500.000000</td>\n",
       "      <td>2990.000000</td>\n",
       "      <td>1.722208e+09</td>\n",
       "      <td>3.031010e+07</td>\n",
       "      <td>1.000010e+08</td>\n",
       "    </tr>\n",
       "  </tbody>\n",
       "</table>\n",
       "</div>"
      ],
      "text/plain": [
       "          item_date      customer        country    application  \\\n",
       "count  1.816720e+05  1.816720e+05  181645.000000  181649.000000   \n",
       "mean   2.020459e+07  3.051221e+07      44.893022      25.615809   \n",
       "std    4.551119e+03  2.433382e+07      24.404214      17.754175   \n",
       "min    1.995000e+07  1.245800e+04      25.000000       2.000000   \n",
       "25%    2.020093e+07  3.019688e+07      26.000000      10.000000   \n",
       "50%    2.020113e+07  3.020524e+07      30.000000      15.000000   \n",
       "75%    2.021020e+07  3.028042e+07      78.000000      41.000000   \n",
       "max    2.021040e+07  2.147484e+09     113.000000      99.000000   \n",
       "\n",
       "           thickness          width   product_ref  delivery date  \\\n",
       "count  181672.000000  181673.000000  1.816730e+05   1.816720e+05   \n",
       "mean        2.564827    1295.286724  4.739679e+08   2.020738e+07   \n",
       "std         6.572321     261.631754  7.175101e+08   2.411059e+04   \n",
       "min         0.180000       1.000000  6.117280e+05   2.019040e+07   \n",
       "25%         0.700000    1180.000000  6.119930e+05   2.020110e+07   \n",
       "50%         1.500000    1250.000000  6.406650e+05   2.021010e+07   \n",
       "75%         3.000000    1500.000000  1.332077e+09   2.021040e+07   \n",
       "max      2500.000000    2990.000000  1.722208e+09   3.031010e+07   \n",
       "\n",
       "       selling_price  \n",
       "count   1.816720e+05  \n",
       "mean    1.918036e+03  \n",
       "std     3.317956e+05  \n",
       "min    -1.160000e+03  \n",
       "25%     6.690000e+02  \n",
       "50%     8.120000e+02  \n",
       "75%     9.530000e+02  \n",
       "max     1.000010e+08  "
      ]
     },
     "execution_count": 11,
     "metadata": {},
     "output_type": "execute_result"
    }
   ],
   "source": [
    "# Dataset Describe \n",
    "daily_offers_dataset.describe()"
   ]
  },
  {
   "cell_type": "code",
   "execution_count": 12,
   "id": "ee131f84-0bfd-4dad-9773-a3bb1dcb08e3",
   "metadata": {},
   "outputs": [],
   "source": [
    "def datacategory(dataframe):\n",
    "    \"\"\" \n",
    "    A function To segragate the numerical and categorical columns data from pandas dataframe\n",
    "\n",
    "    Argument- dataframe to which action is to performed\n",
    "\n",
    "    returns - list of caetogriacl and numerical data \n",
    "    \"\"\"\n",
    "    categorical_data = []\n",
    "    numerical_data= []\n",
    "    for i in dataframe.columns.tolist():\n",
    "        if dataframe[i].dtype ==\"O\": # if data type of columns is object \n",
    "            categorical_data.append(i)\n",
    "\n",
    "        else:\n",
    "            numerical_data.append(i)\n",
    "    print(f'total no of categorical data is {len(categorical_data)}')\n",
    "    print(f'total no of numerical data is {len(numerical_data)}')\n",
    "\n",
    "    return categorical_data, numerical_data"
   ]
  },
  {
   "cell_type": "code",
   "execution_count": 13,
   "id": "9f1b8c13-6a4e-44f0-b9ab-663c48f1081b",
   "metadata": {},
   "outputs": [
    {
     "name": "stdout",
     "output_type": "stream",
     "text": [
      "total no of categorical data is 5\n",
      "total no of numerical data is 9\n"
     ]
    }
   ],
   "source": [
    "categorical_columns, numerical_columns = datacategory(daily_offers_dataset)"
   ]
  },
  {
   "cell_type": "code",
   "execution_count": 14,
   "id": "0893ccb7-63aa-4003-af33-2537ff0f57c3",
   "metadata": {},
   "outputs": [],
   "source": [
    "#print unique value in categorical value \n",
    "#since the dataset is large numerical value whose unique number are less than should be focussed\n",
    "\n",
    "def print_values(dataframe):\n",
    "    for i in dataframe.columns.tolist():\n",
    "        if dataframe[i].dtype=='O':\n",
    "            print(f\"the categorical column {i} have {dataframe[i].nunique()} unique values \")\n",
    "            if dataframe[i].nunique() <=50 :\n",
    "                print(f\"the unique value in the columns are {dataframe[i].unique()}\")\n",
    "        else:\n",
    "            print(f\"the  numerical column {i} have {dataframe[i].nunique()} unique values \")\n",
    "            if dataframe[i].nunique() <=50:\n",
    "                print(f\" the unique value in the columns are{dataframe[i].unique()}\")"
   ]
  },
  {
   "cell_type": "code",
   "execution_count": 15,
   "id": "cbb8b699-9497-4842-8578-34ae6c089780",
   "metadata": {},
   "outputs": [
    {
     "name": "stdout",
     "output_type": "stream",
     "text": [
      "the categorical column id have 181671 unique values \n",
      "the categorical column quantity tons have 181673 unique values \n",
      "the categorical column status have 9 unique values \n",
      "the unique value in the columns are ['Won' 'Draft' 'To be approved' 'Lost' 'Not lost for AM' 'Wonderful'\n",
      " 'Revised' 'Offered' 'Offerable' nan]\n",
      "the categorical column item type have 7 unique values \n",
      "the unique value in the columns are ['W' 'WI' 'S' 'Others' 'PL' 'IPL' 'SLAWR']\n",
      "the categorical column material_ref have 16563 unique values \n"
     ]
    }
   ],
   "source": [
    "# call the function to see the unique categorical value if it is less than 50 \n",
    "print_values(daily_offers_dataset[categorical_columns])"
   ]
  },
  {
   "cell_type": "code",
   "execution_count": 16,
   "id": "779cdafc-1d28-4dbf-b6b0-c19ad94cbba5",
   "metadata": {},
   "outputs": [
    {
     "name": "stdout",
     "output_type": "stream",
     "text": [
      "the  numerical column item_date have 252 unique values \n",
      "the  numerical column customer have 1169 unique values \n",
      "the  numerical column country have 17 unique values \n",
      " the unique value in the columns are[ 28.  25.  30.  32.  38.  78.  27.  77. 113.  79.  26.  39.  40.  84.\n",
      "  80. 107.  89.  nan]\n",
      "the  numerical column application have 30 unique values \n",
      " the unique value in the columns are[10. 41. 28. 59. 15.  4. 38. 56. 42. 26. 27. 19. 20. 66. 29. 22. 40. 25.\n",
      " 67. 79.  3. 99.  2.  5. 39. 69. 70. 65. 58. 68. nan]\n",
      "the  numerical column thickness have 594 unique values \n",
      "the  numerical column width have 1386 unique values \n",
      "the  numerical column product_ref have 33 unique values \n",
      " the unique value in the columns are[1670798778 1668701718     628377     640665     611993 1668701376\n",
      "  164141591 1671863738 1332077137     640405 1693867550 1665572374\n",
      " 1282007633 1668701698     628117 1690738206     628112     640400\n",
      " 1671876026  164336407  164337175 1668701725 1665572032     611728\n",
      " 1721130331 1693867563     611733 1690738219 1722207579  929423819\n",
      " 1665584320 1665584662 1665584642]\n",
      "the  numerical column delivery date have 28 unique values \n",
      " the unique value in the columns are[20210701. 20210401. 20210101. 20210301. 20210601. 20210501. 20210801.\n",
      " 30310101. 20210901. 20211001. 20211101. 20220101. 20200701. 20201001.\n",
      " 20200101. 20210201. 20211201. 20190701. 20200801. 20201101. 20201201.\n",
      " 20190401. 20200601. 20200401. 20200901. 20200501.       nan 20212222.\n",
      " 20191001.]\n",
      "the  numerical column selling_price have 9795 unique values \n"
     ]
    }
   ],
   "source": [
    "# call the function to see the unique numerical_columns value if it is less than 50 \n",
    "print_values(daily_offers_dataset[numerical_columns])"
   ]
  },
  {
   "cell_type": "markdown",
   "id": "55fd53d8-3600-49c9-bd3a-390d4686513c",
   "metadata": {
    "tags": []
   },
   "source": [
    "##  ***Data Wrangling***"
   ]
  },
  {
   "cell_type": "markdown",
   "id": "2132a4b9-4c23-4185-882b-d287e7c8a919",
   "metadata": {
    "tags": []
   },
   "source": [
    "### Data Wrangling Code"
   ]
  },
  {
   "cell_type": "markdown",
   "id": "e45b3253-c096-4e1f-a066-751569a05604",
   "metadata": {
    "tags": []
   },
   "source": [
    "#### Handling Missing Values"
   ]
  },
  {
   "cell_type": "code",
   "execution_count": 17,
   "id": "30561c17-2328-4fdd-bfac-98c09e93851b",
   "metadata": {},
   "outputs": [],
   "source": [
    "# Convert \"item_date\" column to datetime format\n",
    "daily_offers_dataset[\"item_date\"] = pd.to_datetime(daily_offers_dataset[\"item_date\"], format='%Y%m%d', errors='coerce')"
   ]
  },
  {
   "cell_type": "code",
   "execution_count": 18,
   "id": "7deabf03-ef75-40f0-9a91-5f02fafda0c2",
   "metadata": {},
   "outputs": [],
   "source": [
    "# Convert \"delivery date\" column to datetime format\n",
    "daily_offers_dataset[\"delivery date\"] = pd.to_datetime(daily_offers_dataset[\"delivery date\"], format='%Y%m%d', errors='coerce')"
   ]
  },
  {
   "cell_type": "markdown",
   "id": "34822158-45a8-4106-b712-75dab1b4be77",
   "metadata": {},
   "source": [
    "*We will use forward method to fill the missing value since the column is time series data , also the data is is 252 days ,where as delivery data is of only 8 days so forward methode seemed most appropriate than others*"
   ]
  },
  {
   "cell_type": "code",
   "execution_count": 19,
   "id": "920d41b5-11af-4ed3-acaf-100e0de8c7ee",
   "metadata": {},
   "outputs": [],
   "source": [
    "# Impute missing values with the previous  value\n",
    "daily_offers_dataset[\"item_date\"] =daily_offers_dataset[\"item_date\"].fillna(method='ffill')  # Forward fill"
   ]
  },
  {
   "cell_type": "code",
   "execution_count": 20,
   "id": "55878393-144b-46a3-a3ea-e7b328219a43",
   "metadata": {},
   "outputs": [],
   "source": [
    "# Impute missing values with the previous  value\n",
    "daily_offers_dataset[\"delivery date\"] =daily_offers_dataset[\"delivery date\"].fillna(method='ffill')  # Forward fill"
   ]
  },
  {
   "cell_type": "markdown",
   "id": "a6c187bb-668e-450a-8263-a5adff07a395",
   "metadata": {},
   "source": [
    "*Thickness of the item can be different for different product we can use mean value to compute the missing value in a dataframe*"
   ]
  },
  {
   "cell_type": "code",
   "execution_count": 21,
   "id": "05fa081d-d865-4617-87af-5b8080a86913",
   "metadata": {},
   "outputs": [],
   "source": [
    "# Fill the missing values in column 'Thickness' with the mean of non-missing values\n",
    "mean_B = daily_offers_dataset['thickness'].mean()\n",
    "daily_offers_dataset['thickness'] = daily_offers_dataset['thickness'].fillna(mean_B)"
   ]
  },
  {
   "cell_type": "code",
   "execution_count": 22,
   "id": "4115011d-c9a0-4657-a63a-9c6372f7bb13",
   "metadata": {},
   "outputs": [],
   "source": [
    "# should not fil missing value in Our target variable \n",
    "daily_offers_dataset.dropna(subset=['selling_price'], inplace=True)"
   ]
  },
  {
   "cell_type": "code",
   "execution_count": 23,
   "id": "d449b814-8958-4988-83e4-36d93f6d37ca",
   "metadata": {},
   "outputs": [],
   "source": [
    "# status have only two missing values \n",
    "# fill it with mode value \n",
    "\n",
    "# fill missing values with the mode of the 'status' column\n",
    "mode_val = daily_offers_dataset['status'].mode()[0]\n",
    "daily_offers_dataset['status'] = daily_offers_dataset['status'].fillna(mode_val)"
   ]
  },
  {
   "cell_type": "markdown",
   "id": "f5693d39-a806-40ed-8974-31ca469b4ae2",
   "metadata": {},
   "source": [
    "*Since most of the missing value now are categorical data and the data set consist of customer behavious the rows with similar behaviour ca may be imputer by taking reference from their neighburs which have similar propert*"
   ]
  },
  {
   "cell_type": "code",
   "execution_count": 24,
   "id": "b0c771e9-fdd2-4f6c-bbb0-826fd5c303f1",
   "metadata": {},
   "outputs": [],
   "source": [
    "# select the columns to impute\n",
    "cols_to_impute = ['application',  'customer','country']\n",
    "# create the imputer\n",
    "imputer = KNNImputer(n_neighbors=5)\n",
    "\n",
    "# fit and transform the imputer on the selected columns\n",
    "imputed_cols = imputer.fit_transform(daily_offers_dataset[cols_to_impute])\n",
    "\n",
    "# replace the original columns with the imputed values\n",
    "daily_offers_dataset[cols_to_impute] = imputed_cols"
   ]
  },
  {
   "cell_type": "code",
   "execution_count": 25,
   "id": "40dd2515-0b6d-47e4-87b4-c4b11f4110e6",
   "metadata": {},
   "outputs": [],
   "source": [
    "# id column have 181671 unique values\n",
    "# it accouts as serial number for the row \n",
    "daily_offers_dataset.drop(\"id\",axis=1,inplace =True)"
   ]
  },
  {
   "cell_type": "code",
   "execution_count": 26,
   "id": "fefe08d9-7a09-4c67-9a27-2978f9eeca8a",
   "metadata": {},
   "outputs": [],
   "source": [
    "#material_ref ave almost 60%  as Nan value\n",
    "# it also has 1678 unique categoriacl value \n",
    "daily_offers_dataset.drop(\"material_ref\",axis=1,inplace =True)"
   ]
  },
  {
   "cell_type": "markdown",
   "id": "38cc7b7a-42a6-42e9-bd77-930e272c982a",
   "metadata": {},
   "source": [
    "#### Univariate analysis "
   ]
  },
  {
   "cell_type": "markdown",
   "id": "8be9695e-bba7-4b36-b712-b495db9b2e64",
   "metadata": {},
   "source": [
    "*With respect to item date*"
   ]
  },
  {
   "cell_type": "code",
   "execution_count": 27,
   "id": "e2e1a9e9-1205-4282-b750-5dfd1ebbd3e9",
   "metadata": {},
   "outputs": [],
   "source": [
    "# set the 'date' column as the index\n",
    "daily_offers_dataset_item_date =daily_offers_dataset.set_index('item_date')"
   ]
  },
  {
   "cell_type": "code",
   "execution_count": 28,
   "id": "4dd29e4c-1eb0-4f84-9996-bccad84b5c51",
   "metadata": {},
   "outputs": [
    {
     "data": {
      "image/png": "[encoded data removed]",
      "text/plain": [
       "<Figure size 1500x700 with 1 Axes>"
      ]
     },
     "metadata": {},
     "output_type": "display_data"
    }
   ],
   "source": [
    "plt.figure(figsize=(15, 7))\n",
    "plt.plot(daily_offers_dataset_item_date.selling_price)\n",
    "plt.title('Selling price per day )')\n",
    "plt.grid(True)\n",
    "plt.show()"
   ]
  },
  {
   "cell_type": "markdown",
   "id": "21ad27eb-dab2-4406-b396-a42607d945f9",
   "metadata": {},
   "source": [
    "*It shows on large number of calendr days are our selling prce are zero must inspect them*"
   ]
  },
  {
   "cell_type": "code",
   "execution_count": 29,
   "id": "0670ee28-ce00-4d54-af70-e3f6c7c225f0",
   "metadata": {},
   "outputs": [
    {
     "data": {
      "text/html": [
       "<div>\n",
       "<style scoped>\n",
       "    .dataframe tbody tr th:only-of-type {\n",
       "        vertical-align: middle;\n",
       "    }\n",
       "\n",
       "    .dataframe tbody tr th {\n",
       "        vertical-align: top;\n",
       "    }\n",
       "\n",
       "    .dataframe thead th {\n",
       "        text-align: right;\n",
       "    }\n",
       "</style>\n",
       "<table border=\"1\" class=\"dataframe\">\n",
       "  <thead>\n",
       "    <tr style=\"text-align: right;\">\n",
       "      <th></th>\n",
       "      <th>item_date</th>\n",
       "      <th>quantity tons</th>\n",
       "      <th>customer</th>\n",
       "      <th>country</th>\n",
       "      <th>status</th>\n",
       "      <th>item type</th>\n",
       "      <th>application</th>\n",
       "      <th>thickness</th>\n",
       "      <th>width</th>\n",
       "      <th>product_ref</th>\n",
       "      <th>delivery date</th>\n",
       "      <th>selling_price</th>\n",
       "    </tr>\n",
       "  </thead>\n",
       "  <tbody>\n",
       "    <tr>\n",
       "      <th>28</th>\n",
       "      <td>2021-04-01</td>\n",
       "      <td>99.059199</td>\n",
       "      <td>30153510.0</td>\n",
       "      <td>30.0</td>\n",
       "      <td>Won</td>\n",
       "      <td>W</td>\n",
       "      <td>41.0</td>\n",
       "      <td>0.595</td>\n",
       "      <td>1207.0</td>\n",
       "      <td>611993</td>\n",
       "      <td>2021-04-01</td>\n",
       "      <td>-1160.0</td>\n",
       "    </tr>\n",
       "    <tr>\n",
       "      <th>44761</th>\n",
       "      <td>2021-02-04</td>\n",
       "      <td>101.397995</td>\n",
       "      <td>30198657.0</td>\n",
       "      <td>32.0</td>\n",
       "      <td>Won</td>\n",
       "      <td>W</td>\n",
       "      <td>41.0</td>\n",
       "      <td>1.250</td>\n",
       "      <td>1100.0</td>\n",
       "      <td>1721130331</td>\n",
       "      <td>2021-04-01</td>\n",
       "      <td>-730.0</td>\n",
       "    </tr>\n",
       "    <tr>\n",
       "      <th>44810</th>\n",
       "      <td>2021-02-03</td>\n",
       "      <td>12.225889</td>\n",
       "      <td>30157111.0</td>\n",
       "      <td>78.0</td>\n",
       "      <td>Won</td>\n",
       "      <td>W</td>\n",
       "      <td>41.0</td>\n",
       "      <td>0.750</td>\n",
       "      <td>1250.0</td>\n",
       "      <td>164141591</td>\n",
       "      <td>2021-04-01</td>\n",
       "      <td>-445.0</td>\n",
       "    </tr>\n",
       "    <tr>\n",
       "      <th>44865</th>\n",
       "      <td>2021-02-03</td>\n",
       "      <td>28.368563</td>\n",
       "      <td>30217604.0</td>\n",
       "      <td>27.0</td>\n",
       "      <td>Not lost for AM</td>\n",
       "      <td>PL</td>\n",
       "      <td>10.0</td>\n",
       "      <td>1.500</td>\n",
       "      <td>1270.0</td>\n",
       "      <td>164141591</td>\n",
       "      <td>2021-05-01</td>\n",
       "      <td>-25.0</td>\n",
       "    </tr>\n",
       "    <tr>\n",
       "      <th>105189</th>\n",
       "      <td>2020-11-12</td>\n",
       "      <td>5.280274</td>\n",
       "      <td>30209814.0</td>\n",
       "      <td>25.0</td>\n",
       "      <td>Won</td>\n",
       "      <td>W</td>\n",
       "      <td>15.0</td>\n",
       "      <td>6.000</td>\n",
       "      <td>1250.0</td>\n",
       "      <td>1671863738</td>\n",
       "      <td>2021-02-01</td>\n",
       "      <td>-336.0</td>\n",
       "    </tr>\n",
       "  </tbody>\n",
       "</table>\n",
       "</div>"
      ],
      "text/plain": [
       "        item_date quantity tons    customer  country           status  \\\n",
       "28     2021-04-01     99.059199  30153510.0     30.0              Won   \n",
       "44761  2021-02-04    101.397995  30198657.0     32.0              Won   \n",
       "44810  2021-02-03     12.225889  30157111.0     78.0              Won   \n",
       "44865  2021-02-03     28.368563  30217604.0     27.0  Not lost for AM   \n",
       "105189 2020-11-12      5.280274  30209814.0     25.0              Won   \n",
       "\n",
       "       item type  application  thickness   width  product_ref delivery date  \\\n",
       "28             W         41.0      0.595  1207.0       611993    2021-04-01   \n",
       "44761          W         41.0      1.250  1100.0   1721130331    2021-04-01   \n",
       "44810          W         41.0      0.750  1250.0    164141591    2021-04-01   \n",
       "44865         PL         10.0      1.500  1270.0    164141591    2021-05-01   \n",
       "105189         W         15.0      6.000  1250.0   1671863738    2021-02-01   \n",
       "\n",
       "        selling_price  \n",
       "28            -1160.0  \n",
       "44761          -730.0  \n",
       "44810          -445.0  \n",
       "44865           -25.0  \n",
       "105189         -336.0  "
      ]
     },
     "execution_count": 29,
     "metadata": {},
     "output_type": "execute_result"
    }
   ],
   "source": [
    "# see if there are selling price which are less than zero\n",
    "daily_offers_dataset[daily_offers_dataset[\"selling_price\"]< 0 ]"
   ]
  },
  {
   "cell_type": "markdown",
   "id": "6fa84fb6-e915-42f2-930b-d4c79dd717dd",
   "metadata": {},
   "source": [
    "*selling price could not be negative , it can either be greater than 0 or equal to zero not less than zero these rows fortunately these are only 5 rows so we can remove these rows*"
   ]
  },
  {
   "cell_type": "code",
   "execution_count": 30,
   "id": "0e3acc5e-6cc9-4108-be5e-50d3aad9fe5e",
   "metadata": {},
   "outputs": [],
   "source": [
    "#select those rows where selling price are greater than zero \n",
    "daily_offers_dataset= daily_offers_dataset[daily_offers_dataset[\"selling_price\"] >= 0 ]"
   ]
  },
  {
   "cell_type": "markdown",
   "id": "e158cb34-f87b-4c32-a7cf-5d3136a33369",
   "metadata": {},
   "source": [
    "*wit respect to delivery date*"
   ]
  },
  {
   "cell_type": "code",
   "execution_count": 31,
   "id": "49652e45-bd82-4577-8d5c-c577431a2c97",
   "metadata": {},
   "outputs": [
    {
     "data": {
      "image/png": "[encoded data removed]",
      "text/plain": [
       "<Figure size 1500x700 with 2 Axes>"
      ]
     },
     "metadata": {},
     "output_type": "display_data"
    }
   ],
   "source": [
    "\n",
    "\n",
    "# set the 'delivery date' column as the index for the first dataset\n",
    "daily_offers_dataset1 =daily_offers_dataset.set_index('delivery date')\n",
    "\n",
    "# set the 'item_date' column as the index for the second dataset\n",
    "daily_offers_dataset2=daily_offers_dataset.set_index('item_date')\n",
    "\n",
    "# plot the 'selling_price' column for the first dataset\n",
    "fig, ax1 = plt.subplots(figsize=(15, 7))\n",
    "color = 'tab:red'\n",
    "ax1.set_xlabel('Date')\n",
    "ax1.set_ylabel('Selling Price (Dataset 1)', color=color)\n",
    "ax1.plot(daily_offers_dataset1['selling_price'], color=color,label='Selling Price with Delivery Date')\n",
    "ax1.tick_params(axis='y', labelcolor=color)\n",
    "\n",
    "# instantiate a second axes object that shares the same x-axis as ax1\n",
    "ax2 = ax1.twinx()\n",
    "\n",
    "# plot the 'selling_price' column for the second dataset\n",
    "color = 'tab:blue'\n",
    "ax2.set_ylabel('Selling Price (Dataset 2)', color=color)\n",
    "ax2.plot(daily_offers_dataset2['selling_price'], color=color,label='Selling Price with Item Date')\n",
    "ax2.tick_params(axis='y', labelcolor=color)\n",
    "\n",
    "         \n",
    "# add a legend to the plot\n",
    "lines1, labels1 = ax1.get_legend_handles_labels()\n",
    "lines2, labels2 = ax2.get_legend_handles_labels()\n",
    "ax2.legend(lines1+lines2, labels1+labels2, loc='best')\n",
    "# set the title and display the plot\n",
    "plt.title('Selling price per day')\n",
    "plt.grid(True)\n",
    "plt.show()\n"
   ]
  },
  {
   "cell_type": "markdown",
   "id": "3a651cbe-c818-4c28-a905-c5d1888cd841",
   "metadata": {},
   "source": [
    "*it can be clearlry seen that seling price differ with change in difference in item_date and selling price*"
   ]
  },
  {
   "cell_type": "code",
   "execution_count": 32,
   "id": "f1b68588-9e37-4bf0-a1a4-629d754c9892",
   "metadata": {},
   "outputs": [
    {
     "name": "stdout",
     "output_type": "stream",
     "text": [
      "6960.142197802197\n",
      "1429.2977135208146\n",
      "807.2987363834422\n"
     ]
    }
   ],
   "source": [
    "print(daily_offers_dataset[daily_offers_dataset[\"item_date\"] >daily_offers_dataset[\"delivery date\"]][\"selling_price\"].mean() )\n",
    "print(daily_offers_dataset[daily_offers_dataset[\"item_date\"] <daily_offers_dataset[\"delivery date\"]][\"selling_price\"].mean() )\n",
    "print(daily_offers_dataset[daily_offers_dataset[\"item_date\"] ==daily_offers_dataset[\"delivery date\"]][\"selling_price\"].mean() )"
   ]
  },
  {
   "cell_type": "markdown",
   "id": "aecc0b95-b04e-49cb-9a02-711be7497bb2",
   "metadata": {},
   "source": [
    "*When delivery date was less than item date the average selling price was 6960 , However when item date was equal to delivery date the average price was 1429 but when item date and delivery date was equal the selling price was 807 price* "
   ]
  },
  {
   "cell_type": "code",
   "execution_count": 33,
   "id": "ed0f5fb6-a548-4715-aaf5-11a14a182012",
   "metadata": {},
   "outputs": [
    {
     "data": {
      "text/html": [
       "<div>\n",
       "<style scoped>\n",
       "    .dataframe tbody tr th:only-of-type {\n",
       "        vertical-align: middle;\n",
       "    }\n",
       "\n",
       "    .dataframe tbody tr th {\n",
       "        vertical-align: top;\n",
       "    }\n",
       "\n",
       "    .dataframe thead th {\n",
       "        text-align: right;\n",
       "    }\n",
       "</style>\n",
       "<table border=\"1\" class=\"dataframe\">\n",
       "  <thead>\n",
       "    <tr style=\"text-align: right;\">\n",
       "      <th></th>\n",
       "      <th>item_date</th>\n",
       "      <th>quantity tons</th>\n",
       "      <th>customer</th>\n",
       "      <th>country</th>\n",
       "      <th>status</th>\n",
       "      <th>item type</th>\n",
       "      <th>application</th>\n",
       "      <th>thickness</th>\n",
       "      <th>width</th>\n",
       "      <th>product_ref</th>\n",
       "      <th>delivery date</th>\n",
       "      <th>selling_price</th>\n",
       "    </tr>\n",
       "  </thead>\n",
       "  <tbody>\n",
       "    <tr>\n",
       "      <th>173086</th>\n",
       "      <td>2020-07-14</td>\n",
       "      <td>e</td>\n",
       "      <td>30157111.0</td>\n",
       "      <td>78.0</td>\n",
       "      <td>Won</td>\n",
       "      <td>W</td>\n",
       "      <td>41.0</td>\n",
       "      <td>0.5</td>\n",
       "      <td>1000.0</td>\n",
       "      <td>164141591</td>\n",
       "      <td>2020-08-01</td>\n",
       "      <td>672.0</td>\n",
       "    </tr>\n",
       "  </tbody>\n",
       "</table>\n",
       "</div>"
      ],
      "text/plain": [
       "        item_date quantity tons    customer  country status item type  \\\n",
       "173086 2020-07-14             e  30157111.0     78.0    Won         W   \n",
       "\n",
       "        application  thickness   width  product_ref delivery date  \\\n",
       "173086         41.0        0.5  1000.0    164141591    2020-08-01   \n",
       "\n",
       "        selling_price  \n",
       "173086          672.0  "
      ]
     },
     "execution_count": 33,
     "metadata": {},
     "output_type": "execute_result"
    }
   ],
   "source": [
    "# quantity tons contains some values in the rows which are causing them to change data type from float to object\n",
    "daily_offers_dataset[daily_offers_dataset['quantity tons'].str.contains('e', na=False)]"
   ]
  },
  {
   "cell_type": "markdown",
   "id": "b3f1d4db-c82c-42a7-a361-ab50115b1ff8",
   "metadata": {},
   "source": [
    "*we wil change the dtype from object to flot which will fill the rows having object type NA the we will fill Na with mean value*"
   ]
  },
  {
   "cell_type": "code",
   "execution_count": 34,
   "id": "a36e8c1c-4666-46aa-8c61-0be5050f4f1e",
   "metadata": {},
   "outputs": [],
   "source": [
    "daily_offers_dataset[\"quantity tons\"] = pd.to_numeric(daily_offers_dataset[\"quantity tons\"], errors='coerce')\n",
    "daily_offers_dataset[\"quantity tons\"].fillna(daily_offers_dataset[\"quantity tons\"].mean(),inplace = True)"
   ]
  },
  {
   "cell_type": "markdown",
   "id": "be3ff914-ec4d-4e03-a267-f0bfbb0da30b",
   "metadata": {
    "tags": []
   },
   "source": [
    "## Data Visualization "
   ]
  },
  {
   "cell_type": "markdown",
   "id": "3a29f1dd-846c-44a2-bed6-83f193b887a9",
   "metadata": {},
   "source": [
    "### Relation between dataset "
   ]
  },
  {
   "cell_type": "code",
   "execution_count": 35,
   "id": "2a64154f-e325-44fd-9b23-b72d8b5bf8ff",
   "metadata": {},
   "outputs": [],
   "source": [
    "def plot_correlation_heatmap(data):\n",
    "    # Calculate correlation matrix\n",
    "    corr = data.corr()\n",
    "\n",
    "    # Create heatmap\n",
    "    sns.heatmap(corr, cmap='coolwarm', center=0, annot=True)\n",
    "\n",
    "    # Set title and axis labels\n",
    "    plt.title('Correlation Matrix Heatmap')\n",
    "    plt.xlabel('Features')\n",
    "    plt.ylabel('Features')\n",
    "\n",
    "    # Show plot\n",
    "    plt.show()"
   ]
  },
  {
   "cell_type": "code",
   "execution_count": 36,
   "id": "5099e044-6fc6-4ea3-9b0d-47c4a3e01bb7",
   "metadata": {},
   "outputs": [
    {
     "data": {
      "image/png": "[encoded data removed]",
      "text/plain": [
       "<Figure size 640x480 with 2 Axes>"
      ]
     },
     "metadata": {},
     "output_type": "display_data"
    }
   ],
   "source": [
    "plot_correlation_heatmap(daily_offers_dataset)"
   ]
  },
  {
   "cell_type": "markdown",
   "id": "ae8e13f6-f6d5-4a9e-9e0b-6253f7bdd3be",
   "metadata": {},
   "source": [
    "*Most of the datset does not show very significant correlation except width and thicknss , However we can replace both the column by multipliying width and thickness with and storing in a new column say area*"
   ]
  },
  {
   "cell_type": "markdown",
   "id": "0d838e5c-3309-4f80-8c01-4140a33f99fb",
   "metadata": {},
   "source": [
    "### Barchart for relation between status and selling price "
   ]
  },
  {
   "cell_type": "code",
   "execution_count": 37,
   "id": "fc318a65-4520-4062-9dfc-6c5e63c6591a",
   "metadata": {},
   "outputs": [
    {
     "data": {
      "image/png": "[encoded data removed]",
      "text/plain": [
       "<Figure size 640x480 with 1 Axes>"
      ]
     },
     "metadata": {},
     "output_type": "display_data"
    }
   ],
   "source": [
    "\n",
    "# Define color palette for the bar plot\n",
    "colors = [\"#FC4F30\", \"#4F4F4F\", \"#ADD8E6\", \"#90EE90\", \"#FFD700\", \"#9400D3\", \"#FFC0CB\", \"#FF5733\", \"#800000\"]\n",
    "\n",
    "# Create bar plot using Seaborn's barplot function\n",
    "ax = sns.barplot(data=daily_offers_dataset.groupby(\"status\")[\"selling_price\"].mean().reset_index(), x=\"status\", y=\"selling_price\", palette=colors)\n",
    "\n",
    "# Set plot title and axis labels\n",
    "plt.title(\"Bar Plot of Mean Selling Price by Status\")\n",
    "plt.xlabel(\"Status\")\n",
    "plt.ylabel(\"Mean Selling Price\")\n",
    "# Annotate value of each box on top of the bars\n",
    "for p in ax.patches:\n",
    "    ax.annotate(\"%.2f\" % p.get_height(), (p.get_x() + p.get_width() / 2., p.get_height()),\n",
    "        ha='center', va='center', fontsize=10, color='gray', xytext=(0, 10),\n",
    "        textcoords='offset points')\n",
    "\n",
    "# Rotate x-axis labels by 45 degrees\n",
    "plt.xticks(rotation=90)\n",
    "\n",
    "# Show the plot\n",
    "plt.show()\n"
   ]
  },
  {
   "cell_type": "markdown",
   "id": "6e435ba8-b806-4f8a-9327-8b12ab3f7b69",
   "metadata": {},
   "source": [
    "##### why bar plot"
   ]
  },
  {
   "cell_type": "markdown",
   "id": "c0ddaea6-1eef-4b51-baaf-3404dad63e44",
   "metadata": {},
   "source": [
    "Bar chart will give the distribution of average of selling price towards wvery possible status of the object "
   ]
  },
  {
   "cell_type": "markdown",
   "id": "33b7590a-f217-4d6d-8086-32033acb28bc",
   "metadata": {},
   "source": [
    "##### Insght "
   ]
  },
  {
   "cell_type": "markdown",
   "id": "a84c6cff-2a37-467f-99d1-37485067d392",
   "metadata": {},
   "source": [
    "*We found out that item which are yet to approved have higher price than others while items which are in draft have the lowest selling price*"
   ]
  },
  {
   "cell_type": "markdown",
   "id": "0484925e-7b8b-4b43-aedc-50a5449640ad",
   "metadata": {},
   "source": [
    "### Distribution of selling price across countries"
   ]
  },
  {
   "cell_type": "code",
   "execution_count": 38,
   "id": "d587a888-73d0-4e4d-9f2e-321a2ec3e83f",
   "metadata": {},
   "outputs": [
    {
     "data": {
      "image/png": "[encoded data removed]",
      "text/plain": [
       "<Figure size 1200x600 with 1 Axes>"
      ]
     },
     "metadata": {},
     "output_type": "display_data"
    }
   ],
   "source": [
    "sns.set_style(\"darkgrid\", {\"grid.color\": \".6\", \"grid.linestyle\": \":\"})\n",
    "\n",
    "plt.figure(figsize=(12, 6))\n",
    "sns.barplot(x=\"country\", y=\"selling_price\", data=daily_offers_dataset.groupby(\"country\")['selling_price'].count().reset_index().sort_values('selling_price',ascending = True), color=\"coral\")\n",
    "# rotate x-axis labels vertically\n",
    "plt.xticks(rotation=90)\n",
    "plt.title(\"Distribution of selling_price by country id\", fontsize=14)\n",
    "plt.xlabel(\"country ID\", fontsize=12)\n",
    "plt.ylabel(\"selling price average through coutries\", fontsize=12)\n",
    "\n",
    "# Save the plot to a file\n",
    "plt.savefig('Distribution of Selling price by coutries ids.png',dpi=300, bbox_inches='tight')\n",
    "plt.show()"
   ]
  },
  {
   "cell_type": "markdown",
   "id": "382ed039-3ed4-49b6-aec3-020198391775",
   "metadata": {},
   "source": [
    "### Distributionof selling price with item type"
   ]
  },
  {
   "cell_type": "code",
   "execution_count": 39,
   "id": "eb5939d4-4d43-443f-94e2-8d2f8fc5b5bd",
   "metadata": {},
   "outputs": [
    {
     "data": {
      "image/png": "[encoded data removed]",
      "text/plain": [
       "<Figure size 640x480 with 1 Axes>"
      ]
     },
     "metadata": {},
     "output_type": "display_data"
    }
   ],
   "source": [
    "\n",
    "# Define color palette for the bar plot\n",
    "colors = [\"#FC4F30\", \"#4F4F4F\", \"#ADD8E6\", \"#90EE90\", \"#FFD700\", \"#9400D3\", \"#FFC0CB\", \"#FF5733\", \"#800000\"]\n",
    "\n",
    "# Create bar plot using Seaborn's barplot function\n",
    "ax = sns.barplot(data=daily_offers_dataset.groupby(\"item type\")[\"selling_price\"].mean().reset_index(), x=\"item type\", y=\"selling_price\", palette=colors)\n",
    "\n",
    "# Set plot title and axis labels\n",
    "plt.title(\"Bar Plot of Mean Selling Price by item type\")\n",
    "plt.xlabel(\"item type\")\n",
    "plt.ylabel(\"Mean Selling Price\")\n",
    "# Annotate value of each box on top of the bars\n",
    "for p in ax.patches:\n",
    "    ax.annotate(\"%.2f\" % p.get_height(), (p.get_x() + p.get_width() / 2., p.get_height()),\n",
    "        ha='center', va='center', fontsize=10, color='gray', xytext=(0, 10),\n",
    "        textcoords='offset points')\n",
    "\n",
    "# Rotate x-axis labels by 45 degrees\n",
    "plt.xticks(rotation=90)\n",
    "\n",
    "# Show the plot\n",
    "plt.show()\n"
   ]
  },
  {
   "cell_type": "markdown",
   "id": "400e1770-ba66-4e3e-91e1-b63bb5a4e639",
   "metadata": {},
   "source": [
    "#### Insights "
   ]
  },
  {
   "cell_type": "markdown",
   "id": "197b805e-0716-43ed-bec3-722545496010",
   "metadata": {},
   "source": [
    "*Item type Pl has the largest average selling price*"
   ]
  },
  {
   "cell_type": "code",
   "execution_count": 40,
   "id": "272252f0-7425-44e1-bf9e-be83d24a3e88",
   "metadata": {},
   "outputs": [
    {
     "data": {
      "text/plain": [
       "<Axes: xlabel='selling_price', ylabel='Density'>"
      ]
     },
     "execution_count": 40,
     "metadata": {},
     "output_type": "execute_result"
    },
    {
     "data": {
      "image/png": "[encoded data removed]",
      "text/plain": [
       "<Figure size 1500x1000 with 1 Axes>"
      ]
     },
     "metadata": {},
     "output_type": "display_data"
    }
   ],
   "source": [
    "#sns.displot(daily_offers_dataset['quantity tons'], kde=False)\n",
    "#plt.show()\n",
    "# Dependent variable 'Price'\n",
    "plt.figure(figsize=(15,10))\n",
    "sns.kdeplot(daily_offers_dataset['selling_price'],color=\"y\")"
   ]
  },
  {
   "cell_type": "markdown",
   "id": "38728006-0e4c-4c51-b851-ba54ef3785c6",
   "metadata": {},
   "source": [
    "## Data Manipulaton"
   ]
  },
  {
   "cell_type": "code",
   "execution_count": 41,
   "id": "9b1fb6f6-731a-4c18-9295-19f246fc2bf5",
   "metadata": {},
   "outputs": [],
   "source": [
    "#width and thickness are correllated data which can cause in model overfitting \n",
    "#create another variable Area which is a multiple of width and thickness\n",
    "daily_offers_dataset[\"Area\"] = daily_offers_dataset[\"width\"]*daily_offers_dataset[\"thickness\"]"
   ]
  },
  {
   "cell_type": "code",
   "execution_count": 42,
   "id": "ad36cbfc-0b5e-4d94-b605-c99b8f1d5123",
   "metadata": {},
   "outputs": [],
   "source": [
    "# selling price distribution changes with change in difference between delivry date and item date\n",
    "daily_offers_dataset[\"Date difference\"] = daily_offers_dataset[\"delivery date\"]-daily_offers_dataset[\"item_date\"]"
   ]
  },
  {
   "cell_type": "code",
   "execution_count": 43,
   "id": "7f2620ac-dbdd-4324-afbb-3c57742edeb1",
   "metadata": {},
   "outputs": [],
   "source": [
    "#convert the the data type to time delta \n",
    "daily_offers_dataset[\"Date difference\"] = pd.to_timedelta(daily_offers_dataset[\"Date difference\"])\n",
    "#Select the day from time delta and convert it to int type\n",
    "daily_offers_dataset[\"Date difference\"] = daily_offers_dataset[\"Date difference\"].dt.days.astype(int)"
   ]
  },
  {
   "cell_type": "code",
   "execution_count": 44,
   "id": "fab6e0d2-6e75-4e84-b7d0-4ebff696480c",
   "metadata": {},
   "outputs": [],
   "source": [
    "# create a dictionary with the rank of each status\n",
    "status_rank = {'Won': 6, 'Draft': 1, 'To be approved': 9, 'Lost': 2, 'Not lost for AM': 8,\n",
    "               'Wonderful': 5, 'Revised': 7, 'Offered': 3, 'Offerable': 4}\n",
    "#map the status value with their contribution in average seling price distribution \n",
    "daily_offers_dataset['status'] = daily_offers_dataset['status'].map(status_rank)"
   ]
  },
  {
   "cell_type": "markdown",
   "id": "7d3d611e-4173-4b02-a7b2-11ece213dcfa",
   "metadata": {},
   "source": [
    "#### Drop duplicated or unnessary columns "
   ]
  },
  {
   "cell_type": "code",
   "execution_count": 45,
   "id": "231111fa-decc-44dc-8aec-33725144db7d",
   "metadata": {},
   "outputs": [],
   "source": [
    "## Drop unnecessary columns or duplicated columns \n",
    "cols_to_drop = [\"item_date\",'item type',\"width\",\"thickness\",\"application\",\"delivery date\"]\n",
    "daily_offers_dataset = daily_offers_dataset.drop(cols_to_drop,axis=1)"
   ]
  },
  {
   "cell_type": "markdown",
   "id": "d768a02a-03f1-48e7-9b37-220916cc54d2",
   "metadata": {},
   "source": [
    "*item_date - this column has been since a new column has been cretaed by taking difference between item_date and delivery date*\n",
    "\n",
    "*item type - this column was acting as a noise column it was causing model in overfitting*\n",
    "\n",
    "*width - a new column is created by multiplying width and thickness of the item*\n",
    "\n",
    "*thickness - - a new column is created by multiplying width and thickness of the item*\n",
    "\n",
    "*application - this column is not acting in increasing in model effeciency where as it is acting a noise*"
   ]
  },
  {
   "cell_type": "markdown",
   "id": "fdf59667-aeb2-4b49-893c-d79f27b36c22",
   "metadata": {},
   "source": [
    "#### Reducing skewness of the numerical column "
   ]
  },
  {
   "cell_type": "code",
   "execution_count": 46,
   "id": "a1d67336-fd0d-4531-950b-08fdefcafd98",
   "metadata": {},
   "outputs": [
    {
     "name": "stdout",
     "output_type": "stream",
     "text": [
      "Skewness: 8.78809985380057\n"
     ]
    }
   ],
   "source": [
    "# assume `data` is the column with skewness value of 0\n",
    "transformed_data, lambda_value = yeojohnson(daily_offers_dataset['selling_price'])\n",
    "\n",
    "# apply Box-Cox transformation\n",
    "#transformed_col, lambda_val = boxcox(original_col)\n",
    "# replace original column with transformed column\n",
    "daily_offers_dataset['selling_price'] = transformed_data\n",
    "\n",
    "\n",
    "# Check the skewness of the variable\n",
    "print('Skewness:', skew(daily_offers_dataset['selling_price']))"
   ]
  },
  {
   "cell_type": "code",
   "execution_count": 47,
   "id": "bb2a5dd2-20a4-49fe-8e6a-e3ac6a93e594",
   "metadata": {},
   "outputs": [
    {
     "name": "stdout",
     "output_type": "stream",
     "text": [
      "Skewness: 2.554568114732526\n"
     ]
    }
   ],
   "source": [
    "# apply square root transformation to column 'x'\n",
    "daily_offers_dataset['Area'] = daily_offers_dataset['Area'].apply(np.sqrt)\n",
    "# Check the skewness of the variable\n",
    "print('Skewness:', skew(daily_offers_dataset['Area']))"
   ]
  },
  {
   "cell_type": "code",
   "execution_count": 48,
   "id": "7a472c03-91ab-47bd-97bb-488989712766",
   "metadata": {},
   "outputs": [
    {
     "name": "stdout",
     "output_type": "stream",
     "text": [
      "Skewness: 1.0152192868699017\n"
     ]
    }
   ],
   "source": [
    "# Check the skewness of the variable\n",
    "print('Skewness:', skew(daily_offers_dataset['product_ref']))"
   ]
  },
  {
   "cell_type": "code",
   "execution_count": 49,
   "id": "d806c8c8-b798-4d73-a281-c903197b818b",
   "metadata": {},
   "outputs": [
    {
     "name": "stdout",
     "output_type": "stream",
     "text": [
      "Skewness: 1.0152192868699017\n"
     ]
    }
   ],
   "source": [
    "# Check the skewness of the variable\n",
    "print('Skewness:', skew(daily_offers_dataset['product_ref']))"
   ]
  },
  {
   "cell_type": "code",
   "execution_count": 50,
   "id": "88988d75-fe9f-4c10-93e5-f6372a9dc5be",
   "metadata": {},
   "outputs": [],
   "source": [
    "daily_offers_dataset = daily_offers_dataset[daily_offers_dataset['quantity tons']>=0]"
   ]
  },
  {
   "cell_type": "code",
   "execution_count": 51,
   "id": "7f67d1e4-1ec4-4175-8ada-9eb73aad37e1",
   "metadata": {},
   "outputs": [],
   "source": [
    "from scipy.stats import boxcox\n",
    "\n",
    "# assume 'df' is the dataframe containing the column you want to transform\n",
    "original_col = daily_offers_dataset['quantity tons']\n",
    "\n",
    "# apply Box-Cox transformation\n",
    "transformed_col, lambda_val = boxcox(original_col)\n",
    "\n",
    "# replace original column with transformed column\n",
    "daily_offers_dataset['quantity tons'] = transformed_col"
   ]
  },
  {
   "cell_type": "code",
   "execution_count": 52,
   "id": "eb48a1cb-48ec-48d2-b962-5b0cab243d06",
   "metadata": {},
   "outputs": [
    {
     "name": "stdout",
     "output_type": "stream",
     "text": [
      "Skewness: 0.006734424421515392\n"
     ]
    }
   ],
   "source": [
    "# Check the skewness of the variable\n",
    "print('Skewness:', skew(daily_offers_dataset['quantity tons']))"
   ]
  },
  {
   "cell_type": "markdown",
   "id": "85a5ca31-eeab-4fc0-9a0f-8ef4e659250d",
   "metadata": {},
   "source": [
    "#### Checking multicollinearity between the columns "
   ]
  },
  {
   "cell_type": "code",
   "execution_count": 53,
   "id": "1c2faa29-3581-44f3-b283-6fdc60353fcd",
   "metadata": {},
   "outputs": [],
   "source": [
    "#Multicollinearity\n",
    "from statsmodels.stats.outliers_influence import variance_inflation_factor\n",
    "def calc_vif(X):\n",
    "\n",
    "    # Calculating VIF\n",
    "    vif = pd.DataFrame()\n",
    "    vif[\"variables\"] = X.columns\n",
    "    vif[\"VIF\"] = [variance_inflation_factor(X.values, i) for i in range(X.shape[1])]\n",
    "\n",
    "    return(vif)"
   ]
  },
  {
   "cell_type": "code",
   "execution_count": 54,
   "id": "6d97ae0f-43ae-4304-8cf3-b243ab1ee248",
   "metadata": {},
   "outputs": [
    {
     "data": {
      "text/html": [
       "<div>\n",
       "<style scoped>\n",
       "    .dataframe tbody tr th:only-of-type {\n",
       "        vertical-align: middle;\n",
       "    }\n",
       "\n",
       "    .dataframe tbody tr th {\n",
       "        vertical-align: top;\n",
       "    }\n",
       "\n",
       "    .dataframe thead th {\n",
       "        text-align: right;\n",
       "    }\n",
       "</style>\n",
       "<table border=\"1\" class=\"dataframe\">\n",
       "  <thead>\n",
       "    <tr style=\"text-align: right;\">\n",
       "      <th></th>\n",
       "      <th>variables</th>\n",
       "      <th>VIF</th>\n",
       "    </tr>\n",
       "  </thead>\n",
       "  <tbody>\n",
       "    <tr>\n",
       "      <th>0</th>\n",
       "      <td>quantity tons</td>\n",
       "      <td>6.070606</td>\n",
       "    </tr>\n",
       "    <tr>\n",
       "      <th>1</th>\n",
       "      <td>customer</td>\n",
       "      <td>2.502051</td>\n",
       "    </tr>\n",
       "    <tr>\n",
       "      <th>2</th>\n",
       "      <td>country</td>\n",
       "      <td>4.371221</td>\n",
       "    </tr>\n",
       "    <tr>\n",
       "      <th>3</th>\n",
       "      <td>status</td>\n",
       "      <td>9.782985</td>\n",
       "    </tr>\n",
       "    <tr>\n",
       "      <th>4</th>\n",
       "      <td>product_ref</td>\n",
       "      <td>1.502021</td>\n",
       "    </tr>\n",
       "    <tr>\n",
       "      <th>5</th>\n",
       "      <td>selling_price</td>\n",
       "      <td>24.027133</td>\n",
       "    </tr>\n",
       "    <tr>\n",
       "      <th>6</th>\n",
       "      <td>Area</td>\n",
       "      <td>3.789048</td>\n",
       "    </tr>\n",
       "    <tr>\n",
       "      <th>7</th>\n",
       "      <td>Date difference</td>\n",
       "      <td>2.991037</td>\n",
       "    </tr>\n",
       "  </tbody>\n",
       "</table>\n",
       "</div>"
      ],
      "text/plain": [
       "         variables        VIF\n",
       "0    quantity tons   6.070606\n",
       "1         customer   2.502051\n",
       "2          country   4.371221\n",
       "3           status   9.782985\n",
       "4      product_ref   1.502021\n",
       "5    selling_price  24.027133\n",
       "6             Area   3.789048\n",
       "7  Date difference   2.991037"
      ]
     },
     "execution_count": 54,
     "metadata": {},
     "output_type": "execute_result"
    }
   ],
   "source": [
    "calc_vif(daily_offers_dataset[[i for i in daily_offers_dataset.describe().columns]])"
   ]
  },
  {
   "cell_type": "markdown",
   "id": "8c879ea0-6911-46dd-b380-04e156a80ae4",
   "metadata": {},
   "source": [
    "*except Selling price the variance inflation factor of the column lie in the small range of (1-10)*"
   ]
  },
  {
   "cell_type": "markdown",
   "id": "9a06aa4f-fbd5-4a9f-a507-40eedd025355",
   "metadata": {},
   "source": [
    "## DataModelling "
   ]
  },
  {
   "cell_type": "markdown",
   "id": "5e819193-c620-49e0-a396-d497dfbc520a",
   "metadata": {},
   "source": [
    "### Data Prepration"
   ]
  },
  {
   "cell_type": "code",
   "execution_count": 55,
   "id": "3daf7db4-7547-4a93-bdcc-a3a47ff7ee23",
   "metadata": {},
   "outputs": [],
   "source": [
    "#divide the dataset into ratio 3:1 fortraining and testing \n",
    "x_train, x_test, y_train, y_test = train_test_split(daily_offers_dataset.drop(\"selling_price\",axis=1),daily_offers_dataset[\"selling_price\"],test_size=0.10)"
   ]
  },
  {
   "cell_type": "code",
   "execution_count": 56,
   "id": "e1d86fb9-d3b0-4f36-b4ad-e1c1001cb8e3",
   "metadata": {},
   "outputs": [],
   "source": [
    "#Create an instance of the StandardScaler:\n",
    "scaler = StandardScaler()\n",
    "\n",
    "#Fit the StandardScaler on the training dataset\n",
    "scaler.fit(x_train)\n",
    "\n",
    "#Transform the training dataset using the StandardScaler\n",
    "x_train_scaled = scaler.transform(x_train)\n",
    "x_test_scaled = scaler.transform(x_test)\n"
   ]
  },
  {
   "cell_type": "markdown",
   "id": "941b201c-c1da-40b1-8a23-b9051506de63",
   "metadata": {},
   "source": [
    "### Model_1"
   ]
  },
  {
   "cell_type": "code",
   "execution_count": 57,
   "id": "f0fe7b33-fd61-4b0d-9df4-c62a13c82084",
   "metadata": {},
   "outputs": [
    {
     "name": "stdout",
     "output_type": "stream",
     "text": [
      "R-squared:  0.2811498512318773\n",
      "Best parameter values:  {'lasso__alpha': 0.001}\n",
      "Best score:  0.23840024779519567\n"
     ]
    }
   ],
   "source": [
    "# Create a PolynomialFeatures object of degree 2\n",
    "poly = PolynomialFeatures(degree=2)\n",
    "\n",
    "# Create a Lasso object\n",
    "lasso = Lasso()\n",
    "\n",
    "# Create a pipeline that first applies polynomial features and then applies Lasso regression\n",
    "pipeline = make_pipeline(poly, lasso)\n",
    "\n",
    "# Define a dictionary of parameter values to search over\n",
    "param_grid = {'lasso__alpha': [1e-15, 1e-13, 1e-10, 1e-8, 1e-5, 1e-4, 1e-3, 1e-2, 1e-1, 1, 5, 10, 20, 30, 40, 45, 50, 55, 60, 100]}\n",
    "\n",
    "# Create a GridSearchCV object with the pipeline and parameter grid\n",
    "lasso_grid_search = GridSearchCV(pipeline, param_grid, scoring='r2', cv=3)\n",
    "\n",
    "# Fit the GridSearchCV object to the training data\n",
    "lasso_grid_search.fit(x_train_scaled, y_train)\n",
    "\n",
    "# Predict the target variable using the fitted model and the test data\n",
    "y_pred = lasso_grid_search.predict(x_train_scaled)\n",
    "\n",
    "# Compute the R-squared of the fitted model on the train  data\n",
    "r2 = r2_score(y_train, y_pred)\n",
    "\n",
    "# Print the R-squared \n",
    "print(\"R-squared: \", r2)\n",
    "\n",
    "# Print the best parameter values and score\n",
    "print('Best parameter values: ', lasso_grid_search.best_params_)\n",
    "print('Best score: ', lasso_grid_search.best_score_)"
   ]
  },
  {
   "cell_type": "code",
   "execution_count": 58,
   "id": "7e58f807-3a28-4bb0-8a5c-4da6575e1952",
   "metadata": {},
   "outputs": [
    {
     "data": {
      "text/html": [
       "<style>#sk-container-id-1 {color: black;background-color: white;}#sk-container-id-1 pre{padding: 0;}#sk-container-id-1 div.sk-toggleable {background-color: white;}#sk-container-id-1 label.sk-toggleable__label {cursor: pointer;display: block;width: 100%;margin-bottom: 0;padding: 0.3em;box-sizing: border-box;text-align: center;}#sk-container-id-1 label.sk-toggleable__label-arrow:before {content: \"▸\";float: left;margin-right: 0.25em;color: #696969;}#sk-container-id-1 label.sk-toggleable__label-arrow:hover:before {color: black;}#sk-container-id-1 div.sk-estimator:hover label.sk-toggleable__label-arrow:before {color: black;}#sk-container-id-1 div.sk-toggleable__content {max-height: 0;max-width: 0;overflow: hidden;text-align: left;background-color: #f0f8ff;}#sk-container-id-1 div.sk-toggleable__content pre {margin: 0.2em;color: black;border-radius: 0.25em;background-color: #f0f8ff;}#sk-container-id-1 input.sk-toggleable__control:checked~div.sk-toggleable__content {max-height: 200px;max-width: 100%;overflow: auto;}#sk-container-id-1 input.sk-toggleable__control:checked~label.sk-toggleable__label-arrow:before {content: \"▾\";}#sk-container-id-1 div.sk-estimator input.sk-toggleable__control:checked~label.sk-toggleable__label {background-color: #d4ebff;}#sk-container-id-1 div.sk-label input.sk-toggleable__control:checked~label.sk-toggleable__label {background-color: #d4ebff;}#sk-container-id-1 input.sk-hidden--visually {border: 0;clip: rect(1px 1px 1px 1px);clip: rect(1px, 1px, 1px, 1px);height: 1px;margin: -1px;overflow: hidden;padding: 0;position: absolute;width: 1px;}#sk-container-id-1 div.sk-estimator {font-family: monospace;background-color: #f0f8ff;border: 1px dotted black;border-radius: 0.25em;box-sizing: border-box;margin-bottom: 0.5em;}#sk-container-id-1 div.sk-estimator:hover {background-color: #d4ebff;}#sk-container-id-1 div.sk-parallel-item::after {content: \"\";width: 100%;border-bottom: 1px solid gray;flex-grow: 1;}#sk-container-id-1 div.sk-label:hover label.sk-toggleable__label {background-color: #d4ebff;}#sk-container-id-1 div.sk-serial::before {content: \"\";position: absolute;border-left: 1px solid gray;box-sizing: border-box;top: 0;bottom: 0;left: 50%;z-index: 0;}#sk-container-id-1 div.sk-serial {display: flex;flex-direction: column;align-items: center;background-color: white;padding-right: 0.2em;padding-left: 0.2em;position: relative;}#sk-container-id-1 div.sk-item {position: relative;z-index: 1;}#sk-container-id-1 div.sk-parallel {display: flex;align-items: stretch;justify-content: center;background-color: white;position: relative;}#sk-container-id-1 div.sk-item::before, #sk-container-id-1 div.sk-parallel-item::before {content: \"\";position: absolute;border-left: 1px solid gray;box-sizing: border-box;top: 0;bottom: 0;left: 50%;z-index: -1;}#sk-container-id-1 div.sk-parallel-item {display: flex;flex-direction: column;z-index: 1;position: relative;background-color: white;}#sk-container-id-1 div.sk-parallel-item:first-child::after {align-self: flex-end;width: 50%;}#sk-container-id-1 div.sk-parallel-item:last-child::after {align-self: flex-start;width: 50%;}#sk-container-id-1 div.sk-parallel-item:only-child::after {width: 0;}#sk-container-id-1 div.sk-dashed-wrapped {border: 1px dashed gray;margin: 0 0.4em 0.5em 0.4em;box-sizing: border-box;padding-bottom: 0.4em;background-color: white;}#sk-container-id-1 div.sk-label label {font-family: monospace;font-weight: bold;display: inline-block;line-height: 1.2em;}#sk-container-id-1 div.sk-label-container {text-align: center;}#sk-container-id-1 div.sk-container {/* jupyter's `normalize.less` sets `[hidden] { display: none; }` but bootstrap.min.css set `[hidden] { display: none !important; }` so we also need the `!important` here to be able to override the default hidden behavior on the sphinx rendered scikit-learn.org. See: https://github.com/scikit-learn/scikit-learn/issues/21755 */display: inline-block !important;position: relative;}#sk-container-id-1 div.sk-text-repr-fallback {display: none;}</style><div id=\"sk-container-id-1\" class=\"sk-top-container\"><div class=\"sk-text-repr-fallback\"><pre>PowerTransformer()</pre><b>In a Jupyter environment, please rerun this cell to show the HTML representation or trust the notebook. <br />On GitHub, the HTML representation is unable to render, please try loading this page with nbviewer.org.</b></div><div class=\"sk-container\" hidden><div class=\"sk-item\"><div class=\"sk-estimator sk-toggleable\"><input class=\"sk-toggleable__control sk-hidden--visually\" id=\"sk-estimator-id-1\" type=\"checkbox\" checked><label for=\"sk-estimator-id-1\" class=\"sk-toggleable__label sk-toggleable__label-arrow\">PowerTransformer</label><div class=\"sk-toggleable__content\"><pre>PowerTransformer()</pre></div></div></div></div></div>"
      ],
      "text/plain": [
       "PowerTransformer()"
      ]
     },
     "execution_count": 58,
     "metadata": {},
     "output_type": "execute_result"
    }
   ],
   "source": [
    "from sklearn.preprocessing import PowerTransformer\n",
    "pt = PowerTransformer(method='yeo-johnson')\n",
    "pt.fit(daily_offers_dataset[\"selling_price\"].values.reshape(-1, 1))"
   ]
  },
  {
   "cell_type": "code",
   "execution_count": 59,
   "id": "8d9dd6d1-d28a-4f9b-894c-5d60ff9eb955",
   "metadata": {},
   "outputs": [
    {
     "name": "stdout",
     "output_type": "stream",
     "text": [
      "R2 : 0.3193126034443885\n"
     ]
    }
   ],
   "source": [
    "# Predict the target variable on the test dat\n",
    "y_pred_l = lasso_grid_search.predict(x_test_scaled)\n",
    "\n",
    "#Inverse transform the predicted and actual values to their original scale\n",
    "y_pred_lasso_inv = pt.inverse_transform(y_pred_l.reshape(-1, 1))\n",
    "y_test_inv = pt.inverse_transform(y_test.values.reshape(-1, 1))\n",
    "\n",
    "r2 = r2_score((y_test_inv), (y_pred_lasso_inv))\n",
    "#r2 = r2_score((y_test), (y_pred_l))\n",
    "\n",
    "print(\"R2 :\" ,r2)"
   ]
  },
  {
   "cell_type": "markdown",
   "id": "824e0b64-b0f1-401c-99f9-52fea001c95f",
   "metadata": {},
   "source": [
    "### Model_2"
   ]
  },
  {
   "cell_type": "code",
   "execution_count": null,
   "id": "d5e11655-6dff-4482-98ff-a614c3e40fc8",
   "metadata": {},
   "outputs": [
    {
     "name": "stderr",
     "output_type": "stream",
     "text": [
      "0it [02:28, ?it/s]"
     ]
    },
    {
     "name": "stdout",
     "output_type": "stream",
     "text": [
      "Fitting 3 folds for each of 100 candidates, totalling 300 fits\n"
     ]
    },
    {
     "name": "stderr",
     "output_type": "stream",
     "text": [
      "\n"
     ]
    }
   ],
   "source": [
    "from sklearn.model_selection import RandomizedSearchCV\n",
    "from scipy.stats import loguniform\n",
    "\n",
    "# Define the parameter distribution for randomized search\n",
    "param_dist = {'C': loguniform(0.1, 100),\n",
    "              'gamma': loguniform(0.001, 0.1),\n",
    "              'kernel': ['rbf']}\n",
    "\n",
    "# Create a RandomizedSearchCV object with R-squared as the scoring metric\n",
    "svr_random_search = RandomizedSearchCV(SVR(), param_distributions=param_dist, n_iter=100, scoring='r2', cv=3, verbose=3, n_jobs=-1)\n",
    "\n",
    "# Fit the RandomizedSearchCV object to the training data\n",
    "svr_random_search.fit(x_train_scaled, y_train)\n",
    "\n",
    "# Print the best parameter values and score\n",
    "print('Best parameter values: ', svr_random_search.best_params_)\n",
    "print('Best score: ', svr_random_search.best_score_)\n"
   ]
  },
  {
   "cell_type": "markdown",
   "id": "7b665aa5-5e23-4805-b9cc-00e051be303b",
   "metadata": {},
   "source": [
    "### Model_3"
   ]
  },
  {
   "cell_type": "code",
   "execution_count": null,
   "id": "c9f86e59-64ff-4f5a-9c3f-00cbf6014df1",
   "metadata": {},
   "outputs": [],
   "source": [
    "# Import necessary libraries\n",
    "from sklearn.ensemble import RandomForestRegressor\n",
    "from sklearn.model_selection import GridSearchCV\n",
    "from sklearn.metrics import roc_auc_score\n",
    "from sklearn.pipeline import Pipeline\n",
    "\n",
    "# Define the parameter grid to search over\n",
    "param_grid = {'n_estimators': [50, 80, 100], 'max_depth': [3, 5, 7]}\n",
    "\n",
    "# Define the pipeline\n",
    "pipeline = Pipeline([ ('rf', RandomForestRegressor())])\n",
    "\n",
    "# Create a GridSearchCV object with the pipeline and parameter grid\n",
    "rf_grid_search = GridSearchCV(pipeline, param_grid, scoring='roc_auc', cv=5)\n",
    "\n",
    "# Fit the GridSearchCV object to the training data\n",
    "rf_grid_search = tqdm(grid_search)  # Apply tqdm to track progress\n",
    "rf_grid_search.fit(x_train, y_train)\n",
    "\n",
    "# Print the best parameter values and score\n",
    "print('Best parameter values: ', rf_grid_search.best_params_)\n",
    "print('Best score: ', rf_grid_search.best_score_)"
   ]
  },
  {
   "cell_type": "code",
   "execution_count": null,
   "id": "5669d1b8-bef2-49b0-af98-314897410a79",
   "metadata": {},
   "outputs": [],
   "source": [
    "# Hyperparameter tuning\n",
    "\n",
    "Regressor = RandomForestRegressor() # For GBM, use GradientBoostingClassifier()\n",
    "grid_values = {'n_estimators':[50, 80,  100], 'max_depth':[3, 5, 7]}\n",
    "classifier = GridSearchCV(Regressor, param_grid = grid_values, scoring = 'roc_auc', cv=5)\n",
    "\n",
    "# Fit the object to train dataset\n",
    "classifier.fit(x_train_scaled, y_train)"
   ]
  },
  {
   "cell_type": "code",
   "execution_count": null,
   "id": "593e87cf-47b2-4632-8789-6e51c29b127e",
   "metadata": {
    "tags": []
   },
   "outputs": [],
   "source": [
    "features = x_train.columns\n",
    "importances = rf_grid_search.best_estimator_.feature_importances_\n",
    "indices = np.argsort(importances)\n",
    "     \n",
    "\n",
    "plt.title('Feature Importance')\n",
    "plt.barh(range(len(indices)), importances[indices], color='red', align='center')\n",
    "plt.yticks(range(len(indices)), [features[i] for i in indices])\n",
    "plt.xlabel('Relative Importance')\n",
    "\n",
    "plt.show()\n",
    "     "
   ]
  },
  {
   "cell_type": "code",
   "execution_count": null,
   "id": "d997e3d0-c66b-40a0-b1d0-753aafa1105f",
   "metadata": {},
   "outputs": [],
   "source": [
    "r2 = r2_score((y_train), rf_grid_search.predict(x_train_scaled))\n",
    "print(\"R2 :\" ,r2)"
   ]
  },
  {
   "cell_type": "code",
   "execution_count": null,
   "id": "37119663-63cc-421a-a1ad-c38b906e067a",
   "metadata": {},
   "outputs": [],
   "source": [
    "y_pred_lasso_inv = pt.inverse_transform(rf_grid_search.predict(x_test).reshape(-1, 1))\n",
    "y_test_inv = pt.inverse_transform(y_test.values.reshape(-1, 1))"
   ]
  },
  {
   "cell_type": "code",
   "execution_count": null,
   "id": "48b06aee-cbb5-4731-b980-217d27070c88",
   "metadata": {},
   "outputs": [],
   "source": [
    "r2 = r2_score((y_test_inv),y_pred_lasso_inv )\n",
    "print(\"R2 :\" ,r2)"
   ]
  },
  {
   "cell_type": "markdown",
   "id": "e94edd21-383a-4311-bc16-9a38e27766ae",
   "metadata": {},
   "source": [
    "### Model_4"
   ]
  },
  {
   "cell_type": "code",
   "execution_count": null,
   "id": "8ddb06e2-5370-4d68-b3ac-d674797907ed",
   "metadata": {},
   "outputs": [],
   "source": [
    "# Create an instance of the XGBRegressor model\n",
    "model_xgb = XGBRegressor()\n",
    "\n",
    "# Fit the model to the training data\n",
    "model_xgb.fit(x_train, y_train, early_stopping_rounds=None, verbose=True)\n",
    "\n",
    "# Print the R-squared score on the training data\n",
    "print(\"Xgboost Accuracy =\", r2_score(y_train, model_xgb.predict(x_train)))"
   ]
  },
  {
   "cell_type": "code",
   "execution_count": null,
   "id": "e17b1418-a467-420a-80a7-d9e7262fb1e5",
   "metadata": {},
   "outputs": [],
   "source": [
    "# Inverse transform the predicted and actual test data to their original scale\n",
    "y_pred_lasso_inv = pt.inverse_transform(model_xgb.predict(x_test).reshape(-1, 1))\n",
    "y_test_inv = pt.inverse_transform(y_test.values.reshape(-1, 1))\n",
    "\n",
    "# Calculate R-squared using the inverse transformed data\n",
    "r2 = r2_score((y_test_inv), (y_pred_lasso_inv))\n",
    "\n",
    "# Print the R-squared\n",
    "print(\"R2: \", r2)\n"
   ]
  },
  {
   "cell_type": "code",
   "execution_count": null,
   "id": "4a0b8197-bb9b-4800-ad80-f72880c5c4e7",
   "metadata": {},
   "outputs": [],
   "source": [
    "from xgboost import plot_importance\n",
    "# Plot the feature importances\n",
    "plot_importance(model_xgb, max_num_features=len(importances))\n",
    "plt.show()"
   ]
  }
 ],
 "metadata": {
  "kernelspec": {
   "display_name": "myenv:Python",
   "language": "python",
   "name": "conda-env-myenv-py"
  },
  "language_info": {
   "codemirror_mode": {
    "name": "ipython",
    "version": 3
   },
   "file_extension": ".py",
   "mimetype": "text/x-python",
   "name": "python",
   "nbconvert_exporter": "python",
   "pygments_lexer": "ipython3",
   "version": "3.9.16"
  },
  "toc-autonumbering": true,
  "widgets": {
   "application/vnd.jupyter.widget-state+json": {
    "state": {},
    "version_major": 2,
    "version_minor": 0
   }
  }
 },
 "nbformat": 4,
 "nbformat_minor": 5
}
