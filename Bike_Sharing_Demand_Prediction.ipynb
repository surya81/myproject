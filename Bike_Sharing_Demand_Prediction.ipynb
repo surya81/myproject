{
  "nbformat": 4,
  "nbformat_minor": 0,
  "metadata": {
    "colab": {
      "provenance": [],
      "authorship_tag": "ABX9TyOsJkSUMoT1GmztlA8c0qj7",
      "include_colab_link": true
    },
    "kernelspec": {
      "name": "python3",
      "display_name": "Python 3"
    },
    "language_info": {
      "name": "python"
    }
  },
  "cells": [
    {
      "cell_type": "markdown",
      "metadata": {
        "id": "view-in-github",
        "colab_type": "text"
      },
      "source": [
        "<a href=\"https://colab.research.google.com/github/surya81/Alma-better-projects/blob/main/Bike_Sharing_Demand_Prediction.ipynb\" target=\"_parent\"><img src=\"https://colab.research.google.com/assets/colab-badge.svg\" alt=\"Open In Colab\"/></a>"
      ]
    },
    {
      "cell_type": "markdown",
      "source": [
        "# **Project Name**\n",
        "$\\color{blue}{\\text{Bike Sharing Demand Prediction}}$"
      ],
      "metadata": {
        "id": "9Qu3XcOug5sy"
      }
    },
    {
      "cell_type": "markdown",
      "source": [
        "###**Project type** - Classification\n",
        "###**Contribution** - Individual\n",
        "###**Team Member1** - $\\color{Green}{\\text{Surya Prakash}}$"
      ],
      "metadata": {
        "id": "hlFcJdljhvyw"
      }
    },
    {
      "cell_type": "markdown",
      "source": [
        "# **Project Summary**"
      ],
      "metadata": {
        "id": "aSGKSz_Li6-L"
      }
    },
    {
      "cell_type": "markdown",
      "source": [
        "**Data Processing**\n",
        "\n",
        "    1.Importing libraries\n",
        "    2.Function for reading dataset\n",
        "    3.dataset information \n",
        "    4.Missing values,Duplicated values\n",
        "\n",
        "**Exploratory Data Analysis**\n",
        "\n",
        "**Supervised Machine learning Algorithm**\n",
        "\n",
        "```\n",
        "# This is formatted as code\n",
        "```\n",
        "\n"
      ],
      "metadata": {
        "id": "NRfxqEXAjC2G"
      }
    },
    {
      "cell_type": "markdown",
      "source": [
        "#**Github Link**"
      ],
      "metadata": {
        "id": "HG_OsaKVjzZz"
      }
    },
    {
      "cell_type": "markdown",
      "source": [
        "https://github.com/surya81/Alma-better-projects/blob/main/Bike_Sharing_Demand_Prediction.ipynb"
      ],
      "metadata": {
        "id": "r2rAbMJDkbwx"
      }
    },
    {
      "cell_type": "markdown",
      "source": [
        "# **Problem Statement**"
      ],
      "metadata": {
        "id": "1lj_WPlfky3B"
      }
    },
    {
      "cell_type": "markdown",
      "source": [
        "**Bike Rental has become an effective business, Nowdays lots of startups are becoming popular in bike rental business. however there are some difficulties which these comapnies are not able to resolve like a customer has to wait for a large amount of time in getting their bike Increase in waiting time can frustatea lot of customer to change their .However a company also have only have limited number of bike as their resources to share with people.So the companies must have to analyze how their customer are distributed.also it have to fluvtuate their prices seeing demand and suply**"
      ],
      "metadata": {
        "id": "sK5SGjkVk-w4"
      }
    },
    {
      "cell_type": "markdown",
      "source": [
        "# **Data overview and column description**"
      ],
      "metadata": {
        "id": "A4JE6-blGTwN"
      }
    },
    {
      "cell_type": "markdown",
      "source": [
        "\n",
        "![bike_demand_prediction_71ad1d6f9f.png](data:image/png;base64,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)"
      ],
      "metadata": {
        "id": "I3XMqC7gGanX"
      }
    },
    {
      "cell_type": "markdown",
      "source": [
        "# **Let's Begin**"
      ],
      "metadata": {
        "id": "8po646VuIm6b"
      }
    },
    {
      "cell_type": "markdown",
      "source": [
        "## **Import Libraries**"
      ],
      "metadata": {
        "id": "o-PvrQPZFsJ7"
      }
    },
    {
      "cell_type": "code",
      "source": [
        "import numpy as np \n",
        "import pandas as pd \n",
        "import seaborn as sns\n",
        "import matplotlib.pyplot as plt\n",
        "%matplotlib inline\n",
        "import warnings\n",
        "warnings.filterwarnings(\"ignore\")"
      ],
      "metadata": {
        "id": "AWAzfWGTFyDJ"
      },
      "execution_count": 1,
      "outputs": []
    },
    {
      "cell_type": "markdown",
      "source": [
        "## **Dataset Preprocesing**"
      ],
      "metadata": {
        "id": "l_YjOxMWO05g"
      }
    },
    {
      "cell_type": "markdown",
      "source": [
        "### **Datset Loading**"
      ],
      "metadata": {
        "id": "8SM83cDRIY-8"
      }
    },
    {
      "cell_type": "code",
      "source": [
        "# Function to load the data \n",
        "def DataLoader(path):\n",
        "    \"\"\"\n",
        "    A function to load the datset \n",
        "    Argumet - Path(path to the data file)\n",
        "    return - dataframe\n",
        "    \"\"\"\n",
        "    try:\n",
        "        dataframe = pd.read_csv(path, encoding='ISO-8859-1',index_col='Date',parse_dates=['Date'])\n",
        "        return dataframe\n",
        "    except: # if path is incorrect or does not exist\n",
        "        print(\"path does not find\")\n",
        "\n",
        "    finally:\n",
        "        print(\"operation performed on the  dataset Location\")\n"
      ],
      "metadata": {
        "id": "zpO5FkH8JVXU"
      },
      "execution_count": 2,
      "outputs": []
    },
    {
      "cell_type": "code",
      "source": [
        "#call function to store datframe in bikedf dataframe\n",
        "dataset =DataLoader('/content/SeoulBikeData.csv') "
      ],
      "metadata": {
        "colab": {
          "base_uri": "https://localhost:8080/"
        },
        "id": "2YBQQBihK8XC",
        "outputId": "45a275f9-ed4d-4b0e-ec18-e05056e6a475"
      },
      "execution_count": 3,
      "outputs": [
        {
          "output_type": "stream",
          "name": "stdout",
          "text": [
            "operation performed on the  dataset Location\n"
          ]
        }
      ]
    },
    {
      "cell_type": "markdown",
      "source": [
        "### **Datset Description**"
      ],
      "metadata": {
        "id": "t3n1PDE4O-86"
      }
    },
    {
      "cell_type": "code",
      "source": [
        "print(f\"the dataset has toltal of  {dataset.shape[0]} rows and {dataset.shape[1]} columns\") "
      ],
      "metadata": {
        "colab": {
          "base_uri": "https://localhost:8080/"
        },
        "id": "61oAq6iXJ1rk",
        "outputId": "df686705-0ec9-417e-b6b1-fe398b3f54a0"
      },
      "execution_count": 26,
      "outputs": [
        {
          "output_type": "stream",
          "name": "stdout",
          "text": [
            "the dataset has toltal of  8760 rows and 13 columns\n"
          ]
        }
      ]
    },
    {
      "cell_type": "code",
      "source": [
        "#seeing glimse of data \n",
        "dataset.head()"
      ],
      "metadata": {
        "colab": {
          "base_uri": "https://localhost:8080/",
          "height": 423
        },
        "id": "0nO_4Oy8F_yR",
        "outputId": "9eff0a6c-1c2c-4b37-c02f-a623e4b81dce"
      },
      "execution_count": 4,
      "outputs": [
        {
          "output_type": "execute_result",
          "data": {
            "text/plain": [
              "            Rented Bike Count  Hour  Temperature(°C)  Humidity(%)  \\\n",
              "Date                                                                \n",
              "2017-01-12                254     0             -5.2           37   \n",
              "2017-01-12                204     1             -5.5           38   \n",
              "2017-01-12                173     2             -6.0           39   \n",
              "2017-01-12                107     3             -6.2           40   \n",
              "2017-01-12                 78     4             -6.0           36   \n",
              "\n",
              "            Wind speed (m/s)  Visibility (10m)  Dew point temperature(°C)  \\\n",
              "Date                                                                        \n",
              "2017-01-12               2.2              2000                      -17.6   \n",
              "2017-01-12               0.8              2000                      -17.6   \n",
              "2017-01-12               1.0              2000                      -17.7   \n",
              "2017-01-12               0.9              2000                      -17.6   \n",
              "2017-01-12               2.3              2000                      -18.6   \n",
              "\n",
              "            Solar Radiation (MJ/m2)  Rainfall(mm)  Snowfall (cm) Seasons  \\\n",
              "Date                                                                       \n",
              "2017-01-12                      0.0           0.0            0.0  Winter   \n",
              "2017-01-12                      0.0           0.0            0.0  Winter   \n",
              "2017-01-12                      0.0           0.0            0.0  Winter   \n",
              "2017-01-12                      0.0           0.0            0.0  Winter   \n",
              "2017-01-12                      0.0           0.0            0.0  Winter   \n",
              "\n",
              "               Holiday Functioning Day  \n",
              "Date                                    \n",
              "2017-01-12  No Holiday             Yes  \n",
              "2017-01-12  No Holiday             Yes  \n",
              "2017-01-12  No Holiday             Yes  \n",
              "2017-01-12  No Holiday             Yes  \n",
              "2017-01-12  No Holiday             Yes  "
            ],
            "text/html": [
              "\n",
              "  <div id=\"df-0712b0bc-2cf4-4934-96e0-5f5c1457718e\">\n",
              "    <div class=\"colab-df-container\">\n",
              "      <div>\n",
              "<style scoped>\n",
              "    .dataframe tbody tr th:only-of-type {\n",
              "        vertical-align: middle;\n",
              "    }\n",
              "\n",
              "    .dataframe tbody tr th {\n",
              "        vertical-align: top;\n",
              "    }\n",
              "\n",
              "    .dataframe thead th {\n",
              "        text-align: right;\n",
              "    }\n",
              "</style>\n",
              "<table border=\"1\" class=\"dataframe\">\n",
              "  <thead>\n",
              "    <tr style=\"text-align: right;\">\n",
              "      <th></th>\n",
              "      <th>Rented Bike Count</th>\n",
              "      <th>Hour</th>\n",
              "      <th>Temperature(°C)</th>\n",
              "      <th>Humidity(%)</th>\n",
              "      <th>Wind speed (m/s)</th>\n",
              "      <th>Visibility (10m)</th>\n",
              "      <th>Dew point temperature(°C)</th>\n",
              "      <th>Solar Radiation (MJ/m2)</th>\n",
              "      <th>Rainfall(mm)</th>\n",
              "      <th>Snowfall (cm)</th>\n",
              "      <th>Seasons</th>\n",
              "      <th>Holiday</th>\n",
              "      <th>Functioning Day</th>\n",
              "    </tr>\n",
              "    <tr>\n",
              "      <th>Date</th>\n",
              "      <th></th>\n",
              "      <th></th>\n",
              "      <th></th>\n",
              "      <th></th>\n",
              "      <th></th>\n",
              "      <th></th>\n",
              "      <th></th>\n",
              "      <th></th>\n",
              "      <th></th>\n",
              "      <th></th>\n",
              "      <th></th>\n",
              "      <th></th>\n",
              "      <th></th>\n",
              "    </tr>\n",
              "  </thead>\n",
              "  <tbody>\n",
              "    <tr>\n",
              "      <th>2017-01-12</th>\n",
              "      <td>254</td>\n",
              "      <td>0</td>\n",
              "      <td>-5.2</td>\n",
              "      <td>37</td>\n",
              "      <td>2.2</td>\n",
              "      <td>2000</td>\n",
              "      <td>-17.6</td>\n",
              "      <td>0.0</td>\n",
              "      <td>0.0</td>\n",
              "      <td>0.0</td>\n",
              "      <td>Winter</td>\n",
              "      <td>No Holiday</td>\n",
              "      <td>Yes</td>\n",
              "    </tr>\n",
              "    <tr>\n",
              "      <th>2017-01-12</th>\n",
              "      <td>204</td>\n",
              "      <td>1</td>\n",
              "      <td>-5.5</td>\n",
              "      <td>38</td>\n",
              "      <td>0.8</td>\n",
              "      <td>2000</td>\n",
              "      <td>-17.6</td>\n",
              "      <td>0.0</td>\n",
              "      <td>0.0</td>\n",
              "      <td>0.0</td>\n",
              "      <td>Winter</td>\n",
              "      <td>No Holiday</td>\n",
              "      <td>Yes</td>\n",
              "    </tr>\n",
              "    <tr>\n",
              "      <th>2017-01-12</th>\n",
              "      <td>173</td>\n",
              "      <td>2</td>\n",
              "      <td>-6.0</td>\n",
              "      <td>39</td>\n",
              "      <td>1.0</td>\n",
              "      <td>2000</td>\n",
              "      <td>-17.7</td>\n",
              "      <td>0.0</td>\n",
              "      <td>0.0</td>\n",
              "      <td>0.0</td>\n",
              "      <td>Winter</td>\n",
              "      <td>No Holiday</td>\n",
              "      <td>Yes</td>\n",
              "    </tr>\n",
              "    <tr>\n",
              "      <th>2017-01-12</th>\n",
              "      <td>107</td>\n",
              "      <td>3</td>\n",
              "      <td>-6.2</td>\n",
              "      <td>40</td>\n",
              "      <td>0.9</td>\n",
              "      <td>2000</td>\n",
              "      <td>-17.6</td>\n",
              "      <td>0.0</td>\n",
              "      <td>0.0</td>\n",
              "      <td>0.0</td>\n",
              "      <td>Winter</td>\n",
              "      <td>No Holiday</td>\n",
              "      <td>Yes</td>\n",
              "    </tr>\n",
              "    <tr>\n",
              "      <th>2017-01-12</th>\n",
              "      <td>78</td>\n",
              "      <td>4</td>\n",
              "      <td>-6.0</td>\n",
              "      <td>36</td>\n",
              "      <td>2.3</td>\n",
              "      <td>2000</td>\n",
              "      <td>-18.6</td>\n",
              "      <td>0.0</td>\n",
              "      <td>0.0</td>\n",
              "      <td>0.0</td>\n",
              "      <td>Winter</td>\n",
              "      <td>No Holiday</td>\n",
              "      <td>Yes</td>\n",
              "    </tr>\n",
              "  </tbody>\n",
              "</table>\n",
              "</div>\n",
              "      <button class=\"colab-df-convert\" onclick=\"convertToInteractive('df-0712b0bc-2cf4-4934-96e0-5f5c1457718e')\"\n",
              "              title=\"Convert this dataframe to an interactive table.\"\n",
              "              style=\"display:none;\">\n",
              "        \n",
              "  <svg xmlns=\"http://www.w3.org/2000/svg\" height=\"24px\"viewBox=\"0 0 24 24\"\n",
              "       width=\"24px\">\n",
              "    <path d=\"M0 0h24v24H0V0z\" fill=\"none\"/>\n",
              "    <path d=\"M18.56 5.44l.94 2.06.94-2.06 2.06-.94-2.06-.94-.94-2.06-.94 2.06-2.06.94zm-11 1L8.5 8.5l.94-2.06 2.06-.94-2.06-.94L8.5 2.5l-.94 2.06-2.06.94zm10 10l.94 2.06.94-2.06 2.06-.94-2.06-.94-.94-2.06-.94 2.06-2.06.94z\"/><path d=\"M17.41 7.96l-1.37-1.37c-.4-.4-.92-.59-1.43-.59-.52 0-1.04.2-1.43.59L10.3 9.45l-7.72 7.72c-.78.78-.78 2.05 0 2.83L4 21.41c.39.39.9.59 1.41.59.51 0 1.02-.2 1.41-.59l7.78-7.78 2.81-2.81c.8-.78.8-2.07 0-2.86zM5.41 20L4 18.59l7.72-7.72 1.47 1.35L5.41 20z\"/>\n",
              "  </svg>\n",
              "      </button>\n",
              "      \n",
              "  <style>\n",
              "    .colab-df-container {\n",
              "      display:flex;\n",
              "      flex-wrap:wrap;\n",
              "      gap: 12px;\n",
              "    }\n",
              "\n",
              "    .colab-df-convert {\n",
              "      background-color: #E8F0FE;\n",
              "      border: none;\n",
              "      border-radius: 50%;\n",
              "      cursor: pointer;\n",
              "      display: none;\n",
              "      fill: #1967D2;\n",
              "      height: 32px;\n",
              "      padding: 0 0 0 0;\n",
              "      width: 32px;\n",
              "    }\n",
              "\n",
              "    .colab-df-convert:hover {\n",
              "      background-color: #E2EBFA;\n",
              "      box-shadow: 0px 1px 2px rgba(60, 64, 67, 0.3), 0px 1px 3px 1px rgba(60, 64, 67, 0.15);\n",
              "      fill: #174EA6;\n",
              "    }\n",
              "\n",
              "    [theme=dark] .colab-df-convert {\n",
              "      background-color: #3B4455;\n",
              "      fill: #D2E3FC;\n",
              "    }\n",
              "\n",
              "    [theme=dark] .colab-df-convert:hover {\n",
              "      background-color: #434B5C;\n",
              "      box-shadow: 0px 1px 3px 1px rgba(0, 0, 0, 0.15);\n",
              "      filter: drop-shadow(0px 1px 2px rgba(0, 0, 0, 0.3));\n",
              "      fill: #FFFFFF;\n",
              "    }\n",
              "  </style>\n",
              "\n",
              "      <script>\n",
              "        const buttonEl =\n",
              "          document.querySelector('#df-0712b0bc-2cf4-4934-96e0-5f5c1457718e button.colab-df-convert');\n",
              "        buttonEl.style.display =\n",
              "          google.colab.kernel.accessAllowed ? 'block' : 'none';\n",
              "\n",
              "        async function convertToInteractive(key) {\n",
              "          const element = document.querySelector('#df-0712b0bc-2cf4-4934-96e0-5f5c1457718e');\n",
              "          const dataTable =\n",
              "            await google.colab.kernel.invokeFunction('convertToInteractive',\n",
              "                                                     [key], {});\n",
              "          if (!dataTable) return;\n",
              "\n",
              "          const docLinkHtml = 'Like what you see? Visit the ' +\n",
              "            '<a target=\"_blank\" href=https://colab.research.google.com/notebooks/data_table.ipynb>data table notebook</a>'\n",
              "            + ' to learn more about interactive tables.';\n",
              "          element.innerHTML = '';\n",
              "          dataTable['output_type'] = 'display_data';\n",
              "          await google.colab.output.renderOutput(dataTable, element);\n",
              "          const docLink = document.createElement('div');\n",
              "          docLink.innerHTML = docLinkHtml;\n",
              "          element.appendChild(docLink);\n",
              "        }\n",
              "      </script>\n",
              "    </div>\n",
              "  </div>\n",
              "  "
            ]
          },
          "metadata": {},
          "execution_count": 4
        }
      ]
    },
    {
      "cell_type": "code",
      "source": [
        "#duplicated rows in data \n",
        "dupicated_data = dataset[dataset.duplicated()]\n",
        "print(len(dupicated_data))"
      ],
      "metadata": {
        "colab": {
          "base_uri": "https://localhost:8080/"
        },
        "id": "6fkZ2z6pPFSh",
        "outputId": "ab6a16ba-dfe2-45a4-afb8-273d28290850"
      },
      "execution_count": 5,
      "outputs": [
        {
          "output_type": "stream",
          "name": "stdout",
          "text": [
            "0\n"
          ]
        }
      ]
    },
    {
      "cell_type": "code",
      "source": [
        "# Missing or Nan value across column in the dataset\n",
        "print(print(dataset.isna().sum()))"
      ],
      "metadata": {
        "colab": {
          "base_uri": "https://localhost:8080/"
        },
        "id": "vZUZlKyoR1Qg",
        "outputId": "05c95395-c678-4f12-b8d0-72d20b8bbb37"
      },
      "execution_count": 6,
      "outputs": [
        {
          "output_type": "stream",
          "name": "stdout",
          "text": [
            "Rented Bike Count            0\n",
            "Hour                         0\n",
            "Temperature(°C)              0\n",
            "Humidity(%)                  0\n",
            "Wind speed (m/s)             0\n",
            "Visibility (10m)             0\n",
            "Dew point temperature(°C)    0\n",
            "Solar Radiation (MJ/m2)      0\n",
            "Rainfall(mm)                 0\n",
            "Snowfall (cm)                0\n",
            "Seasons                      0\n",
            "Holiday                      0\n",
            "Functioning Day              0\n",
            "dtype: int64\n",
            "None\n"
          ]
        }
      ]
    },
    {
      "cell_type": "code",
      "source": [
        "dataset.info()"
      ],
      "metadata": {
        "colab": {
          "base_uri": "https://localhost:8080/"
        },
        "id": "wY5yVSItSHAu",
        "outputId": "d26f8a6e-1f1f-4052-cd64-0ace5e5a9927"
      },
      "execution_count": 7,
      "outputs": [
        {
          "output_type": "stream",
          "name": "stdout",
          "text": [
            "<class 'pandas.core.frame.DataFrame'>\n",
            "DatetimeIndex: 8760 entries, 2017-01-12 to 2018-11-30\n",
            "Data columns (total 13 columns):\n",
            " #   Column                     Non-Null Count  Dtype  \n",
            "---  ------                     --------------  -----  \n",
            " 0   Rented Bike Count          8760 non-null   int64  \n",
            " 1   Hour                       8760 non-null   int64  \n",
            " 2   Temperature(°C)            8760 non-null   float64\n",
            " 3   Humidity(%)                8760 non-null   int64  \n",
            " 4   Wind speed (m/s)           8760 non-null   float64\n",
            " 5   Visibility (10m)           8760 non-null   int64  \n",
            " 6   Dew point temperature(°C)  8760 non-null   float64\n",
            " 7   Solar Radiation (MJ/m2)    8760 non-null   float64\n",
            " 8   Rainfall(mm)               8760 non-null   float64\n",
            " 9   Snowfall (cm)              8760 non-null   float64\n",
            " 10  Seasons                    8760 non-null   object \n",
            " 11  Holiday                    8760 non-null   object \n",
            " 12  Functioning Day            8760 non-null   object \n",
            "dtypes: float64(6), int64(4), object(3)\n",
            "memory usage: 958.1+ KB\n"
          ]
        }
      ]
    },
    {
      "cell_type": "markdown",
      "source": [
        "### **Variable description**"
      ],
      "metadata": {
        "id": "lFNdS5VqSgqe"
      }
    },
    {
      "cell_type": "code",
      "source": [
        "dataset.describe(include = \"all\")"
      ],
      "metadata": {
        "colab": {
          "base_uri": "https://localhost:8080/",
          "height": 490
        },
        "id": "NNrITDF1LJjo",
        "outputId": "70c07b97-71ad-4eec-bdbf-31320cf106cd"
      },
      "execution_count": 27,
      "outputs": [
        {
          "output_type": "execute_result",
          "data": {
            "text/plain": [
              "        Rented Bike Count         Hour  Temperature(°C)  Humidity(%)  \\\n",
              "count         8760.000000  8760.000000      8760.000000  8760.000000   \n",
              "unique                NaN          NaN              NaN          NaN   \n",
              "top                   NaN          NaN              NaN          NaN   \n",
              "freq                  NaN          NaN              NaN          NaN   \n",
              "mean           704.602055    11.500000        12.882922    58.226256   \n",
              "std            644.997468     6.922582        11.944825    20.362413   \n",
              "min              0.000000     0.000000       -17.800000     0.000000   \n",
              "25%            191.000000     5.750000         3.500000    42.000000   \n",
              "50%            504.500000    11.500000        13.700000    57.000000   \n",
              "75%           1065.250000    17.250000        22.500000    74.000000   \n",
              "max           3556.000000    23.000000        39.400000    98.000000   \n",
              "\n",
              "        Wind speed (m/s)  Visibility (10m)  Dew point temperature(°C)  \\\n",
              "count        8760.000000       8760.000000                8760.000000   \n",
              "unique               NaN               NaN                        NaN   \n",
              "top                  NaN               NaN                        NaN   \n",
              "freq                 NaN               NaN                        NaN   \n",
              "mean            1.724909       1436.825799                   4.073813   \n",
              "std             1.036300        608.298712                  13.060369   \n",
              "min             0.000000         27.000000                 -30.600000   \n",
              "25%             0.900000        940.000000                  -4.700000   \n",
              "50%             1.500000       1698.000000                   5.100000   \n",
              "75%             2.300000       2000.000000                  14.800000   \n",
              "max             7.400000       2000.000000                  27.200000   \n",
              "\n",
              "        Solar Radiation (MJ/m2)  Rainfall(mm)  Snowfall (cm) Seasons  \\\n",
              "count               8760.000000   8760.000000    8760.000000    8760   \n",
              "unique                      NaN           NaN            NaN       4   \n",
              "top                         NaN           NaN            NaN  Spring   \n",
              "freq                        NaN           NaN            NaN    2208   \n",
              "mean                   0.569111      0.148687       0.075068     NaN   \n",
              "std                    0.868746      1.128193       0.436746     NaN   \n",
              "min                    0.000000      0.000000       0.000000     NaN   \n",
              "25%                    0.000000      0.000000       0.000000     NaN   \n",
              "50%                    0.010000      0.000000       0.000000     NaN   \n",
              "75%                    0.930000      0.000000       0.000000     NaN   \n",
              "max                    3.520000     35.000000       8.800000     NaN   \n",
              "\n",
              "           Holiday Functioning Day  \n",
              "count         8760            8760  \n",
              "unique           2               2  \n",
              "top     No Holiday             Yes  \n",
              "freq          8328            8465  \n",
              "mean           NaN             NaN  \n",
              "std            NaN             NaN  \n",
              "min            NaN             NaN  \n",
              "25%            NaN             NaN  \n",
              "50%            NaN             NaN  \n",
              "75%            NaN             NaN  \n",
              "max            NaN             NaN  "
            ],
            "text/html": [
              "\n",
              "  <div id=\"df-ce9424b4-e397-4fba-9df1-00f1d74d303c\">\n",
              "    <div class=\"colab-df-container\">\n",
              "      <div>\n",
              "<style scoped>\n",
              "    .dataframe tbody tr th:only-of-type {\n",
              "        vertical-align: middle;\n",
              "    }\n",
              "\n",
              "    .dataframe tbody tr th {\n",
              "        vertical-align: top;\n",
              "    }\n",
              "\n",
              "    .dataframe thead th {\n",
              "        text-align: right;\n",
              "    }\n",
              "</style>\n",
              "<table border=\"1\" class=\"dataframe\">\n",
              "  <thead>\n",
              "    <tr style=\"text-align: right;\">\n",
              "      <th></th>\n",
              "      <th>Rented Bike Count</th>\n",
              "      <th>Hour</th>\n",
              "      <th>Temperature(°C)</th>\n",
              "      <th>Humidity(%)</th>\n",
              "      <th>Wind speed (m/s)</th>\n",
              "      <th>Visibility (10m)</th>\n",
              "      <th>Dew point temperature(°C)</th>\n",
              "      <th>Solar Radiation (MJ/m2)</th>\n",
              "      <th>Rainfall(mm)</th>\n",
              "      <th>Snowfall (cm)</th>\n",
              "      <th>Seasons</th>\n",
              "      <th>Holiday</th>\n",
              "      <th>Functioning Day</th>\n",
              "    </tr>\n",
              "  </thead>\n",
              "  <tbody>\n",
              "    <tr>\n",
              "      <th>count</th>\n",
              "      <td>8760.000000</td>\n",
              "      <td>8760.000000</td>\n",
              "      <td>8760.000000</td>\n",
              "      <td>8760.000000</td>\n",
              "      <td>8760.000000</td>\n",
              "      <td>8760.000000</td>\n",
              "      <td>8760.000000</td>\n",
              "      <td>8760.000000</td>\n",
              "      <td>8760.000000</td>\n",
              "      <td>8760.000000</td>\n",
              "      <td>8760</td>\n",
              "      <td>8760</td>\n",
              "      <td>8760</td>\n",
              "    </tr>\n",
              "    <tr>\n",
              "      <th>unique</th>\n",
              "      <td>NaN</td>\n",
              "      <td>NaN</td>\n",
              "      <td>NaN</td>\n",
              "      <td>NaN</td>\n",
              "      <td>NaN</td>\n",
              "      <td>NaN</td>\n",
              "      <td>NaN</td>\n",
              "      <td>NaN</td>\n",
              "      <td>NaN</td>\n",
              "      <td>NaN</td>\n",
              "      <td>4</td>\n",
              "      <td>2</td>\n",
              "      <td>2</td>\n",
              "    </tr>\n",
              "    <tr>\n",
              "      <th>top</th>\n",
              "      <td>NaN</td>\n",
              "      <td>NaN</td>\n",
              "      <td>NaN</td>\n",
              "      <td>NaN</td>\n",
              "      <td>NaN</td>\n",
              "      <td>NaN</td>\n",
              "      <td>NaN</td>\n",
              "      <td>NaN</td>\n",
              "      <td>NaN</td>\n",
              "      <td>NaN</td>\n",
              "      <td>Spring</td>\n",
              "      <td>No Holiday</td>\n",
              "      <td>Yes</td>\n",
              "    </tr>\n",
              "    <tr>\n",
              "      <th>freq</th>\n",
              "      <td>NaN</td>\n",
              "      <td>NaN</td>\n",
              "      <td>NaN</td>\n",
              "      <td>NaN</td>\n",
              "      <td>NaN</td>\n",
              "      <td>NaN</td>\n",
              "      <td>NaN</td>\n",
              "      <td>NaN</td>\n",
              "      <td>NaN</td>\n",
              "      <td>NaN</td>\n",
              "      <td>2208</td>\n",
              "      <td>8328</td>\n",
              "      <td>8465</td>\n",
              "    </tr>\n",
              "    <tr>\n",
              "      <th>mean</th>\n",
              "      <td>704.602055</td>\n",
              "      <td>11.500000</td>\n",
              "      <td>12.882922</td>\n",
              "      <td>58.226256</td>\n",
              "      <td>1.724909</td>\n",
              "      <td>1436.825799</td>\n",
              "      <td>4.073813</td>\n",
              "      <td>0.569111</td>\n",
              "      <td>0.148687</td>\n",
              "      <td>0.075068</td>\n",
              "      <td>NaN</td>\n",
              "      <td>NaN</td>\n",
              "      <td>NaN</td>\n",
              "    </tr>\n",
              "    <tr>\n",
              "      <th>std</th>\n",
              "      <td>644.997468</td>\n",
              "      <td>6.922582</td>\n",
              "      <td>11.944825</td>\n",
              "      <td>20.362413</td>\n",
              "      <td>1.036300</td>\n",
              "      <td>608.298712</td>\n",
              "      <td>13.060369</td>\n",
              "      <td>0.868746</td>\n",
              "      <td>1.128193</td>\n",
              "      <td>0.436746</td>\n",
              "      <td>NaN</td>\n",
              "      <td>NaN</td>\n",
              "      <td>NaN</td>\n",
              "    </tr>\n",
              "    <tr>\n",
              "      <th>min</th>\n",
              "      <td>0.000000</td>\n",
              "      <td>0.000000</td>\n",
              "      <td>-17.800000</td>\n",
              "      <td>0.000000</td>\n",
              "      <td>0.000000</td>\n",
              "      <td>27.000000</td>\n",
              "      <td>-30.600000</td>\n",
              "      <td>0.000000</td>\n",
              "      <td>0.000000</td>\n",
              "      <td>0.000000</td>\n",
              "      <td>NaN</td>\n",
              "      <td>NaN</td>\n",
              "      <td>NaN</td>\n",
              "    </tr>\n",
              "    <tr>\n",
              "      <th>25%</th>\n",
              "      <td>191.000000</td>\n",
              "      <td>5.750000</td>\n",
              "      <td>3.500000</td>\n",
              "      <td>42.000000</td>\n",
              "      <td>0.900000</td>\n",
              "      <td>940.000000</td>\n",
              "      <td>-4.700000</td>\n",
              "      <td>0.000000</td>\n",
              "      <td>0.000000</td>\n",
              "      <td>0.000000</td>\n",
              "      <td>NaN</td>\n",
              "      <td>NaN</td>\n",
              "      <td>NaN</td>\n",
              "    </tr>\n",
              "    <tr>\n",
              "      <th>50%</th>\n",
              "      <td>504.500000</td>\n",
              "      <td>11.500000</td>\n",
              "      <td>13.700000</td>\n",
              "      <td>57.000000</td>\n",
              "      <td>1.500000</td>\n",
              "      <td>1698.000000</td>\n",
              "      <td>5.100000</td>\n",
              "      <td>0.010000</td>\n",
              "      <td>0.000000</td>\n",
              "      <td>0.000000</td>\n",
              "      <td>NaN</td>\n",
              "      <td>NaN</td>\n",
              "      <td>NaN</td>\n",
              "    </tr>\n",
              "    <tr>\n",
              "      <th>75%</th>\n",
              "      <td>1065.250000</td>\n",
              "      <td>17.250000</td>\n",
              "      <td>22.500000</td>\n",
              "      <td>74.000000</td>\n",
              "      <td>2.300000</td>\n",
              "      <td>2000.000000</td>\n",
              "      <td>14.800000</td>\n",
              "      <td>0.930000</td>\n",
              "      <td>0.000000</td>\n",
              "      <td>0.000000</td>\n",
              "      <td>NaN</td>\n",
              "      <td>NaN</td>\n",
              "      <td>NaN</td>\n",
              "    </tr>\n",
              "    <tr>\n",
              "      <th>max</th>\n",
              "      <td>3556.000000</td>\n",
              "      <td>23.000000</td>\n",
              "      <td>39.400000</td>\n",
              "      <td>98.000000</td>\n",
              "      <td>7.400000</td>\n",
              "      <td>2000.000000</td>\n",
              "      <td>27.200000</td>\n",
              "      <td>3.520000</td>\n",
              "      <td>35.000000</td>\n",
              "      <td>8.800000</td>\n",
              "      <td>NaN</td>\n",
              "      <td>NaN</td>\n",
              "      <td>NaN</td>\n",
              "    </tr>\n",
              "  </tbody>\n",
              "</table>\n",
              "</div>\n",
              "      <button class=\"colab-df-convert\" onclick=\"convertToInteractive('df-ce9424b4-e397-4fba-9df1-00f1d74d303c')\"\n",
              "              title=\"Convert this dataframe to an interactive table.\"\n",
              "              style=\"display:none;\">\n",
              "        \n",
              "  <svg xmlns=\"http://www.w3.org/2000/svg\" height=\"24px\"viewBox=\"0 0 24 24\"\n",
              "       width=\"24px\">\n",
              "    <path d=\"M0 0h24v24H0V0z\" fill=\"none\"/>\n",
              "    <path d=\"M18.56 5.44l.94 2.06.94-2.06 2.06-.94-2.06-.94-.94-2.06-.94 2.06-2.06.94zm-11 1L8.5 8.5l.94-2.06 2.06-.94-2.06-.94L8.5 2.5l-.94 2.06-2.06.94zm10 10l.94 2.06.94-2.06 2.06-.94-2.06-.94-.94-2.06-.94 2.06-2.06.94z\"/><path d=\"M17.41 7.96l-1.37-1.37c-.4-.4-.92-.59-1.43-.59-.52 0-1.04.2-1.43.59L10.3 9.45l-7.72 7.72c-.78.78-.78 2.05 0 2.83L4 21.41c.39.39.9.59 1.41.59.51 0 1.02-.2 1.41-.59l7.78-7.78 2.81-2.81c.8-.78.8-2.07 0-2.86zM5.41 20L4 18.59l7.72-7.72 1.47 1.35L5.41 20z\"/>\n",
              "  </svg>\n",
              "      </button>\n",
              "      \n",
              "  <style>\n",
              "    .colab-df-container {\n",
              "      display:flex;\n",
              "      flex-wrap:wrap;\n",
              "      gap: 12px;\n",
              "    }\n",
              "\n",
              "    .colab-df-convert {\n",
              "      background-color: #E8F0FE;\n",
              "      border: none;\n",
              "      border-radius: 50%;\n",
              "      cursor: pointer;\n",
              "      display: none;\n",
              "      fill: #1967D2;\n",
              "      height: 32px;\n",
              "      padding: 0 0 0 0;\n",
              "      width: 32px;\n",
              "    }\n",
              "\n",
              "    .colab-df-convert:hover {\n",
              "      background-color: #E2EBFA;\n",
              "      box-shadow: 0px 1px 2px rgba(60, 64, 67, 0.3), 0px 1px 3px 1px rgba(60, 64, 67, 0.15);\n",
              "      fill: #174EA6;\n",
              "    }\n",
              "\n",
              "    [theme=dark] .colab-df-convert {\n",
              "      background-color: #3B4455;\n",
              "      fill: #D2E3FC;\n",
              "    }\n",
              "\n",
              "    [theme=dark] .colab-df-convert:hover {\n",
              "      background-color: #434B5C;\n",
              "      box-shadow: 0px 1px 3px 1px rgba(0, 0, 0, 0.15);\n",
              "      filter: drop-shadow(0px 1px 2px rgba(0, 0, 0, 0.3));\n",
              "      fill: #FFFFFF;\n",
              "    }\n",
              "  </style>\n",
              "\n",
              "      <script>\n",
              "        const buttonEl =\n",
              "          document.querySelector('#df-ce9424b4-e397-4fba-9df1-00f1d74d303c button.colab-df-convert');\n",
              "        buttonEl.style.display =\n",
              "          google.colab.kernel.accessAllowed ? 'block' : 'none';\n",
              "\n",
              "        async function convertToInteractive(key) {\n",
              "          const element = document.querySelector('#df-ce9424b4-e397-4fba-9df1-00f1d74d303c');\n",
              "          const dataTable =\n",
              "            await google.colab.kernel.invokeFunction('convertToInteractive',\n",
              "                                                     [key], {});\n",
              "          if (!dataTable) return;\n",
              "\n",
              "          const docLinkHtml = 'Like what you see? Visit the ' +\n",
              "            '<a target=\"_blank\" href=https://colab.research.google.com/notebooks/data_table.ipynb>data table notebook</a>'\n",
              "            + ' to learn more about interactive tables.';\n",
              "          element.innerHTML = '';\n",
              "          dataTable['output_type'] = 'display_data';\n",
              "          await google.colab.output.renderOutput(dataTable, element);\n",
              "          const docLink = document.createElement('div');\n",
              "          docLink.innerHTML = docLinkHtml;\n",
              "          element.appendChild(docLink);\n",
              "        }\n",
              "      </script>\n",
              "    </div>\n",
              "  </div>\n",
              "  "
            ]
          },
          "metadata": {},
          "execution_count": 27
        }
      ]
    },
    {
      "cell_type": "markdown",
      "source": [
        "**75 % of the rainfall and and snowfall vaues are 0. However we can't just remove them since rainfall is an important factor for tourist going for out side.**"
      ],
      "metadata": {
        "id": "1iV1c2vPLtkV"
      }
    },
    {
      "cell_type": "code",
      "source": [
        "def datacategory(dataframe):\n",
        "    \"\"\" \n",
        "    A function To segragate the numerical and categorical columns data from pandas dataframe\n",
        "\n",
        "    Argument- dataframe to which action is to performed\n",
        "\n",
        "    returns - list of caetogriacl and numerical data \n",
        "    \"\"\"\n",
        "    categorical_data = []\n",
        "    numerical_data= []\n",
        "    for i in dataframe.columns.tolist():\n",
        "        if dataframe[i].dtype ==\"O\": # if data type of columns is object \n",
        "            categorical_data.append(i)\n",
        "\n",
        "        else:\n",
        "            numerical_data.append(i)\n",
        "    print(f'total no of categorical data is {len(categorical_data)}')\n",
        "    print(f'total no of numerical data is {len(numerical_data)}')\n",
        "\n",
        "    return categorical_data, numerical_data"
      ],
      "metadata": {
        "id": "uWwcs31KSrcj"
      },
      "execution_count": 8,
      "outputs": []
    },
    {
      "cell_type": "code",
      "source": [
        "categorical_columns, numerical_columns = datacategory(dataset)"
      ],
      "metadata": {
        "colab": {
          "base_uri": "https://localhost:8080/"
        },
        "id": "c0SnRddGVvdm",
        "outputId": "37bc57e2-ed00-45a5-a653-03f9ef9c920c"
      },
      "execution_count": 9,
      "outputs": [
        {
          "output_type": "stream",
          "name": "stdout",
          "text": [
            "total no of categorical data is 3\n",
            "total no of numerical data is 10\n"
          ]
        }
      ]
    },
    {
      "cell_type": "code",
      "source": [
        "#print unique value in categorical value \n",
        "#since the dataset is large numerical value whose unique number are less than should be focussed\n",
        "\n",
        "def print_values(dataframe):\n",
        "    for i in dataframe.columns.tolist():\n",
        "        if dataframe[i].dtype=='O':\n",
        "            print(f\"the categorical {i} have {dataframe[i].nunique()} unique values and they are{dataframe[i].unique()}\")\n",
        "        else:\n",
        "            if dataframe[i].nunique() <=15:\n",
        "                print(f\"the numerical column {i} have {dataframe[i].nunique()} unique values and they are{dataframe[i].unique()}\")\n"
      ],
      "metadata": {
        "id": "uumQ_PJFFKAq"
      },
      "execution_count": 22,
      "outputs": []
    },
    {
      "cell_type": "code",
      "source": [
        "print_values(dataset)"
      ],
      "metadata": {
        "colab": {
          "base_uri": "https://localhost:8080/"
        },
        "id": "1NARTM8qIWfl",
        "outputId": "a2b45d1d-9a00-4789-bf16-4ba48085f12d"
      },
      "execution_count": 23,
      "outputs": [
        {
          "output_type": "stream",
          "name": "stdout",
          "text": [
            "the categorical Seasons have 4 unique values and they are['Winter' 'Spring' 'Summer' 'Autumn']\n",
            "the categorical Holiday have 2 unique values and they are['No Holiday' 'Holiday']\n",
            "the categorical Functioning Day have 2 unique values and they are['Yes' 'No']\n"
          ]
        }
      ]
    },
    {
      "cell_type": "markdown",
      "source": [
        "## **Data wrangling**:"
      ],
      "metadata": {
        "id": "coD6oLYKM1L7"
      }
    },
    {
      "cell_type": "markdown",
      "source": [
        "### **Data wrangling code**"
      ],
      "metadata": {
        "id": "Ao7lXbOPM6qX"
      }
    },
    {
      "cell_type": "code",
      "source": [
        "#see the outliers across the columns of the data \n",
        "# these plots are across the numerical dataset\n",
        "fig = plt.figure(figsize = (15,10))\n",
        "c=1\n",
        "for i  in numerical_columns:\n",
        "    plt.subplot(3,4,c)\n",
        "    plt.xlabel(f\"the distribution of {i} column\")\n",
        "    sns.boxplot(x = i,data = dataset,color = \"red\")\n",
        "    c+=1\n",
        "\n",
        "plt.tight_layout(pad= 0.4,w_pad = 0.5,h_pad =8.0)\n"
      ],
      "metadata": {
        "colab": {
          "base_uri": "https://localhost:8080/",
          "height": 743
        },
        "id": "09ExGHkUM-8a",
        "outputId": "67fa83fe-de53-4bf5-dba9-a2ea4578cb9d"
      },
      "execution_count": 40,
      "outputs": [
        {
          "output_type": "display_data",
          "data": {
            "text/plain": [
              "<Figure size 1080x720 with 10 Axes>"
            ],
            "image/png": "[encoded data removed]"
          },
          "metadata": {
            "needs_background": "light"
          }
        }
      ]
    },
    {
      "cell_type": "markdown",
      "source": [
        "#### **what all manipulation have we found**"
      ],
      "metadata": {
        "id": "5ZgtaFFYSR8U"
      }
    },
    {
      "cell_type": "markdown",
      "source": [
        "**There are large number of oultlier acros our target value also Rann **"
      ],
      "metadata": {
        "id": "yV7HQpIHSZ3N"
      }
    }
  ]
}