{
  "nbformat": 4,
  "nbformat_minor": 0,
  "metadata": {
    "colab": {
      "provenance": [],
      "authorship_tag": "ABX9TyMB9R+wdHDtVY+c2ImOmCnA",
      "include_colab_link": true
    },
    "kernelspec": {
      "name": "python3",
      "display_name": "Python 3"
    },
    "language_info": {
      "name": "python"
    }
  },
  "cells": [
    {
      "cell_type": "markdown",
      "metadata": {
        "id": "view-in-github",
        "colab_type": "text"
      },
      "source": [
        "<a href=\"https://colab.research.google.com/github/surya81/Alma-better-projects/blob/main/Bike_Sharing_Demand_Prediction.ipynb\" target=\"_parent\"><img src=\"https://colab.research.google.com/assets/colab-badge.svg\" alt=\"Open In Colab\"/></a>"
      ]
    },
    {
      "cell_type": "markdown",
      "source": [
        "# **Project Name**\n",
        "$\\color{blue}{\\text{Bike Sharing Demand Prediction}}$"
      ],
      "metadata": {
        "id": "9Qu3XcOug5sy"
      }
    },
    {
      "cell_type": "markdown",
      "source": [
        "###**Project type** - Classification\n",
        "###**Contribution** - Individual\n",
        "###**Team Member1** - $\\color{Green}{\\text{Surya Prakash}}$"
      ],
      "metadata": {
        "id": "hlFcJdljhvyw"
      }
    },
    {
      "cell_type": "markdown",
      "source": [
        "# **Project Summary**"
      ],
      "metadata": {
        "id": "aSGKSz_Li6-L"
      }
    },
    {
      "cell_type": "markdown",
      "source": [
        "**Data Processing**\n",
        "    1.\n",
        "    2.\n",
        "    3.\n",
        "    4.\n",
        "\n",
        "**Exploratory Data Analysis**\n",
        "\n",
        "**Supervised Machine learning Algorithm**\n",
        "\n",
        "```\n",
        "# This is formatted as code\n",
        "```\n",
        "\n"
      ],
      "metadata": {
        "id": "NRfxqEXAjC2G"
      }
    },
    {
      "cell_type": "markdown",
      "source": [
        "#**Github Link**"
      ],
      "metadata": {
        "id": "HG_OsaKVjzZz"
      }
    },
    {
      "cell_type": "markdown",
      "source": [
        "https://github.com/surya81/Alma-better-projects/blob/main/Bike_Sharing_Demand_Prediction.ipynb"
      ],
      "metadata": {
        "id": "r2rAbMJDkbwx"
      }
    },
    {
      "cell_type": "markdown",
      "source": [
        "# **Problem Statement**"
      ],
      "metadata": {
        "id": "1lj_WPlfky3B"
      }
    },
    {
      "cell_type": "markdown",
      "source": [
        "**Bike Rental has become an effective business, Nowdays lots of startups are becoming popular in bike rental business. however there are some difficulties which these comapnies are not able to resolve like a customer has to wait for a large amount of time in getting their bike Increase in waiting time can frustatea lot of customer to change their .However a company also have only have limited number of bike as their resources to share with people.So the companies must have to analyze how their customer are distributed.also it have to fluvtuate their prices seeing demand and suply**"
      ],
      "metadata": {
        "id": "sK5SGjkVk-w4"
      }
    }
  ]
}