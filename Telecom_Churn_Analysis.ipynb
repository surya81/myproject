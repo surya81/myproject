{
  "nbformat": 4,
  "nbformat_minor": 0,
  "metadata": {
    "colab": {
      "provenance": [],
      "authorship_tag": "ABX9TyMq/k/M8/hArTOOxbZRgKbm",
      "include_colab_link": true
    },
    "kernelspec": {
      "name": "python3",
      "display_name": "Python 3"
    },
    "language_info": {
      "name": "python"
    }
  },
  "cells": [
    {
      "cell_type": "markdown",
      "metadata": {
        "id": "view-in-github",
        "colab_type": "text"
      },
      "source": [
        "<a href=\"https://colab.research.google.com/github/surya81/Alma-better-projects/blob/main/Telecom_Churn_Analysis.ipynb\" target=\"_parent\"><img src=\"https://colab.research.google.com/assets/colab-badge.svg\" alt=\"Open In Colab\"/></a>"
      ]
    },
    {
      "cell_type": "markdown",
      "source": [
        "# **Project name - Telecom Churn Analysis**"
      ],
      "metadata": {
        "id": "xuGnOxzD8fvW"
      }
    },
    {
      "cell_type": "markdown",
      "source": [
        "#### **Type** - EDA\n",
        "#### **Contribution** - **Individual**"
      ],
      "metadata": {
        "id": "IamojXoR9JZN"
      }
    },
    {
      "cell_type": "markdown",
      "source": [
        "# **Problem Analysis**"
      ],
      "metadata": {
        "id": "ZoMb_sn9-cTL"
      }
    },
    {
      "cell_type": "markdown",
      "source": [
        " **Every telecom service provider company in course of development to adding new customers makes sures that they donot loose their existing customers .However every year a large no of people using their services changes from one provider to another in search of better services and price feasibilty,In oerder to bring back these existing customer an company eventually found themselves in expending a lot off costs**\n",
        "**So,In order to maintain and develop better plans telecom compamnies does regular churn analysis of their customers for taking feedback in their lacking services and how to do better on these feedbackstext**"
      ],
      "metadata": {
        "id": "RYEFMMSVr4-c"
      }
    },
    {
      "cell_type": "markdown",
      "source": [
        "# **Objective**"
      ],
      "metadata": {
        "id": "w7Svt_OjsHBW"
      }
    },
    {
      "cell_type": "markdown",
      "source": [
        "**we will try to absorb valuable information from the customer data and we will use this information  to help in developing some new plans and method which will automitically leads us in reducing customer churn rate of the company**"
      ],
      "metadata": {
        "id": "yfv26MxYsleE"
      }
    },
    {
      "cell_type": "markdown",
      "source": [
        "#**Libraries**"
      ],
      "metadata": {
        "id": "Ujvg_JVQuEW9"
      }
    },
    {
      "cell_type": "code",
      "source": [
        "import numpy as np\n",
        "import pandas as pd "
      ],
      "metadata": {
        "id": "jkghKtRIsked"
      },
      "execution_count": 1,
      "outputs": []
    },
    {
      "cell_type": "markdown",
      "source": [
        "#**Dataet Loading**"
      ],
      "metadata": {
        "id": "Y2RJWHKhu6B5"
      }
    },
    {
      "cell_type": "markdown",
      "source": [
        "def Dataloader(path): # A function to load the dataset \n",
        "    "
      ],
      "metadata": {
        "id": "0jcYqKxIu_fz"
      }
    }
  ]
}