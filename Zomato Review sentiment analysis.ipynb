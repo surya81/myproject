{
 "cells": [
  {
   "cell_type": "markdown",
   "id": "e3cdffc0-f227-47ba-993e-32f2ba701f07",
   "metadata": {},
   "source": [
    "# **Project Name**\n",
    "\n",
    "$\\color{red}{\\text{Zomato Review sentiment analysis}}$"
   ]
  },
  {
   "cell_type": "markdown",
   "id": "238eea81-4b34-4928-bcba-f830b68a344c",
   "metadata": {
    "tags": []
   },
   "source": [
    "### **Project type** - Regression\n",
    "### **Contribution** - classification\n",
    "### **Team Member** - $\\color{yellow}{\\text{Surya Prakash}}$"
   ]
  },
  {
   "cell_type": "markdown",
   "id": "70b24af3-374e-4f5d-946a-022a7a5f8ec9",
   "metadata": {},
   "source": [
    "# **Project Summary**"
   ]
  },
  {
   "cell_type": "markdown",
   "id": "5e26248d-3165-469d-8ece-9b623010fbb4",
   "metadata": {},
   "source": [
    "**Data Preprocessing** : \n",
    "\n",
    "1. Getting the dataset\n",
    "2. Importing libraries\n",
    "3. Importing datasets\n",
    "4. Finding Missing Data\n",
    "5. Encoding Categorical Data\n",
    "6. Data Cleaning and Feature Engineering\n",
    "\n",
    "**Exploratory data analysis(EDA) :** \n",
    "\n",
    "\n",
    "\n",
    "\n",
    "**Supervise Machine learning algorithms and implementation :**\n",
    "\n",
    "\n",
    "\n",
    "\n",
    "\n",
    "**Model explainaibility on Best performing model**\n",
    "\n",
    "1. performed shap  \n",
    "\n",
    "2. \n",
    "\n",
    "3. "
   ]
  },
  {
   "cell_type": "markdown",
   "id": "dd43e816-c15f-474e-a2b6-f4580da10bae",
   "metadata": {},
   "source": [
    "## Data overview and column description"
   ]
  },
  {
   "cell_type": "markdown",
   "id": "77c14ddf-f08e-456b-834e-a69546cd29f3",
   "metadata": {},
   "source": [
    "# **Let's Begin**"
   ]
  },
  {
   "cell_type": "markdown",
   "id": "c2d9aa1a-1b33-4751-906f-71a97324608e",
   "metadata": {},
   "source": [
    "## ***Know Your Data***"
   ]
  },
  {
   "cell_type": "markdown",
   "id": "1d0019d1-88e9-4dcf-9acd-6f7e62407c67",
   "metadata": {},
   "source": [
    "### **Import Libraries**"
   ]
  },
  {
   "cell_type": "code",
   "execution_count": 2,
   "id": "1aeb18e3-5e79-4bc4-bce7-083f41675f06",
   "metadata": {},
   "outputs": [],
   "source": [
    "import numpy as np \n",
    "import pandas as pd \n",
    "import seaborn as sns\n",
    "import matplotlib.pyplot as plt\n",
    "%matplotlib inline\n",
    "import warnings\n",
    "warnings.filterwarnings(\"ignore\")"
   ]
  },
  {
   "cell_type": "markdown",
   "id": "75d7e38a-41c5-476f-8bc7-bd61e738a90a",
   "metadata": {},
   "source": [
    "### **Datset Loading**"
   ]
  },
  {
   "cell_type": "code",
   "execution_count": 6,
   "id": "f1e5c040-111a-48fb-922c-c43a97c0ca54",
   "metadata": {},
   "outputs": [],
   "source": [
    "# Function to load the data \n",
    "def DataLoader(path):\n",
    "    \"\"\"\n",
    "    A function to load the datset \n",
    "    Argumet - Path(path to the data file)\n",
    "    return - dataframe\n",
    "    \"\"\"\n",
    "    try:\n",
    "        dataframe = pd.read_csv(path)\n",
    "        return dataframe\n",
    "    except: # if path is incorrect or does not exist\n",
    "        print(\"path does not find\")\n",
    "\n",
    "    finally:\n",
    "        print(\"operation performed on the  dataset Location\")\n"
   ]
  },
  {
   "cell_type": "code",
   "execution_count": 10,
   "id": "71e72337-cb44-4cc4-91bd-32ab23d7b8a7",
   "metadata": {},
   "outputs": [
    {
     "name": "stdout",
     "output_type": "stream",
     "text": [
      "operation performed on the  dataset Location\n"
     ]
    }
   ],
   "source": [
    "#store resturant names\n",
    "names_df = DataLoader('Zomato Restaurant names and Metadata.csv')"
   ]
  },
  {
   "cell_type": "code",
   "execution_count": 13,
   "id": "658b9c8c-52da-494d-aafa-d174b1652ae8",
   "metadata": {},
   "outputs": [
    {
     "name": "stdout",
     "output_type": "stream",
     "text": [
      "operation performed on the  dataset Location\n"
     ]
    }
   ],
   "source": [
    "#store resturant reviews\n",
    "reviews_df = DataLoader('Zomato Restaurant reviews.csv')"
   ]
  },
  {
   "cell_type": "markdown",
   "id": "fdced018-c6a6-49dc-8b9f-de2e5f6f1fc6",
   "metadata": {},
   "source": [
    "### **Dataset First View**"
   ]
  },
  {
   "cell_type": "markdown",
   "id": "f96dcf78-664c-4922-addf-af73b6408d99",
   "metadata": {},
   "source": [
    "#### Resturant names dataframe "
   ]
  },
  {
   "cell_type": "code",
   "execution_count": 14,
   "id": "75ff0fef-ca67-4f5b-bcfa-a56146a6fbee",
   "metadata": {},
   "outputs": [
    {
     "data": {
      "text/html": [
       "<div>\n",
       "<style scoped>\n",
       "    .dataframe tbody tr th:only-of-type {\n",
       "        vertical-align: middle;\n",
       "    }\n",
       "\n",
       "    .dataframe tbody tr th {\n",
       "        vertical-align: top;\n",
       "    }\n",
       "\n",
       "    .dataframe thead th {\n",
       "        text-align: right;\n",
       "    }\n",
       "</style>\n",
       "<table border=\"1\" class=\"dataframe\">\n",
       "  <thead>\n",
       "    <tr style=\"text-align: right;\">\n",
       "      <th></th>\n",
       "      <th>Name</th>\n",
       "      <th>Links</th>\n",
       "      <th>Cost</th>\n",
       "      <th>Collections</th>\n",
       "      <th>Cuisines</th>\n",
       "      <th>Timings</th>\n",
       "    </tr>\n",
       "  </thead>\n",
       "  <tbody>\n",
       "    <tr>\n",
       "      <th>0</th>\n",
       "      <td>Beyond Flavours</td>\n",
       "      <td>https://www.zomato.com/hyderabad/beyond-flavou...</td>\n",
       "      <td>800</td>\n",
       "      <td>Food Hygiene Rated Restaurants in Hyderabad, C...</td>\n",
       "      <td>Chinese, Continental, Kebab, European, South I...</td>\n",
       "      <td>12noon to 3:30pm, 6:30pm to 11:30pm (Mon-Sun)</td>\n",
       "    </tr>\n",
       "    <tr>\n",
       "      <th>1</th>\n",
       "      <td>Paradise</td>\n",
       "      <td>https://www.zomato.com/hyderabad/paradise-gach...</td>\n",
       "      <td>800</td>\n",
       "      <td>Hyderabad's Hottest</td>\n",
       "      <td>Biryani, North Indian, Chinese</td>\n",
       "      <td>11 AM to 11 PM</td>\n",
       "    </tr>\n",
       "    <tr>\n",
       "      <th>2</th>\n",
       "      <td>Flechazo</td>\n",
       "      <td>https://www.zomato.com/hyderabad/flechazo-gach...</td>\n",
       "      <td>1,300</td>\n",
       "      <td>Great Buffets, Hyderabad's Hottest</td>\n",
       "      <td>Asian, Mediterranean, North Indian, Desserts</td>\n",
       "      <td>11:30 AM to 4:30 PM, 6:30 PM to 11 PM</td>\n",
       "    </tr>\n",
       "    <tr>\n",
       "      <th>3</th>\n",
       "      <td>Shah Ghouse Hotel &amp; Restaurant</td>\n",
       "      <td>https://www.zomato.com/hyderabad/shah-ghouse-h...</td>\n",
       "      <td>800</td>\n",
       "      <td>Late Night Restaurants</td>\n",
       "      <td>Biryani, North Indian, Chinese, Seafood, Bever...</td>\n",
       "      <td>12 Noon to 2 AM</td>\n",
       "    </tr>\n",
       "    <tr>\n",
       "      <th>4</th>\n",
       "      <td>Over The Moon Brew Company</td>\n",
       "      <td>https://www.zomato.com/hyderabad/over-the-moon...</td>\n",
       "      <td>1,200</td>\n",
       "      <td>Best Bars &amp; Pubs, Food Hygiene Rated Restauran...</td>\n",
       "      <td>Asian, Continental, North Indian, Chinese, Med...</td>\n",
       "      <td>12noon to 11pm (Mon, Tue, Wed, Thu, Sun), 12no...</td>\n",
       "    </tr>\n",
       "  </tbody>\n",
       "</table>\n",
       "</div>"
      ],
      "text/plain": [
       "                             Name  \\\n",
       "0                 Beyond Flavours   \n",
       "1                        Paradise   \n",
       "2                        Flechazo   \n",
       "3  Shah Ghouse Hotel & Restaurant   \n",
       "4      Over The Moon Brew Company   \n",
       "\n",
       "                                               Links   Cost  \\\n",
       "0  https://www.zomato.com/hyderabad/beyond-flavou...    800   \n",
       "1  https://www.zomato.com/hyderabad/paradise-gach...    800   \n",
       "2  https://www.zomato.com/hyderabad/flechazo-gach...  1,300   \n",
       "3  https://www.zomato.com/hyderabad/shah-ghouse-h...    800   \n",
       "4  https://www.zomato.com/hyderabad/over-the-moon...  1,200   \n",
       "\n",
       "                                         Collections  \\\n",
       "0  Food Hygiene Rated Restaurants in Hyderabad, C...   \n",
       "1                                Hyderabad's Hottest   \n",
       "2                 Great Buffets, Hyderabad's Hottest   \n",
       "3                             Late Night Restaurants   \n",
       "4  Best Bars & Pubs, Food Hygiene Rated Restauran...   \n",
       "\n",
       "                                            Cuisines  \\\n",
       "0  Chinese, Continental, Kebab, European, South I...   \n",
       "1                     Biryani, North Indian, Chinese   \n",
       "2       Asian, Mediterranean, North Indian, Desserts   \n",
       "3  Biryani, North Indian, Chinese, Seafood, Bever...   \n",
       "4  Asian, Continental, North Indian, Chinese, Med...   \n",
       "\n",
       "                                             Timings  \n",
       "0      12noon to 3:30pm, 6:30pm to 11:30pm (Mon-Sun)  \n",
       "1                                     11 AM to 11 PM  \n",
       "2              11:30 AM to 4:30 PM, 6:30 PM to 11 PM  \n",
       "3                                    12 Noon to 2 AM  \n",
       "4  12noon to 11pm (Mon, Tue, Wed, Thu, Sun), 12no...  "
      ]
     },
     "execution_count": 14,
     "metadata": {},
     "output_type": "execute_result"
    }
   ],
   "source": [
    "names_df.head()"
   ]
  },
  {
   "cell_type": "markdown",
   "id": "39e66d29-e223-4489-9733-d6eb7a8c30be",
   "metadata": {},
   "source": [
    "#### Resturant names dataframe"
   ]
  },
  {
   "cell_type": "code",
   "execution_count": 15,
   "id": "6d4b2b3f-10b5-451c-9f00-a05cc8dcd183",
   "metadata": {},
   "outputs": [
    {
     "data": {
      "text/html": [
       "<div>\n",
       "<style scoped>\n",
       "    .dataframe tbody tr th:only-of-type {\n",
       "        vertical-align: middle;\n",
       "    }\n",
       "\n",
       "    .dataframe tbody tr th {\n",
       "        vertical-align: top;\n",
       "    }\n",
       "\n",
       "    .dataframe thead th {\n",
       "        text-align: right;\n",
       "    }\n",
       "</style>\n",
       "<table border=\"1\" class=\"dataframe\">\n",
       "  <thead>\n",
       "    <tr style=\"text-align: right;\">\n",
       "      <th></th>\n",
       "      <th>Restaurant</th>\n",
       "      <th>Reviewer</th>\n",
       "      <th>Review</th>\n",
       "      <th>Rating</th>\n",
       "      <th>Metadata</th>\n",
       "      <th>Time</th>\n",
       "      <th>Pictures</th>\n",
       "    </tr>\n",
       "  </thead>\n",
       "  <tbody>\n",
       "    <tr>\n",
       "      <th>0</th>\n",
       "      <td>Beyond Flavours</td>\n",
       "      <td>Rusha Chakraborty</td>\n",
       "      <td>The ambience was good, food was quite good . h...</td>\n",
       "      <td>5</td>\n",
       "      <td>1 Review , 2 Followers</td>\n",
       "      <td>5/25/2019 15:54</td>\n",
       "      <td>0</td>\n",
       "    </tr>\n",
       "    <tr>\n",
       "      <th>1</th>\n",
       "      <td>Beyond Flavours</td>\n",
       "      <td>Anusha Tirumalaneedi</td>\n",
       "      <td>Ambience is too good for a pleasant evening. S...</td>\n",
       "      <td>5</td>\n",
       "      <td>3 Reviews , 2 Followers</td>\n",
       "      <td>5/25/2019 14:20</td>\n",
       "      <td>0</td>\n",
       "    </tr>\n",
       "    <tr>\n",
       "      <th>2</th>\n",
       "      <td>Beyond Flavours</td>\n",
       "      <td>Ashok Shekhawat</td>\n",
       "      <td>A must try.. great food great ambience. Thnx f...</td>\n",
       "      <td>5</td>\n",
       "      <td>2 Reviews , 3 Followers</td>\n",
       "      <td>5/24/2019 22:54</td>\n",
       "      <td>0</td>\n",
       "    </tr>\n",
       "    <tr>\n",
       "      <th>3</th>\n",
       "      <td>Beyond Flavours</td>\n",
       "      <td>Swapnil Sarkar</td>\n",
       "      <td>Soumen das and Arun was a great guy. Only beca...</td>\n",
       "      <td>5</td>\n",
       "      <td>1 Review , 1 Follower</td>\n",
       "      <td>5/24/2019 22:11</td>\n",
       "      <td>0</td>\n",
       "    </tr>\n",
       "    <tr>\n",
       "      <th>4</th>\n",
       "      <td>Beyond Flavours</td>\n",
       "      <td>Dileep</td>\n",
       "      <td>Food is good.we ordered Kodi drumsticks and ba...</td>\n",
       "      <td>5</td>\n",
       "      <td>3 Reviews , 2 Followers</td>\n",
       "      <td>5/24/2019 21:37</td>\n",
       "      <td>0</td>\n",
       "    </tr>\n",
       "  </tbody>\n",
       "</table>\n",
       "</div>"
      ],
      "text/plain": [
       "        Restaurant              Reviewer  \\\n",
       "0  Beyond Flavours     Rusha Chakraborty   \n",
       "1  Beyond Flavours  Anusha Tirumalaneedi   \n",
       "2  Beyond Flavours       Ashok Shekhawat   \n",
       "3  Beyond Flavours        Swapnil Sarkar   \n",
       "4  Beyond Flavours                Dileep   \n",
       "\n",
       "                                              Review Rating  \\\n",
       "0  The ambience was good, food was quite good . h...      5   \n",
       "1  Ambience is too good for a pleasant evening. S...      5   \n",
       "2  A must try.. great food great ambience. Thnx f...      5   \n",
       "3  Soumen das and Arun was a great guy. Only beca...      5   \n",
       "4  Food is good.we ordered Kodi drumsticks and ba...      5   \n",
       "\n",
       "                  Metadata             Time  Pictures  \n",
       "0   1 Review , 2 Followers  5/25/2019 15:54         0  \n",
       "1  3 Reviews , 2 Followers  5/25/2019 14:20         0  \n",
       "2  2 Reviews , 3 Followers  5/24/2019 22:54         0  \n",
       "3    1 Review , 1 Follower  5/24/2019 22:11         0  \n",
       "4  3 Reviews , 2 Followers  5/24/2019 21:37         0  "
      ]
     },
     "execution_count": 15,
     "metadata": {},
     "output_type": "execute_result"
    }
   ],
   "source": [
    "reviews_df.head()"
   ]
  },
  {
   "cell_type": "code",
   "execution_count": 17,
   "id": "ec0349b0-391c-4b3d-97f4-8d1570234c33",
   "metadata": {},
   "outputs": [
    {
     "name": "stdout",
     "output_type": "stream",
     "text": [
      "the name_df dataset has toltal of  105 rows and 6 columns\n"
     ]
    }
   ],
   "source": [
    "print(f\"the name_df dataset has toltal of  {names_df.shape[0]} rows and {names_df.shape[1]} columns\") "
   ]
  },
  {
   "cell_type": "code",
   "execution_count": 18,
   "id": "a9d1fbdb-ad49-4c8b-a222-c6b9c0c8a084",
   "metadata": {},
   "outputs": [
    {
     "name": "stdout",
     "output_type": "stream",
     "text": [
      "the reviews_df dataset has toltal of  10000 rows and 7 columns\n"
     ]
    }
   ],
   "source": [
    "print(f\"the reviews_df dataset has toltal of  {reviews_df.shape[0]} rows and {reviews_df.shape[1]} columns\") "
   ]
  },
  {
   "cell_type": "markdown",
   "id": "86993a29-c129-4ede-8eac-0ff3003429dd",
   "metadata": {},
   "source": [
    "### Dataset Information"
   ]
  },
  {
   "cell_type": "code",
   "execution_count": 19,
   "id": "114ab9ef-758a-4674-a7dc-08036094d4e3",
   "metadata": {},
   "outputs": [
    {
     "name": "stdout",
     "output_type": "stream",
     "text": [
      "<class 'pandas.core.frame.DataFrame'>\n",
      "RangeIndex: 105 entries, 0 to 104\n",
      "Data columns (total 6 columns):\n",
      " #   Column       Non-Null Count  Dtype \n",
      "---  ------       --------------  ----- \n",
      " 0   Name         105 non-null    object\n",
      " 1   Links        105 non-null    object\n",
      " 2   Cost         105 non-null    object\n",
      " 3   Collections  51 non-null     object\n",
      " 4   Cuisines     105 non-null    object\n",
      " 5   Timings      104 non-null    object\n",
      "dtypes: object(6)\n",
      "memory usage: 5.0+ KB\n"
     ]
    }
   ],
   "source": [
    "names_df.info()"
   ]
  },
  {
   "cell_type": "code",
   "execution_count": 20,
   "id": "eaee6733-8a15-4f59-9353-cf6917d64533",
   "metadata": {},
   "outputs": [
    {
     "name": "stdout",
     "output_type": "stream",
     "text": [
      "<class 'pandas.core.frame.DataFrame'>\n",
      "RangeIndex: 10000 entries, 0 to 9999\n",
      "Data columns (total 7 columns):\n",
      " #   Column      Non-Null Count  Dtype \n",
      "---  ------      --------------  ----- \n",
      " 0   Restaurant  10000 non-null  object\n",
      " 1   Reviewer    9962 non-null   object\n",
      " 2   Review      9955 non-null   object\n",
      " 3   Rating      9962 non-null   object\n",
      " 4   Metadata    9962 non-null   object\n",
      " 5   Time        9962 non-null   object\n",
      " 6   Pictures    10000 non-null  int64 \n",
      "dtypes: int64(1), object(6)\n",
      "memory usage: 547.0+ KB\n"
     ]
    }
   ],
   "source": [
    "reviews_df.info()"
   ]
  },
  {
   "cell_type": "markdown",
   "id": "9f6b8451-1c15-40db-b7be-d7a3222005a5",
   "metadata": {},
   "source": [
    "#### Duplicate Values"
   ]
  },
  {
   "cell_type": "code",
   "execution_count": 21,
   "id": "373f1af1-1faa-45e8-843b-743ad15933ee",
   "metadata": {},
   "outputs": [
    {
     "name": "stdout",
     "output_type": "stream",
     "text": [
      " We have 0 duplicate values in the names dataset.\n"
     ]
    }
   ],
   "source": [
    "# Dataset Duplicate Value Count\n",
    "print(f' We have {names_df.duplicated().sum()} duplicate values in the names dataset.')"
   ]
  },
  {
   "cell_type": "code",
   "execution_count": 22,
   "id": "0de2d61b-aa61-44a9-a591-9dd61d59aa80",
   "metadata": {},
   "outputs": [
    {
     "name": "stdout",
     "output_type": "stream",
     "text": [
      " We have 36 duplicate values in the names dataset.\n"
     ]
    }
   ],
   "source": [
    "# Dataset Duplicate Value Count\n",
    "print(f' We have {reviews_df.duplicated().sum()} duplicate values in the names dataset.')"
   ]
  },
  {
   "cell_type": "code",
   "execution_count": null,
   "id": "054f2de9-0be2-4bfd-8933-e97241d75772",
   "metadata": {},
   "outputs": [],
   "source": [
    "# Remove duplicated rows\n",
    "reviews_df = reviews_df.drop_duplicates()"
   ]
  },
  {
   "cell_type": "markdown",
   "id": "74f2bd3f-69f9-460b-9663-997fab8b16c5",
   "metadata": {},
   "source": [
    "#### Handling missing and nan values"
   ]
  },
  {
   "cell_type": "code",
   "execution_count": 24,
   "id": "2d0b1f64-50e1-4cfb-8b0a-f080ce0fe1f9",
   "metadata": {},
   "outputs": [
    {
     "data": {
      "text/plain": [
       "Collections    54\n",
       "Timings         1\n",
       "Name            0\n",
       "Links           0\n",
       "Cost            0\n",
       "Cuisines        0\n",
       "dtype: int64"
      ]
     },
     "execution_count": 24,
     "metadata": {},
     "output_type": "execute_result"
    }
   ],
   "source": [
    "# Missing Values/Null Values Count\n",
    "names_df.isna().sum().sort_values(ascending=False)"
   ]
  },
  {
   "cell_type": "code",
   "execution_count": 25,
   "id": "54016215-2710-4278-be12-92a157524f02",
   "metadata": {},
   "outputs": [
    {
     "data": {
      "text/plain": [
       "Review        45\n",
       "Reviewer      38\n",
       "Rating        38\n",
       "Metadata      38\n",
       "Time          38\n",
       "Restaurant     0\n",
       "Pictures       0\n",
       "dtype: int64"
      ]
     },
     "execution_count": 25,
     "metadata": {},
     "output_type": "execute_result"
    }
   ],
   "source": [
    "reviews_df.isna().sum().sort_values(ascending=False)"
   ]
  },
  {
   "cell_type": "code",
   "execution_count": 26,
   "id": "b082457c-0bdf-4679-894c-6e50d314dfb2",
   "metadata": {},
   "outputs": [
    {
     "data": {
      "text/plain": [
       "Text(0.5, 1.0, ' Visualising Missing Values')"
      ]
     },
     "execution_count": 26,
     "metadata": {},
     "output_type": "execute_result"
    },
    {
     "data": {
      "image/png": "[encoded data removed]",
      "text/plain": [
       "<Figure size 1500x500 with 2 Axes>"
      ]
     },
     "metadata": {},
     "output_type": "display_data"
    }
   ],
   "source": [
    "# Visualizing the missing values\n",
    "plt.figure(figsize=(15,5))\n",
    "sns.heatmap(reviews_df.isnull(),cmap='plasma',annot=False,yticklabels=False)\n",
    "plt.title(\" Visualising Missing Values\")"
   ]
  },
  {
   "cell_type": "markdown",
   "id": "77757192-c5fc-4f49-b6fe-45e11c20c82e",
   "metadata": {},
   "source": [
    "#### Dataframe unique values"
   ]
  },
  {
   "cell_type": "code",
   "execution_count": 29,
   "id": "06fb5db8-d75c-42c9-888c-ffca95480860",
   "metadata": {},
   "outputs": [],
   "source": [
    "#print unique value in categorical value \n",
    "#since the dataset is large numerical value whose unique number are less than should be focussed\n",
    "\n",
    "def print_values(dataframe):\n",
    "    for i in dataframe.columns.tolist():\n",
    "        if dataframe[i].dtype=='O':\n",
    "            print(f\"the categorical column {i} have {dataframe[i].nunique()} unique values \")\n",
    "            if dataframe[i].nunique() <=30 :\n",
    "                print(f\"the unique value in the columns are {dataframe[i].unique()}\")\n",
    "        else:\n",
    "            print(f\"the  numerical column {i} have {dataframe[i].nunique()} unique values \")\n",
    "            if dataframe[i].nunique() <=30:\n",
    "                print(f\" the unique value in the columns are{dataframe[i].unique()}\")"
   ]
  },
  {
   "cell_type": "code",
   "execution_count": 30,
   "id": "0246e62a-e36e-4b72-a4d4-70618436674f",
   "metadata": {},
   "outputs": [
    {
     "name": "stdout",
     "output_type": "stream",
     "text": [
      "the categorical column Name have 105 unique values \n",
      "the categorical column Links have 105 unique values \n",
      "the categorical column Cost have 29 unique values \n",
      "the unique value in the columns are ['800' '1,300' '1,200' '1,500' '500' '300' '1,000' '350' '400' '1,600'\n",
      " '750' '550' '1,900' '450' '150' '1,400' '1,100' '600' '200' '900' '700'\n",
      " '1,700' '2,500' '850' '650' '1,800' '2,800' '1,750' '250']\n",
      "the categorical column Collections have 42 unique values \n",
      "the categorical column Cuisines have 92 unique values \n",
      "the categorical column Timings have 77 unique values \n"
     ]
    }
   ],
   "source": [
    "print_values(names_df)"
   ]
  },
  {
   "cell_type": "code",
   "execution_count": 33,
   "id": "6301b9b9-8aa7-4803-9817-53d1e0017bf1",
   "metadata": {},
   "outputs": [
    {
     "name": "stdout",
     "output_type": "stream",
     "text": [
      "the categorical column Restaurant have 100 unique values \n",
      "the categorical column Reviewer have 7446 unique values \n",
      "the categorical column Review have 9364 unique values \n",
      "the categorical column Rating have 10 unique values \n",
      "the unique value in the columns are ['5' '4' '1' '3' '2' '3.5' '4.5' '2.5' '1.5' 'Like' nan]\n",
      "the categorical column Metadata have 2477 unique values \n",
      "the categorical column Time have 9782 unique values \n",
      "the  numerical column Pictures have 36 unique values \n"
     ]
    }
   ],
   "source": [
    "print_values(reviews_df)"
   ]
  },
  {
   "cell_type": "markdown",
   "id": "6aa8d853-4820-4a3f-9f84-3a69c71d4467",
   "metadata": {},
   "source": [
    "## Data wrangling"
   ]
  },
  {
   "cell_type": "code",
   "execution_count": 37,
   "id": "8c767f4f-a007-4e7e-93cc-f4f73c2cf240",
   "metadata": {},
   "outputs": [],
   "source": [
    "# Merge the dataframes on the 'name' column\n",
    "final_df = pd.merge(\n",
    "    left=reviews_df,           # the first dataframe to merge\n",
    "    right=names_df,          # the second dataframe to merge\n",
    "    how='left',        # how to perform the merge, 'inner' keeps only matching rows\n",
    "    left_on='Restaurant', right_on='Name')\n",
    "#drop the duplicated column\n",
    "final_df.drop(\"Name\",axis=1,inplace=True)"
   ]
  },
  {
   "cell_type": "code",
   "execution_count": 42,
   "id": "c8b0e29d-61cd-4c3d-92c6-949c12d5016c",
   "metadata": {},
   "outputs": [
    {
     "data": {
      "text/plain": [
       "5       3832\n",
       "4       2373\n",
       "1       1735\n",
       "3       1193\n",
       "2        684\n",
       "4.5       69\n",
       "3.5       47\n",
       "2.5       19\n",
       "1.5        9\n",
       "Like       1\n",
       "Name: Rating, dtype: int64"
      ]
     },
     "execution_count": 42,
     "metadata": {},
     "output_type": "execute_result"
    }
   ],
   "source": [
    "#count of rating and their distribution\n",
    "final_df[\"Rating\"].value_counts()"
   ]
  },
  {
   "cell_type": "markdown",
   "id": "a51eeec8-0f1c-40af-bf09-bd89ba92823d",
   "metadata": {},
   "source": [
    "*Most of the customer have given 5 star to the Restaurants on zomato*"
   ]
  },
  {
   "cell_type": "code",
   "execution_count": 46,
   "id": "40ca3486-d6b8-4ecf-a54e-10d663fb8693",
   "metadata": {},
   "outputs": [
    {
     "data": {
      "text/html": [
       "<div>\n",
       "<style scoped>\n",
       "    .dataframe tbody tr th:only-of-type {\n",
       "        vertical-align: middle;\n",
       "    }\n",
       "\n",
       "    .dataframe tbody tr th {\n",
       "        vertical-align: top;\n",
       "    }\n",
       "\n",
       "    .dataframe thead th {\n",
       "        text-align: right;\n",
       "    }\n",
       "</style>\n",
       "<table border=\"1\" class=\"dataframe\">\n",
       "  <thead>\n",
       "    <tr style=\"text-align: right;\">\n",
       "      <th></th>\n",
       "      <th>Rating</th>\n",
       "      <th>Restaurant</th>\n",
       "    </tr>\n",
       "  </thead>\n",
       "  <tbody>\n",
       "    <tr>\n",
       "      <th>0</th>\n",
       "      <td>1</td>\n",
       "      <td>1735</td>\n",
       "    </tr>\n",
       "    <tr>\n",
       "      <th>1</th>\n",
       "      <td>1.5</td>\n",
       "      <td>9</td>\n",
       "    </tr>\n",
       "    <tr>\n",
       "      <th>2</th>\n",
       "      <td>2</td>\n",
       "      <td>684</td>\n",
       "    </tr>\n",
       "    <tr>\n",
       "      <th>3</th>\n",
       "      <td>2.5</td>\n",
       "      <td>19</td>\n",
       "    </tr>\n",
       "    <tr>\n",
       "      <th>4</th>\n",
       "      <td>3</td>\n",
       "      <td>1193</td>\n",
       "    </tr>\n",
       "    <tr>\n",
       "      <th>5</th>\n",
       "      <td>3.5</td>\n",
       "      <td>47</td>\n",
       "    </tr>\n",
       "    <tr>\n",
       "      <th>6</th>\n",
       "      <td>4</td>\n",
       "      <td>2373</td>\n",
       "    </tr>\n",
       "    <tr>\n",
       "      <th>7</th>\n",
       "      <td>4.5</td>\n",
       "      <td>69</td>\n",
       "    </tr>\n",
       "    <tr>\n",
       "      <th>8</th>\n",
       "      <td>5</td>\n",
       "      <td>3832</td>\n",
       "    </tr>\n",
       "    <tr>\n",
       "      <th>9</th>\n",
       "      <td>Like</td>\n",
       "      <td>1</td>\n",
       "    </tr>\n",
       "  </tbody>\n",
       "</table>\n",
       "</div>"
      ],
      "text/plain": [
       "  Rating  Restaurant\n",
       "0      1        1735\n",
       "1    1.5           9\n",
       "2      2         684\n",
       "3    2.5          19\n",
       "4      3        1193\n",
       "5    3.5          47\n",
       "6      4        2373\n",
       "7    4.5          69\n",
       "8      5        3832\n",
       "9   Like           1"
      ]
     },
     "execution_count": 46,
     "metadata": {},
     "output_type": "execute_result"
    }
   ],
   "source": [
    "final_df.groupby(\"Rating\")[\"Restaurant\"].count().reset_index()"
   ]
  },
  {
   "cell_type": "markdown",
   "id": "9a1d0aff-9706-4734-9617-5c0d0d39efa7",
   "metadata": {},
   "source": [
    "### Removing punctuations"
   ]
  },
  {
   "cell_type": "code",
   "execution_count": 53,
   "id": "815e48f2-fce4-49dc-8ae7-69dbfe5e64b0",
   "metadata": {},
   "outputs": [],
   "source": [
    "def remove_punctuation(text):\n",
    "    '''a function for removing punctuation'''\n",
    "    import string\n",
    "    # replacing the punctuations with no space, \n",
    "    # which in effect deletes the punctuation marks \n",
    "    translator = str.maketrans('', '', string.punctuation)\n",
    "    # return the text stripped of punctuation marks\n",
    "    return text.translate(translator)"
   ]
  },
  {
   "cell_type": "code",
   "execution_count": 56,
   "id": "81c83d4a-207d-4d96-952e-31e35a9e54b7",
   "metadata": {},
   "outputs": [],
   "source": [
    "#Apply the function to each examples\n",
    "final_df['Review'] = final_df['Review'].fillna('').astype(str).apply(remove_punctuation)"
   ]
  },
  {
   "cell_type": "markdown",
   "id": "b8dd0828-698d-4cbc-822e-6fd19d9df112",
   "metadata": {},
   "source": [
    "### Removing stopwords"
   ]
  },
  {
   "cell_type": "code",
   "execution_count": 58,
   "id": "fb8acacd-e8da-44d1-a28b-c036e424e63e",
   "metadata": {},
   "outputs": [
    {
     "name": "stderr",
     "output_type": "stream",
     "text": [
      "[nltk_data] Downloading package stopwords to /home/studio-lab-\n",
      "[nltk_data]     user/nltk_data...\n",
      "[nltk_data]   Unzipping corpora/stopwords.zip.\n"
     ]
    },
    {
     "data": {
      "text/plain": [
       "True"
      ]
     },
     "execution_count": 58,
     "metadata": {},
     "output_type": "execute_result"
    }
   ],
   "source": [
    "#Extract the st#op words\n",
    "import nltk\n",
    "nltk.download('stopwords')"
   ]
  },
  {
   "cell_type": "code",
   "execution_count": 60,
   "id": "9e0e667a-7c18-4ce5-89a5-8e4a17c7415f",
   "metadata": {},
   "outputs": [
    {
     "data": {
      "text/plain": [
       "array(['i', 'me', 'my', 'myself', 'we', 'our', 'ours', 'ourselves', 'you',\n",
       "       \"you're\", \"you've\", \"you'll\", \"you'd\", 'your', 'yours', 'yourself',\n",
       "       'yourselves', 'he', 'him', 'his', 'himself', 'she', \"she's\", 'her',\n",
       "       'hers', 'herself', 'it', \"it's\", 'its', 'itself', 'they', 'them',\n",
       "       'their', 'theirs', 'themselves', 'what', 'which', 'who', 'whom',\n",
       "       'this', 'that', \"that'll\", 'these', 'those', 'am', 'is', 'are',\n",
       "       'was', 'were', 'be', 'been', 'being', 'have', 'has', 'had',\n",
       "       'having', 'do', 'does', 'did', 'doing', 'a', 'an', 'the', 'and',\n",
       "       'but', 'if', 'or', 'because', 'as', 'until', 'while', 'of', 'at',\n",
       "       'by', 'for', 'with', 'about', 'against', 'between', 'into',\n",
       "       'through', 'during', 'before', 'after', 'above', 'below', 'to',\n",
       "       'from', 'up', 'down', 'in', 'out', 'on', 'off', 'over', 'under',\n",
       "       'again', 'further', 'then', 'once', 'here', 'there', 'when',\n",
       "       'where', 'why', 'how', 'all', 'any', 'both', 'each', 'few', 'more',\n",
       "       'most', 'other', 'some', 'such', 'no', 'nor', 'not', 'only', 'own',\n",
       "       'same', 'so', 'than', 'too', 'very', 's', 't', 'can', 'will',\n",
       "       'just', 'don', \"don't\", 'should', \"should've\", 'now', 'd', 'll',\n",
       "       'm', 'o', 're', 've', 'y', 'ain', 'aren', \"aren't\", 'couldn',\n",
       "       \"couldn't\", 'didn', \"didn't\", 'doesn', \"doesn't\", 'hadn', \"hadn't\",\n",
       "       'hasn', \"hasn't\", 'haven', \"haven't\", 'isn', \"isn't\", 'ma',\n",
       "       'mightn', \"mightn't\", 'mustn', \"mustn't\", 'needn', \"needn't\",\n",
       "       'shan', \"shan't\", 'shouldn', \"shouldn't\", 'wasn', \"wasn't\",\n",
       "       'weren', \"weren't\", 'won', \"won't\", 'wouldn', \"wouldn't\"],\n",
       "      dtype='<U10')"
      ]
     },
     "execution_count": 60,
     "metadata": {},
     "output_type": "execute_result"
    }
   ],
   "source": [
    "from nltk.corpus import stopwords\n",
    "# extracting the stopwords from nltk library\n",
    "sw = stopwords.words('english')\n",
    "# displaying the stopwords\n",
    "np.array(sw)"
   ]
  },
  {
   "cell_type": "markdown",
   "id": "14d4c5b9-1cb5-4b87-91eb-8abd808f755c",
   "metadata": {},
   "source": [
    "#### Function to remove stopwords"
   ]
  },
  {
   "cell_type": "code",
   "execution_count": 61,
   "id": "cc290734-98cf-47e1-abc2-3088081e512b",
   "metadata": {},
   "outputs": [],
   "source": [
    "def stopwords(text):\n",
    "    '''a function for removing the stopword'''\n",
    "    # removing the stop words and lowercasing the selected words\n",
    "    text = [word.lower() for word in text.split() if word.lower() not in sw]\n",
    "    # joining the list of words with space separator\n",
    "    return \" \".join(text)"
   ]
  },
  {
   "cell_type": "code",
   "execution_count": null,
   "id": "2f86b77c-96c8-41cc-ab39-526fb1d00a41",
   "metadata": {},
   "outputs": [],
   "source": []
  }
 ],
 "metadata": {
  "kernelspec": {
   "display_name": "myenv:Python",
   "language": "python",
   "name": "conda-env-myenv-py"
  },
  "language_info": {
   "codemirror_mode": {
    "name": "ipython",
    "version": 3
   },
   "file_extension": ".py",
   "mimetype": "text/x-python",
   "name": "python",
   "nbconvert_exporter": "python",
   "pygments_lexer": "ipython3",
   "version": "3.9.16"
  },
  "widgets": {
   "application/vnd.jupyter.widget-state+json": {
    "state": {},
    "version_major": 2,
    "version_minor": 0
   }
  }
 },
 "nbformat": 4,
 "nbformat_minor": 5
}
