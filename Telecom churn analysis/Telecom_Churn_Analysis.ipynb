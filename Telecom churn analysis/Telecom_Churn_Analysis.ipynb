{
  "nbformat": 4,
  "nbformat_minor": 0,
  "metadata": {
    "colab": {
      "provenance": [],
      "collapsed_sections": [
        "xuGnOxzD8fvW",
        "IamojXoR9JZN",
        "ZoMb_sn9-cTL",
        "w7Svt_OjsHBW",
        "Ujvg_JVQuEW9",
        "Y2RJWHKhu6B5",
        "zlit0aUxzMQ8",
        "-ccLGVet0LRu",
        "Sz6qiQVh8G-O",
        "zJtPEqM1BJln",
        "2qRI69QyEUZZ",
        "8Q3AIC8uIjs3",
        "9NyOlOa6Nd27",
        "hfd52c6KTbFP",
        "rXiMwJ3T-K4p",
        "Vt6Br004CSvn",
        "YRtXcLVW_lvS",
        "35j3T3QDRdDR",
        "Rz8bygKk9v-j",
        "jBaM7Lw1AXFx",
        "Whc06YmYrztX",
        "IcvkfI-TwAre",
        "oDcWSrztoTvS",
        "V_saHW_4tDyC",
        "YGpF6_lkypZn"
      ],
      "authorship_tag": "ABX9TyMoN8XCmLEmmu1gARNzSnIr",
      "include_colab_link": true
    },
    "kernelspec": {
      "name": "python3",
      "display_name": "Python 3"
    },
    "language_info": {
      "name": "python"
    }
  },
  "cells": [
    {
      "cell_type": "markdown",
      "metadata": {
        "id": "view-in-github",
        "colab_type": "text"
      },
      "source": [
        "<a href=\"https://colab.research.google.com/github/surya81/Alma-better-projects/blob/main/Telecom_Churn_Analysis.ipynb\" target=\"_parent\"><img src=\"https://colab.research.google.com/assets/colab-badge.svg\" alt=\"Open In Colab\"/></a>"
      ]
    },
    {
      "cell_type": "markdown",
      "source": [
        "# **Project name - Telecom Churn Analysis**"
      ],
      "metadata": {
        "id": "xuGnOxzD8fvW"
      }
    },
    {
      "cell_type": "markdown",
      "source": [
        "#### **Type** - EDA\n",
        "#### **Contribution** - **Individual**"
      ],
      "metadata": {
        "id": "IamojXoR9JZN"
      }
    },
    {
      "cell_type": "markdown",
      "source": [
        "# **Problem Analysis**"
      ],
      "metadata": {
        "id": "ZoMb_sn9-cTL"
      }
    },
    {
      "cell_type": "markdown",
      "source": [
        " **Every telecom service provider company in course of development to adding new customers makes sures that they donot loose their existing customers .However every year a large no of people using their services changes from one provider to another in search of better services and price feasibilty,In oerder to bring back these existing customer an company eventually found themselves in expending a lot off costs**\n",
        "**The orange S.A france Telecom which is a telecom company That wish to know about he reason for their churning people**\n",
        "**So,In order to maintain and develop better plans telecom compamnies does regular churn analysis of their customers for taking feedback in their lacking services and how to do better on these feedbackstext**"
      ],
      "metadata": {
        "id": "RYEFMMSVr4-c"
      }
    },
    {
      "cell_type": "markdown",
      "source": [
        "# **Objective**"
      ],
      "metadata": {
        "id": "w7Svt_OjsHBW"
      }
    },
    {
      "cell_type": "markdown",
      "source": [
        "**we will try to absorb valuable information from the customer data and we will use this information  to help in developing some new plans and method which will automitically leads us in reducing customer churn rate of the company**"
      ],
      "metadata": {
        "id": "yfv26MxYsleE"
      }
    },
    {
      "cell_type": "markdown",
      "source": [
        "#**Libraries**"
      ],
      "metadata": {
        "id": "Ujvg_JVQuEW9"
      }
    },
    {
      "cell_type": "code",
      "source": [
        "import numpy as np\n",
        "import pandas as pd \n",
        "import seaborn as sns\n",
        "import matplotlib.pyplot as plt\n",
        "%matplotlib inline\n",
        "import warnings\n",
        "warnings.filterwarnings(\"ignore\")"
      ],
      "metadata": {
        "id": "jkghKtRIsked"
      },
      "execution_count": 57,
      "outputs": []
    },
    {
      "cell_type": "markdown",
      "source": [
        "#**Dataset Loading**"
      ],
      "metadata": {
        "id": "Y2RJWHKhu6B5"
      }
    },
    {
      "cell_type": "code",
      "source": [
        "def DatasetLoader(path): # A function to load the dataset \n",
        "    \"\"\"\n",
        "    Argument - path to the dataset \n",
        "    this function the the csv file using pandas function \n",
        "    return dataframe  \"\"\"\n",
        "\n",
        "    try :\n",
        "        df = pd.read_csv(path) # read the data in csv format\n",
        "        return df\n",
        "\n",
        "    except: # if the path is not correct\n",
        "        print(\"the specified file path is not correct\")\n"
      ],
      "metadata": {
        "id": "3Jai_rluwSFF"
      },
      "execution_count": 58,
      "outputs": []
    },
    {
      "cell_type": "code",
      "source": [
        "telecom_dataset = DatasetLoader('/content/Telecom Churn.csv')#store the dataframe in telecom_df variable"
      ],
      "metadata": {
        "id": "1rIdurOeyvEF"
      },
      "execution_count": 59,
      "outputs": []
    },
    {
      "cell_type": "markdown",
      "source": [
        "# **Dataset Exploration**"
      ],
      "metadata": {
        "id": "zlit0aUxzMQ8"
      }
    },
    {
      "cell_type": "code",
      "source": [
        "telecom_dataset.head() #observe the first 5 rows of dataframe"
      ],
      "metadata": {
        "colab": {
          "base_uri": "https://localhost:8080/",
          "height": 0
        },
        "id": "WVD4OTp6zESp",
        "outputId": "a8a64261-d7c4-471d-a490-9de88c3ba1f9"
      },
      "execution_count": 60,
      "outputs": [
        {
          "output_type": "execute_result",
          "data": {
            "text/plain": [
              "  State  Account length  Area code International plan Voice mail plan  \\\n",
              "0    KS             128        415                 No             Yes   \n",
              "1    OH             107        415                 No             Yes   \n",
              "2    NJ             137        415                 No              No   \n",
              "3    OH              84        408                Yes              No   \n",
              "4    OK              75        415                Yes              No   \n",
              "\n",
              "   Number vmail messages  Total day minutes  Total day calls  \\\n",
              "0                     25              265.1              110   \n",
              "1                     26              161.6              123   \n",
              "2                      0              243.4              114   \n",
              "3                      0              299.4               71   \n",
              "4                      0              166.7              113   \n",
              "\n",
              "   Total day charge  Total eve minutes  Total eve calls  Total eve charge  \\\n",
              "0             45.07              197.4               99             16.78   \n",
              "1             27.47              195.5              103             16.62   \n",
              "2             41.38              121.2              110             10.30   \n",
              "3             50.90               61.9               88              5.26   \n",
              "4             28.34              148.3              122             12.61   \n",
              "\n",
              "   Total night minutes  Total night calls  Total night charge  \\\n",
              "0                244.7                 91               11.01   \n",
              "1                254.4                103               11.45   \n",
              "2                162.6                104                7.32   \n",
              "3                196.9                 89                8.86   \n",
              "4                186.9                121                8.41   \n",
              "\n",
              "   Total intl minutes  Total intl calls  Total intl charge  \\\n",
              "0                10.0                 3               2.70   \n",
              "1                13.7                 3               3.70   \n",
              "2                12.2                 5               3.29   \n",
              "3                 6.6                 7               1.78   \n",
              "4                10.1                 3               2.73   \n",
              "\n",
              "   Customer service calls  Churn  \n",
              "0                       1  False  \n",
              "1                       1  False  \n",
              "2                       0  False  \n",
              "3                       2  False  \n",
              "4                       3  False  "
            ],
            "text/html": [
              "\n",
              "  <div id=\"df-8863c604-849a-4dde-a033-314b0505ebf4\">\n",
              "    <div class=\"colab-df-container\">\n",
              "      <div>\n",
              "<style scoped>\n",
              "    .dataframe tbody tr th:only-of-type {\n",
              "        vertical-align: middle;\n",
              "    }\n",
              "\n",
              "    .dataframe tbody tr th {\n",
              "        vertical-align: top;\n",
              "    }\n",
              "\n",
              "    .dataframe thead th {\n",
              "        text-align: right;\n",
              "    }\n",
              "</style>\n",
              "<table border=\"1\" class=\"dataframe\">\n",
              "  <thead>\n",
              "    <tr style=\"text-align: right;\">\n",
              "      <th></th>\n",
              "      <th>State</th>\n",
              "      <th>Account length</th>\n",
              "      <th>Area code</th>\n",
              "      <th>International plan</th>\n",
              "      <th>Voice mail plan</th>\n",
              "      <th>Number vmail messages</th>\n",
              "      <th>Total day minutes</th>\n",
              "      <th>Total day calls</th>\n",
              "      <th>Total day charge</th>\n",
              "      <th>Total eve minutes</th>\n",
              "      <th>Total eve calls</th>\n",
              "      <th>Total eve charge</th>\n",
              "      <th>Total night minutes</th>\n",
              "      <th>Total night calls</th>\n",
              "      <th>Total night charge</th>\n",
              "      <th>Total intl minutes</th>\n",
              "      <th>Total intl calls</th>\n",
              "      <th>Total intl charge</th>\n",
              "      <th>Customer service calls</th>\n",
              "      <th>Churn</th>\n",
              "    </tr>\n",
              "  </thead>\n",
              "  <tbody>\n",
              "    <tr>\n",
              "      <th>0</th>\n",
              "      <td>KS</td>\n",
              "      <td>128</td>\n",
              "      <td>415</td>\n",
              "      <td>No</td>\n",
              "      <td>Yes</td>\n",
              "      <td>25</td>\n",
              "      <td>265.1</td>\n",
              "      <td>110</td>\n",
              "      <td>45.07</td>\n",
              "      <td>197.4</td>\n",
              "      <td>99</td>\n",
              "      <td>16.78</td>\n",
              "      <td>244.7</td>\n",
              "      <td>91</td>\n",
              "      <td>11.01</td>\n",
              "      <td>10.0</td>\n",
              "      <td>3</td>\n",
              "      <td>2.70</td>\n",
              "      <td>1</td>\n",
              "      <td>False</td>\n",
              "    </tr>\n",
              "    <tr>\n",
              "      <th>1</th>\n",
              "      <td>OH</td>\n",
              "      <td>107</td>\n",
              "      <td>415</td>\n",
              "      <td>No</td>\n",
              "      <td>Yes</td>\n",
              "      <td>26</td>\n",
              "      <td>161.6</td>\n",
              "      <td>123</td>\n",
              "      <td>27.47</td>\n",
              "      <td>195.5</td>\n",
              "      <td>103</td>\n",
              "      <td>16.62</td>\n",
              "      <td>254.4</td>\n",
              "      <td>103</td>\n",
              "      <td>11.45</td>\n",
              "      <td>13.7</td>\n",
              "      <td>3</td>\n",
              "      <td>3.70</td>\n",
              "      <td>1</td>\n",
              "      <td>False</td>\n",
              "    </tr>\n",
              "    <tr>\n",
              "      <th>2</th>\n",
              "      <td>NJ</td>\n",
              "      <td>137</td>\n",
              "      <td>415</td>\n",
              "      <td>No</td>\n",
              "      <td>No</td>\n",
              "      <td>0</td>\n",
              "      <td>243.4</td>\n",
              "      <td>114</td>\n",
              "      <td>41.38</td>\n",
              "      <td>121.2</td>\n",
              "      <td>110</td>\n",
              "      <td>10.30</td>\n",
              "      <td>162.6</td>\n",
              "      <td>104</td>\n",
              "      <td>7.32</td>\n",
              "      <td>12.2</td>\n",
              "      <td>5</td>\n",
              "      <td>3.29</td>\n",
              "      <td>0</td>\n",
              "      <td>False</td>\n",
              "    </tr>\n",
              "    <tr>\n",
              "      <th>3</th>\n",
              "      <td>OH</td>\n",
              "      <td>84</td>\n",
              "      <td>408</td>\n",
              "      <td>Yes</td>\n",
              "      <td>No</td>\n",
              "      <td>0</td>\n",
              "      <td>299.4</td>\n",
              "      <td>71</td>\n",
              "      <td>50.90</td>\n",
              "      <td>61.9</td>\n",
              "      <td>88</td>\n",
              "      <td>5.26</td>\n",
              "      <td>196.9</td>\n",
              "      <td>89</td>\n",
              "      <td>8.86</td>\n",
              "      <td>6.6</td>\n",
              "      <td>7</td>\n",
              "      <td>1.78</td>\n",
              "      <td>2</td>\n",
              "      <td>False</td>\n",
              "    </tr>\n",
              "    <tr>\n",
              "      <th>4</th>\n",
              "      <td>OK</td>\n",
              "      <td>75</td>\n",
              "      <td>415</td>\n",
              "      <td>Yes</td>\n",
              "      <td>No</td>\n",
              "      <td>0</td>\n",
              "      <td>166.7</td>\n",
              "      <td>113</td>\n",
              "      <td>28.34</td>\n",
              "      <td>148.3</td>\n",
              "      <td>122</td>\n",
              "      <td>12.61</td>\n",
              "      <td>186.9</td>\n",
              "      <td>121</td>\n",
              "      <td>8.41</td>\n",
              "      <td>10.1</td>\n",
              "      <td>3</td>\n",
              "      <td>2.73</td>\n",
              "      <td>3</td>\n",
              "      <td>False</td>\n",
              "    </tr>\n",
              "  </tbody>\n",
              "</table>\n",
              "</div>\n",
              "      <button class=\"colab-df-convert\" onclick=\"convertToInteractive('df-8863c604-849a-4dde-a033-314b0505ebf4')\"\n",
              "              title=\"Convert this dataframe to an interactive table.\"\n",
              "              style=\"display:none;\">\n",
              "        \n",
              "  <svg xmlns=\"http://www.w3.org/2000/svg\" height=\"24px\"viewBox=\"0 0 24 24\"\n",
              "       width=\"24px\">\n",
              "    <path d=\"M0 0h24v24H0V0z\" fill=\"none\"/>\n",
              "    <path d=\"M18.56 5.44l.94 2.06.94-2.06 2.06-.94-2.06-.94-.94-2.06-.94 2.06-2.06.94zm-11 1L8.5 8.5l.94-2.06 2.06-.94-2.06-.94L8.5 2.5l-.94 2.06-2.06.94zm10 10l.94 2.06.94-2.06 2.06-.94-2.06-.94-.94-2.06-.94 2.06-2.06.94z\"/><path d=\"M17.41 7.96l-1.37-1.37c-.4-.4-.92-.59-1.43-.59-.52 0-1.04.2-1.43.59L10.3 9.45l-7.72 7.72c-.78.78-.78 2.05 0 2.83L4 21.41c.39.39.9.59 1.41.59.51 0 1.02-.2 1.41-.59l7.78-7.78 2.81-2.81c.8-.78.8-2.07 0-2.86zM5.41 20L4 18.59l7.72-7.72 1.47 1.35L5.41 20z\"/>\n",
              "  </svg>\n",
              "      </button>\n",
              "      \n",
              "  <style>\n",
              "    .colab-df-container {\n",
              "      display:flex;\n",
              "      flex-wrap:wrap;\n",
              "      gap: 12px;\n",
              "    }\n",
              "\n",
              "    .colab-df-convert {\n",
              "      background-color: #E8F0FE;\n",
              "      border: none;\n",
              "      border-radius: 50%;\n",
              "      cursor: pointer;\n",
              "      display: none;\n",
              "      fill: #1967D2;\n",
              "      height: 32px;\n",
              "      padding: 0 0 0 0;\n",
              "      width: 32px;\n",
              "    }\n",
              "\n",
              "    .colab-df-convert:hover {\n",
              "      background-color: #E2EBFA;\n",
              "      box-shadow: 0px 1px 2px rgba(60, 64, 67, 0.3), 0px 1px 3px 1px rgba(60, 64, 67, 0.15);\n",
              "      fill: #174EA6;\n",
              "    }\n",
              "\n",
              "    [theme=dark] .colab-df-convert {\n",
              "      background-color: #3B4455;\n",
              "      fill: #D2E3FC;\n",
              "    }\n",
              "\n",
              "    [theme=dark] .colab-df-convert:hover {\n",
              "      background-color: #434B5C;\n",
              "      box-shadow: 0px 1px 3px 1px rgba(0, 0, 0, 0.15);\n",
              "      filter: drop-shadow(0px 1px 2px rgba(0, 0, 0, 0.3));\n",
              "      fill: #FFFFFF;\n",
              "    }\n",
              "  </style>\n",
              "\n",
              "      <script>\n",
              "        const buttonEl =\n",
              "          document.querySelector('#df-8863c604-849a-4dde-a033-314b0505ebf4 button.colab-df-convert');\n",
              "        buttonEl.style.display =\n",
              "          google.colab.kernel.accessAllowed ? 'block' : 'none';\n",
              "\n",
              "        async function convertToInteractive(key) {\n",
              "          const element = document.querySelector('#df-8863c604-849a-4dde-a033-314b0505ebf4');\n",
              "          const dataTable =\n",
              "            await google.colab.kernel.invokeFunction('convertToInteractive',\n",
              "                                                     [key], {});\n",
              "          if (!dataTable) return;\n",
              "\n",
              "          const docLinkHtml = 'Like what you see? Visit the ' +\n",
              "            '<a target=\"_blank\" href=https://colab.research.google.com/notebooks/data_table.ipynb>data table notebook</a>'\n",
              "            + ' to learn more about interactive tables.';\n",
              "          element.innerHTML = '';\n",
              "          dataTable['output_type'] = 'display_data';\n",
              "          await google.colab.output.renderOutput(dataTable, element);\n",
              "          const docLink = document.createElement('div');\n",
              "          docLink.innerHTML = docLinkHtml;\n",
              "          element.appendChild(docLink);\n",
              "        }\n",
              "      </script>\n",
              "    </div>\n",
              "  </div>\n",
              "  "
            ]
          },
          "metadata": {},
          "execution_count": 60
        }
      ]
    },
    {
      "cell_type": "code",
      "source": [
        "print(f\"the telecom  dataset has {telecom_dataset.shape[0]} rows and {telecom_dataset.shape[1]} columns \")"
      ],
      "metadata": {
        "colab": {
          "base_uri": "https://localhost:8080/"
        },
        "id": "FM13gMrd60tz",
        "outputId": "e89678e7-85e9-4be9-bd30-2baf3a127ce7"
      },
      "execution_count": 61,
      "outputs": [
        {
          "output_type": "stream",
          "name": "stdout",
          "text": [
            "the telecom  dataset has 3333 rows and 20 columns \n"
          ]
        }
      ]
    },
    {
      "cell_type": "markdown",
      "source": [
        "#### **Dataset information**"
      ],
      "metadata": {
        "id": "-ccLGVet0LRu"
      }
    },
    {
      "cell_type": "code",
      "source": [
        "telecom_dataset.info() # some basic information about the dataset"
      ],
      "metadata": {
        "colab": {
          "base_uri": "https://localhost:8080/"
        },
        "id": "rKrjbZCm0EJn",
        "outputId": "570e53f6-ffb4-4468-dd73-0c0b5f5da526"
      },
      "execution_count": 62,
      "outputs": [
        {
          "output_type": "stream",
          "name": "stdout",
          "text": [
            "<class 'pandas.core.frame.DataFrame'>\n",
            "RangeIndex: 3333 entries, 0 to 3332\n",
            "Data columns (total 20 columns):\n",
            " #   Column                  Non-Null Count  Dtype  \n",
            "---  ------                  --------------  -----  \n",
            " 0   State                   3333 non-null   object \n",
            " 1   Account length          3333 non-null   int64  \n",
            " 2   Area code               3333 non-null   int64  \n",
            " 3   International plan      3333 non-null   object \n",
            " 4   Voice mail plan         3333 non-null   object \n",
            " 5   Number vmail messages   3333 non-null   int64  \n",
            " 6   Total day minutes       3333 non-null   float64\n",
            " 7   Total day calls         3333 non-null   int64  \n",
            " 8   Total day charge        3333 non-null   float64\n",
            " 9   Total eve minutes       3333 non-null   float64\n",
            " 10  Total eve calls         3333 non-null   int64  \n",
            " 11  Total eve charge        3333 non-null   float64\n",
            " 12  Total night minutes     3333 non-null   float64\n",
            " 13  Total night calls       3333 non-null   int64  \n",
            " 14  Total night charge      3333 non-null   float64\n",
            " 15  Total intl minutes      3333 non-null   float64\n",
            " 16  Total intl calls        3333 non-null   int64  \n",
            " 17  Total intl charge       3333 non-null   float64\n",
            " 18  Customer service calls  3333 non-null   int64  \n",
            " 19  Churn                   3333 non-null   bool   \n",
            "dtypes: bool(1), float64(8), int64(8), object(3)\n",
            "memory usage: 498.1+ KB\n"
          ]
        }
      ]
    },
    {
      "cell_type": "markdown",
      "source": [
        "#### **Missing Values in Dataset**"
      ],
      "metadata": {
        "id": "Sz6qiQVh8G-O"
      }
    },
    {
      "cell_type": "code",
      "source": [
        "telecom_dataset.isna().sum() # sum of missing values throughout each rows in dataset"
      ],
      "metadata": {
        "colab": {
          "base_uri": "https://localhost:8080/"
        },
        "id": "pKs3ygqc8F1L",
        "outputId": "63270ce7-5114-4868-c78e-7cf1dbbea359"
      },
      "execution_count": 63,
      "outputs": [
        {
          "output_type": "execute_result",
          "data": {
            "text/plain": [
              "State                     0\n",
              "Account length            0\n",
              "Area code                 0\n",
              "International plan        0\n",
              "Voice mail plan           0\n",
              "Number vmail messages     0\n",
              "Total day minutes         0\n",
              "Total day calls           0\n",
              "Total day charge          0\n",
              "Total eve minutes         0\n",
              "Total eve calls           0\n",
              "Total eve charge          0\n",
              "Total night minutes       0\n",
              "Total night calls         0\n",
              "Total night charge        0\n",
              "Total intl minutes        0\n",
              "Total intl calls          0\n",
              "Total intl charge         0\n",
              "Customer service calls    0\n",
              "Churn                     0\n",
              "dtype: int64"
            ]
          },
          "metadata": {},
          "execution_count": 63
        }
      ]
    },
    {
      "cell_type": "markdown",
      "source": [
        "#### **duplicated rows in dataset**"
      ],
      "metadata": {
        "id": "zJtPEqM1BJln"
      }
    },
    {
      "cell_type": "code",
      "source": [
        "# Dataset Duplicate Value Count\n",
        "print(len(telecom_dataset[telecom_dataset.duplicated()]))"
      ],
      "metadata": {
        "colab": {
          "base_uri": "https://localhost:8080/"
        },
        "id": "JW0YCZFg7uws",
        "outputId": "21db3bf7-c129-450a-dfaf-9d80232be45f"
      },
      "execution_count": 64,
      "outputs": [
        {
          "output_type": "stream",
          "name": "stdout",
          "text": [
            "0\n"
          ]
        }
      ]
    },
    {
      "cell_type": "markdown",
      "source": [
        "**The dataset has total of 19 columns out of which 3 are object dtype , 8 are of float and int each and the last column which is also the target variable is bool type**\n",
        "\n",
        "**Fortunately the data donot have any null values and any duplicated rows out of total 3333 rows and 19 columns**\n"
      ],
      "metadata": {
        "id": "HuZ0rHe_-f50"
      }
    },
    {
      "cell_type": "markdown",
      "source": [
        "# **Column description**"
      ],
      "metadata": {
        "id": "2qRI69QyEUZZ"
      }
    },
    {
      "cell_type": "markdown",
      "source": [
        "\n",
        "\n",
        "**State** - 51 Unique states of united states of america \n",
        "\n",
        "**Account length** - account length of each customer \n",
        "\n",
        "**Area Code** - 3 different area code for collectively all customer \n",
        "\n",
        "**International plan** - whethear a customer opted for internartional plan or not \n",
        "\n",
        "**Voicemail Plan** - wheather a customer has active voice mail plan\n",
        "\n",
        "**number vmail message** - Number of voicemail message of each customer ranging from 0 to 50 \n",
        "\n",
        "**Total day minutes** - duration of call made during morning \n",
        "\n",
        "**Total day calls** - total number of made during morning \n",
        "\n",
        "**Total day charge** - total morning charge to the customer\n",
        "\n",
        "**Total eve minutes** - duration of call made during evening \n",
        "\n",
        "**Total eve calls** - total number of made during evening \n",
        "\n",
        "**Total evening charge** - total evening charge to the customer\n",
        "\n",
        "**Total nigt minutes** - duration of call made during night\n",
        "\n",
        "**Total night calls** - total number of made during night \n",
        "\n",
        "**Total night charge** - total morning charge to the night \n",
        "\n",
        "**churn** - wheather a customer opted for change in its telecom False for no  True for yes \n",
        "\n"
      ],
      "metadata": {
        "id": "tfsaOd7JEci1"
      }
    },
    {
      "cell_type": "markdown",
      "source": [
        "#### **total no of unique element in each column**"
      ],
      "metadata": {
        "id": "8Q3AIC8uIjs3"
      }
    },
    {
      "cell_type": "code",
      "source": [
        "# function to count and print  unique no of elements in dataframe\n",
        "def count_unique(dataframe): \n",
        "    \"\"\" \n",
        "    Argument - dataframe of the consideration \n",
        "\n",
        "    this function prints no of unique elements in each column \n",
        "    \"\"\"\n",
        "    try: \n",
        "        for columns in dataframe.columns.tolist():\n",
        "            print(f\"Total unque no of row in {columns} is {dataframe[columns].nunique()} \")\n",
        "\n",
        "    except: #if dataframe does not exist \n",
        "        print(\"provided dataframe does not exist \")"
      ],
      "metadata": {
        "id": "pvfZHsXeEaql"
      },
      "execution_count": 65,
      "outputs": []
    },
    {
      "cell_type": "code",
      "source": [
        "# calling the function \n",
        "count_unique(telecom_dataset)"
      ],
      "metadata": {
        "colab": {
          "base_uri": "https://localhost:8080/"
        },
        "id": "_vizx9V-NJk6",
        "outputId": "4ac627e0-6ad6-4f35-a036-6c600ea751c6"
      },
      "execution_count": 66,
      "outputs": [
        {
          "output_type": "stream",
          "name": "stdout",
          "text": [
            "Total unque no of row in State is 51 \n",
            "Total unque no of row in Account length is 212 \n",
            "Total unque no of row in Area code is 3 \n",
            "Total unque no of row in International plan is 2 \n",
            "Total unque no of row in Voice mail plan is 2 \n",
            "Total unque no of row in Number vmail messages is 46 \n",
            "Total unque no of row in Total day minutes is 1667 \n",
            "Total unque no of row in Total day calls is 119 \n",
            "Total unque no of row in Total day charge is 1667 \n",
            "Total unque no of row in Total eve minutes is 1611 \n",
            "Total unque no of row in Total eve calls is 123 \n",
            "Total unque no of row in Total eve charge is 1440 \n",
            "Total unque no of row in Total night minutes is 1591 \n",
            "Total unque no of row in Total night calls is 120 \n",
            "Total unque no of row in Total night charge is 933 \n",
            "Total unque no of row in Total intl minutes is 162 \n",
            "Total unque no of row in Total intl calls is 21 \n",
            "Total unque no of row in Total intl charge is 162 \n",
            "Total unque no of row in Customer service calls is 10 \n",
            "Total unque no of row in Churn is 2 \n"
          ]
        }
      ]
    },
    {
      "cell_type": "markdown",
      "source": [
        "#### **description of columns**"
      ],
      "metadata": {
        "id": "9NyOlOa6Nd27"
      }
    },
    {
      "cell_type": "code",
      "source": [
        "telecom_dataset.describe() # description of numerical columns in the dataframe "
      ],
      "metadata": {
        "colab": {
          "base_uri": "https://localhost:8080/",
          "height": 0
        },
        "id": "HEYFpk6BNj1Z",
        "outputId": "52737410-4009-47b2-93a0-353d9b055be4"
      },
      "execution_count": 67,
      "outputs": [
        {
          "output_type": "execute_result",
          "data": {
            "text/plain": [
              "       Account length    Area code  Number vmail messages  Total day minutes  \\\n",
              "count     3333.000000  3333.000000            3333.000000        3333.000000   \n",
              "mean       101.064806   437.182418               8.099010         179.775098   \n",
              "std         39.822106    42.371290              13.688365          54.467389   \n",
              "min          1.000000   408.000000               0.000000           0.000000   \n",
              "25%         74.000000   408.000000               0.000000         143.700000   \n",
              "50%        101.000000   415.000000               0.000000         179.400000   \n",
              "75%        127.000000   510.000000              20.000000         216.400000   \n",
              "max        243.000000   510.000000              51.000000         350.800000   \n",
              "\n",
              "       Total day calls  Total day charge  Total eve minutes  Total eve calls  \\\n",
              "count      3333.000000       3333.000000        3333.000000      3333.000000   \n",
              "mean        100.435644         30.562307         200.980348       100.114311   \n",
              "std          20.069084          9.259435          50.713844        19.922625   \n",
              "min           0.000000          0.000000           0.000000         0.000000   \n",
              "25%          87.000000         24.430000         166.600000        87.000000   \n",
              "50%         101.000000         30.500000         201.400000       100.000000   \n",
              "75%         114.000000         36.790000         235.300000       114.000000   \n",
              "max         165.000000         59.640000         363.700000       170.000000   \n",
              "\n",
              "       Total eve charge  Total night minutes  Total night calls  \\\n",
              "count       3333.000000          3333.000000        3333.000000   \n",
              "mean          17.083540           200.872037         100.107711   \n",
              "std            4.310668            50.573847          19.568609   \n",
              "min            0.000000            23.200000          33.000000   \n",
              "25%           14.160000           167.000000          87.000000   \n",
              "50%           17.120000           201.200000         100.000000   \n",
              "75%           20.000000           235.300000         113.000000   \n",
              "max           30.910000           395.000000         175.000000   \n",
              "\n",
              "       Total night charge  Total intl minutes  Total intl calls  \\\n",
              "count         3333.000000         3333.000000       3333.000000   \n",
              "mean             9.039325           10.237294          4.479448   \n",
              "std              2.275873            2.791840          2.461214   \n",
              "min              1.040000            0.000000          0.000000   \n",
              "25%              7.520000            8.500000          3.000000   \n",
              "50%              9.050000           10.300000          4.000000   \n",
              "75%             10.590000           12.100000          6.000000   \n",
              "max             17.770000           20.000000         20.000000   \n",
              "\n",
              "       Total intl charge  Customer service calls  \n",
              "count        3333.000000             3333.000000  \n",
              "mean            2.764581                1.562856  \n",
              "std             0.753773                1.315491  \n",
              "min             0.000000                0.000000  \n",
              "25%             2.300000                1.000000  \n",
              "50%             2.780000                1.000000  \n",
              "75%             3.270000                2.000000  \n",
              "max             5.400000                9.000000  "
            ],
            "text/html": [
              "\n",
              "  <div id=\"df-df6c107b-040f-4439-b9e2-7593879e4845\">\n",
              "    <div class=\"colab-df-container\">\n",
              "      <div>\n",
              "<style scoped>\n",
              "    .dataframe tbody tr th:only-of-type {\n",
              "        vertical-align: middle;\n",
              "    }\n",
              "\n",
              "    .dataframe tbody tr th {\n",
              "        vertical-align: top;\n",
              "    }\n",
              "\n",
              "    .dataframe thead th {\n",
              "        text-align: right;\n",
              "    }\n",
              "</style>\n",
              "<table border=\"1\" class=\"dataframe\">\n",
              "  <thead>\n",
              "    <tr style=\"text-align: right;\">\n",
              "      <th></th>\n",
              "      <th>Account length</th>\n",
              "      <th>Area code</th>\n",
              "      <th>Number vmail messages</th>\n",
              "      <th>Total day minutes</th>\n",
              "      <th>Total day calls</th>\n",
              "      <th>Total day charge</th>\n",
              "      <th>Total eve minutes</th>\n",
              "      <th>Total eve calls</th>\n",
              "      <th>Total eve charge</th>\n",
              "      <th>Total night minutes</th>\n",
              "      <th>Total night calls</th>\n",
              "      <th>Total night charge</th>\n",
              "      <th>Total intl minutes</th>\n",
              "      <th>Total intl calls</th>\n",
              "      <th>Total intl charge</th>\n",
              "      <th>Customer service calls</th>\n",
              "    </tr>\n",
              "  </thead>\n",
              "  <tbody>\n",
              "    <tr>\n",
              "      <th>count</th>\n",
              "      <td>3333.000000</td>\n",
              "      <td>3333.000000</td>\n",
              "      <td>3333.000000</td>\n",
              "      <td>3333.000000</td>\n",
              "      <td>3333.000000</td>\n",
              "      <td>3333.000000</td>\n",
              "      <td>3333.000000</td>\n",
              "      <td>3333.000000</td>\n",
              "      <td>3333.000000</td>\n",
              "      <td>3333.000000</td>\n",
              "      <td>3333.000000</td>\n",
              "      <td>3333.000000</td>\n",
              "      <td>3333.000000</td>\n",
              "      <td>3333.000000</td>\n",
              "      <td>3333.000000</td>\n",
              "      <td>3333.000000</td>\n",
              "    </tr>\n",
              "    <tr>\n",
              "      <th>mean</th>\n",
              "      <td>101.064806</td>\n",
              "      <td>437.182418</td>\n",
              "      <td>8.099010</td>\n",
              "      <td>179.775098</td>\n",
              "      <td>100.435644</td>\n",
              "      <td>30.562307</td>\n",
              "      <td>200.980348</td>\n",
              "      <td>100.114311</td>\n",
              "      <td>17.083540</td>\n",
              "      <td>200.872037</td>\n",
              "      <td>100.107711</td>\n",
              "      <td>9.039325</td>\n",
              "      <td>10.237294</td>\n",
              "      <td>4.479448</td>\n",
              "      <td>2.764581</td>\n",
              "      <td>1.562856</td>\n",
              "    </tr>\n",
              "    <tr>\n",
              "      <th>std</th>\n",
              "      <td>39.822106</td>\n",
              "      <td>42.371290</td>\n",
              "      <td>13.688365</td>\n",
              "      <td>54.467389</td>\n",
              "      <td>20.069084</td>\n",
              "      <td>9.259435</td>\n",
              "      <td>50.713844</td>\n",
              "      <td>19.922625</td>\n",
              "      <td>4.310668</td>\n",
              "      <td>50.573847</td>\n",
              "      <td>19.568609</td>\n",
              "      <td>2.275873</td>\n",
              "      <td>2.791840</td>\n",
              "      <td>2.461214</td>\n",
              "      <td>0.753773</td>\n",
              "      <td>1.315491</td>\n",
              "    </tr>\n",
              "    <tr>\n",
              "      <th>min</th>\n",
              "      <td>1.000000</td>\n",
              "      <td>408.000000</td>\n",
              "      <td>0.000000</td>\n",
              "      <td>0.000000</td>\n",
              "      <td>0.000000</td>\n",
              "      <td>0.000000</td>\n",
              "      <td>0.000000</td>\n",
              "      <td>0.000000</td>\n",
              "      <td>0.000000</td>\n",
              "      <td>23.200000</td>\n",
              "      <td>33.000000</td>\n",
              "      <td>1.040000</td>\n",
              "      <td>0.000000</td>\n",
              "      <td>0.000000</td>\n",
              "      <td>0.000000</td>\n",
              "      <td>0.000000</td>\n",
              "    </tr>\n",
              "    <tr>\n",
              "      <th>25%</th>\n",
              "      <td>74.000000</td>\n",
              "      <td>408.000000</td>\n",
              "      <td>0.000000</td>\n",
              "      <td>143.700000</td>\n",
              "      <td>87.000000</td>\n",
              "      <td>24.430000</td>\n",
              "      <td>166.600000</td>\n",
              "      <td>87.000000</td>\n",
              "      <td>14.160000</td>\n",
              "      <td>167.000000</td>\n",
              "      <td>87.000000</td>\n",
              "      <td>7.520000</td>\n",
              "      <td>8.500000</td>\n",
              "      <td>3.000000</td>\n",
              "      <td>2.300000</td>\n",
              "      <td>1.000000</td>\n",
              "    </tr>\n",
              "    <tr>\n",
              "      <th>50%</th>\n",
              "      <td>101.000000</td>\n",
              "      <td>415.000000</td>\n",
              "      <td>0.000000</td>\n",
              "      <td>179.400000</td>\n",
              "      <td>101.000000</td>\n",
              "      <td>30.500000</td>\n",
              "      <td>201.400000</td>\n",
              "      <td>100.000000</td>\n",
              "      <td>17.120000</td>\n",
              "      <td>201.200000</td>\n",
              "      <td>100.000000</td>\n",
              "      <td>9.050000</td>\n",
              "      <td>10.300000</td>\n",
              "      <td>4.000000</td>\n",
              "      <td>2.780000</td>\n",
              "      <td>1.000000</td>\n",
              "    </tr>\n",
              "    <tr>\n",
              "      <th>75%</th>\n",
              "      <td>127.000000</td>\n",
              "      <td>510.000000</td>\n",
              "      <td>20.000000</td>\n",
              "      <td>216.400000</td>\n",
              "      <td>114.000000</td>\n",
              "      <td>36.790000</td>\n",
              "      <td>235.300000</td>\n",
              "      <td>114.000000</td>\n",
              "      <td>20.000000</td>\n",
              "      <td>235.300000</td>\n",
              "      <td>113.000000</td>\n",
              "      <td>10.590000</td>\n",
              "      <td>12.100000</td>\n",
              "      <td>6.000000</td>\n",
              "      <td>3.270000</td>\n",
              "      <td>2.000000</td>\n",
              "    </tr>\n",
              "    <tr>\n",
              "      <th>max</th>\n",
              "      <td>243.000000</td>\n",
              "      <td>510.000000</td>\n",
              "      <td>51.000000</td>\n",
              "      <td>350.800000</td>\n",
              "      <td>165.000000</td>\n",
              "      <td>59.640000</td>\n",
              "      <td>363.700000</td>\n",
              "      <td>170.000000</td>\n",
              "      <td>30.910000</td>\n",
              "      <td>395.000000</td>\n",
              "      <td>175.000000</td>\n",
              "      <td>17.770000</td>\n",
              "      <td>20.000000</td>\n",
              "      <td>20.000000</td>\n",
              "      <td>5.400000</td>\n",
              "      <td>9.000000</td>\n",
              "    </tr>\n",
              "  </tbody>\n",
              "</table>\n",
              "</div>\n",
              "      <button class=\"colab-df-convert\" onclick=\"convertToInteractive('df-df6c107b-040f-4439-b9e2-7593879e4845')\"\n",
              "              title=\"Convert this dataframe to an interactive table.\"\n",
              "              style=\"display:none;\">\n",
              "        \n",
              "  <svg xmlns=\"http://www.w3.org/2000/svg\" height=\"24px\"viewBox=\"0 0 24 24\"\n",
              "       width=\"24px\">\n",
              "    <path d=\"M0 0h24v24H0V0z\" fill=\"none\"/>\n",
              "    <path d=\"M18.56 5.44l.94 2.06.94-2.06 2.06-.94-2.06-.94-.94-2.06-.94 2.06-2.06.94zm-11 1L8.5 8.5l.94-2.06 2.06-.94-2.06-.94L8.5 2.5l-.94 2.06-2.06.94zm10 10l.94 2.06.94-2.06 2.06-.94-2.06-.94-.94-2.06-.94 2.06-2.06.94z\"/><path d=\"M17.41 7.96l-1.37-1.37c-.4-.4-.92-.59-1.43-.59-.52 0-1.04.2-1.43.59L10.3 9.45l-7.72 7.72c-.78.78-.78 2.05 0 2.83L4 21.41c.39.39.9.59 1.41.59.51 0 1.02-.2 1.41-.59l7.78-7.78 2.81-2.81c.8-.78.8-2.07 0-2.86zM5.41 20L4 18.59l7.72-7.72 1.47 1.35L5.41 20z\"/>\n",
              "  </svg>\n",
              "      </button>\n",
              "      \n",
              "  <style>\n",
              "    .colab-df-container {\n",
              "      display:flex;\n",
              "      flex-wrap:wrap;\n",
              "      gap: 12px;\n",
              "    }\n",
              "\n",
              "    .colab-df-convert {\n",
              "      background-color: #E8F0FE;\n",
              "      border: none;\n",
              "      border-radius: 50%;\n",
              "      cursor: pointer;\n",
              "      display: none;\n",
              "      fill: #1967D2;\n",
              "      height: 32px;\n",
              "      padding: 0 0 0 0;\n",
              "      width: 32px;\n",
              "    }\n",
              "\n",
              "    .colab-df-convert:hover {\n",
              "      background-color: #E2EBFA;\n",
              "      box-shadow: 0px 1px 2px rgba(60, 64, 67, 0.3), 0px 1px 3px 1px rgba(60, 64, 67, 0.15);\n",
              "      fill: #174EA6;\n",
              "    }\n",
              "\n",
              "    [theme=dark] .colab-df-convert {\n",
              "      background-color: #3B4455;\n",
              "      fill: #D2E3FC;\n",
              "    }\n",
              "\n",
              "    [theme=dark] .colab-df-convert:hover {\n",
              "      background-color: #434B5C;\n",
              "      box-shadow: 0px 1px 3px 1px rgba(0, 0, 0, 0.15);\n",
              "      filter: drop-shadow(0px 1px 2px rgba(0, 0, 0, 0.3));\n",
              "      fill: #FFFFFF;\n",
              "    }\n",
              "  </style>\n",
              "\n",
              "      <script>\n",
              "        const buttonEl =\n",
              "          document.querySelector('#df-df6c107b-040f-4439-b9e2-7593879e4845 button.colab-df-convert');\n",
              "        buttonEl.style.display =\n",
              "          google.colab.kernel.accessAllowed ? 'block' : 'none';\n",
              "\n",
              "        async function convertToInteractive(key) {\n",
              "          const element = document.querySelector('#df-df6c107b-040f-4439-b9e2-7593879e4845');\n",
              "          const dataTable =\n",
              "            await google.colab.kernel.invokeFunction('convertToInteractive',\n",
              "                                                     [key], {});\n",
              "          if (!dataTable) return;\n",
              "\n",
              "          const docLinkHtml = 'Like what you see? Visit the ' +\n",
              "            '<a target=\"_blank\" href=https://colab.research.google.com/notebooks/data_table.ipynb>data table notebook</a>'\n",
              "            + ' to learn more about interactive tables.';\n",
              "          element.innerHTML = '';\n",
              "          dataTable['output_type'] = 'display_data';\n",
              "          await google.colab.output.renderOutput(dataTable, element);\n",
              "          const docLink = document.createElement('div');\n",
              "          docLink.innerHTML = docLinkHtml;\n",
              "          element.appendChild(docLink);\n",
              "        }\n",
              "      </script>\n",
              "    </div>\n",
              "  </div>\n",
              "  "
            ]
          },
          "metadata": {},
          "execution_count": 67
        }
      ]
    },
    {
      "cell_type": "code",
      "source": [
        "#print the element name where no of unique elements in columns are less than or eaqual to three \n",
        "def display_unique_elements(dataframe):\n",
        "    \"\"\" \n",
        "    Argument - dataframe we wish to know unique elements about \n",
        "    this function uinque elements where no unique elements are less than 3 \n",
        "    return - none \n",
        "    \"\"\"\n",
        "    try :\n",
        "        for columns in dataframe.columns.tolist():#converts column array to  a list \n",
        "            if dataframe[columns].nunique() <= 3 :\n",
        "                print(f\" the unique element in {columns} columns are  {dataframe[columns].unique()}\")\n",
        "    except :\n",
        "        print('invalid dataframe')"
      ],
      "metadata": {
        "id": "-7F7NCbpOHz_"
      },
      "execution_count": 68,
      "outputs": []
    },
    {
      "cell_type": "code",
      "source": [
        "#call function \n",
        "display_unique_elements(telecom_dataset)"
      ],
      "metadata": {
        "colab": {
          "base_uri": "https://localhost:8080/"
        },
        "id": "bgZdETxgQxX7",
        "outputId": "5d34f581-d37f-4bb6-f433-65f1aa175464"
      },
      "execution_count": 69,
      "outputs": [
        {
          "output_type": "stream",
          "name": "stdout",
          "text": [
            " the unique element in Area code columns are  [415 408 510]\n",
            " the unique element in International plan columns are  ['No' 'Yes']\n",
            " the unique element in Voice mail plan columns are  ['Yes' 'No']\n",
            " the unique element in Churn columns are  [False  True]\n"
          ]
        }
      ]
    },
    {
      "cell_type": "markdown",
      "source": [
        "**out of the four columns whose no of unique elements are less than or equal to 3 . 3 are in yes/no format we can change these with 0 and 1 . 1 for true and 0 for false**"
      ],
      "metadata": {
        "id": "TX87_cE9RJPj"
      }
    },
    {
      "cell_type": "markdown",
      "source": [
        "#**Dataset manipulation**"
      ],
      "metadata": {
        "id": "hfd52c6KTbFP"
      }
    },
    {
      "cell_type": "markdown",
      "source": [
        "####**Copy original dataset**"
      ],
      "metadata": {
        "id": "ZgzI2KtG0C2i"
      }
    },
    {
      "cell_type": "markdown",
      "source": [
        "**We are going to bring a lot of changes in our dataset in order to explore it but the changes made in our dataset should not affect the real one**"
      ],
      "metadata": {
        "id": "40HZ6mhc2cz-"
      }
    },
    {
      "cell_type": "code",
      "source": [
        "# A function to make the copy of a dataset and return it \n",
        "def make_copy(original_dataframe):\n",
        "    try:\n",
        "        copied_dataframe= original_dataframe.copy(deep=True) #with deep is equal to true the changes made in copied dataframe wont appear in the original\n",
        "        return copied_dataframe\n",
        "    except:# if the dataset does not exist\n",
        "        print(\"the dataframe which is to be copied does not exists\")\n",
        "\n",
        "    finally:\n",
        "        print(\"operation performed on dataset\")"
      ],
      "metadata": {
        "id": "u881RRnK3VjK"
      },
      "execution_count": 70,
      "outputs": []
    },
    {
      "cell_type": "code",
      "source": [
        "#calling the function and making the copy of dataset\n",
        "telecom_df = make_copy(telecom_dataset)"
      ],
      "metadata": {
        "colab": {
          "base_uri": "https://localhost:8080/"
        },
        "id": "CkaKitNL6zr0",
        "outputId": "08d7c729-71de-4f1a-e00f-d6cf1ea59ba8"
      },
      "execution_count": 71,
      "outputs": [
        {
          "output_type": "stream",
          "name": "stdout",
          "text": [
            "operation performed on dataset\n"
          ]
        }
      ]
    },
    {
      "cell_type": "markdown",
      "source": [
        "#### **Replace column having few unique variable**"
      ],
      "metadata": {
        "id": "rXiMwJ3T-K4p"
      }
    },
    {
      "cell_type": "code",
      "source": [
        "#function to replace variable where number of unique item is less than 3 with 1 and 0  \n",
        "def replace_items(dataframe,column,variable_1,variable_2):\n",
        "    \"\"\"\n",
        "    arguments :\n",
        "    dataframe - the dataframe on which we want to perform the action \n",
        "    column - column of the dataframe where no of unique valuie are less than 3 \n",
        "    variable1, variable2 - name of the element to replace \n",
        "\n",
        "    this function returns dataframe  \n",
        "    \"\"\"\n",
        "    try:\n",
        "        df = dataframe.replace({column:{variable_1:1,variable_2:0}})\n",
        "\n",
        "    except :\n",
        "        print(\"specified arguments are not correct please check\")\n",
        "\n",
        "    finally:\n",
        "        return df "
      ],
      "metadata": {
        "id": "o3ia6J-5S8gs"
      },
      "execution_count": 72,
      "outputs": []
    },
    {
      "cell_type": "code",
      "source": [
        "# change the column International plan columns value wth {yes  :1,No:0}\n",
        "telecom_df = replace_items(telecom_df,'International plan','Yes','No')#call the function "
      ],
      "metadata": {
        "id": "ChRRgMf17Lb6"
      },
      "execution_count": 73,
      "outputs": []
    },
    {
      "cell_type": "code",
      "source": [
        "# change the column Voice mail plan value wth {yes  :1,No:0}\n",
        "telecom_df = replace_items(telecom_df,'Voice mail plan','Yes','No')#call the function "
      ],
      "metadata": {
        "id": "9h0dxZ4S7zMa"
      },
      "execution_count": 74,
      "outputs": []
    },
    {
      "cell_type": "code",
      "source": [
        "# change the column Churn  value wth {True  :1,False:0}\n",
        "telecom_df = replace_items(telecom_df,'Churn',True,False)#call the function "
      ],
      "metadata": {
        "id": "3CEJycSB8oWg"
      },
      "execution_count": 75,
      "outputs": []
    },
    {
      "cell_type": "markdown",
      "source": [
        "#### **Creating special variable**"
      ],
      "metadata": {
        "id": "Vt6Br004CSvn"
      }
    },
    {
      "cell_type": "code",
      "source": [
        "# make an another variable whic counts the overall duration of calls of a customer in a single 24 hour day \n",
        "telecom_df[\"overall_call_duration\"] = telecom_df['Total day minutes']+telecom_df['Total eve minutes'] +telecom_df['Total night minutes']"
      ],
      "metadata": {
        "id": "0CfEvFCoCd2D"
      },
      "execution_count": 76,
      "outputs": []
    },
    {
      "cell_type": "code",
      "source": [
        "# make an another variable whic counts the overall charges of calls of a customer in a single 24 hour day \n",
        "telecom_df[\"overall_call_charges\"] = telecom_df['Total day charge']+telecom_df['Total eve charge'] +telecom_df['Total night charge']"
      ],
      "metadata": {
        "id": "qGl3LqZbFIsC"
      },
      "execution_count": 77,
      "outputs": []
    },
    {
      "cell_type": "code",
      "source": [
        "# make an another variable whic counts the overall duration of a customer in a single 24 hour day \n",
        "telecom_df[\"overall_call_made\"] = telecom_df['Total day calls']+telecom_df['Total eve calls'] +telecom_df['Total night calls']"
      ],
      "metadata": {
        "id": "LF2rL06KG0ar"
      },
      "execution_count": 78,
      "outputs": []
    },
    {
      "cell_type": "code",
      "source": [
        "#calculate the average plan f each customer \n",
        "telecom_df[\"Average_price_plan\"] = telecom_df[\"overall_call_duration\"]//telecom_df[\"overall_call_charges\"]"
      ],
      "metadata": {
        "id": "8bYS35zDHWiT"
      },
      "execution_count": 79,
      "outputs": []
    },
    {
      "cell_type": "code",
      "source": [
        "# for the customers who become active at night \n",
        "telecom_df['intern_call_duration']=telecom_df['Total intl minutes']/telecom_df['Total intl calls']"
      ],
      "metadata": {
        "id": "UPzbfj8fytdZ"
      },
      "execution_count": 80,
      "outputs": []
    },
    {
      "cell_type": "code",
      "source": [
        "#Does the customer who have different night day and evening plan are more prone to churn \n",
        "telecom_df['international_rate_per_min']=telecom_df['Total intl charge']/telecom_df['Total intl minutes']\n",
        "telecom_df['day_rate_per_min']=telecom_df['Total day charge']/telecom_df['Total day minutes']\n",
        "telecom_df['eve_rate_per_min']=telecom_df['Total eve charge']/telecom_df['Total eve minutes']\n",
        "telecom_df['night_rate_per_min']=telecom_df['Total night charge']/telecom_df['Total night minutes']"
      ],
      "metadata": {
        "id": "-viDrZB8zZFr"
      },
      "execution_count": 81,
      "outputs": []
    },
    {
      "cell_type": "markdown",
      "source": [
        "# **Dataset Wrangling**"
      ],
      "metadata": {
        "id": "YRtXcLVW_lvS"
      }
    },
    {
      "cell_type": "markdown",
      "source": [
        "###**Dataset Columns wrangling**"
      ],
      "metadata": {
        "id": "35j3T3QDRdDR"
      }
    },
    {
      "cell_type": "markdown",
      "source": [
        "#### **Overall churn ratio**"
      ],
      "metadata": {
        "id": "Rz8bygKk9v-j"
      }
    },
    {
      "cell_type": "code",
      "source": [
        "#find out ratio of churn i.e peole who changed telecom to the people who are consistent \n",
        "print( {telecom_df[\"Churn\"].value_counts().loc[0]/telecom_df[\"Churn\"].value_counts().loc[1]})"
      ],
      "metadata": {
        "colab": {
          "base_uri": "https://localhost:8080/"
        },
        "id": "I9aFpbzaCtPE",
        "outputId": "6936b9ad-61bb-411b-b9f5-d91274a258a4"
      },
      "execution_count": 82,
      "outputs": [
        {
          "output_type": "stream",
          "name": "stdout",
          "text": [
            "{5.900621118012422}\n"
          ]
        }
      ]
    },
    {
      "cell_type": "markdown",
      "source": [
        "**So for every 7 people 1 person has changed his operator**"
      ],
      "metadata": {
        "id": "xljB7EpNFUuk"
      }
    },
    {
      "cell_type": "markdown",
      "source": [
        "####  **With Area code**"
      ],
      "metadata": {
        "id": "jBaM7Lw1AXFx"
      }
    },
    {
      "cell_type": "markdown",
      "source": [
        "**Since all the dataset has been divided in just three area code,**\n",
        "**Hence we will begin our analysis with this column**"
      ],
      "metadata": {
        "id": "gJupoqri_yIh"
      }
    },
    {
      "cell_type": "code",
      "source": [
        "telecom_df.groupby(\"Area code\")[\"overall_call_duration\"].mean().reset_index() # Average call duration in each area code "
      ],
      "metadata": {
        "colab": {
          "base_uri": "https://localhost:8080/",
          "height": 0
        },
        "id": "DGjUUXsA_rM_",
        "outputId": "c8e48b57-910e-45ec-9a6c-bd4491933eea"
      },
      "execution_count": 83,
      "outputs": [
        {
          "output_type": "execute_result",
          "data": {
            "text/plain": [
              "   Area code  overall_call_duration\n",
              "0        408             577.674344\n",
              "1        415             584.282296\n",
              "2        510             580.340595"
            ],
            "text/html": [
              "\n",
              "  <div id=\"df-4f1b8c3a-1a21-4fa8-97f4-c0b960246b4f\">\n",
              "    <div class=\"colab-df-container\">\n",
              "      <div>\n",
              "<style scoped>\n",
              "    .dataframe tbody tr th:only-of-type {\n",
              "        vertical-align: middle;\n",
              "    }\n",
              "\n",
              "    .dataframe tbody tr th {\n",
              "        vertical-align: top;\n",
              "    }\n",
              "\n",
              "    .dataframe thead th {\n",
              "        text-align: right;\n",
              "    }\n",
              "</style>\n",
              "<table border=\"1\" class=\"dataframe\">\n",
              "  <thead>\n",
              "    <tr style=\"text-align: right;\">\n",
              "      <th></th>\n",
              "      <th>Area code</th>\n",
              "      <th>overall_call_duration</th>\n",
              "    </tr>\n",
              "  </thead>\n",
              "  <tbody>\n",
              "    <tr>\n",
              "      <th>0</th>\n",
              "      <td>408</td>\n",
              "      <td>577.674344</td>\n",
              "    </tr>\n",
              "    <tr>\n",
              "      <th>1</th>\n",
              "      <td>415</td>\n",
              "      <td>584.282296</td>\n",
              "    </tr>\n",
              "    <tr>\n",
              "      <th>2</th>\n",
              "      <td>510</td>\n",
              "      <td>580.340595</td>\n",
              "    </tr>\n",
              "  </tbody>\n",
              "</table>\n",
              "</div>\n",
              "      <button class=\"colab-df-convert\" onclick=\"convertToInteractive('df-4f1b8c3a-1a21-4fa8-97f4-c0b960246b4f')\"\n",
              "              title=\"Convert this dataframe to an interactive table.\"\n",
              "              style=\"display:none;\">\n",
              "        \n",
              "  <svg xmlns=\"http://www.w3.org/2000/svg\" height=\"24px\"viewBox=\"0 0 24 24\"\n",
              "       width=\"24px\">\n",
              "    <path d=\"M0 0h24v24H0V0z\" fill=\"none\"/>\n",
              "    <path d=\"M18.56 5.44l.94 2.06.94-2.06 2.06-.94-2.06-.94-.94-2.06-.94 2.06-2.06.94zm-11 1L8.5 8.5l.94-2.06 2.06-.94-2.06-.94L8.5 2.5l-.94 2.06-2.06.94zm10 10l.94 2.06.94-2.06 2.06-.94-2.06-.94-.94-2.06-.94 2.06-2.06.94z\"/><path d=\"M17.41 7.96l-1.37-1.37c-.4-.4-.92-.59-1.43-.59-.52 0-1.04.2-1.43.59L10.3 9.45l-7.72 7.72c-.78.78-.78 2.05 0 2.83L4 21.41c.39.39.9.59 1.41.59.51 0 1.02-.2 1.41-.59l7.78-7.78 2.81-2.81c.8-.78.8-2.07 0-2.86zM5.41 20L4 18.59l7.72-7.72 1.47 1.35L5.41 20z\"/>\n",
              "  </svg>\n",
              "      </button>\n",
              "      \n",
              "  <style>\n",
              "    .colab-df-container {\n",
              "      display:flex;\n",
              "      flex-wrap:wrap;\n",
              "      gap: 12px;\n",
              "    }\n",
              "\n",
              "    .colab-df-convert {\n",
              "      background-color: #E8F0FE;\n",
              "      border: none;\n",
              "      border-radius: 50%;\n",
              "      cursor: pointer;\n",
              "      display: none;\n",
              "      fill: #1967D2;\n",
              "      height: 32px;\n",
              "      padding: 0 0 0 0;\n",
              "      width: 32px;\n",
              "    }\n",
              "\n",
              "    .colab-df-convert:hover {\n",
              "      background-color: #E2EBFA;\n",
              "      box-shadow: 0px 1px 2px rgba(60, 64, 67, 0.3), 0px 1px 3px 1px rgba(60, 64, 67, 0.15);\n",
              "      fill: #174EA6;\n",
              "    }\n",
              "\n",
              "    [theme=dark] .colab-df-convert {\n",
              "      background-color: #3B4455;\n",
              "      fill: #D2E3FC;\n",
              "    }\n",
              "\n",
              "    [theme=dark] .colab-df-convert:hover {\n",
              "      background-color: #434B5C;\n",
              "      box-shadow: 0px 1px 3px 1px rgba(0, 0, 0, 0.15);\n",
              "      filter: drop-shadow(0px 1px 2px rgba(0, 0, 0, 0.3));\n",
              "      fill: #FFFFFF;\n",
              "    }\n",
              "  </style>\n",
              "\n",
              "      <script>\n",
              "        const buttonEl =\n",
              "          document.querySelector('#df-4f1b8c3a-1a21-4fa8-97f4-c0b960246b4f button.colab-df-convert');\n",
              "        buttonEl.style.display =\n",
              "          google.colab.kernel.accessAllowed ? 'block' : 'none';\n",
              "\n",
              "        async function convertToInteractive(key) {\n",
              "          const element = document.querySelector('#df-4f1b8c3a-1a21-4fa8-97f4-c0b960246b4f');\n",
              "          const dataTable =\n",
              "            await google.colab.kernel.invokeFunction('convertToInteractive',\n",
              "                                                     [key], {});\n",
              "          if (!dataTable) return;\n",
              "\n",
              "          const docLinkHtml = 'Like what you see? Visit the ' +\n",
              "            '<a target=\"_blank\" href=https://colab.research.google.com/notebooks/data_table.ipynb>data table notebook</a>'\n",
              "            + ' to learn more about interactive tables.';\n",
              "          element.innerHTML = '';\n",
              "          dataTable['output_type'] = 'display_data';\n",
              "          await google.colab.output.renderOutput(dataTable, element);\n",
              "          const docLink = document.createElement('div');\n",
              "          docLink.innerHTML = docLinkHtml;\n",
              "          element.appendChild(docLink);\n",
              "        }\n",
              "      </script>\n",
              "    </div>\n",
              "  </div>\n",
              "  "
            ]
          },
          "metadata": {},
          "execution_count": 83
        }
      ]
    },
    {
      "cell_type": "markdown",
      "source": [
        "**Across all area code same amount of call_duration are made**"
      ],
      "metadata": {
        "id": "ERL3VcitaMFB"
      }
    },
    {
      "cell_type": "code",
      "source": [
        "telecom_df.groupby([\"Area code\",\"Churn\"])[\"overall_call_duration\"].mean().reset_index()"
      ],
      "metadata": {
        "colab": {
          "base_uri": "https://localhost:8080/",
          "height": 0
        },
        "id": "Gu663sfC6MwW",
        "outputId": "3a495235-fb1d-48d7-8802-0d2133e71d35"
      },
      "execution_count": 84,
      "outputs": [
        {
          "output_type": "execute_result",
          "data": {
            "text/plain": [
              "   Area code  Churn  overall_call_duration\n",
              "0        408      0             570.147905\n",
              "1        408      1             621.845902\n",
              "2        415      0             576.711487\n",
              "3        415      1             629.803390\n",
              "4        510      0             573.880280\n",
              "5        510      1             617.293600"
            ],
            "text/html": [
              "\n",
              "  <div id=\"df-d3305848-ddb3-4cbb-a97a-0cbc922958a5\">\n",
              "    <div class=\"colab-df-container\">\n",
              "      <div>\n",
              "<style scoped>\n",
              "    .dataframe tbody tr th:only-of-type {\n",
              "        vertical-align: middle;\n",
              "    }\n",
              "\n",
              "    .dataframe tbody tr th {\n",
              "        vertical-align: top;\n",
              "    }\n",
              "\n",
              "    .dataframe thead th {\n",
              "        text-align: right;\n",
              "    }\n",
              "</style>\n",
              "<table border=\"1\" class=\"dataframe\">\n",
              "  <thead>\n",
              "    <tr style=\"text-align: right;\">\n",
              "      <th></th>\n",
              "      <th>Area code</th>\n",
              "      <th>Churn</th>\n",
              "      <th>overall_call_duration</th>\n",
              "    </tr>\n",
              "  </thead>\n",
              "  <tbody>\n",
              "    <tr>\n",
              "      <th>0</th>\n",
              "      <td>408</td>\n",
              "      <td>0</td>\n",
              "      <td>570.147905</td>\n",
              "    </tr>\n",
              "    <tr>\n",
              "      <th>1</th>\n",
              "      <td>408</td>\n",
              "      <td>1</td>\n",
              "      <td>621.845902</td>\n",
              "    </tr>\n",
              "    <tr>\n",
              "      <th>2</th>\n",
              "      <td>415</td>\n",
              "      <td>0</td>\n",
              "      <td>576.711487</td>\n",
              "    </tr>\n",
              "    <tr>\n",
              "      <th>3</th>\n",
              "      <td>415</td>\n",
              "      <td>1</td>\n",
              "      <td>629.803390</td>\n",
              "    </tr>\n",
              "    <tr>\n",
              "      <th>4</th>\n",
              "      <td>510</td>\n",
              "      <td>0</td>\n",
              "      <td>573.880280</td>\n",
              "    </tr>\n",
              "    <tr>\n",
              "      <th>5</th>\n",
              "      <td>510</td>\n",
              "      <td>1</td>\n",
              "      <td>617.293600</td>\n",
              "    </tr>\n",
              "  </tbody>\n",
              "</table>\n",
              "</div>\n",
              "      <button class=\"colab-df-convert\" onclick=\"convertToInteractive('df-d3305848-ddb3-4cbb-a97a-0cbc922958a5')\"\n",
              "              title=\"Convert this dataframe to an interactive table.\"\n",
              "              style=\"display:none;\">\n",
              "        \n",
              "  <svg xmlns=\"http://www.w3.org/2000/svg\" height=\"24px\"viewBox=\"0 0 24 24\"\n",
              "       width=\"24px\">\n",
              "    <path d=\"M0 0h24v24H0V0z\" fill=\"none\"/>\n",
              "    <path d=\"M18.56 5.44l.94 2.06.94-2.06 2.06-.94-2.06-.94-.94-2.06-.94 2.06-2.06.94zm-11 1L8.5 8.5l.94-2.06 2.06-.94-2.06-.94L8.5 2.5l-.94 2.06-2.06.94zm10 10l.94 2.06.94-2.06 2.06-.94-2.06-.94-.94-2.06-.94 2.06-2.06.94z\"/><path d=\"M17.41 7.96l-1.37-1.37c-.4-.4-.92-.59-1.43-.59-.52 0-1.04.2-1.43.59L10.3 9.45l-7.72 7.72c-.78.78-.78 2.05 0 2.83L4 21.41c.39.39.9.59 1.41.59.51 0 1.02-.2 1.41-.59l7.78-7.78 2.81-2.81c.8-.78.8-2.07 0-2.86zM5.41 20L4 18.59l7.72-7.72 1.47 1.35L5.41 20z\"/>\n",
              "  </svg>\n",
              "      </button>\n",
              "      \n",
              "  <style>\n",
              "    .colab-df-container {\n",
              "      display:flex;\n",
              "      flex-wrap:wrap;\n",
              "      gap: 12px;\n",
              "    }\n",
              "\n",
              "    .colab-df-convert {\n",
              "      background-color: #E8F0FE;\n",
              "      border: none;\n",
              "      border-radius: 50%;\n",
              "      cursor: pointer;\n",
              "      display: none;\n",
              "      fill: #1967D2;\n",
              "      height: 32px;\n",
              "      padding: 0 0 0 0;\n",
              "      width: 32px;\n",
              "    }\n",
              "\n",
              "    .colab-df-convert:hover {\n",
              "      background-color: #E2EBFA;\n",
              "      box-shadow: 0px 1px 2px rgba(60, 64, 67, 0.3), 0px 1px 3px 1px rgba(60, 64, 67, 0.15);\n",
              "      fill: #174EA6;\n",
              "    }\n",
              "\n",
              "    [theme=dark] .colab-df-convert {\n",
              "      background-color: #3B4455;\n",
              "      fill: #D2E3FC;\n",
              "    }\n",
              "\n",
              "    [theme=dark] .colab-df-convert:hover {\n",
              "      background-color: #434B5C;\n",
              "      box-shadow: 0px 1px 3px 1px rgba(0, 0, 0, 0.15);\n",
              "      filter: drop-shadow(0px 1px 2px rgba(0, 0, 0, 0.3));\n",
              "      fill: #FFFFFF;\n",
              "    }\n",
              "  </style>\n",
              "\n",
              "      <script>\n",
              "        const buttonEl =\n",
              "          document.querySelector('#df-d3305848-ddb3-4cbb-a97a-0cbc922958a5 button.colab-df-convert');\n",
              "        buttonEl.style.display =\n",
              "          google.colab.kernel.accessAllowed ? 'block' : 'none';\n",
              "\n",
              "        async function convertToInteractive(key) {\n",
              "          const element = document.querySelector('#df-d3305848-ddb3-4cbb-a97a-0cbc922958a5');\n",
              "          const dataTable =\n",
              "            await google.colab.kernel.invokeFunction('convertToInteractive',\n",
              "                                                     [key], {});\n",
              "          if (!dataTable) return;\n",
              "\n",
              "          const docLinkHtml = 'Like what you see? Visit the ' +\n",
              "            '<a target=\"_blank\" href=https://colab.research.google.com/notebooks/data_table.ipynb>data table notebook</a>'\n",
              "            + ' to learn more about interactive tables.';\n",
              "          element.innerHTML = '';\n",
              "          dataTable['output_type'] = 'display_data';\n",
              "          await google.colab.output.renderOutput(dataTable, element);\n",
              "          const docLink = document.createElement('div');\n",
              "          docLink.innerHTML = docLinkHtml;\n",
              "          element.appendChild(docLink);\n",
              "        }\n",
              "      </script>\n",
              "    </div>\n",
              "  </div>\n",
              "  "
            ]
          },
          "metadata": {},
          "execution_count": 84
        }
      ]
    },
    {
      "cell_type": "code",
      "source": [
        "telecom_df.groupby(\"Area code\")[\"Average_price_plan\"].mean().reset_index() #across al the area code the average plan are same"
      ],
      "metadata": {
        "colab": {
          "base_uri": "https://localhost:8080/",
          "height": 0
        },
        "id": "2cE7KzxwUdK6",
        "outputId": "01eb56b2-4a8e-4792-bb5d-684b65b366ee"
      },
      "execution_count": 85,
      "outputs": [
        {
          "output_type": "execute_result",
          "data": {
            "text/plain": [
              "   Area code  Average_price_plan\n",
              "0        408            9.887828\n",
              "1        415            9.844713\n",
              "2        510            9.878571"
            ],
            "text/html": [
              "\n",
              "  <div id=\"df-4c96fa45-3889-4fd7-84b1-84ede812329a\">\n",
              "    <div class=\"colab-df-container\">\n",
              "      <div>\n",
              "<style scoped>\n",
              "    .dataframe tbody tr th:only-of-type {\n",
              "        vertical-align: middle;\n",
              "    }\n",
              "\n",
              "    .dataframe tbody tr th {\n",
              "        vertical-align: top;\n",
              "    }\n",
              "\n",
              "    .dataframe thead th {\n",
              "        text-align: right;\n",
              "    }\n",
              "</style>\n",
              "<table border=\"1\" class=\"dataframe\">\n",
              "  <thead>\n",
              "    <tr style=\"text-align: right;\">\n",
              "      <th></th>\n",
              "      <th>Area code</th>\n",
              "      <th>Average_price_plan</th>\n",
              "    </tr>\n",
              "  </thead>\n",
              "  <tbody>\n",
              "    <tr>\n",
              "      <th>0</th>\n",
              "      <td>408</td>\n",
              "      <td>9.887828</td>\n",
              "    </tr>\n",
              "    <tr>\n",
              "      <th>1</th>\n",
              "      <td>415</td>\n",
              "      <td>9.844713</td>\n",
              "    </tr>\n",
              "    <tr>\n",
              "      <th>2</th>\n",
              "      <td>510</td>\n",
              "      <td>9.878571</td>\n",
              "    </tr>\n",
              "  </tbody>\n",
              "</table>\n",
              "</div>\n",
              "      <button class=\"colab-df-convert\" onclick=\"convertToInteractive('df-4c96fa45-3889-4fd7-84b1-84ede812329a')\"\n",
              "              title=\"Convert this dataframe to an interactive table.\"\n",
              "              style=\"display:none;\">\n",
              "        \n",
              "  <svg xmlns=\"http://www.w3.org/2000/svg\" height=\"24px\"viewBox=\"0 0 24 24\"\n",
              "       width=\"24px\">\n",
              "    <path d=\"M0 0h24v24H0V0z\" fill=\"none\"/>\n",
              "    <path d=\"M18.56 5.44l.94 2.06.94-2.06 2.06-.94-2.06-.94-.94-2.06-.94 2.06-2.06.94zm-11 1L8.5 8.5l.94-2.06 2.06-.94-2.06-.94L8.5 2.5l-.94 2.06-2.06.94zm10 10l.94 2.06.94-2.06 2.06-.94-2.06-.94-.94-2.06-.94 2.06-2.06.94z\"/><path d=\"M17.41 7.96l-1.37-1.37c-.4-.4-.92-.59-1.43-.59-.52 0-1.04.2-1.43.59L10.3 9.45l-7.72 7.72c-.78.78-.78 2.05 0 2.83L4 21.41c.39.39.9.59 1.41.59.51 0 1.02-.2 1.41-.59l7.78-7.78 2.81-2.81c.8-.78.8-2.07 0-2.86zM5.41 20L4 18.59l7.72-7.72 1.47 1.35L5.41 20z\"/>\n",
              "  </svg>\n",
              "      </button>\n",
              "      \n",
              "  <style>\n",
              "    .colab-df-container {\n",
              "      display:flex;\n",
              "      flex-wrap:wrap;\n",
              "      gap: 12px;\n",
              "    }\n",
              "\n",
              "    .colab-df-convert {\n",
              "      background-color: #E8F0FE;\n",
              "      border: none;\n",
              "      border-radius: 50%;\n",
              "      cursor: pointer;\n",
              "      display: none;\n",
              "      fill: #1967D2;\n",
              "      height: 32px;\n",
              "      padding: 0 0 0 0;\n",
              "      width: 32px;\n",
              "    }\n",
              "\n",
              "    .colab-df-convert:hover {\n",
              "      background-color: #E2EBFA;\n",
              "      box-shadow: 0px 1px 2px rgba(60, 64, 67, 0.3), 0px 1px 3px 1px rgba(60, 64, 67, 0.15);\n",
              "      fill: #174EA6;\n",
              "    }\n",
              "\n",
              "    [theme=dark] .colab-df-convert {\n",
              "      background-color: #3B4455;\n",
              "      fill: #D2E3FC;\n",
              "    }\n",
              "\n",
              "    [theme=dark] .colab-df-convert:hover {\n",
              "      background-color: #434B5C;\n",
              "      box-shadow: 0px 1px 3px 1px rgba(0, 0, 0, 0.15);\n",
              "      filter: drop-shadow(0px 1px 2px rgba(0, 0, 0, 0.3));\n",
              "      fill: #FFFFFF;\n",
              "    }\n",
              "  </style>\n",
              "\n",
              "      <script>\n",
              "        const buttonEl =\n",
              "          document.querySelector('#df-4c96fa45-3889-4fd7-84b1-84ede812329a button.colab-df-convert');\n",
              "        buttonEl.style.display =\n",
              "          google.colab.kernel.accessAllowed ? 'block' : 'none';\n",
              "\n",
              "        async function convertToInteractive(key) {\n",
              "          const element = document.querySelector('#df-4c96fa45-3889-4fd7-84b1-84ede812329a');\n",
              "          const dataTable =\n",
              "            await google.colab.kernel.invokeFunction('convertToInteractive',\n",
              "                                                     [key], {});\n",
              "          if (!dataTable) return;\n",
              "\n",
              "          const docLinkHtml = 'Like what you see? Visit the ' +\n",
              "            '<a target=\"_blank\" href=https://colab.research.google.com/notebooks/data_table.ipynb>data table notebook</a>'\n",
              "            + ' to learn more about interactive tables.';\n",
              "          element.innerHTML = '';\n",
              "          dataTable['output_type'] = 'display_data';\n",
              "          await google.colab.output.renderOutput(dataTable, element);\n",
              "          const docLink = document.createElement('div');\n",
              "          docLink.innerHTML = docLinkHtml;\n",
              "          element.appendChild(docLink);\n",
              "        }\n",
              "      </script>\n",
              "    </div>\n",
              "  </div>\n",
              "  "
            ]
          },
          "metadata": {},
          "execution_count": 85
        }
      ]
    },
    {
      "cell_type": "code",
      "source": [
        "telecom_df.groupby([\"Area code\",\"Churn\"])[\"intern_call_duration\"].mean().reset_index()"
      ],
      "metadata": {
        "colab": {
          "base_uri": "https://localhost:8080/",
          "height": 0
        },
        "id": "plyhbmcz6fUB",
        "outputId": "4fe38c1e-738d-4f02-c757-45cb3743605e"
      },
      "execution_count": 86,
      "outputs": [
        {
          "output_type": "execute_result",
          "data": {
            "text/plain": [
              "   Area code  Churn  intern_call_duration\n",
              "0        408      0              3.058391\n",
              "1        408      1              3.603712\n",
              "2        415      0              3.008505\n",
              "3        415      1              3.452771\n",
              "4        510      0              3.064365\n",
              "5        510      1              3.743064"
            ],
            "text/html": [
              "\n",
              "  <div id=\"df-bfce0cae-2217-4373-89db-29ab2610c2a3\">\n",
              "    <div class=\"colab-df-container\">\n",
              "      <div>\n",
              "<style scoped>\n",
              "    .dataframe tbody tr th:only-of-type {\n",
              "        vertical-align: middle;\n",
              "    }\n",
              "\n",
              "    .dataframe tbody tr th {\n",
              "        vertical-align: top;\n",
              "    }\n",
              "\n",
              "    .dataframe thead th {\n",
              "        text-align: right;\n",
              "    }\n",
              "</style>\n",
              "<table border=\"1\" class=\"dataframe\">\n",
              "  <thead>\n",
              "    <tr style=\"text-align: right;\">\n",
              "      <th></th>\n",
              "      <th>Area code</th>\n",
              "      <th>Churn</th>\n",
              "      <th>intern_call_duration</th>\n",
              "    </tr>\n",
              "  </thead>\n",
              "  <tbody>\n",
              "    <tr>\n",
              "      <th>0</th>\n",
              "      <td>408</td>\n",
              "      <td>0</td>\n",
              "      <td>3.058391</td>\n",
              "    </tr>\n",
              "    <tr>\n",
              "      <th>1</th>\n",
              "      <td>408</td>\n",
              "      <td>1</td>\n",
              "      <td>3.603712</td>\n",
              "    </tr>\n",
              "    <tr>\n",
              "      <th>2</th>\n",
              "      <td>415</td>\n",
              "      <td>0</td>\n",
              "      <td>3.008505</td>\n",
              "    </tr>\n",
              "    <tr>\n",
              "      <th>3</th>\n",
              "      <td>415</td>\n",
              "      <td>1</td>\n",
              "      <td>3.452771</td>\n",
              "    </tr>\n",
              "    <tr>\n",
              "      <th>4</th>\n",
              "      <td>510</td>\n",
              "      <td>0</td>\n",
              "      <td>3.064365</td>\n",
              "    </tr>\n",
              "    <tr>\n",
              "      <th>5</th>\n",
              "      <td>510</td>\n",
              "      <td>1</td>\n",
              "      <td>3.743064</td>\n",
              "    </tr>\n",
              "  </tbody>\n",
              "</table>\n",
              "</div>\n",
              "      <button class=\"colab-df-convert\" onclick=\"convertToInteractive('df-bfce0cae-2217-4373-89db-29ab2610c2a3')\"\n",
              "              title=\"Convert this dataframe to an interactive table.\"\n",
              "              style=\"display:none;\">\n",
              "        \n",
              "  <svg xmlns=\"http://www.w3.org/2000/svg\" height=\"24px\"viewBox=\"0 0 24 24\"\n",
              "       width=\"24px\">\n",
              "    <path d=\"M0 0h24v24H0V0z\" fill=\"none\"/>\n",
              "    <path d=\"M18.56 5.44l.94 2.06.94-2.06 2.06-.94-2.06-.94-.94-2.06-.94 2.06-2.06.94zm-11 1L8.5 8.5l.94-2.06 2.06-.94-2.06-.94L8.5 2.5l-.94 2.06-2.06.94zm10 10l.94 2.06.94-2.06 2.06-.94-2.06-.94-.94-2.06-.94 2.06-2.06.94z\"/><path d=\"M17.41 7.96l-1.37-1.37c-.4-.4-.92-.59-1.43-.59-.52 0-1.04.2-1.43.59L10.3 9.45l-7.72 7.72c-.78.78-.78 2.05 0 2.83L4 21.41c.39.39.9.59 1.41.59.51 0 1.02-.2 1.41-.59l7.78-7.78 2.81-2.81c.8-.78.8-2.07 0-2.86zM5.41 20L4 18.59l7.72-7.72 1.47 1.35L5.41 20z\"/>\n",
              "  </svg>\n",
              "      </button>\n",
              "      \n",
              "  <style>\n",
              "    .colab-df-container {\n",
              "      display:flex;\n",
              "      flex-wrap:wrap;\n",
              "      gap: 12px;\n",
              "    }\n",
              "\n",
              "    .colab-df-convert {\n",
              "      background-color: #E8F0FE;\n",
              "      border: none;\n",
              "      border-radius: 50%;\n",
              "      cursor: pointer;\n",
              "      display: none;\n",
              "      fill: #1967D2;\n",
              "      height: 32px;\n",
              "      padding: 0 0 0 0;\n",
              "      width: 32px;\n",
              "    }\n",
              "\n",
              "    .colab-df-convert:hover {\n",
              "      background-color: #E2EBFA;\n",
              "      box-shadow: 0px 1px 2px rgba(60, 64, 67, 0.3), 0px 1px 3px 1px rgba(60, 64, 67, 0.15);\n",
              "      fill: #174EA6;\n",
              "    }\n",
              "\n",
              "    [theme=dark] .colab-df-convert {\n",
              "      background-color: #3B4455;\n",
              "      fill: #D2E3FC;\n",
              "    }\n",
              "\n",
              "    [theme=dark] .colab-df-convert:hover {\n",
              "      background-color: #434B5C;\n",
              "      box-shadow: 0px 1px 3px 1px rgba(0, 0, 0, 0.15);\n",
              "      filter: drop-shadow(0px 1px 2px rgba(0, 0, 0, 0.3));\n",
              "      fill: #FFFFFF;\n",
              "    }\n",
              "  </style>\n",
              "\n",
              "      <script>\n",
              "        const buttonEl =\n",
              "          document.querySelector('#df-bfce0cae-2217-4373-89db-29ab2610c2a3 button.colab-df-convert');\n",
              "        buttonEl.style.display =\n",
              "          google.colab.kernel.accessAllowed ? 'block' : 'none';\n",
              "\n",
              "        async function convertToInteractive(key) {\n",
              "          const element = document.querySelector('#df-bfce0cae-2217-4373-89db-29ab2610c2a3');\n",
              "          const dataTable =\n",
              "            await google.colab.kernel.invokeFunction('convertToInteractive',\n",
              "                                                     [key], {});\n",
              "          if (!dataTable) return;\n",
              "\n",
              "          const docLinkHtml = 'Like what you see? Visit the ' +\n",
              "            '<a target=\"_blank\" href=https://colab.research.google.com/notebooks/data_table.ipynb>data table notebook</a>'\n",
              "            + ' to learn more about interactive tables.';\n",
              "          element.innerHTML = '';\n",
              "          dataTable['output_type'] = 'display_data';\n",
              "          await google.colab.output.renderOutput(dataTable, element);\n",
              "          const docLink = document.createElement('div');\n",
              "          docLink.innerHTML = docLinkHtml;\n",
              "          element.appendChild(docLink);\n",
              "        }\n",
              "      </script>\n",
              "    </div>\n",
              "  </div>\n",
              "  "
            ]
          },
          "metadata": {},
          "execution_count": 86
        }
      ]
    },
    {
      "cell_type": "code",
      "source": [
        "telecom_df.groupby(\"Area code\")[\"Churn\"].value_counts().unstack() # total sum of churn across all area code"
      ],
      "metadata": {
        "colab": {
          "base_uri": "https://localhost:8080/",
          "height": 0
        },
        "id": "ONYl5-qMV0Mb",
        "outputId": "f3da747b-e180-40a3-d06b-c86f646a438a"
      },
      "execution_count": 87,
      "outputs": [
        {
          "output_type": "execute_result",
          "data": {
            "text/plain": [
              "Churn         0    1\n",
              "Area code           \n",
              "408         716  122\n",
              "415        1419  236\n",
              "510         715  125"
            ],
            "text/html": [
              "\n",
              "  <div id=\"df-59caa6e5-1b44-4530-9400-e686107d77cd\">\n",
              "    <div class=\"colab-df-container\">\n",
              "      <div>\n",
              "<style scoped>\n",
              "    .dataframe tbody tr th:only-of-type {\n",
              "        vertical-align: middle;\n",
              "    }\n",
              "\n",
              "    .dataframe tbody tr th {\n",
              "        vertical-align: top;\n",
              "    }\n",
              "\n",
              "    .dataframe thead th {\n",
              "        text-align: right;\n",
              "    }\n",
              "</style>\n",
              "<table border=\"1\" class=\"dataframe\">\n",
              "  <thead>\n",
              "    <tr style=\"text-align: right;\">\n",
              "      <th>Churn</th>\n",
              "      <th>0</th>\n",
              "      <th>1</th>\n",
              "    </tr>\n",
              "    <tr>\n",
              "      <th>Area code</th>\n",
              "      <th></th>\n",
              "      <th></th>\n",
              "    </tr>\n",
              "  </thead>\n",
              "  <tbody>\n",
              "    <tr>\n",
              "      <th>408</th>\n",
              "      <td>716</td>\n",
              "      <td>122</td>\n",
              "    </tr>\n",
              "    <tr>\n",
              "      <th>415</th>\n",
              "      <td>1419</td>\n",
              "      <td>236</td>\n",
              "    </tr>\n",
              "    <tr>\n",
              "      <th>510</th>\n",
              "      <td>715</td>\n",
              "      <td>125</td>\n",
              "    </tr>\n",
              "  </tbody>\n",
              "</table>\n",
              "</div>\n",
              "      <button class=\"colab-df-convert\" onclick=\"convertToInteractive('df-59caa6e5-1b44-4530-9400-e686107d77cd')\"\n",
              "              title=\"Convert this dataframe to an interactive table.\"\n",
              "              style=\"display:none;\">\n",
              "        \n",
              "  <svg xmlns=\"http://www.w3.org/2000/svg\" height=\"24px\"viewBox=\"0 0 24 24\"\n",
              "       width=\"24px\">\n",
              "    <path d=\"M0 0h24v24H0V0z\" fill=\"none\"/>\n",
              "    <path d=\"M18.56 5.44l.94 2.06.94-2.06 2.06-.94-2.06-.94-.94-2.06-.94 2.06-2.06.94zm-11 1L8.5 8.5l.94-2.06 2.06-.94-2.06-.94L8.5 2.5l-.94 2.06-2.06.94zm10 10l.94 2.06.94-2.06 2.06-.94-2.06-.94-.94-2.06-.94 2.06-2.06.94z\"/><path d=\"M17.41 7.96l-1.37-1.37c-.4-.4-.92-.59-1.43-.59-.52 0-1.04.2-1.43.59L10.3 9.45l-7.72 7.72c-.78.78-.78 2.05 0 2.83L4 21.41c.39.39.9.59 1.41.59.51 0 1.02-.2 1.41-.59l7.78-7.78 2.81-2.81c.8-.78.8-2.07 0-2.86zM5.41 20L4 18.59l7.72-7.72 1.47 1.35L5.41 20z\"/>\n",
              "  </svg>\n",
              "      </button>\n",
              "      \n",
              "  <style>\n",
              "    .colab-df-container {\n",
              "      display:flex;\n",
              "      flex-wrap:wrap;\n",
              "      gap: 12px;\n",
              "    }\n",
              "\n",
              "    .colab-df-convert {\n",
              "      background-color: #E8F0FE;\n",
              "      border: none;\n",
              "      border-radius: 50%;\n",
              "      cursor: pointer;\n",
              "      display: none;\n",
              "      fill: #1967D2;\n",
              "      height: 32px;\n",
              "      padding: 0 0 0 0;\n",
              "      width: 32px;\n",
              "    }\n",
              "\n",
              "    .colab-df-convert:hover {\n",
              "      background-color: #E2EBFA;\n",
              "      box-shadow: 0px 1px 2px rgba(60, 64, 67, 0.3), 0px 1px 3px 1px rgba(60, 64, 67, 0.15);\n",
              "      fill: #174EA6;\n",
              "    }\n",
              "\n",
              "    [theme=dark] .colab-df-convert {\n",
              "      background-color: #3B4455;\n",
              "      fill: #D2E3FC;\n",
              "    }\n",
              "\n",
              "    [theme=dark] .colab-df-convert:hover {\n",
              "      background-color: #434B5C;\n",
              "      box-shadow: 0px 1px 3px 1px rgba(0, 0, 0, 0.15);\n",
              "      filter: drop-shadow(0px 1px 2px rgba(0, 0, 0, 0.3));\n",
              "      fill: #FFFFFF;\n",
              "    }\n",
              "  </style>\n",
              "\n",
              "      <script>\n",
              "        const buttonEl =\n",
              "          document.querySelector('#df-59caa6e5-1b44-4530-9400-e686107d77cd button.colab-df-convert');\n",
              "        buttonEl.style.display =\n",
              "          google.colab.kernel.accessAllowed ? 'block' : 'none';\n",
              "\n",
              "        async function convertToInteractive(key) {\n",
              "          const element = document.querySelector('#df-59caa6e5-1b44-4530-9400-e686107d77cd');\n",
              "          const dataTable =\n",
              "            await google.colab.kernel.invokeFunction('convertToInteractive',\n",
              "                                                     [key], {});\n",
              "          if (!dataTable) return;\n",
              "\n",
              "          const docLinkHtml = 'Like what you see? Visit the ' +\n",
              "            '<a target=\"_blank\" href=https://colab.research.google.com/notebooks/data_table.ipynb>data table notebook</a>'\n",
              "            + ' to learn more about interactive tables.';\n",
              "          element.innerHTML = '';\n",
              "          dataTable['output_type'] = 'display_data';\n",
              "          await google.colab.output.renderOutput(dataTable, element);\n",
              "          const docLink = document.createElement('div');\n",
              "          docLink.innerHTML = docLinkHtml;\n",
              "          element.appendChild(docLink);\n",
              "        }\n",
              "      </script>\n",
              "    </div>\n",
              "  </div>\n",
              "  "
            ]
          },
          "metadata": {},
          "execution_count": 87
        }
      ]
    },
    {
      "cell_type": "markdown",
      "source": [
        "**In 415 area code a double of customer moved from one telecom company to other than other two area code **"
      ],
      "metadata": {
        "id": "p37cGzn3adxf"
      }
    },
    {
      "cell_type": "markdown",
      "source": [
        "#### **With States**"
      ],
      "metadata": {
        "id": "Whc06YmYrztX"
      }
    },
    {
      "cell_type": "code",
      "source": [
        "print(telecom_df[\"State\"].unique())# show unique states in the data \n",
        "print(\"\")\n",
        "print( {telecom_df[\"State\"].nunique()}) # count of total unique states in data"
      ],
      "metadata": {
        "colab": {
          "base_uri": "https://localhost:8080/"
        },
        "id": "Ceb0Ad6sIymT",
        "outputId": "6dcb770f-f8e5-40b3-cce6-a8974ef86414"
      },
      "execution_count": 88,
      "outputs": [
        {
          "output_type": "stream",
          "name": "stdout",
          "text": [
            "['KS' 'OH' 'NJ' 'OK' 'AL' 'MA' 'MO' 'LA' 'WV' 'IN' 'RI' 'IA' 'MT' 'NY'\n",
            " 'ID' 'VT' 'VA' 'TX' 'FL' 'CO' 'AZ' 'SC' 'NE' 'WY' 'HI' 'IL' 'NH' 'GA'\n",
            " 'AK' 'MD' 'AR' 'WI' 'OR' 'MI' 'DE' 'UT' 'CA' 'MN' 'SD' 'NC' 'WA' 'NM'\n",
            " 'NV' 'DC' 'KY' 'ME' 'MS' 'TN' 'PA' 'CT' 'ND']\n",
            "\n",
            "{51}\n"
          ]
        }
      ]
    },
    {
      "cell_type": "code",
      "source": [
        "telecom_df.groupby(\"State\")[\"Churn\"].sum().reset_index().sort_values(\"Churn\",ascending = False) #arrange the index in their sum of largest to rarest churn customers "
      ],
      "metadata": {
        "colab": {
          "base_uri": "https://localhost:8080/",
          "height": 0
        },
        "id": "wBgV10bBt-M0",
        "outputId": "0567cf23-57d7-4e6d-c9d5-d91472f0144d"
      },
      "execution_count": 89,
      "outputs": [
        {
          "output_type": "execute_result",
          "data": {
            "text/plain": [
              "   State  Churn\n",
              "31    NJ     18\n",
              "43    TX     18\n",
              "20    MD     17\n",
              "22    MI     16\n",
              "23    MN     15\n",
              "34    NY     15\n",
              "26    MT     14\n",
              "33    NV     14\n",
              "25    MS     14\n",
              "40    SC     14\n",
              "47    WA     14\n",
              "16    KS     13\n",
              "21    ME     13\n",
              "6     CT     12\n",
              "37    OR     11\n",
              "27    NC     11\n",
              "19    MA     11\n",
              "2     AR     11\n",
              "44    UT     10\n",
              "49    WV     10\n",
              "35    OH     10\n",
              "36    OK      9\n",
              "30    NH      9\n",
              "50    WY      9\n",
              "4     CA      9\n",
              "15    IN      9\n",
              "5     CO      9\n",
              "13    ID      9\n",
              "8     DE      9\n",
              "9     FL      8\n",
              "1     AL      8\n",
              "17    KY      8\n",
              "46    VT      8\n",
              "41    SD      8\n",
              "38    PA      8\n",
              "10    GA      8\n",
              "48    WI      7\n",
              "24    MO      7\n",
              "39    RI      6\n",
              "32    NM      6\n",
              "28    ND      6\n",
              "42    TN      5\n",
              "7     DC      5\n",
              "14    IL      5\n",
              "45    VA      5\n",
              "29    NE      5\n",
              "18    LA      4\n",
              "3     AZ      4\n",
              "11    HI      3\n",
              "12    IA      3\n",
              "0     AK      3"
            ],
            "text/html": [
              "\n",
              "  <div id=\"df-f18c5bc2-cfc3-424c-9b9b-e7d3bd453aad\">\n",
              "    <div class=\"colab-df-container\">\n",
              "      <div>\n",
              "<style scoped>\n",
              "    .dataframe tbody tr th:only-of-type {\n",
              "        vertical-align: middle;\n",
              "    }\n",
              "\n",
              "    .dataframe tbody tr th {\n",
              "        vertical-align: top;\n",
              "    }\n",
              "\n",
              "    .dataframe thead th {\n",
              "        text-align: right;\n",
              "    }\n",
              "</style>\n",
              "<table border=\"1\" class=\"dataframe\">\n",
              "  <thead>\n",
              "    <tr style=\"text-align: right;\">\n",
              "      <th></th>\n",
              "      <th>State</th>\n",
              "      <th>Churn</th>\n",
              "    </tr>\n",
              "  </thead>\n",
              "  <tbody>\n",
              "    <tr>\n",
              "      <th>31</th>\n",
              "      <td>NJ</td>\n",
              "      <td>18</td>\n",
              "    </tr>\n",
              "    <tr>\n",
              "      <th>43</th>\n",
              "      <td>TX</td>\n",
              "      <td>18</td>\n",
              "    </tr>\n",
              "    <tr>\n",
              "      <th>20</th>\n",
              "      <td>MD</td>\n",
              "      <td>17</td>\n",
              "    </tr>\n",
              "    <tr>\n",
              "      <th>22</th>\n",
              "      <td>MI</td>\n",
              "      <td>16</td>\n",
              "    </tr>\n",
              "    <tr>\n",
              "      <th>23</th>\n",
              "      <td>MN</td>\n",
              "      <td>15</td>\n",
              "    </tr>\n",
              "    <tr>\n",
              "      <th>34</th>\n",
              "      <td>NY</td>\n",
              "      <td>15</td>\n",
              "    </tr>\n",
              "    <tr>\n",
              "      <th>26</th>\n",
              "      <td>MT</td>\n",
              "      <td>14</td>\n",
              "    </tr>\n",
              "    <tr>\n",
              "      <th>33</th>\n",
              "      <td>NV</td>\n",
              "      <td>14</td>\n",
              "    </tr>\n",
              "    <tr>\n",
              "      <th>25</th>\n",
              "      <td>MS</td>\n",
              "      <td>14</td>\n",
              "    </tr>\n",
              "    <tr>\n",
              "      <th>40</th>\n",
              "      <td>SC</td>\n",
              "      <td>14</td>\n",
              "    </tr>\n",
              "    <tr>\n",
              "      <th>47</th>\n",
              "      <td>WA</td>\n",
              "      <td>14</td>\n",
              "    </tr>\n",
              "    <tr>\n",
              "      <th>16</th>\n",
              "      <td>KS</td>\n",
              "      <td>13</td>\n",
              "    </tr>\n",
              "    <tr>\n",
              "      <th>21</th>\n",
              "      <td>ME</td>\n",
              "      <td>13</td>\n",
              "    </tr>\n",
              "    <tr>\n",
              "      <th>6</th>\n",
              "      <td>CT</td>\n",
              "      <td>12</td>\n",
              "    </tr>\n",
              "    <tr>\n",
              "      <th>37</th>\n",
              "      <td>OR</td>\n",
              "      <td>11</td>\n",
              "    </tr>\n",
              "    <tr>\n",
              "      <th>27</th>\n",
              "      <td>NC</td>\n",
              "      <td>11</td>\n",
              "    </tr>\n",
              "    <tr>\n",
              "      <th>19</th>\n",
              "      <td>MA</td>\n",
              "      <td>11</td>\n",
              "    </tr>\n",
              "    <tr>\n",
              "      <th>2</th>\n",
              "      <td>AR</td>\n",
              "      <td>11</td>\n",
              "    </tr>\n",
              "    <tr>\n",
              "      <th>44</th>\n",
              "      <td>UT</td>\n",
              "      <td>10</td>\n",
              "    </tr>\n",
              "    <tr>\n",
              "      <th>49</th>\n",
              "      <td>WV</td>\n",
              "      <td>10</td>\n",
              "    </tr>\n",
              "    <tr>\n",
              "      <th>35</th>\n",
              "      <td>OH</td>\n",
              "      <td>10</td>\n",
              "    </tr>\n",
              "    <tr>\n",
              "      <th>36</th>\n",
              "      <td>OK</td>\n",
              "      <td>9</td>\n",
              "    </tr>\n",
              "    <tr>\n",
              "      <th>30</th>\n",
              "      <td>NH</td>\n",
              "      <td>9</td>\n",
              "    </tr>\n",
              "    <tr>\n",
              "      <th>50</th>\n",
              "      <td>WY</td>\n",
              "      <td>9</td>\n",
              "    </tr>\n",
              "    <tr>\n",
              "      <th>4</th>\n",
              "      <td>CA</td>\n",
              "      <td>9</td>\n",
              "    </tr>\n",
              "    <tr>\n",
              "      <th>15</th>\n",
              "      <td>IN</td>\n",
              "      <td>9</td>\n",
              "    </tr>\n",
              "    <tr>\n",
              "      <th>5</th>\n",
              "      <td>CO</td>\n",
              "      <td>9</td>\n",
              "    </tr>\n",
              "    <tr>\n",
              "      <th>13</th>\n",
              "      <td>ID</td>\n",
              "      <td>9</td>\n",
              "    </tr>\n",
              "    <tr>\n",
              "      <th>8</th>\n",
              "      <td>DE</td>\n",
              "      <td>9</td>\n",
              "    </tr>\n",
              "    <tr>\n",
              "      <th>9</th>\n",
              "      <td>FL</td>\n",
              "      <td>8</td>\n",
              "    </tr>\n",
              "    <tr>\n",
              "      <th>1</th>\n",
              "      <td>AL</td>\n",
              "      <td>8</td>\n",
              "    </tr>\n",
              "    <tr>\n",
              "      <th>17</th>\n",
              "      <td>KY</td>\n",
              "      <td>8</td>\n",
              "    </tr>\n",
              "    <tr>\n",
              "      <th>46</th>\n",
              "      <td>VT</td>\n",
              "      <td>8</td>\n",
              "    </tr>\n",
              "    <tr>\n",
              "      <th>41</th>\n",
              "      <td>SD</td>\n",
              "      <td>8</td>\n",
              "    </tr>\n",
              "    <tr>\n",
              "      <th>38</th>\n",
              "      <td>PA</td>\n",
              "      <td>8</td>\n",
              "    </tr>\n",
              "    <tr>\n",
              "      <th>10</th>\n",
              "      <td>GA</td>\n",
              "      <td>8</td>\n",
              "    </tr>\n",
              "    <tr>\n",
              "      <th>48</th>\n",
              "      <td>WI</td>\n",
              "      <td>7</td>\n",
              "    </tr>\n",
              "    <tr>\n",
              "      <th>24</th>\n",
              "      <td>MO</td>\n",
              "      <td>7</td>\n",
              "    </tr>\n",
              "    <tr>\n",
              "      <th>39</th>\n",
              "      <td>RI</td>\n",
              "      <td>6</td>\n",
              "    </tr>\n",
              "    <tr>\n",
              "      <th>32</th>\n",
              "      <td>NM</td>\n",
              "      <td>6</td>\n",
              "    </tr>\n",
              "    <tr>\n",
              "      <th>28</th>\n",
              "      <td>ND</td>\n",
              "      <td>6</td>\n",
              "    </tr>\n",
              "    <tr>\n",
              "      <th>42</th>\n",
              "      <td>TN</td>\n",
              "      <td>5</td>\n",
              "    </tr>\n",
              "    <tr>\n",
              "      <th>7</th>\n",
              "      <td>DC</td>\n",
              "      <td>5</td>\n",
              "    </tr>\n",
              "    <tr>\n",
              "      <th>14</th>\n",
              "      <td>IL</td>\n",
              "      <td>5</td>\n",
              "    </tr>\n",
              "    <tr>\n",
              "      <th>45</th>\n",
              "      <td>VA</td>\n",
              "      <td>5</td>\n",
              "    </tr>\n",
              "    <tr>\n",
              "      <th>29</th>\n",
              "      <td>NE</td>\n",
              "      <td>5</td>\n",
              "    </tr>\n",
              "    <tr>\n",
              "      <th>18</th>\n",
              "      <td>LA</td>\n",
              "      <td>4</td>\n",
              "    </tr>\n",
              "    <tr>\n",
              "      <th>3</th>\n",
              "      <td>AZ</td>\n",
              "      <td>4</td>\n",
              "    </tr>\n",
              "    <tr>\n",
              "      <th>11</th>\n",
              "      <td>HI</td>\n",
              "      <td>3</td>\n",
              "    </tr>\n",
              "    <tr>\n",
              "      <th>12</th>\n",
              "      <td>IA</td>\n",
              "      <td>3</td>\n",
              "    </tr>\n",
              "    <tr>\n",
              "      <th>0</th>\n",
              "      <td>AK</td>\n",
              "      <td>3</td>\n",
              "    </tr>\n",
              "  </tbody>\n",
              "</table>\n",
              "</div>\n",
              "      <button class=\"colab-df-convert\" onclick=\"convertToInteractive('df-f18c5bc2-cfc3-424c-9b9b-e7d3bd453aad')\"\n",
              "              title=\"Convert this dataframe to an interactive table.\"\n",
              "              style=\"display:none;\">\n",
              "        \n",
              "  <svg xmlns=\"http://www.w3.org/2000/svg\" height=\"24px\"viewBox=\"0 0 24 24\"\n",
              "       width=\"24px\">\n",
              "    <path d=\"M0 0h24v24H0V0z\" fill=\"none\"/>\n",
              "    <path d=\"M18.56 5.44l.94 2.06.94-2.06 2.06-.94-2.06-.94-.94-2.06-.94 2.06-2.06.94zm-11 1L8.5 8.5l.94-2.06 2.06-.94-2.06-.94L8.5 2.5l-.94 2.06-2.06.94zm10 10l.94 2.06.94-2.06 2.06-.94-2.06-.94-.94-2.06-.94 2.06-2.06.94z\"/><path d=\"M17.41 7.96l-1.37-1.37c-.4-.4-.92-.59-1.43-.59-.52 0-1.04.2-1.43.59L10.3 9.45l-7.72 7.72c-.78.78-.78 2.05 0 2.83L4 21.41c.39.39.9.59 1.41.59.51 0 1.02-.2 1.41-.59l7.78-7.78 2.81-2.81c.8-.78.8-2.07 0-2.86zM5.41 20L4 18.59l7.72-7.72 1.47 1.35L5.41 20z\"/>\n",
              "  </svg>\n",
              "      </button>\n",
              "      \n",
              "  <style>\n",
              "    .colab-df-container {\n",
              "      display:flex;\n",
              "      flex-wrap:wrap;\n",
              "      gap: 12px;\n",
              "    }\n",
              "\n",
              "    .colab-df-convert {\n",
              "      background-color: #E8F0FE;\n",
              "      border: none;\n",
              "      border-radius: 50%;\n",
              "      cursor: pointer;\n",
              "      display: none;\n",
              "      fill: #1967D2;\n",
              "      height: 32px;\n",
              "      padding: 0 0 0 0;\n",
              "      width: 32px;\n",
              "    }\n",
              "\n",
              "    .colab-df-convert:hover {\n",
              "      background-color: #E2EBFA;\n",
              "      box-shadow: 0px 1px 2px rgba(60, 64, 67, 0.3), 0px 1px 3px 1px rgba(60, 64, 67, 0.15);\n",
              "      fill: #174EA6;\n",
              "    }\n",
              "\n",
              "    [theme=dark] .colab-df-convert {\n",
              "      background-color: #3B4455;\n",
              "      fill: #D2E3FC;\n",
              "    }\n",
              "\n",
              "    [theme=dark] .colab-df-convert:hover {\n",
              "      background-color: #434B5C;\n",
              "      box-shadow: 0px 1px 3px 1px rgba(0, 0, 0, 0.15);\n",
              "      filter: drop-shadow(0px 1px 2px rgba(0, 0, 0, 0.3));\n",
              "      fill: #FFFFFF;\n",
              "    }\n",
              "  </style>\n",
              "\n",
              "      <script>\n",
              "        const buttonEl =\n",
              "          document.querySelector('#df-f18c5bc2-cfc3-424c-9b9b-e7d3bd453aad button.colab-df-convert');\n",
              "        buttonEl.style.display =\n",
              "          google.colab.kernel.accessAllowed ? 'block' : 'none';\n",
              "\n",
              "        async function convertToInteractive(key) {\n",
              "          const element = document.querySelector('#df-f18c5bc2-cfc3-424c-9b9b-e7d3bd453aad');\n",
              "          const dataTable =\n",
              "            await google.colab.kernel.invokeFunction('convertToInteractive',\n",
              "                                                     [key], {});\n",
              "          if (!dataTable) return;\n",
              "\n",
              "          const docLinkHtml = 'Like what you see? Visit the ' +\n",
              "            '<a target=\"_blank\" href=https://colab.research.google.com/notebooks/data_table.ipynb>data table notebook</a>'\n",
              "            + ' to learn more about interactive tables.';\n",
              "          element.innerHTML = '';\n",
              "          dataTable['output_type'] = 'display_data';\n",
              "          await google.colab.output.renderOutput(dataTable, element);\n",
              "          const docLink = document.createElement('div');\n",
              "          docLink.innerHTML = docLinkHtml;\n",
              "          element.appendChild(docLink);\n",
              "        }\n",
              "      </script>\n",
              "    </div>\n",
              "  </div>\n",
              "  "
            ]
          },
          "metadata": {},
          "execution_count": 89
        }
      ]
    },
    {
      "cell_type": "markdown",
      "source": [
        "**`NJ` and `TX` has the largest churn customer . Also `AK` ,`iA` and `HI` has the lowest churn customer**"
      ],
      "metadata": {
        "id": "aLbuVOfAvcFc"
      }
    },
    {
      "cell_type": "markdown",
      "source": [
        "#### **With international Calls and Their plans**"
      ],
      "metadata": {
        "id": "IcvkfI-TwAre"
      }
    },
    {
      "cell_type": "code",
      "source": [
        "#there is a larges section of people who have opted for international price plan and voicemail message \n",
        "telecom_df_with_international_plan = telecom_df[telecom_df[\"International plan\"]==1] #1 is for yes \n",
        "telecom_df_not_international_plan = telecom_df[telecom_df[\"International plan\"]==0] #0 is for No\n",
        "#churn rate for people having international plan\n",
        "print(telecom_df_with_international_plan[\"Churn\"].value_counts())\n",
        "print(telecom_df_not_international_plan[\"Churn\"].value_counts())"
      ],
      "metadata": {
        "colab": {
          "base_uri": "https://localhost:8080/"
        },
        "id": "SuidVLiJwAOs",
        "outputId": "586b2c81-f017-4ab6-abc2-6b963c85e831"
      },
      "execution_count": 90,
      "outputs": [
        {
          "output_type": "stream",
          "name": "stdout",
          "text": [
            "0    186\n",
            "1    137\n",
            "Name: Churn, dtype: int64\n",
            "0    2664\n",
            "1     346\n",
            "Name: Churn, dtype: int64\n"
          ]
        }
      ]
    },
    {
      "cell_type": "code",
      "source": [
        "print(telecom_df_with_international_plan[\"international_rate_per_min\"].mean())\n",
        "print(telecom_df_not_international_plan[\"international_rate_per_min\"].mean())"
      ],
      "metadata": {
        "colab": {
          "base_uri": "https://localhost:8080/"
        },
        "id": "oZz3MAoePZZk",
        "outputId": "e2500d73-962f-4de9-bb43-731de207c49b"
      },
      "execution_count": 91,
      "outputs": [
        {
          "output_type": "stream",
          "name": "stdout",
          "text": [
            "0.2700382724389779\n",
            "0.2700585182510288\n"
          ]
        }
      ]
    },
    {
      "cell_type": "markdown",
      "source": [
        "**people having international plan were more prone to churn**"
      ],
      "metadata": {
        "id": "rkigCcW6ChRG"
      }
    },
    {
      "cell_type": "code",
      "source": [
        "#there are some customer who have opted for voicemail \n",
        "telecom_df_with_voicemail_plan = telecom_df[telecom_df[\"Voice mail plan\"]==1]\n",
        "# churn rate for people having voicemail plan \n",
        "print(telecom_df_with_voicemail_plan[\"Churn\"].value_counts())\n",
        "telecom_df_not_voicemail_plan = telecom_df[telecom_df[\"Voice mail plan\"]==0]\n",
        "print(telecom_df_not_voicemail_plan[\"Churn\"].value_counts())\n"
      ],
      "metadata": {
        "colab": {
          "base_uri": "https://localhost:8080/"
        },
        "id": "cr-ByDIYC1pE",
        "outputId": "516ba59d-90ba-4b1b-c064-d40e7b80aacc"
      },
      "execution_count": 92,
      "outputs": [
        {
          "output_type": "stream",
          "name": "stdout",
          "text": [
            "0    842\n",
            "1     80\n",
            "Name: Churn, dtype: int64\n",
            "0    2008\n",
            "1     403\n",
            "Name: Churn, dtype: int64\n"
          ]
        }
      ]
    },
    {
      "cell_type": "markdown",
      "source": [
        "**people having voicemail plan have only 10 % chances of churn**"
      ],
      "metadata": {
        "id": "axIhi5mZap4L"
      }
    },
    {
      "cell_type": "markdown",
      "source": [
        "#### **Churn rate changes with normal talktime**"
      ],
      "metadata": {
        "id": "vq2rQbTQizVL"
      }
    },
    {
      "cell_type": "code",
      "source": [
        "#compare churn rate when call duration of people is greter than 50 %\n",
        "telecom_overall_call_made_df_50 = telecom_df[telecom_df[\"overall_call_made\"]>301]\n",
        "telecom_overall_call_made_df_50[\"Churn\"].value_counts()"
      ],
      "metadata": {
        "colab": {
          "base_uri": "https://localhost:8080/"
        },
        "id": "HJ8abrj_jYzs",
        "outputId": "c47490f6-236b-4b0e-de8d-500fa27cc604"
      },
      "execution_count": 93,
      "outputs": [
        {
          "output_type": "execute_result",
          "data": {
            "text/plain": [
              "0    1403\n",
              "1     245\n",
              "Name: Churn, dtype: int64"
            ]
          },
          "metadata": {},
          "execution_count": 93
        }
      ]
    },
    {
      "cell_type": "code",
      "source": [
        "# what about the people which are more active at nights \n",
        "telecom_df_night_call = telecom_df[telecom_df[\"Total night minutes\"]>235]\n",
        "telecom_df_night_call[\"Churn\"].value_counts()"
      ],
      "metadata": {
        "colab": {
          "base_uri": "https://localhost:8080/"
        },
        "id": "zqNQPEF8nkA-",
        "outputId": "03d88695-2d03-4c0f-f9d5-27bdca0a54fc"
      },
      "execution_count": 94,
      "outputs": [
        {
          "output_type": "execute_result",
          "data": {
            "text/plain": [
              "0    709\n",
              "1    130\n",
              "Name: Churn, dtype: int64"
            ]
          },
          "metadata": {},
          "execution_count": 94
        }
      ]
    },
    {
      "cell_type": "markdown",
      "source": [
        "**It turns out that people who are more active at nights are less prone to churn**"
      ],
      "metadata": {
        "id": "Jf-Gbof7o82z"
      }
    },
    {
      "cell_type": "code",
      "source": [
        "# what about the people which are more active at day  than 75 % people \n",
        "telecom_df_day_call= telecom_df[telecom_df[\"Total day minutes\"]>220]\n",
        "telecom_df_day_call[\"Churn\"].value_counts()"
      ],
      "metadata": {
        "colab": {
          "base_uri": "https://localhost:8080/"
        },
        "outputId": "30227bb2-a233-4db5-bc8d-c4e8a0aee038",
        "id": "uKz21pStpMpd"
      },
      "execution_count": 95,
      "outputs": [
        {
          "output_type": "execute_result",
          "data": {
            "text/plain": [
              "0    529\n",
              "1    238\n",
              "Name: Churn, dtype: int64"
            ]
          },
          "metadata": {},
          "execution_count": 95
        }
      ]
    },
    {
      "cell_type": "markdown",
      "source": [
        "**people who are more active day time than 75% people are more to churn**"
      ],
      "metadata": {
        "id": "iYHwWzX8pz6M"
      }
    },
    {
      "cell_type": "code",
      "source": [
        "# plan price at which people were less prone to churn \n",
        "telecom_df_average_price_plan= telecom_df[telecom_df[\"Average_price_plan\"]>=10]\n",
        "print(telecom_df_average_price_plan[\"Churn\"].value_counts())\n",
        "print(telecom_df[telecom_df[\"Average_price_plan\"]<=9][\"Churn\"].value_counts())"
      ],
      "metadata": {
        "colab": {
          "base_uri": "https://localhost:8080/"
        },
        "outputId": "0bd4de06-f498-4865-8459-de4f60594c32",
        "id": "XCdPQnX8seGe"
      },
      "execution_count": 96,
      "outputs": [
        {
          "output_type": "stream",
          "name": "stdout",
          "text": [
            "0    1852\n",
            "1     236\n",
            "Name: Churn, dtype: int64\n",
            "0    998\n",
            "1    247\n",
            "Name: Churn, dtype: int64\n"
          ]
        }
      ]
    },
    {
      "cell_type": "code",
      "source": [
        "#effect of customer service calls on churn \n",
        "print(telecom_df[telecom_df[\"Customer service calls\"]<=1][\"Churn\"].value_counts())\n",
        "print(telecom_df[telecom_df[\"Customer service calls\"]>=2][\"Churn\"].value_counts())\n",
        "print(telecom_df[telecom_df[\"Customer service calls\"]>=4][\"Churn\"].value_counts())"
      ],
      "metadata": {
        "colab": {
          "base_uri": "https://localhost:8080/"
        },
        "id": "PUJYKmWLvz5a",
        "outputId": "5110530d-b1f4-4de3-eb38-4163ff902ffd"
      },
      "execution_count": 97,
      "outputs": [
        {
          "output_type": "stream",
          "name": "stdout",
          "text": [
            "0    1664\n",
            "1     214\n",
            "Name: Churn, dtype: int64\n",
            "0    1186\n",
            "1     269\n",
            "Name: Churn, dtype: int64\n",
            "1    138\n",
            "0    129\n",
            "Name: Churn, dtype: int64\n"
          ]
        }
      ]
    },
    {
      "cell_type": "markdown",
      "source": [
        "**When  2 or more customer service calls were made than people were less prone to churn**"
      ],
      "metadata": {
        "id": "pXSvgp8GL9y3"
      }
    },
    {
      "cell_type": "markdown",
      "source": [
        "### **Data Insights**"
      ],
      "metadata": {
        "id": "iw1knKWXNHdQ"
      }
    },
    {
      "cell_type": "markdown",
      "source": [
        "**Going through the company data we found data for every 7 customer of the company 1 person moved out of to be changing its operator.At first it may not look very big problem but telecom companies are supposed to be runnng on very large person connectivity which are gennerally in millions.so for every 7 million subscriber 1 million subscriber have changed its operator now thats look like a big issue**\n",
        "\n",
        "**Some of the issue i found in the company dataset which may be a reason for customer changing its oprator are as**"
      ],
      "metadata": {
        "id": "ZpAm0w0e3cgr"
      }
    },
    {
      "cell_type": "markdown",
      "source": [
        "**across area code**\n",
        "\n",
        "*if we look only behaviour of customers across all area code it may look very similar but diving deep we find that out of three area `415` have the highest number of customer and their churn rate but it look surprising that they they same amount of call duration lets see it through a table*\n",
        "\n",
        "\n",
        "\n",
        "| **Area code**| **customer** |**churn**|**Avg_int_call_duration_of_consistent**|**Avg_int_call_duration_of_Churn**|**Avg_overall_call_duration_consistent**|**Avg_overall_call_duration_churn**|\n",
        "| ----| ------------- |-----|---------------------------|-|-|-|\n",
        "| 408 | 838  |122           |3.05 |3.60 |570    |621\n",
        "| 415 | 1655 |236           |3.00 |3.45 |576    |629\n",
        "| 520 | 840  |125           |3.06 |3.74 |573    |617\n",
        "\n",
        "\n",
        "*going through the table we cans see that people who have churned are the one who were using the telecom mostly in national or international, it may happen because these customer may find themseleves that even they usinh it  most they are not getting any special treatment*\n",
        "\n"
      ],
      "metadata": {
        "id": "11w6bGhC5NYD"
      }
    },
    {
      "cell_type": "markdown",
      "source": [
        "**Through states** \n",
        "\n",
        "one peculiar statistic thng we finded through the states that number churn ascending order through the states in a counting number fashion. these may happen due to facts may be as their geographical distance increases with increasing geographical area , their network or connectivity started decreasing."
      ],
      "metadata": {
        "id": "tcgt54IHB-3i"
      }
    },
    {
      "cell_type": "markdown",
      "source": [
        "**International plan effect**\n",
        "\n",
        "we observed that among people who opted for the international plan \n",
        "`50%` have changed their telecom service this may be due to the fact that international plan are national plan almost same ."
      ],
      "metadata": {
        "id": "aCPrcfPeFVcH"
      }
    },
    {
      "cell_type": "markdown",
      "source": [
        "**Voicemail plan**\n",
        "\n",
        "the company had shown good response towards customer who have opted for their voicemail plan as the people using voicemail plan were very less in rationto change the telecom than the  people who has not opted for voicemail plan "
      ],
      "metadata": {
        "id": "XswwUyzGISK0"
      }
    },
    {
      "cell_type": "markdown",
      "source": [
        "**Price plan and customer and customer service calls**\n",
        "\n",
        "when customer price plan were less than or equal to 9 than the people were very less to churn we it is greater or equal to 10 . \n",
        "Also we have founded with the increase in customer service calls A large people tend to change their telecom operator"
      ],
      "metadata": {
        "id": "mP4b5bAYJWmq"
      }
    },
    {
      "cell_type": "markdown",
      "source": [
        "#**Data Visualization**"
      ],
      "metadata": {
        "id": "gAFS0cqFdJB5"
      }
    },
    {
      "cell_type": "markdown",
      "source": [
        "### **Chart 1**"
      ],
      "metadata": {
        "id": "oDcWSrztoTvS"
      }
    },
    {
      "cell_type": "code",
      "source": [
        "#Chart 1 univariate Analysis\n",
        "#we will see the proportion of churn ith dataset\n",
        "print(telecom_df[\"Churn\"].value_counts())\n",
        "palette_color = sns.color_palette('dark')# we will use dark pallete for pie chart color\n",
        "telecom_df[\"Churn\"].value_counts().plot(kind = 'pie',\n",
        "                                        figsize=(8,6), # set figure size to display\n",
        "                                        title=\"Churn proportion chart\", #set title\n",
        "                                        labels = [\"consistent_customer\",\"Churn_customer\"], # labels ofeach piece\n",
        "                                        colors = palette_color,\n",
        "                                        shadow = True, # show shadow by default it is False\n",
        "                                        autopct= '%.f',\n",
        "                                        explode  = [0.1,0.1]) #explode pieces\n",
        "# save the chart with a file name                                        \n",
        "plt.savefig(\"pie_chart_for_churn\")"
      ],
      "metadata": {
        "colab": {
          "base_uri": "https://localhost:8080/",
          "height": 0
        },
        "id": "ToAN3fC_LW07",
        "outputId": "7a60319c-7bbc-4504-dfcd-316b034d352b"
      },
      "execution_count": 98,
      "outputs": [
        {
          "output_type": "stream",
          "name": "stdout",
          "text": [
            "0    2850\n",
            "1     483\n",
            "Name: Churn, dtype: int64\n"
          ]
        },
        {
          "output_type": "display_data",
          "data": {
            "text/plain": [
              "<Figure size 576x432 with 1 Axes>"
            ],
            "image/png": "[encoded data removed]"
          },
          "metadata": {}
        }
      ]
    },
    {
      "cell_type": "markdown",
      "source": [
        "#### **why pie chart**"
      ],
      "metadata": {
        "id": "qWU8sI9PoaK6"
      }
    },
    {
      "cell_type": "markdown",
      "source": [
        "*A pie chart shows the relationships of parts to the whole for a variable.it help us understand the parts-to-a-whole relationshipWith categorical data,The slices in the pie typically represent percentages of the total. the sample is often divided into groups and the responses have a defined order. For example, in a survey where you are asked to give your opinion on a scale from “Strongly Disagree” to “Strongly Agree,” your responses are categorical.Wtih nominal data, the sample is also divided into groups but without any particular order.*"
      ],
      "metadata": {
        "id": "QdF8G2wbofLV"
      }
    },
    {
      "cell_type": "markdown",
      "source": [
        "####**Insights**\n",
        "*the dataset is not so balanced which is good as only 14 % of customers have churned . however this number may look very smal at very begining but considering the facts that telecom industry operates on 10 millions of customer . 14 % is a very large amunt . a company invest a large cost on gaining even 1 new customer  and loosing so much is that the company will think at the last*"
      ],
      "metadata": {
        "id": "4j6X2OPzrruB"
      }
    },
    {
      "cell_type": "markdown",
      "source": [
        "### **Chart2 correlation plot**"
      ],
      "metadata": {
        "id": "V_saHW_4tDyC"
      }
    },
    {
      "cell_type": "code",
      "source": [
        "#plot correlation matrix of the data \n",
        "plt.rcParams[\"figure.figsize\"] = (30,10)#set the figure size with rcparams\n",
        "ax = sns.heatmap(telecom_dataset.corr(method='pearson'),# we will use pearson method \n",
        "            annot=True, #annot with inthe figure \n",
        "            fmt=\".4f\",\n",
        "            )\n",
        "ax.set(xlabel=\"\", ylabel=\"\")\n",
        "ax.xaxis.tick_top() #will show xtick valu on top more clear visual "
      ],
      "metadata": {
        "colab": {
          "base_uri": "https://localhost:8080/",
          "height": 0
        },
        "id": "iZ8zPi9OtOTQ",
        "outputId": "06669962-6fcc-4a0f-b9b8-0c85a5c898fb"
      },
      "execution_count": 99,
      "outputs": [
        {
          "output_type": "display_data",
          "data": {
            "text/plain": [
              "<Figure size 2160x720 with 2 Axes>"
            ],
            "image/png": "[encoded data removed]"
          },
          "metadata": {
            "needs_background": "light"
          }
        }
      ]
    },
    {
      "cell_type": "markdown",
      "source": [
        "####**why correlation heatmap**"
      ],
      "metadata": {
        "id": "aZedm9TAwjLF"
      }
    },
    {
      "cell_type": "markdown",
      "source": [
        "*A correlation matrix is simply a table which displays the correlation coefficients for different variables. The matrix depicts the correlation between all the possible pairs of values in a table. It is a powerful tool to summarize a large dataset and to identify and visualize patterns in the given data. However Heatmaps are used to show relationships between two variables, one plotted on each axis. By observing how cell colors change across each axis, you can observe if there are any patterns in value for one or both variables.*"
      ],
      "metadata": {
        "id": "9mbrZX1jwo-H"
      }
    },
    {
      "cell_type": "markdown",
      "source": [
        "####**Insights**\n",
        "*Through visual map of correlation we were able to anlyze the visual understanding of how the columns weere related to each other .like as day call where directly positively related with day charge. same with evening and night charges and international charges with international duration.we must see that there are 22 columns so even with very less correlation numerical value they are highly related*"
      ],
      "metadata": {
        "id": "Me2F_lqzw_yR"
      }
    },
    {
      "cell_type": "markdown",
      "source": [
        "###**Chart3**"
      ],
      "metadata": {
        "id": "YGpF6_lkypZn"
      }
    },
    {
      "cell_type": "code",
      "source": [
        "#Chart 3 univariate Analysis of area code \n",
        "# since all the customers are divided across only three area code\n",
        "palette_color = sns.color_palette('dark')# we will use dark pallete for pie chart color\n",
        "telecom_df.groupby(\"Area code\")[\"Churn\"].count().plot(kind = 'pie',\n",
        "                                        figsize=(8,6), # set figure size to display\n",
        "                                        title=\"Churn distribution acros area code  \", #set title\n",
        "                                        labels = [\"408 area code\",\"415 area code\",\"510 area code\"], # labels ofeach piece\n",
        "                                        colors = palette_color,\n",
        "                                        shadow = True, # show shadow by default it is False\n",
        "                                        autopct= '%.f',\n",
        "                                        explode  = [0.1,0.05,0.05]) #explode pieces\n",
        "# save the chart with a file name                                        \n",
        "plt.savefig(\"churn distributuion across states\")"
      ],
      "metadata": {
        "colab": {
          "base_uri": "https://localhost:8080/",
          "height": 0
        },
        "id": "ima-JQRCzAAk",
        "outputId": "81abb8a8-9d7e-474d-f775-78f6b8ad8923"
      },
      "execution_count": 100,
      "outputs": [
        {
          "output_type": "display_data",
          "data": {
            "text/plain": [
              "<Figure size 576x432 with 1 Axes>"
            ],
            "image/png": "[encoded data removed]"
          },
          "metadata": {}
        }
      ]
    },
    {
      "cell_type": "markdown",
      "source": [
        "####**Why pe chart**"
      ],
      "metadata": {
        "id": "zzvJhK8h0ufp"
      }
    },
    {
      "cell_type": "markdown",
      "source": [
        "*as explainded A pie chart shows the relationships of parts to the whole for a variable.it help us understand the parts-to-a-whole relationshipWith categorical data,The slices in the pie typically represent percentages of the total. the sample is often divided into groups and the responses have a defined order. For example, in a survey where you are asked to give your opinion on a scale from “Strongly Disagree” to “Strongly Agree,” your responses are categorical.Wtih nominal data, the sample is also divided into groups but without any particular order*"
      ],
      "metadata": {
        "id": "IJMhcviU02YR"
      }
    },
    {
      "cell_type": "markdown",
      "source": [
        "#### **Insights**\n"
      ],
      "metadata": {
        "id": "uCmoUCZt1Hgd"
      }
    },
    {
      "cell_type": "markdown",
      "source": [
        "*with the chart we were able to analyze that the churn data is more sarturarted towards 415area code this is also due to rthe case almost 2x people are using the telecom operator in area 415.so it is natural to have more churn in this area*"
      ],
      "metadata": {
        "id": "M_hEmUg51T0R"
      }
    },
    {
      "cell_type": "markdown",
      "source": [
        "### **Chart4**"
      ],
      "metadata": {
        "id": "lAkQBkGN17Aw"
      }
    },
    {
      "cell_type": "code",
      "source": [
        "sns.set_style(\"darkgrid\", {\"grid.color\": \".6\", \"grid.linestyle\": \":\"})\n",
        "# set width of bar\n",
        "barWidth = 0.25\n",
        "fig = plt.subplots(figsize =(20, 8))\n",
        " \n",
        "# Set position of bar on X axis\n",
        "br1 = np.arange(len(telecom_df[telecom_df[\"Area code\"] == 415].mean().iloc[1:12].index))\n",
        "br2 = [x + barWidth for x in br1]\n",
        "br3 = [x + barWidth for x in br2]\n",
        " \n",
        "# Make the plot\n",
        "plt.bar(br1, telecom_df[telecom_df[\"Area code\"] == 415].sum().iloc[1:12].values, color ='r', width = barWidth,\n",
        "        edgecolor ='grey', label ='415 area code')\n",
        "plt.bar(br2, telecom_df[telecom_df[\"Area code\"] == 408].sum().iloc[1:12].values, color ='g', width = barWidth,\n",
        "        edgecolor ='grey', label ='408 Area code')\n",
        "plt.bar(br3, telecom_df[telecom_df[\"Area code\"] == 510].sum().iloc[1:12].values, color ='b', width = barWidth,\n",
        "        edgecolor ='grey', label ='510 area code')\n",
        " \n",
        "# Adding Xticks\n",
        "plt.xlabel('telecom Indexes', fontweight ='bold', fontsize = 15)\n",
        "plt.ylabel('Comparing Value', fontweight ='bold', fontsize = 15)\n",
        "plt.xticks([r + barWidth for r in range(len(telecom_df[telecom_df[\"Area code\"] == 415].mean().iloc[1:12].index))],\n",
        "        telecom_df[telecom_df[\"Area code\"] == 415].mean().iloc[:12].index)\n",
        " \n",
        "plt.legend()\n",
        "plt.show()\n",
        "plt.savefig(\"Commulatative bar plot of states\")"
      ],
      "metadata": {
        "colab": {
          "base_uri": "https://localhost:8080/",
          "height": 519
        },
        "id": "dzqSVggN2b4x",
        "outputId": "99a54878-e7fa-4912-f84e-8992561652e7"
      },
      "execution_count": 101,
      "outputs": [
        {
          "output_type": "display_data",
          "data": {
            "text/plain": [
              "<Figure size 1440x576 with 1 Axes>"
            ],
            "image/png": "[encoded data removed]"
          },
          "metadata": {}
        },
        {
          "output_type": "display_data",
          "data": {
            "text/plain": [
              "<Figure size 2160x720 with 0 Axes>"
            ]
          },
          "metadata": {}
        }
      ]
    },
    {
      "cell_type": "markdown",
      "source": [
        "#### **Why bar chart**"
      ],
      "metadata": {
        "id": "NTTx_Bqm-dSd"
      }
    },
    {
      "cell_type": "markdown",
      "source": [
        "*A bar chart plots numeric values for levels of a categorical feature as bars. Levels are plotted on one chart axis, and values are plotted on the other axis. Each categorical value claims one bar, and the length of each bar corresponds to the bar’s value. Bars are plotted on a common baseline to allow for easy comparison of values.it is used when we want to show a distribution of data points or perform a comparison of metric values across different subgroups of your data. From a bar chart, we can see which groups are highest or most common, and how other groups compare against the others. Since this is a fairly common task, bar charts are a fairly ubiquitous chart type.*"
      ],
      "metadata": {
        "id": "0QUbwJGJ_EuV"
      }
    },
    {
      "cell_type": "markdown",
      "source": [
        "#### **Insights**"
      ],
      "metadata": {
        "id": "Om6pcZFUBNYB"
      }
    },
    {
      "cell_type": "markdown",
      "source": [
        "*Through plot we found oot that customer segmentation are uniformly distributed acros all states as the number of customer 2x in area 415. their call duration and calling times are also 2 times show it shows the uniformity of customer across all area codes*"
      ],
      "metadata": {
        "id": "6kxrYyMkBSU5"
      }
    },
    {
      "cell_type": "markdown",
      "source": [
        "###**chart 5**"
      ],
      "metadata": {
        "id": "K5H8Op_BUZJQ"
      }
    },
    {
      "cell_type": "code",
      "source": [
        "sns.set_style(\"darkgrid\", {\"grid.color\": \".6\", \"grid.linestyle\": \":\"})\n",
        "# set width of bar\n",
        "fig = plt.subplots(figsize =(20, 8))\n",
        "#account length of customer are less than total no of customer \n",
        "#find outlier in account length\n",
        "telecom_dataset[\"Account length\"].plot(kind='box',\n",
        "                                       patch_artist = True,)\n",
        "plt.title(\"Boxplot for account length\")"
      ],
      "metadata": {
        "colab": {
          "base_uri": "https://localhost:8080/",
          "height": 516
        },
        "id": "ZZ9zl-84U81R",
        "outputId": "3ed62c10-6826-4f58-db0b-f038f0cf9232"
      },
      "execution_count": 102,
      "outputs": [
        {
          "output_type": "execute_result",
          "data": {
            "text/plain": [
              "Text(0.5, 1.0, 'Boxplot for account length')"
            ]
          },
          "metadata": {},
          "execution_count": 102
        },
        {
          "output_type": "display_data",
          "data": {
            "text/plain": [
              "<Figure size 1440x576 with 1 Axes>"
            ],
            "image/png": "[encoded data removed]"
          },
          "metadata": {}
        }
      ]
    },
    {
      "cell_type": "markdown",
      "source": [
        "#### **why box plot**"
      ],
      "metadata": {
        "id": "3pgiAshXXzQV"
      }
    },
    {
      "cell_type": "markdown",
      "source": [
        "*A box plot (aka box and whisker plot) uses boxes and lines to depict the distributions of one or more groups of numeric data. Box limits indicate the range of the central 50% of the data, with a central line marking the median value. Lines extend from each box to capture the range of the remaining data, with dots placed past the line edges to indicate outliers.*"
      ],
      "metadata": {
        "id": "VyZjk1TaX52c"
      }
    },
    {
      "cell_type": "markdown",
      "source": [
        "#### **insight**"
      ],
      "metadata": {
        "id": "JpnfRZZTYcZ1"
      }
    },
    {
      "cell_type": "markdown",
      "source": [
        "*Through chart we observed that a large no og account lies out of the 3 iqr range  which lies in the outlier*"
      ],
      "metadata": {
        "id": "Y73E9YmyYjAq"
      }
    },
    {
      "cell_type": "markdown",
      "source": [
        "### **Chart 6**"
      ],
      "metadata": {
        "id": "DweHt9ooZ5g2"
      }
    },
    {
      "cell_type": "code",
      "source": [
        "#effect of internation call on churn\n",
        "sns.set_style(\"darkgrid\", {\"grid.color\": \".6\", \"grid.linestyle\": \":\"})\n",
        "# set width of bar\n",
        "barWidth = 0.25\n",
        "fig = plt.subplots(figsize =(10, 8))\n",
        " \n",
        "# Set position of bar on X axis\n",
        "br1 = np.arange(0,1)\n",
        "br2 = [x + barWidth for x in br1]\n",
        "br3 = [x + barWidth for x in br2]\n",
        " \n",
        "# Make the plot\n",
        "plt.bar(br1, telecom_dataset.groupby(\"International plan\")[\"Churn\"].sum().reset_index().iloc[0][1], color ='y', width = barWidth,\n",
        "        edgecolor ='grey', label ='Not having international plan')\n",
        "plt.bar(br2,telecom_dataset.groupby(\"International plan\")[\"Churn\"].sum().reset_index().iloc[1][1], color ='b', width = barWidth,\n",
        "        edgecolor ='grey', label ='have international plan')\n",
        " \n",
        "# Adding Xticks\n",
        "plt.xlabel('Churn Customer', fontweight ='bold', fontsize = 15)\n",
        "plt.ylabel('Two diffrent type of customer', fontweight ='bold', fontsize = 15)\n",
        "plt.legend()\n",
        "plt.show()\n",
        "plt.savefig(\"international plan and churn analysis\")"
      ],
      "metadata": {
        "colab": {
          "base_uri": "https://localhost:8080/",
          "height": 519
        },
        "id": "UDMw09bQaCu6",
        "outputId": "3f9b7b46-c6e4-4c26-961a-39878be18726"
      },
      "execution_count": 103,
      "outputs": [
        {
          "output_type": "display_data",
          "data": {
            "text/plain": [
              "<Figure size 720x576 with 1 Axes>"
            ],
            "image/png": "[encoded data removed]"
          },
          "metadata": {}
        },
        {
          "output_type": "display_data",
          "data": {
            "text/plain": [
              "<Figure size 2160x720 with 0 Axes>"
            ]
          },
          "metadata": {}
        }
      ]
    },
    {
      "cell_type": "markdown",
      "source": [
        "#### **Insight**"
      ],
      "metadata": {
        "id": "y2njndEnF6J3"
      }
    },
    {
      "cell_type": "markdown",
      "source": [
        "**The people who have opted for international plan where very few likely to churn then the one who donot have international plan**"
      ],
      "metadata": {
        "id": "lfyKDacrF-uH"
      }
    },
    {
      "cell_type": "markdown",
      "source": [
        "### **Chart7**"
      ],
      "metadata": {
        "id": "_OkXLMWLGTY-"
      }
    },
    {
      "cell_type": "code",
      "source": [
        "#effect of internation call on churn\n",
        "sns.set_style(\"darkgrid\", {\"grid.color\": \".6\", \"grid.linestyle\": \":\"})\n",
        "# set width of bar\n",
        "barWidth = 0.25\n",
        "fig = plt.subplots(figsize =(10, 8))\n",
        " \n",
        "# Set position of bar on X axis\n",
        "br1 = np.arange(0,1)\n",
        "br2 = [x + barWidth for x in br1]\n",
        "br3 = [x + barWidth for x in br2]\n",
        " \n",
        "# Make the plot\n",
        "plt.bar(br2,telecom_dataset.groupby(\"Voice mail plan\")[\"Churn\"].sum().reset_index().iloc[1][1], color ='r', width = barWidth,\n",
        "        edgecolor ='grey', label ='have Voice mail plan')\n",
        "plt.bar(br1, telecom_dataset.groupby(\"Voice mail plan\")[\"Churn\"].sum().reset_index().iloc[0][1], color ='b', width = barWidth,\n",
        "        edgecolor ='grey', label ='Not Voice mail plan plan')\n",
        "# Adding Xticks\n",
        "plt.xlabel('Churn Customer', fontweight ='bold', fontsize = 15)\n",
        "plt.ylabel('Two diffrent type of customer', fontweight ='bold', fontsize = 15)\n",
        "plt.legend()\n",
        "plt.show()\n",
        "plt.savefig(\"Voice mail plan and churn analysis\")"
      ],
      "metadata": {
        "colab": {
          "base_uri": "https://localhost:8080/",
          "height": 519
        },
        "id": "FbVtA3hKGWyd",
        "outputId": "af76b365-1518-433f-df36-b9b88aa4e4df"
      },
      "execution_count": 104,
      "outputs": [
        {
          "output_type": "display_data",
          "data": {
            "text/plain": [
              "<Figure size 720x576 with 1 Axes>"
            ],
            "image/png": "[encoded data removed]"
          },
          "metadata": {}
        },
        {
          "output_type": "display_data",
          "data": {
            "text/plain": [
              "<Figure size 2160x720 with 0 Axes>"
            ]
          },
          "metadata": {}
        }
      ]
    },
    {
      "cell_type": "markdown",
      "source": [
        "*In case of voicemail plan the case is opposite the people having inetrnational plan or the one who where using it are one who have churned or stopped using company service*"
      ],
      "metadata": {
        "id": "38mSxEA7Hef0"
      }
    },
    {
      "cell_type": "markdown",
      "source": [
        "### **chart8**"
      ],
      "metadata": {
        "id": "Z0H6USkdH62w"
      }
    },
    {
      "cell_type": "markdown",
      "source": [
        "**Distribution opf call duration across states**"
      ],
      "metadata": {
        "id": "wsQIb18DIHpB"
      }
    },
    {
      "cell_type": "code",
      "source": [
        "plt.rcParams[\"figure.figsize\"] = (10,10)#set the figure size with rcparams\n",
        "sns.violinplot(telecom_df.groupby(\"State\")[\"overall_call_duration\"].sum().reset_index().iloc[:,1],\n",
        "               x=\"States\",\n",
        "               inner=\"stick\",\n",
        "               scale=\"count\")\n",
        "plt.xlabel('states', fontweight ='bold', fontsize = 15)\n",
        "plt.ylabel('overal l call duration', fontweight ='bold', fontsize = 15)\n",
        "plt.show()\n",
        "plt.savefig(\"call duration across globes\")"
      ],
      "metadata": {
        "colab": {
          "base_uri": "https://localhost:8080/",
          "height": 628
        },
        "id": "FDYE3hVMIRIU",
        "outputId": "93e8b6b2-2b47-48d8-f93b-0f0926256869"
      },
      "execution_count": 105,
      "outputs": [
        {
          "output_type": "display_data",
          "data": {
            "text/plain": [
              "<Figure size 720x720 with 1 Axes>"
            ],
            "image/png": "[encoded data removed]"
          },
          "metadata": {}
        },
        {
          "output_type": "display_data",
          "data": {
            "text/plain": [
              "<Figure size 720x720 with 0 Axes>"
            ]
          },
          "metadata": {}
        }
      ]
    },
    {
      "cell_type": "markdown",
      "source": [
        "#### **why violin Plot**"
      ],
      "metadata": {
        "id": "YET9kWz7MHwI"
      }
    },
    {
      "cell_type": "markdown",
      "source": [
        "*A violin plot is a hybrid of a box plot and a kernel density plot, which shows peaks in the data. It is used to visualize the distribution of numerical data. Unlike a box plot that can only show summary statistics, violin plots depict summary statistics and the density of each variabl*"
      ],
      "metadata": {
        "id": "G6W89UNTMP4P"
      }
    },
    {
      "cell_type": "markdown",
      "source": [
        "####**Insight**"
      ],
      "metadata": {
        "id": "JVHNdQ4NMdBB"
      }
    },
    {
      "cell_type": "markdown",
      "source": [
        "*Through violin plot we were able to visualize that call duration acrooss states decrease in uniform distribution this may be due to the case of network problem. may be the company Network decreases have not been setuped at these location*"
      ],
      "metadata": {
        "id": "V3omf_zgMh7l"
      }
    },
    {
      "cell_type": "markdown",
      "source": [
        "### **Chart 9**"
      ],
      "metadata": {
        "id": "VYs4coM-Nafu"
      }
    },
    {
      "cell_type": "code",
      "source": [
        "#effect of internation call on churn\n",
        "sns.set_style(\"darkgrid\", {\"grid.color\": \".6\", \"grid.linestyle\": \":\"})\n",
        "# set width of bar\n",
        "barWidth = 0.25\n",
        "fig = plt.subplots(figsize =(10, 8))\n",
        " \n",
        "# Set position of bar on X axis\n",
        "br1 = np.arange(0,1)\n",
        "br2 = [x + barWidth for x in br1]\n",
        "br3 = [x + barWidth for x in br2]\n",
        " \n",
        "# Make the plot\n",
        "plt.bar(br1, telecom_df[telecom_df[\"Churn\"]==1][\"Number vmail messages\"].mean(), color ='g', width = barWidth,\n",
        "        edgecolor ='grey', label ='people who changed telecom')\n",
        "plt.bar(br2,telecom_df[telecom_df[\"Churn\"]==0][\"Number vmail messages\"].mean(), color ='r', width = barWidth,\n",
        "        edgecolor ='grey', label ='consistent customer')\n",
        " \n",
        "# Adding Xticks\n",
        "plt.xlabel('Churn Customer', fontweight ='bold', fontsize = 15)\n",
        "plt.ylabel('voicemail messages', fontweight ='bold', fontsize = 15)\n",
        "plt.legend()\n",
        "plt.show()\n",
        "plt.savefig(\"voicemail recieved and churn analysis\")"
      ],
      "metadata": {
        "colab": {
          "base_uri": "https://localhost:8080/",
          "height": 519
        },
        "id": "UJGniK9cN9h_",
        "outputId": "70dd265c-805f-4321-eb10-98e6db16262c"
      },
      "execution_count": 106,
      "outputs": [
        {
          "output_type": "display_data",
          "data": {
            "text/plain": [
              "<Figure size 720x576 with 1 Axes>"
            ],
            "image/png": "[encoded data removed]"
          },
          "metadata": {}
        },
        {
          "output_type": "display_data",
          "data": {
            "text/plain": [
              "<Figure size 720x720 with 0 Axes>"
            ]
          },
          "metadata": {}
        }
      ]
    },
    {
      "cell_type": "markdown",
      "source": [
        "#### **Insights**"
      ],
      "metadata": {
        "id": "tIzVPvh5QxQD"
      }
    },
    {
      "cell_type": "markdown",
      "source": [
        "*It shows people who changed telecom were less active in their voicemail message*"
      ],
      "metadata": {
        "id": "E3YVWQZPQ2lx"
      }
    },
    {
      "cell_type": "markdown",
      "source": [
        "### **Chart 10**"
      ],
      "metadata": {
        "id": "FuUGAiguRYll"
      }
    },
    {
      "cell_type": "code",
      "source": [
        "sns.displot(telecom_df[\"Average_price_plan\"],kind=\"kde\")# plot the average price plans of all customers\n",
        "plt.savefig(\"average price plan\")"
      ],
      "metadata": {
        "colab": {
          "base_uri": "https://localhost:8080/",
          "height": 369
        },
        "id": "cIduf0QPRdcu",
        "outputId": "ba656ca9-3334-4c6c-efcf-9029588b0f63"
      },
      "execution_count": 107,
      "outputs": [
        {
          "output_type": "display_data",
          "data": {
            "text/plain": [
              "<Figure size 360x360 with 1 Axes>"
            ],
            "image/png": "[encoded data removed]"
          },
          "metadata": {}
        }
      ]
    },
    {
      "cell_type": "markdown",
      "source": [
        "#### **Insights**"
      ],
      "metadata": {
        "id": "DuaUtIExSz8I"
      }
    },
    {
      "cell_type": "markdown",
      "source": [
        "*we have founded out that most of the customer vaerage plan price are around where some customer also plan as high as 16 where some has as low as 6*"
      ],
      "metadata": {
        "id": "qBNMoYUgS_Uu"
      }
    },
    {
      "cell_type": "markdown",
      "source": [
        "### **Chart 11**"
      ],
      "metadata": {
        "id": "8b4OL_gGTdSY"
      }
    },
    {
      "cell_type": "code",
      "source": [
        "# average price plan people who churned \n",
        "sns.displot(telecom_df[telecom_df[\"Churn\"]==1][\"Average_price_plan\"],kind=\"kde\")\n",
        "#Average price plan of consistent customer\n",
        "sns.displot(telecom_df[telecom_df[\"Churn\"]==0][\"Average_price_plan\"],kind=\"kde\")\n",
        "plt.savefig(\"Average_price_plan of churn\")\n",
        "plt.savefig(\"Average_price_plan of consistent\")"
      ],
      "metadata": {
        "colab": {
          "base_uri": "https://localhost:8080/",
          "height": 721
        },
        "id": "TkmDm0MUTjBf",
        "outputId": "0cfbfbda-d643-4f4d-dc79-d495da5a62d5"
      },
      "execution_count": 108,
      "outputs": [
        {
          "output_type": "display_data",
          "data": {
            "text/plain": [
              "<Figure size 360x360 with 1 Axes>"
            ],
            "image/png": "[encoded data removed]"
          },
          "metadata": {}
        },
        {
          "output_type": "display_data",
          "data": {
            "text/plain": [
              "<Figure size 360x360 with 1 Axes>"
            ],
            "image/png": "[encoded data removed]"
          },
          "metadata": {}
        }
      ]
    },
    {
      "cell_type": "markdown",
      "source": [
        "####**Insight** "
      ],
      "metadata": {
        "id": "WNFEPHrlVByg"
      }
    },
    {
      "cell_type": "markdown",
      "source": [
        "*The average price plan of people who were consistent are around 10 however the people who churned are around 8 so less in price does not affected in their consistency*"
      ],
      "metadata": {
        "id": "pkBs-PZUVGjH"
      }
    },
    {
      "cell_type": "markdown",
      "source": [
        "### **Chart12**"
      ],
      "metadata": {
        "id": "PKhWrHOFVj35"
      }
    },
    {
      "cell_type": "code",
      "source": [
        "print(telecom_df.groupby(\"Churn\")[\"Customer service calls\"].mean().reset_index())# average customer service call on a customer"
      ],
      "metadata": {
        "colab": {
          "base_uri": "https://localhost:8080/"
        },
        "id": "OCq_Z2l8Vqu7",
        "outputId": "ad678d47-ae25-4c58-d6cc-6c04098dc1ef"
      },
      "execution_count": 109,
      "outputs": [
        {
          "output_type": "stream",
          "name": "stdout",
          "text": [
            "   Churn  Customer service calls\n",
            "0      0                1.449825\n",
            "1      1                2.229814\n"
          ]
        }
      ]
    },
    {
      "cell_type": "code",
      "source": [
        "barWidth = 0.15\n",
        "fig = plt.subplots(figsize =(10, 8))\n",
        " \n",
        "# Set position of bar on X axis\n",
        "br1 = np.arange(0,1)\n",
        "br2 = [x + barWidth for x in br1]\n",
        "br3 = [x + barWidth for x in br2]\n",
        " \n",
        "# Make the plot\n",
        "plt.bar(br1, telecom_df.groupby(\"Churn\")[\"Customer service calls\"].mean().reset_index().iloc[0,1], color ='c', width = barWidth,\n",
        "        edgecolor ='grey', label ='people who changed telecom')\n",
        "plt.bar(br2,telecom_df.groupby(\"Churn\")[\"Customer service calls\"].mean().reset_index().iloc[1,1], color ='m', width = barWidth,\n",
        "        edgecolor ='grey', label ='consistent customer')\n",
        " \n",
        "# Adding Xticks\n",
        "plt.xlabel('Churn Customer', fontweight ='bold', fontsize = 15)\n",
        "plt.ylabel('Average of customer call', fontweight ='bold', fontsize = 15)\n",
        "plt.legend()\n",
        "plt.show()\n",
        "plt.savefig(\"customer call and churn analysis\")"
      ],
      "metadata": {
        "colab": {
          "base_uri": "https://localhost:8080/",
          "height": 519
        },
        "id": "snOc2_bTXRpG",
        "outputId": "df787057-de83-4536-dbe9-d34d70ab251e"
      },
      "execution_count": 110,
      "outputs": [
        {
          "output_type": "display_data",
          "data": {
            "text/plain": [
              "<Figure size 720x576 with 1 Axes>"
            ],
            "image/png": "[encoded data removed]"
          },
          "metadata": {}
        },
        {
          "output_type": "display_data",
          "data": {
            "text/plain": [
              "<Figure size 720x720 with 0 Axes>"
            ]
          },
          "metadata": {}
        }
      ]
    },
    {
      "cell_type": "markdown",
      "source": [
        "#**Suggestions**"
      ],
      "metadata": {
        "id": "QQqgBN6VC0uB"
      }
    },
    {
      "cell_type": "markdown",
      "source": [
        "1. we have founded that person who were using the telecom most were the one who lefted . so the company must analyze its customer interaction and try to provide some better plans to them \n",
        "2. we have founded that some churn were due to network or connectivity roblem . the company must try to increase their reach through more networks\n",
        "3. People tried churn away when the price plan went more than 10 the company should try to maintain it below 10\n",
        "4. people who were using international plan seemed happy with the telecom operatort . one reason behind that will may be that  the normal plan and international plan weresame \n",
        "5. we have seen most people churned away when customer care calls went more than 2 . there may be some spam call which company should try to avoid \n",
        "6. people who were using voice mail plan doenot seemed more happy with company . the opearator should tryto better it \n"
      ],
      "metadata": {
        "id": "pji6uoKdDBvV"
      }
    },
    {
      "cell_type": "markdown",
      "source": [
        "# **conclusion**"
      ],
      "metadata": {
        "id": "Tj4bLhbFumfi"
      }
    },
    {
      "cell_type": "markdown",
      "source": [
        "*whole of the customer were divided n 3 three area code ,however in area code 415 .people were two times than other twoother than that whole of other properties were same*\n",
        "\n",
        "*Through correlation matrix we finded that some the columns were highly related with one another so omitting will not affect the dta quality*\n",
        "\n",
        "*Company international plan seemed good to the customer one reason for this may be that national international plans were same*\n",
        "\n",
        "\n",
        "*we have founded out people were using the telecom most at night had larger ration to churn than day*\n",
        "\n",
        "*customer care calls were also playing a larger part in churn analysis when customer care calls were greater than 3 people have larger ratio to churn*"
      ],
      "metadata": {
        "id": "zZwA2uVwupk3"
      }
    }
  ]
}