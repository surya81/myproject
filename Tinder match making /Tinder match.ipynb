{
 "cells": [
  {
   "cell_type": "markdown",
   "metadata": {
    "tags": []
   },
   "source": [
    "# Project Name - Tinder Recommender system "
   ]
  },
  {
   "cell_type": "markdown",
   "metadata": {},
   "source": [
    "## problem statement"
   ]
  },
  {
   "cell_type": "markdown",
   "metadata": {},
   "source": [
    "*Tinder works on recommending match to the user in this our objective will be to make a model which on recommender system such that it will take user timing his previous experience habbits bio and Timing,and recommends people which user most likey to do the right swipe.our aim is to predit the person of a kind/habbits such that user finds it more instresting and tries to connect wth them*"
   ]
  },
  {
   "cell_type": "markdown",
   "metadata": {},
   "source": [
    "## Understanding the variables"
   ]
  },
  {
   "cell_type": "markdown",
   "metadata": {},
   "source": [
    "| **Column** |**Example**|\n",
    "| ------------ | ----------|\n",
    "| *user_id* |  fffe3100 |\n",
    "| *user_name* | Edith Lopez  |\n",
    "| *age* | *Row 3 Column 2* | 27 |\n",
    "|*status*|Single|\n",
    "|*sex*|Male|\n",
    "|*orientation*|Straight|\n",
    "|*drinks*|never|\n",
    "|*drugs*|No|\n",
    "|*height*| 66|\n",
    "|*job*| other|\n",
    "|*location*|oakland, california|\n",
    "|*pets*|Dogs|\n",
    "|*smokes*|no|\n",
    "|*language*|english (fluently), spanish (poorly), sign language (poorly)|\n",
    "|*new language*|intrested|\n",
    "|*body_profile*|fit|\n",
    "|*education_level*| 4|\n",
    "|*dropout*|no |\n",
    "|*language*||782|\n",
    "|*bio*|i value communication and being open-minded.|\n",
    "|*other_interest*|sports|\n"
   ]
  },
  {
   "cell_type": "markdown",
   "metadata": {
    "tags": []
   },
   "source": [
    "# project summary "
   ]
  },
  {
   "cell_type": "markdown",
   "metadata": {},
   "source": [
    "**Dataset loading**\n",
    "**Dataset wrangling**\n",
    "**Datset modelling**\n",
    "**Deployment**"
   ]
  },
  {
   "cell_type": "markdown",
   "metadata": {
    "tags": []
   },
   "source": [
    "# Let's begin"
   ]
  },
  {
   "cell_type": "markdown",
   "metadata": {
    "tags": []
   },
   "source": [
    "## Import libraries"
   ]
  },
  {
   "cell_type": "code",
   "execution_count": 1,
   "metadata": {},
   "outputs": [],
   "source": [
    "import numpy as np \n",
    "import pandas as pd \n",
    "import matplotlib.pyplot as plt \n",
    "import seaborn as sns \n",
    "sns.set_style(\"darkgrid\", {\"grid.color\": \".6\", \"grid.linestyle\": \":\"})\n",
    "from sklearn.feature_extraction.text import TfidfVectorizer\n",
    "from sklearn.metrics.pairwise import cosine_similarity"
   ]
  },
  {
   "cell_type": "markdown",
   "metadata": {
    "tags": []
   },
   "source": [
    "## Load dataset "
   ]
  },
  {
   "cell_type": "code",
   "execution_count": 2,
   "metadata": {},
   "outputs": [],
   "source": [
    "def dataseLoader(filelocation):\n",
    "    \"\"\"\n",
    "    Argument - file to path location which is to be loaded\n",
    "    return return dataframe \n",
    "    \"\"\"\n",
    "    try:\n",
    "        dataframe = pd.read_csv(filelocation)\n",
    "        return dataframe\n",
    "    except:\n",
    "        print(\"there is a error in file or it's location\")\n",
    "    "
   ]
  },
  {
   "cell_type": "code",
   "execution_count": 3,
   "metadata": {},
   "outputs": [],
   "source": [
    "tinder_df = dataseLoader(\"data.csv\")\n",
    "#dataframe = pd.read_csv(filelocation)"
   ]
  },
  {
   "cell_type": "markdown",
   "metadata": {},
   "source": [
    "### Datset first view"
   ]
  },
  {
   "cell_type": "code",
   "execution_count": 4,
   "metadata": {},
   "outputs": [
    {
     "data": {
      "text/html": [
       "<div>\n",
       "<style scoped>\n",
       "    .dataframe tbody tr th:only-of-type {\n",
       "        vertical-align: middle;\n",
       "    }\n",
       "\n",
       "    .dataframe tbody tr th {\n",
       "        vertical-align: top;\n",
       "    }\n",
       "\n",
       "    .dataframe thead th {\n",
       "        text-align: right;\n",
       "    }\n",
       "</style>\n",
       "<table border=\"1\" class=\"dataframe\">\n",
       "  <thead>\n",
       "    <tr style=\"text-align: right;\">\n",
       "      <th></th>\n",
       "      <th>user_id</th>\n",
       "      <th>username</th>\n",
       "      <th>age</th>\n",
       "      <th>status</th>\n",
       "      <th>sex</th>\n",
       "      <th>orientation</th>\n",
       "      <th>drinks</th>\n",
       "      <th>drugs</th>\n",
       "      <th>height</th>\n",
       "      <th>job</th>\n",
       "      <th>...</th>\n",
       "      <th>smokes</th>\n",
       "      <th>language</th>\n",
       "      <th>new_languages</th>\n",
       "      <th>body_profile</th>\n",
       "      <th>education_level</th>\n",
       "      <th>dropped_out</th>\n",
       "      <th>bio</th>\n",
       "      <th>interests</th>\n",
       "      <th>other_interests</th>\n",
       "      <th>location_preference</th>\n",
       "    </tr>\n",
       "  </thead>\n",
       "  <tbody>\n",
       "    <tr>\n",
       "      <th>0</th>\n",
       "      <td>fffe3100</td>\n",
       "      <td>Edith Lopez</td>\n",
       "      <td>27</td>\n",
       "      <td>single</td>\n",
       "      <td>f</td>\n",
       "      <td>gay</td>\n",
       "      <td>socially</td>\n",
       "      <td>never</td>\n",
       "      <td>66.0</td>\n",
       "      <td>medicine / health</td>\n",
       "      <td>...</td>\n",
       "      <td>no</td>\n",
       "      <td>english (fluently), spanish (poorly), sign lan...</td>\n",
       "      <td>interested</td>\n",
       "      <td>athletic</td>\n",
       "      <td>4.0</td>\n",
       "      <td>no</td>\n",
       "      <td>bottom line i love life! i work hard and i lov...</td>\n",
       "      <td>sports</td>\n",
       "      <td>instruments</td>\n",
       "      <td>same state</td>\n",
       "    </tr>\n",
       "    <tr>\n",
       "      <th>1</th>\n",
       "      <td>fffe3200</td>\n",
       "      <td>Travis Young</td>\n",
       "      <td>26</td>\n",
       "      <td>single</td>\n",
       "      <td>m</td>\n",
       "      <td>gay</td>\n",
       "      <td>socially</td>\n",
       "      <td>never</td>\n",
       "      <td>68.0</td>\n",
       "      <td>other</td>\n",
       "      <td>...</td>\n",
       "      <td>no</td>\n",
       "      <td>english (fluently), tagalog (okay), french (po...</td>\n",
       "      <td>interested</td>\n",
       "      <td>fit</td>\n",
       "      <td>3.0</td>\n",
       "      <td>no</td>\n",
       "      <td>i'm a straightforward, genuine, fun loving (i'...</td>\n",
       "      <td>painting</td>\n",
       "      <td>instruments</td>\n",
       "      <td>anywhere</td>\n",
       "    </tr>\n",
       "    <tr>\n",
       "      <th>2</th>\n",
       "      <td>fffe3300</td>\n",
       "      <td>Agnes Smith</td>\n",
       "      <td>20</td>\n",
       "      <td>seeing someone</td>\n",
       "      <td>f</td>\n",
       "      <td>bisexual</td>\n",
       "      <td>socially</td>\n",
       "      <td>sometimes</td>\n",
       "      <td>69.0</td>\n",
       "      <td>other</td>\n",
       "      <td>...</td>\n",
       "      <td>sometimes</td>\n",
       "      <td>english (fluently), sign language (poorly), fr...</td>\n",
       "      <td>interested</td>\n",
       "      <td>fit</td>\n",
       "      <td>2.0</td>\n",
       "      <td>no</td>\n",
       "      <td>mmmmm yummy tacosss. yoga is where it's at. i ...</td>\n",
       "      <td>instruments</td>\n",
       "      <td>dancing</td>\n",
       "      <td>same city</td>\n",
       "    </tr>\n",
       "    <tr>\n",
       "      <th>3</th>\n",
       "      <td>fffe3400</td>\n",
       "      <td>Salvador Klaver</td>\n",
       "      <td>27</td>\n",
       "      <td>single</td>\n",
       "      <td>m</td>\n",
       "      <td>bisexual</td>\n",
       "      <td>socially</td>\n",
       "      <td>sometimes</td>\n",
       "      <td>68.0</td>\n",
       "      <td>computer / hardware / software</td>\n",
       "      <td>...</td>\n",
       "      <td>no</td>\n",
       "      <td>english</td>\n",
       "      <td>not interested</td>\n",
       "      <td>average</td>\n",
       "      <td>3.0</td>\n",
       "      <td>no</td>\n",
       "      <td>i'm a stealth geek. that special mix of techni...</td>\n",
       "      <td>sketching</td>\n",
       "      <td>acting</td>\n",
       "      <td>same city</td>\n",
       "    </tr>\n",
       "    <tr>\n",
       "      <th>4</th>\n",
       "      <td>fffe3500</td>\n",
       "      <td>Elana Sewell</td>\n",
       "      <td>22</td>\n",
       "      <td>single</td>\n",
       "      <td>f</td>\n",
       "      <td>bisexual</td>\n",
       "      <td>often</td>\n",
       "      <td>sometimes</td>\n",
       "      <td>68.0</td>\n",
       "      <td>other</td>\n",
       "      <td>...</td>\n",
       "      <td>yes</td>\n",
       "      <td>english</td>\n",
       "      <td>not interested</td>\n",
       "      <td>average</td>\n",
       "      <td>2.0</td>\n",
       "      <td>yes</td>\n",
       "      <td>with the whisper of the wind i was weaved into...</td>\n",
       "      <td>craft</td>\n",
       "      <td>designing</td>\n",
       "      <td>same city</td>\n",
       "    </tr>\n",
       "  </tbody>\n",
       "</table>\n",
       "<p>5 rows × 22 columns</p>\n",
       "</div>"
      ],
      "text/plain": [
       "    user_id         username  age          status sex orientation    drinks  \\\n",
       "0  fffe3100      Edith Lopez   27          single   f         gay  socially   \n",
       "1  fffe3200     Travis Young   26          single   m         gay  socially   \n",
       "2  fffe3300      Agnes Smith   20  seeing someone   f    bisexual  socially   \n",
       "3  fffe3400  Salvador Klaver   27          single   m    bisexual  socially   \n",
       "4  fffe3500     Elana Sewell   22          single   f    bisexual     often   \n",
       "\n",
       "       drugs  height                             job  ...     smokes  \\\n",
       "0      never    66.0               medicine / health  ...         no   \n",
       "1      never    68.0                           other  ...         no   \n",
       "2  sometimes    69.0                           other  ...  sometimes   \n",
       "3  sometimes    68.0  computer / hardware / software  ...         no   \n",
       "4  sometimes    68.0                           other  ...        yes   \n",
       "\n",
       "                                            language   new_languages  \\\n",
       "0  english (fluently), spanish (poorly), sign lan...      interested   \n",
       "1  english (fluently), tagalog (okay), french (po...      interested   \n",
       "2  english (fluently), sign language (poorly), fr...      interested   \n",
       "3                                            english  not interested   \n",
       "4                                            english  not interested   \n",
       "\n",
       "  body_profile education_level dropped_out  \\\n",
       "0     athletic             4.0          no   \n",
       "1          fit             3.0          no   \n",
       "2          fit             2.0          no   \n",
       "3      average             3.0          no   \n",
       "4      average             2.0         yes   \n",
       "\n",
       "                                                 bio    interests  \\\n",
       "0  bottom line i love life! i work hard and i lov...       sports   \n",
       "1  i'm a straightforward, genuine, fun loving (i'...     painting   \n",
       "2  mmmmm yummy tacosss. yoga is where it's at. i ...  instruments   \n",
       "3  i'm a stealth geek. that special mix of techni...    sketching   \n",
       "4  with the whisper of the wind i was weaved into...        craft   \n",
       "\n",
       "  other_interests location_preference  \n",
       "0     instruments          same state  \n",
       "1     instruments            anywhere  \n",
       "2         dancing           same city  \n",
       "3          acting           same city  \n",
       "4       designing           same city  \n",
       "\n",
       "[5 rows x 22 columns]"
      ]
     },
     "execution_count": 4,
     "metadata": {},
     "output_type": "execute_result"
    }
   ],
   "source": [
    "# first five rows of the dataset \n",
    "tinder_df.head()"
   ]
  },
  {
   "cell_type": "markdown",
   "metadata": {
    "tags": []
   },
   "source": [
    "## dataset preprocessing"
   ]
  },
  {
   "cell_type": "markdown",
   "metadata": {
    "tags": []
   },
   "source": [
    "#### **Information about the dataset** "
   ]
  },
  {
   "cell_type": "code",
   "execution_count": 5,
   "metadata": {},
   "outputs": [
    {
     "name": "stdout",
     "output_type": "stream",
     "text": [
      "<class 'pandas.core.frame.DataFrame'>\n",
      "RangeIndex: 2001 entries, 0 to 2000\n",
      "Data columns (total 22 columns):\n",
      " #   Column               Non-Null Count  Dtype  \n",
      "---  ------               --------------  -----  \n",
      " 0   user_id              2001 non-null   object \n",
      " 1   username             2001 non-null   object \n",
      " 2   age                  2001 non-null   int64  \n",
      " 3   status               2001 non-null   object \n",
      " 4   sex                  2001 non-null   object \n",
      " 5   orientation          2001 non-null   object \n",
      " 6   drinks               2001 non-null   object \n",
      " 7   drugs                2001 non-null   object \n",
      " 8   height               2001 non-null   float64\n",
      " 9   job                  2001 non-null   object \n",
      " 10  location             2001 non-null   object \n",
      " 11  pets                 2001 non-null   object \n",
      " 12  smokes               2001 non-null   object \n",
      " 13  language             2001 non-null   object \n",
      " 14  new_languages        2001 non-null   object \n",
      " 15  body_profile         2001 non-null   object \n",
      " 16  education_level      2001 non-null   float64\n",
      " 17  dropped_out          2001 non-null   object \n",
      " 18  bio                  2001 non-null   object \n",
      " 19  interests            2001 non-null   object \n",
      " 20  other_interests      2001 non-null   object \n",
      " 21  location_preference  2001 non-null   object \n",
      "dtypes: float64(2), int64(1), object(19)\n",
      "memory usage: 344.0+ KB\n"
     ]
    }
   ],
   "source": [
    "#information about the dataset \n",
    "tinder_df.info()"
   ]
  },
  {
   "cell_type": "code",
   "execution_count": 6,
   "metadata": {},
   "outputs": [
    {
     "name": "stdout",
     "output_type": "stream",
     "text": [
      "(2001, 22)\n"
     ]
    }
   ],
   "source": [
    "# shape and size of the dataset\n",
    "print(tinder_df.shape)"
   ]
  },
  {
   "cell_type": "markdown",
   "metadata": {},
   "source": [
    "*the dataset has total of 2 float dtype columns 1 int dtype columns and 19 object dtype columns*"
   ]
  },
  {
   "cell_type": "markdown",
   "metadata": {
    "tags": []
   },
   "source": [
    "#### **Understanding the variables**"
   ]
  },
  {
   "cell_type": "code",
   "execution_count": 7,
   "metadata": {},
   "outputs": [
    {
     "data": {
      "text/plain": [
       "user_id                2001\n",
       "username               1995\n",
       "age                      52\n",
       "status                    4\n",
       "sex                       2\n",
       "orientation               3\n",
       "drinks                    6\n",
       "drugs                     3\n",
       "height                   25\n",
       "job                      21\n",
       "location                 70\n",
       "pets                     15\n",
       "smokes                    5\n",
       "language                575\n",
       "new_languages             3\n",
       "body_profile             12\n",
       "education_level           5\n",
       "dropped_out               2\n",
       "bio                    2001\n",
       "interests                31\n",
       "other_interests          31\n",
       "location_preference       3\n",
       "dtype: int64"
      ]
     },
     "execution_count": 7,
     "metadata": {},
     "output_type": "execute_result"
    }
   ],
   "source": [
    "# Number of unique element in the columns \n",
    "tinder_df.nunique()"
   ]
  },
  {
   "cell_type": "code",
   "execution_count": 8,
   "metadata": {},
   "outputs": [
    {
     "data": {
      "text/html": [
       "<div>\n",
       "<style scoped>\n",
       "    .dataframe tbody tr th:only-of-type {\n",
       "        vertical-align: middle;\n",
       "    }\n",
       "\n",
       "    .dataframe tbody tr th {\n",
       "        vertical-align: top;\n",
       "    }\n",
       "\n",
       "    .dataframe thead th {\n",
       "        text-align: right;\n",
       "    }\n",
       "</style>\n",
       "<table border=\"1\" class=\"dataframe\">\n",
       "  <thead>\n",
       "    <tr style=\"text-align: right;\">\n",
       "      <th></th>\n",
       "      <th>user_id</th>\n",
       "      <th>username</th>\n",
       "      <th>age</th>\n",
       "      <th>status</th>\n",
       "      <th>sex</th>\n",
       "      <th>orientation</th>\n",
       "      <th>drinks</th>\n",
       "      <th>drugs</th>\n",
       "      <th>height</th>\n",
       "      <th>job</th>\n",
       "      <th>...</th>\n",
       "      <th>smokes</th>\n",
       "      <th>language</th>\n",
       "      <th>new_languages</th>\n",
       "      <th>body_profile</th>\n",
       "      <th>education_level</th>\n",
       "      <th>dropped_out</th>\n",
       "      <th>bio</th>\n",
       "      <th>interests</th>\n",
       "      <th>other_interests</th>\n",
       "      <th>location_preference</th>\n",
       "    </tr>\n",
       "  </thead>\n",
       "  <tbody>\n",
       "    <tr>\n",
       "      <th>count</th>\n",
       "      <td>2001</td>\n",
       "      <td>2001</td>\n",
       "      <td>2001.000000</td>\n",
       "      <td>2001</td>\n",
       "      <td>2001</td>\n",
       "      <td>2001</td>\n",
       "      <td>2001</td>\n",
       "      <td>2001</td>\n",
       "      <td>2001.000000</td>\n",
       "      <td>2001</td>\n",
       "      <td>...</td>\n",
       "      <td>2001</td>\n",
       "      <td>2001</td>\n",
       "      <td>2001</td>\n",
       "      <td>2001</td>\n",
       "      <td>2001.000000</td>\n",
       "      <td>2001</td>\n",
       "      <td>2001</td>\n",
       "      <td>2001</td>\n",
       "      <td>2001</td>\n",
       "      <td>2001</td>\n",
       "    </tr>\n",
       "    <tr>\n",
       "      <th>unique</th>\n",
       "      <td>2001</td>\n",
       "      <td>1995</td>\n",
       "      <td>NaN</td>\n",
       "      <td>4</td>\n",
       "      <td>2</td>\n",
       "      <td>3</td>\n",
       "      <td>6</td>\n",
       "      <td>3</td>\n",
       "      <td>NaN</td>\n",
       "      <td>21</td>\n",
       "      <td>...</td>\n",
       "      <td>5</td>\n",
       "      <td>575</td>\n",
       "      <td>3</td>\n",
       "      <td>12</td>\n",
       "      <td>NaN</td>\n",
       "      <td>2</td>\n",
       "      <td>2001</td>\n",
       "      <td>31</td>\n",
       "      <td>31</td>\n",
       "      <td>3</td>\n",
       "    </tr>\n",
       "    <tr>\n",
       "      <th>top</th>\n",
       "      <td>fffe3100</td>\n",
       "      <td>James Davidson</td>\n",
       "      <td>NaN</td>\n",
       "      <td>single</td>\n",
       "      <td>m</td>\n",
       "      <td>straight</td>\n",
       "      <td>socially</td>\n",
       "      <td>never</td>\n",
       "      <td>NaN</td>\n",
       "      <td>other</td>\n",
       "      <td>...</td>\n",
       "      <td>no</td>\n",
       "      <td>english</td>\n",
       "      <td>not interested</td>\n",
       "      <td>average</td>\n",
       "      <td>NaN</td>\n",
       "      <td>no</td>\n",
       "      <td>bottom line i love life! i work hard and i lov...</td>\n",
       "      <td>music</td>\n",
       "      <td>music</td>\n",
       "      <td>same city</td>\n",
       "    </tr>\n",
       "    <tr>\n",
       "      <th>freq</th>\n",
       "      <td>1</td>\n",
       "      <td>2</td>\n",
       "      <td>NaN</td>\n",
       "      <td>1867</td>\n",
       "      <td>1139</td>\n",
       "      <td>1736</td>\n",
       "      <td>1393</td>\n",
       "      <td>1586</td>\n",
       "      <td>NaN</td>\n",
       "      <td>286</td>\n",
       "      <td>...</td>\n",
       "      <td>1630</td>\n",
       "      <td>545</td>\n",
       "      <td>1050</td>\n",
       "      <td>557</td>\n",
       "      <td>NaN</td>\n",
       "      <td>1898</td>\n",
       "      <td>1</td>\n",
       "      <td>155</td>\n",
       "      <td>158</td>\n",
       "      <td>1169</td>\n",
       "    </tr>\n",
       "    <tr>\n",
       "      <th>mean</th>\n",
       "      <td>NaN</td>\n",
       "      <td>NaN</td>\n",
       "      <td>33.072464</td>\n",
       "      <td>NaN</td>\n",
       "      <td>NaN</td>\n",
       "      <td>NaN</td>\n",
       "      <td>NaN</td>\n",
       "      <td>NaN</td>\n",
       "      <td>68.289855</td>\n",
       "      <td>NaN</td>\n",
       "      <td>...</td>\n",
       "      <td>NaN</td>\n",
       "      <td>NaN</td>\n",
       "      <td>NaN</td>\n",
       "      <td>NaN</td>\n",
       "      <td>2.932534</td>\n",
       "      <td>NaN</td>\n",
       "      <td>NaN</td>\n",
       "      <td>NaN</td>\n",
       "      <td>NaN</td>\n",
       "      <td>NaN</td>\n",
       "    </tr>\n",
       "    <tr>\n",
       "      <th>std</th>\n",
       "      <td>NaN</td>\n",
       "      <td>NaN</td>\n",
       "      <td>10.483189</td>\n",
       "      <td>NaN</td>\n",
       "      <td>NaN</td>\n",
       "      <td>NaN</td>\n",
       "      <td>NaN</td>\n",
       "      <td>NaN</td>\n",
       "      <td>3.895246</td>\n",
       "      <td>NaN</td>\n",
       "      <td>...</td>\n",
       "      <td>NaN</td>\n",
       "      <td>NaN</td>\n",
       "      <td>NaN</td>\n",
       "      <td>NaN</td>\n",
       "      <td>0.812371</td>\n",
       "      <td>NaN</td>\n",
       "      <td>NaN</td>\n",
       "      <td>NaN</td>\n",
       "      <td>NaN</td>\n",
       "      <td>NaN</td>\n",
       "    </tr>\n",
       "    <tr>\n",
       "      <th>min</th>\n",
       "      <td>NaN</td>\n",
       "      <td>NaN</td>\n",
       "      <td>18.000000</td>\n",
       "      <td>NaN</td>\n",
       "      <td>NaN</td>\n",
       "      <td>NaN</td>\n",
       "      <td>NaN</td>\n",
       "      <td>NaN</td>\n",
       "      <td>55.000000</td>\n",
       "      <td>NaN</td>\n",
       "      <td>...</td>\n",
       "      <td>NaN</td>\n",
       "      <td>NaN</td>\n",
       "      <td>NaN</td>\n",
       "      <td>NaN</td>\n",
       "      <td>1.000000</td>\n",
       "      <td>NaN</td>\n",
       "      <td>NaN</td>\n",
       "      <td>NaN</td>\n",
       "      <td>NaN</td>\n",
       "      <td>NaN</td>\n",
       "    </tr>\n",
       "    <tr>\n",
       "      <th>25%</th>\n",
       "      <td>NaN</td>\n",
       "      <td>NaN</td>\n",
       "      <td>26.000000</td>\n",
       "      <td>NaN</td>\n",
       "      <td>NaN</td>\n",
       "      <td>NaN</td>\n",
       "      <td>NaN</td>\n",
       "      <td>NaN</td>\n",
       "      <td>65.000000</td>\n",
       "      <td>NaN</td>\n",
       "      <td>...</td>\n",
       "      <td>NaN</td>\n",
       "      <td>NaN</td>\n",
       "      <td>NaN</td>\n",
       "      <td>NaN</td>\n",
       "      <td>2.000000</td>\n",
       "      <td>NaN</td>\n",
       "      <td>NaN</td>\n",
       "      <td>NaN</td>\n",
       "      <td>NaN</td>\n",
       "      <td>NaN</td>\n",
       "    </tr>\n",
       "    <tr>\n",
       "      <th>50%</th>\n",
       "      <td>NaN</td>\n",
       "      <td>NaN</td>\n",
       "      <td>30.000000</td>\n",
       "      <td>NaN</td>\n",
       "      <td>NaN</td>\n",
       "      <td>NaN</td>\n",
       "      <td>NaN</td>\n",
       "      <td>NaN</td>\n",
       "      <td>68.000000</td>\n",
       "      <td>NaN</td>\n",
       "      <td>...</td>\n",
       "      <td>NaN</td>\n",
       "      <td>NaN</td>\n",
       "      <td>NaN</td>\n",
       "      <td>NaN</td>\n",
       "      <td>3.000000</td>\n",
       "      <td>NaN</td>\n",
       "      <td>NaN</td>\n",
       "      <td>NaN</td>\n",
       "      <td>NaN</td>\n",
       "      <td>NaN</td>\n",
       "    </tr>\n",
       "    <tr>\n",
       "      <th>75%</th>\n",
       "      <td>NaN</td>\n",
       "      <td>NaN</td>\n",
       "      <td>39.000000</td>\n",
       "      <td>NaN</td>\n",
       "      <td>NaN</td>\n",
       "      <td>NaN</td>\n",
       "      <td>NaN</td>\n",
       "      <td>NaN</td>\n",
       "      <td>71.000000</td>\n",
       "      <td>NaN</td>\n",
       "      <td>...</td>\n",
       "      <td>NaN</td>\n",
       "      <td>NaN</td>\n",
       "      <td>NaN</td>\n",
       "      <td>NaN</td>\n",
       "      <td>3.000000</td>\n",
       "      <td>NaN</td>\n",
       "      <td>NaN</td>\n",
       "      <td>NaN</td>\n",
       "      <td>NaN</td>\n",
       "      <td>NaN</td>\n",
       "    </tr>\n",
       "    <tr>\n",
       "      <th>max</th>\n",
       "      <td>NaN</td>\n",
       "      <td>NaN</td>\n",
       "      <td>69.000000</td>\n",
       "      <td>NaN</td>\n",
       "      <td>NaN</td>\n",
       "      <td>NaN</td>\n",
       "      <td>NaN</td>\n",
       "      <td>NaN</td>\n",
       "      <td>83.000000</td>\n",
       "      <td>NaN</td>\n",
       "      <td>...</td>\n",
       "      <td>NaN</td>\n",
       "      <td>NaN</td>\n",
       "      <td>NaN</td>\n",
       "      <td>NaN</td>\n",
       "      <td>5.000000</td>\n",
       "      <td>NaN</td>\n",
       "      <td>NaN</td>\n",
       "      <td>NaN</td>\n",
       "      <td>NaN</td>\n",
       "      <td>NaN</td>\n",
       "    </tr>\n",
       "  </tbody>\n",
       "</table>\n",
       "<p>11 rows × 22 columns</p>\n",
       "</div>"
      ],
      "text/plain": [
       "         user_id        username          age  status   sex orientation  \\\n",
       "count       2001            2001  2001.000000    2001  2001        2001   \n",
       "unique      2001            1995          NaN       4     2           3   \n",
       "top     fffe3100  James Davidson          NaN  single     m    straight   \n",
       "freq           1               2          NaN    1867  1139        1736   \n",
       "mean         NaN             NaN    33.072464     NaN   NaN         NaN   \n",
       "std          NaN             NaN    10.483189     NaN   NaN         NaN   \n",
       "min          NaN             NaN    18.000000     NaN   NaN         NaN   \n",
       "25%          NaN             NaN    26.000000     NaN   NaN         NaN   \n",
       "50%          NaN             NaN    30.000000     NaN   NaN         NaN   \n",
       "75%          NaN             NaN    39.000000     NaN   NaN         NaN   \n",
       "max          NaN             NaN    69.000000     NaN   NaN         NaN   \n",
       "\n",
       "          drinks  drugs       height    job  ... smokes language  \\\n",
       "count       2001   2001  2001.000000   2001  ...   2001     2001   \n",
       "unique         6      3          NaN     21  ...      5      575   \n",
       "top     socially  never          NaN  other  ...     no  english   \n",
       "freq        1393   1586          NaN    286  ...   1630      545   \n",
       "mean         NaN    NaN    68.289855    NaN  ...    NaN      NaN   \n",
       "std          NaN    NaN     3.895246    NaN  ...    NaN      NaN   \n",
       "min          NaN    NaN    55.000000    NaN  ...    NaN      NaN   \n",
       "25%          NaN    NaN    65.000000    NaN  ...    NaN      NaN   \n",
       "50%          NaN    NaN    68.000000    NaN  ...    NaN      NaN   \n",
       "75%          NaN    NaN    71.000000    NaN  ...    NaN      NaN   \n",
       "max          NaN    NaN    83.000000    NaN  ...    NaN      NaN   \n",
       "\n",
       "         new_languages body_profile education_level dropped_out  \\\n",
       "count             2001         2001     2001.000000        2001   \n",
       "unique               3           12             NaN           2   \n",
       "top     not interested      average             NaN          no   \n",
       "freq              1050          557             NaN        1898   \n",
       "mean               NaN          NaN        2.932534         NaN   \n",
       "std                NaN          NaN        0.812371         NaN   \n",
       "min                NaN          NaN        1.000000         NaN   \n",
       "25%                NaN          NaN        2.000000         NaN   \n",
       "50%                NaN          NaN        3.000000         NaN   \n",
       "75%                NaN          NaN        3.000000         NaN   \n",
       "max                NaN          NaN        5.000000         NaN   \n",
       "\n",
       "                                                      bio interests  \\\n",
       "count                                                2001      2001   \n",
       "unique                                               2001        31   \n",
       "top     bottom line i love life! i work hard and i lov...     music   \n",
       "freq                                                    1       155   \n",
       "mean                                                  NaN       NaN   \n",
       "std                                                   NaN       NaN   \n",
       "min                                                   NaN       NaN   \n",
       "25%                                                   NaN       NaN   \n",
       "50%                                                   NaN       NaN   \n",
       "75%                                                   NaN       NaN   \n",
       "max                                                   NaN       NaN   \n",
       "\n",
       "       other_interests location_preference  \n",
       "count             2001                2001  \n",
       "unique              31                   3  \n",
       "top              music           same city  \n",
       "freq               158                1169  \n",
       "mean               NaN                 NaN  \n",
       "std                NaN                 NaN  \n",
       "min                NaN                 NaN  \n",
       "25%                NaN                 NaN  \n",
       "50%                NaN                 NaN  \n",
       "75%                NaN                 NaN  \n",
       "max                NaN                 NaN  \n",
       "\n",
       "[11 rows x 22 columns]"
      ]
     },
     "execution_count": 8,
     "metadata": {},
     "output_type": "execute_result"
    }
   ],
   "source": [
    "# decription of the columns \n",
    "tinder_df.describe(include = 'all')"
   ]
  },
  {
   "cell_type": "markdown",
   "metadata": {},
   "source": [
    "*here we can see that there are some categorical columns which can not change into numrical vaues using one hot encoding as it may lead us to the curse of dimensionality which will eventually make our model overfitt . so here we will use embedding to convert categorical column into numerical ones*"
   ]
  },
  {
   "cell_type": "markdown",
   "metadata": {},
   "source": [
    "*before we start wrangling the data we will drop the two columns of the data which do not add any meaning to our particular rows* "
   ]
  },
  {
   "cell_type": "code",
   "execution_count": 9,
   "metadata": {},
   "outputs": [],
   "source": [
    "# drop unnecesary columns \n",
    "tinder_df.drop([\"user_id\"],axis =1 \\\n",
    "               ,inplace = True)"
   ]
  },
  {
   "cell_type": "markdown",
   "metadata": {
    "tags": []
   },
   "source": [
    "## dataset wrangling"
   ]
  },
  {
   "cell_type": "code",
   "execution_count": 10,
   "metadata": {},
   "outputs": [
    {
     "data": {
      "text/html": [
       "<div>\n",
       "<style scoped>\n",
       "    .dataframe tbody tr th:only-of-type {\n",
       "        vertical-align: middle;\n",
       "    }\n",
       "\n",
       "    .dataframe tbody tr th {\n",
       "        vertical-align: top;\n",
       "    }\n",
       "\n",
       "    .dataframe thead th {\n",
       "        text-align: right;\n",
       "    }\n",
       "</style>\n",
       "<table border=\"1\" class=\"dataframe\">\n",
       "  <thead>\n",
       "    <tr style=\"text-align: right;\">\n",
       "      <th></th>\n",
       "      <th>sex</th>\n",
       "      <th>drugs</th>\n",
       "      <th>unique_drug_count</th>\n",
       "    </tr>\n",
       "  </thead>\n",
       "  <tbody>\n",
       "    <tr>\n",
       "      <th>0</th>\n",
       "      <td>f</td>\n",
       "      <td>never</td>\n",
       "      <td>711</td>\n",
       "    </tr>\n",
       "    <tr>\n",
       "      <th>1</th>\n",
       "      <td>f</td>\n",
       "      <td>often</td>\n",
       "      <td>5</td>\n",
       "    </tr>\n",
       "    <tr>\n",
       "      <th>2</th>\n",
       "      <td>f</td>\n",
       "      <td>sometimes</td>\n",
       "      <td>146</td>\n",
       "    </tr>\n",
       "    <tr>\n",
       "      <th>3</th>\n",
       "      <td>m</td>\n",
       "      <td>never</td>\n",
       "      <td>875</td>\n",
       "    </tr>\n",
       "    <tr>\n",
       "      <th>4</th>\n",
       "      <td>m</td>\n",
       "      <td>often</td>\n",
       "      <td>13</td>\n",
       "    </tr>\n",
       "    <tr>\n",
       "      <th>5</th>\n",
       "      <td>m</td>\n",
       "      <td>sometimes</td>\n",
       "      <td>251</td>\n",
       "    </tr>\n",
       "  </tbody>\n",
       "</table>\n",
       "</div>"
      ],
      "text/plain": [
       "  sex      drugs  unique_drug_count\n",
       "0   f      never                711\n",
       "1   f      often                  5\n",
       "2   f  sometimes                146\n",
       "3   m      never                875\n",
       "4   m      often                 13\n",
       "5   m  sometimes                251"
      ]
     },
     "execution_count": 10,
     "metadata": {},
     "output_type": "execute_result"
    }
   ],
   "source": [
    "tinder_df.groupby(['sex', 'drugs'])['drugs'] \\\n",
    "                            .count() \\\n",
    "        .reset_index(name='unique_drug_count')\n"
   ]
  },
  {
   "cell_type": "markdown",
   "metadata": {},
   "source": [
    "*we will count the different combination of people based on their sex drinking habbit and drugs consuming*"
   ]
  },
  {
   "cell_type": "code",
   "execution_count": 11,
   "metadata": {},
   "outputs": [
    {
     "data": {
      "text/html": [
       "<div>\n",
       "<style scoped>\n",
       "    .dataframe tbody tr th:only-of-type {\n",
       "        vertical-align: middle;\n",
       "    }\n",
       "\n",
       "    .dataframe tbody tr th {\n",
       "        vertical-align: top;\n",
       "    }\n",
       "\n",
       "    .dataframe thead th {\n",
       "        text-align: right;\n",
       "    }\n",
       "</style>\n",
       "<table border=\"1\" class=\"dataframe\">\n",
       "  <thead>\n",
       "    <tr style=\"text-align: right;\">\n",
       "      <th></th>\n",
       "      <th>orientation</th>\n",
       "      <th>drinks</th>\n",
       "      <th>unique_drink_count</th>\n",
       "    </tr>\n",
       "  </thead>\n",
       "  <tbody>\n",
       "    <tr>\n",
       "      <th>0</th>\n",
       "      <td>bisexual</td>\n",
       "      <td>not at all</td>\n",
       "      <td>8</td>\n",
       "    </tr>\n",
       "    <tr>\n",
       "      <th>1</th>\n",
       "      <td>bisexual</td>\n",
       "      <td>often</td>\n",
       "      <td>12</td>\n",
       "    </tr>\n",
       "    <tr>\n",
       "      <th>2</th>\n",
       "      <td>bisexual</td>\n",
       "      <td>rarely</td>\n",
       "      <td>21</td>\n",
       "    </tr>\n",
       "    <tr>\n",
       "      <th>3</th>\n",
       "      <td>bisexual</td>\n",
       "      <td>socially</td>\n",
       "      <td>70</td>\n",
       "    </tr>\n",
       "    <tr>\n",
       "      <th>4</th>\n",
       "      <td>bisexual</td>\n",
       "      <td>very often</td>\n",
       "      <td>1</td>\n",
       "    </tr>\n",
       "    <tr>\n",
       "      <th>5</th>\n",
       "      <td>gay</td>\n",
       "      <td>desperately</td>\n",
       "      <td>2</td>\n",
       "    </tr>\n",
       "    <tr>\n",
       "      <th>6</th>\n",
       "      <td>gay</td>\n",
       "      <td>not at all</td>\n",
       "      <td>17</td>\n",
       "    </tr>\n",
       "    <tr>\n",
       "      <th>7</th>\n",
       "      <td>gay</td>\n",
       "      <td>often</td>\n",
       "      <td>11</td>\n",
       "    </tr>\n",
       "    <tr>\n",
       "      <th>8</th>\n",
       "      <td>gay</td>\n",
       "      <td>rarely</td>\n",
       "      <td>22</td>\n",
       "    </tr>\n",
       "    <tr>\n",
       "      <th>9</th>\n",
       "      <td>gay</td>\n",
       "      <td>socially</td>\n",
       "      <td>99</td>\n",
       "    </tr>\n",
       "    <tr>\n",
       "      <th>10</th>\n",
       "      <td>gay</td>\n",
       "      <td>very often</td>\n",
       "      <td>2</td>\n",
       "    </tr>\n",
       "    <tr>\n",
       "      <th>11</th>\n",
       "      <td>straight</td>\n",
       "      <td>desperately</td>\n",
       "      <td>9</td>\n",
       "    </tr>\n",
       "    <tr>\n",
       "      <th>12</th>\n",
       "      <td>straight</td>\n",
       "      <td>not at all</td>\n",
       "      <td>132</td>\n",
       "    </tr>\n",
       "    <tr>\n",
       "      <th>13</th>\n",
       "      <td>straight</td>\n",
       "      <td>often</td>\n",
       "      <td>145</td>\n",
       "    </tr>\n",
       "    <tr>\n",
       "      <th>14</th>\n",
       "      <td>straight</td>\n",
       "      <td>rarely</td>\n",
       "      <td>213</td>\n",
       "    </tr>\n",
       "    <tr>\n",
       "      <th>15</th>\n",
       "      <td>straight</td>\n",
       "      <td>socially</td>\n",
       "      <td>1224</td>\n",
       "    </tr>\n",
       "    <tr>\n",
       "      <th>16</th>\n",
       "      <td>straight</td>\n",
       "      <td>very often</td>\n",
       "      <td>13</td>\n",
       "    </tr>\n",
       "  </tbody>\n",
       "</table>\n",
       "</div>"
      ],
      "text/plain": [
       "   orientation       drinks  unique_drink_count\n",
       "0     bisexual   not at all                   8\n",
       "1     bisexual        often                  12\n",
       "2     bisexual       rarely                  21\n",
       "3     bisexual     socially                  70\n",
       "4     bisexual   very often                   1\n",
       "5          gay  desperately                   2\n",
       "6          gay   not at all                  17\n",
       "7          gay        often                  11\n",
       "8          gay       rarely                  22\n",
       "9          gay     socially                  99\n",
       "10         gay   very often                   2\n",
       "11    straight  desperately                   9\n",
       "12    straight   not at all                 132\n",
       "13    straight        often                 145\n",
       "14    straight       rarely                 213\n",
       "15    straight     socially                1224\n",
       "16    straight   very often                  13"
      ]
     },
     "execution_count": 11,
     "metadata": {},
     "output_type": "execute_result"
    }
   ],
   "source": [
    "tinder_df.groupby(['orientation', 'drinks']) \\\n",
    "                 ['drinks'].count(). \\\n",
    "            reset_index(name='unique_drink_count')"
   ]
  },
  {
   "cell_type": "code",
   "execution_count": 12,
   "metadata": {},
   "outputs": [
    {
     "data": {
      "text/html": [
       "<div>\n",
       "<style scoped>\n",
       "    .dataframe tbody tr th:only-of-type {\n",
       "        vertical-align: middle;\n",
       "    }\n",
       "\n",
       "    .dataframe tbody tr th {\n",
       "        vertical-align: top;\n",
       "    }\n",
       "\n",
       "    .dataframe thead th {\n",
       "        text-align: right;\n",
       "    }\n",
       "</style>\n",
       "<table border=\"1\" class=\"dataframe\">\n",
       "  <thead>\n",
       "    <tr style=\"text-align: right;\">\n",
       "      <th></th>\n",
       "      <th>new_languages</th>\n",
       "      <th>dropped_out</th>\n",
       "      <th>drop_out_people count</th>\n",
       "    </tr>\n",
       "  </thead>\n",
       "  <tbody>\n",
       "    <tr>\n",
       "      <th>0</th>\n",
       "      <td>interested</td>\n",
       "      <td>no</td>\n",
       "      <td>594</td>\n",
       "    </tr>\n",
       "    <tr>\n",
       "      <th>1</th>\n",
       "      <td>interested</td>\n",
       "      <td>yes</td>\n",
       "      <td>39</td>\n",
       "    </tr>\n",
       "    <tr>\n",
       "      <th>2</th>\n",
       "      <td>not interested</td>\n",
       "      <td>no</td>\n",
       "      <td>999</td>\n",
       "    </tr>\n",
       "    <tr>\n",
       "      <th>3</th>\n",
       "      <td>not interested</td>\n",
       "      <td>yes</td>\n",
       "      <td>51</td>\n",
       "    </tr>\n",
       "    <tr>\n",
       "      <th>4</th>\n",
       "      <td>somewhat interested</td>\n",
       "      <td>no</td>\n",
       "      <td>305</td>\n",
       "    </tr>\n",
       "    <tr>\n",
       "      <th>5</th>\n",
       "      <td>somewhat interested</td>\n",
       "      <td>yes</td>\n",
       "      <td>13</td>\n",
       "    </tr>\n",
       "  </tbody>\n",
       "</table>\n",
       "</div>"
      ],
      "text/plain": [
       "         new_languages dropped_out  drop_out_people count\n",
       "0           interested          no                    594\n",
       "1           interested         yes                     39\n",
       "2       not interested          no                    999\n",
       "3       not interested         yes                     51\n",
       "4  somewhat interested          no                    305\n",
       "5  somewhat interested         yes                     13"
      ]
     },
     "execution_count": 12,
     "metadata": {},
     "output_type": "execute_result"
    }
   ],
   "source": [
    "tinder_df.groupby(['new_languages', 'dropped_out']) \\\n",
    "                  ['dropped_out'].count(). \\\n",
    "           reset_index(name='drop_out_people count')"
   ]
  },
  {
   "cell_type": "markdown",
   "metadata": {},
   "source": [
    "## Data visualization"
   ]
  },
  {
   "cell_type": "code",
   "execution_count": 13,
   "metadata": {},
   "outputs": [
    {
     "data": {
      "text/plain": [
       "<Axes: xlabel='age', ylabel='Count'>"
      ]
     },
     "execution_count": 13,
     "metadata": {},
     "output_type": "execute_result"
    },
    {
     "data": {
      "image/png": "[encoded data removed]",
      "text/plain": [
       "<Figure size 640x480 with 1 Axes>"
      ]
     },
     "metadata": {},
     "output_type": "display_data"
    }
   ],
   "source": [
    "sns.histplot(tinder_df[\"age\"],kde=True)\n",
    "# distribution of age"
   ]
  },
  {
   "cell_type": "markdown",
   "metadata": {},
   "source": [
    "*The age column has a long tail which shows it's deviation from normal distribution.however,we can also plot the piechart of the distribution of the age* "
   ]
  },
  {
   "cell_type": "code",
   "execution_count": 14,
   "metadata": {},
   "outputs": [
    {
     "data": {
      "image/png": "[encoded data removed]",
      "text/plain": [
       "<Figure size 600x600 with 1 Axes>"
      ]
     },
     "metadata": {},
     "output_type": "display_data"
    }
   ],
   "source": [
    "# Set the size of the figure to 10 inches wide by 8 inches tall\n",
    "plt.figure(figsize=(6,6))\n",
    "\n",
    "# Divide the data into categories\n",
    "bins = [18,30,40,50,60,70]\n",
    "\n",
    "# Use the `cut` function to assign each data point to a category\n",
    "categories = pd.cut(tinder_df[\"age\"], bins, \\\n",
    "            labels=[\"18-30\", \"30-40\", \"40-50\",\"50-60\",\"60-70\"])\n",
    "\n",
    "# Count the number of data points in each category\n",
    "counts = categories.value_counts()\n",
    "\n",
    "# Plot the data as a pie chart\n",
    "plt.pie(counts, labels=counts.index, autopct='%1.1f%%')\n",
    "plt.show()"
   ]
  },
  {
   "cell_type": "markdown",
   "metadata": {},
   "source": [
    "*Almost 50% of the people who are using tinder are between the age of 18-30*"
   ]
  },
  {
   "cell_type": "code",
   "execution_count": 15,
   "metadata": {},
   "outputs": [
    {
     "data": {
      "text/plain": [
       "<Axes: xlabel='height', ylabel='Count'>"
      ]
     },
     "execution_count": 15,
     "metadata": {},
     "output_type": "execute_result"
    },
    {
     "data": {
      "image/png": "[encoded data removed]",
      "text/plain": [
       "<Figure size 640x480 with 1 Axes>"
      ]
     },
     "metadata": {},
     "output_type": "display_data"
    }
   ],
   "source": [
    "sns.histplot(tinder_df[\"height\"],kde=True)"
   ]
  },
  {
   "cell_type": "code",
   "execution_count": 16,
   "metadata": {},
   "outputs": [
    {
     "data": {
      "image/png": "[encoded data removed]",
      "text/plain": [
       "<Figure size 600x600 with 1 Axes>"
      ]
     },
     "metadata": {},
     "output_type": "display_data"
    }
   ],
   "source": [
    "plt.figure(figsize=(6, 6))\n",
    "sns.histplot(x=\"job\" ,data=tinder_df, color=\"coral\")\n",
    "\n",
    "# rotate x-axis labels vertically\n",
    "plt.xticks(rotation=90)\n",
    "plt.title(\"Distribution of job of each candidate\",\\\n",
    "                         fontsize=14)\n",
    "\n",
    "plt.xlabel(\"Job id\", fontsize=12)\n",
    "plt.ylabel(\"Count of people\", fontsize=12)\n",
    "\n",
    "plt.show()"
   ]
  },
  {
   "cell_type": "markdown",
   "metadata": {},
   "source": [
    "## Data Manipulation"
   ]
  },
  {
   "cell_type": "markdown",
   "metadata": {},
   "source": [
    "*The numerical data column age has a lomng right tail so basicall right skewed column hence we should apply log transformation to make it a normal distribution*"
   ]
  },
  {
   "cell_type": "markdown",
   "metadata": {},
   "source": [
    "### Handling age "
   ]
  },
  {
   "cell_type": "code",
   "execution_count": 17,
   "metadata": {},
   "outputs": [],
   "source": [
    "# apply log transformation \n",
    "#to decrease skewness of the column \n",
    "tinder_df[\"age\"] = tinder_df[\"age\"].\\\n",
    "             apply(lambda x :np.log(x))"
   ]
  },
  {
   "cell_type": "markdown",
   "metadata": {},
   "source": [
    "*Since in our dataset a large number of columns are categorical,But we can not encode all the variable using same technique so we will divide the categorical column into three different categories one which have only 2\n",
    "unique value , second which have unique value between 2 to 6 and third which have unique value grater than 6*"
   ]
  },
  {
   "cell_type": "markdown",
   "metadata": {},
   "source": [
    "### Handling language categorical data "
   ]
  },
  {
   "cell_type": "code",
   "execution_count": 18,
   "metadata": {},
   "outputs": [
    {
     "data": {
      "text/plain": [
       "array([ True])"
      ]
     },
     "execution_count": 18,
     "metadata": {},
     "output_type": "execute_result"
    }
   ],
   "source": [
    "tinder_df['language'].str.contains('english').unique()"
   ]
  },
  {
   "cell_type": "markdown",
   "metadata": {},
   "source": [
    "*Since there are 571 unique rows in the langauge column, but every row has english as column language. it will create a very saprse matrix if we do one-hot encoding of language column so we will create another column which counts the number of unique language person knows and we drop language column*"
   ]
  },
  {
   "cell_type": "code",
   "execution_count": 19,
   "metadata": {},
   "outputs": [],
   "source": [
    "# count the number of languages in each row\n",
    "tinder_df['num_languages'] = tinder_df['language']\\\n",
    "                              .str.count(',') + 1\n",
    "tinder_df.drop([\"language\"],axis=1,inplace=True)"
   ]
  },
  {
   "cell_type": "markdown",
   "metadata": {},
   "source": [
    "### Handling location preference categorical data "
   ]
  },
  {
   "cell_type": "markdown",
   "metadata": {},
   "source": [
    "*to encode location preference we will assign number to each location preferred place like for anywhere giving lowest preference to 1 and same city having highest preference equals 1* "
   ]
  },
  {
   "cell_type": "code",
   "execution_count": 20,
   "metadata": {},
   "outputs": [],
   "source": [
    "place_type_strength = {\n",
    "   'anywhere': 1.0,\n",
    "   'same state': 2.0, \n",
    "   'same city': 2.5\n",
    "}\n",
    "\n",
    "tinder_df['location_preference'] = tinder_df['location_preference']\\\n",
    "                              .apply(lambda x: place_type_strength[x])"
   ]
  },
  {
   "cell_type": "code",
   "execution_count": 21,
   "metadata": {},
   "outputs": [],
   "source": [
    "two_unique_values_column = {\n",
    "    'sex': {'f': 1, 'm': 0},\n",
    "    'dropped_out': {'no': 0, 'yes': 1}\n",
    "}\n",
    "\n",
    "tinder_df.replace(two_unique_values_column, inplace=True)\n"
   ]
  },
  {
   "cell_type": "markdown",
   "metadata": {},
   "source": [
    "### Handling Status categorical column "
   ]
  },
  {
   "cell_type": "markdown",
   "metadata": {},
   "source": [
    "*we will divide all the four distinct element in two parts 1. either he is single or available and 2. is either he is married or seeing someone higher weight is given to the people who are single or available*"
   ]
  },
  {
   "cell_type": "code",
   "execution_count": 22,
   "metadata": {},
   "outputs": [],
   "source": [
    "status_type_strength = {\n",
    "   'single': 2.0,\n",
    "   'available': 2.0, \n",
    "   'seeing someone': 1.0,\n",
    "   'married':1.0\n",
    "}\n",
    "tinder_df['status'] = tinder_df['status']\\\n",
    "                              .apply(lambda x: status_type_strength[x])"
   ]
  },
  {
   "cell_type": "markdown",
   "metadata": {},
   "source": [
    "### Handling orientation column"
   ]
  },
  {
   "cell_type": "markdown",
   "metadata": {},
   "source": [
    "*Since orientation is an important element of the dataframe and it is an Nominal Categorical Data. so here we will do one hot encoding of this column*"
   ]
  },
  {
   "cell_type": "code",
   "execution_count": 23,
   "metadata": {},
   "outputs": [],
   "source": [
    "# perform one hot encoding\n",
    "orientation_one_hot = pd.get_dummies(tinder_df['orientation'])\n",
    "\n",
    "# add the new columns to the original DataFrame\n",
    "tinder_df = pd.concat([tinder_df, orientation_one_hot], axis=1)"
   ]
  },
  {
   "cell_type": "code",
   "execution_count": 24,
   "metadata": {},
   "outputs": [],
   "source": [
    "#Drop the existing orientation column \n",
    "tinder_df.drop(\"orientation\",axis=1,inplace=True)"
   ]
  },
  {
   "cell_type": "markdown",
   "metadata": {},
   "source": [
    "### Handling drink and drugs categorical data"
   ]
  },
  {
   "cell_type": "code",
   "execution_count": 25,
   "metadata": {},
   "outputs": [
    {
     "data": {
      "text/plain": [
       "array(['socially', 'often', 'rarely', 'very often', 'not at all',\n",
       "       'desperately'], dtype=object)"
      ]
     },
     "execution_count": 25,
     "metadata": {},
     "output_type": "execute_result"
    }
   ],
   "source": [
    "tinder_df[\"drinks\"].unique()"
   ]
  },
  {
   "cell_type": "code",
   "execution_count": 26,
   "metadata": {},
   "outputs": [],
   "source": [
    "drinking_habbit = {\n",
    "   'socially': 'sometimes',\n",
    "   'rarely': 'sometimes', \n",
    "   'not at all': 'do not drink',\n",
    "   'often':'drinks often',\n",
    "   'very often':'drinks often',\n",
    "   'desperately':'drinks often'\n",
    "}\n",
    "tinder_df['drinks'] = tinder_df['drinks']\\\n",
    "                              .apply(lambda x: drinking_habbit[x])"
   ]
  },
  {
   "cell_type": "code",
   "execution_count": 27,
   "metadata": {},
   "outputs": [],
   "source": [
    "# perform one hot encoding\n",
    "habbit_one_hot = pd.get_dummies(tinder_df[['drinks','drugs']])\n",
    "\n",
    "# add the new columns to the original DataFrame\n",
    "tinder_df = pd.concat([tinder_df, habbit_one_hot], axis=1)"
   ]
  },
  {
   "cell_type": "code",
   "execution_count": 28,
   "metadata": {},
   "outputs": [],
   "source": [
    "#Drop the existing drink and drugs column \n",
    "tinder_df.drop([\"drinks\",\"drugs\"],axis=1,inplace=True)"
   ]
  },
  {
   "cell_type": "markdown",
   "metadata": {},
   "source": [
    "### Handling location categorical data "
   ]
  },
  {
   "cell_type": "code",
   "execution_count": 29,
   "metadata": {},
   "outputs": [],
   "source": [
    "region_dict = {'southern_california': ['los angeles', 'san diego',\\\n",
    "                                'hacienda heights', 'north hollywood', 'phoenix'],\n",
    "               'new_york': ['brooklyn', 'new york']}\n",
    "               \n",
    "def get_region(city):\n",
    "    for region, cities in region_dict.items():\n",
    "        if city.lower() in [c.lower() for c in cities]:\n",
    "            return region\n",
    "    return \"northern_california\"\n",
    "\n",
    "tinder_df['location'] = tinder_df['location'].str.split(', ').str[0].apply(get_region)"
   ]
  },
  {
   "cell_type": "code",
   "execution_count": 30,
   "metadata": {},
   "outputs": [],
   "source": [
    "# perform one hot encoding\n",
    "location_one_hot = pd.get_dummies(tinder_df['location'])\n",
    "\n",
    "# add the new columns to the original DataFrame\n",
    "tinder_df = pd.concat([tinder_df, location_one_hot], axis=1)"
   ]
  },
  {
   "cell_type": "code",
   "execution_count": 31,
   "metadata": {},
   "outputs": [],
   "source": [
    "#Drop the existing location column \n",
    "tinder_df.drop([\"location\"],axis=1,inplace=True)"
   ]
  },
  {
   "cell_type": "markdown",
   "metadata": {},
   "source": [
    "### Handling job column "
   ]
  },
  {
   "cell_type": "code",
   "execution_count": 32,
   "metadata": {},
   "outputs": [],
   "source": [
    "# create a new DataFrame with one-hot encoded job column\n",
    "job_dummies = pd.get_dummies(tinder_df[\"job\"], prefix=\"job\")\n",
    "\n",
    "# concatenate the new DataFrame with the original DataFrame\n",
    "tinder_df = pd.concat([tinder_df, job_dummies], axis=1)\n",
    "\n",
    "# drop the original job column\n",
    "tinder_df.drop(\"job\", axis=1, inplace=True)"
   ]
  },
  {
   "cell_type": "markdown",
   "metadata": {},
   "source": [
    "### Handling smoke and pets column "
   ]
  },
  {
   "cell_type": "code",
   "execution_count": 33,
   "metadata": {},
   "outputs": [],
   "source": [
    "smokes = {\n",
    "   'no': 1.0,\n",
    "   'sometimes': 0, \n",
    "   'yes': 0,\n",
    "   'when drinking':0,\n",
    "   'trying to quit':0\n",
    "}\n",
    "tinder_df['smokes'] = tinder_df['smokes']\\\n",
    "                              .apply(lambda x: smokes[x])"
   ]
  },
  {
   "cell_type": "code",
   "execution_count": 34,
   "metadata": {},
   "outputs": [],
   "source": [
    "import category_encoders as ce\n",
    "# create an instance of BinaryEncoder\n",
    "bin_enc = ce.BinaryEncoder(cols=['pets'])\n",
    "\n",
    "# fit and transform the pet column\n",
    "pet_enc = bin_enc.fit_transform(tinder_df['pets'])\n",
    "\n",
    "# add the encoded columns to the original dataframe\n",
    "tinder_df = pd.concat([tinder_df, pet_enc], axis=1)\n",
    "\n",
    "tinder_df.drop(\"pets\",axis=1,inplace = True)"
   ]
  },
  {
   "cell_type": "markdown",
   "metadata": {},
   "source": [
    "### Handling new_language and body_profile column "
   ]
  },
  {
   "cell_type": "code",
   "execution_count": 35,
   "metadata": {},
   "outputs": [],
   "source": [
    "# create a new DataFrame with one-hot encoded job column\n",
    "new_languages_dummies = pd.get_dummies(tinder_df[\"new_languages\"], prefix=\"language\")\n",
    "\n",
    "# concatenate the new DataFrame with the original DataFrame\n",
    "tinder_df = pd.concat([tinder_df, new_languages_dummies], axis=1)\n",
    "\n",
    "# drop the original job column\n",
    "tinder_df.drop(\"new_languages\", axis=1, inplace=True)"
   ]
  },
  {
   "cell_type": "code",
   "execution_count": 36,
   "metadata": {},
   "outputs": [],
   "source": [
    "# create a new DataFrame with one-hot encoded job column\n",
    "body_profile_dummies = pd.get_dummies(tinder_df[\"body_profile\"], prefix=\"profile\")\n",
    "\n",
    "# concatenate the new DataFrame with the original DataFrame\n",
    "tinder_df = pd.concat([tinder_df, body_profile_dummies], axis=1)\n",
    "\n",
    "# drop the original job column\n",
    "tinder_df.drop(\"body_profile\", axis=1, inplace=True)"
   ]
  },
  {
   "cell_type": "code",
   "execution_count": 37,
   "metadata": {},
   "outputs": [],
   "source": [
    "mapping = {\n",
    "    'sports': 'fitness',\n",
    "    'painting': 'art',\n",
    "    'instruments': 'music',\n",
    "    'sketching': 'art',\n",
    "    'craft': 'art',\n",
    "    'video games': 'gaming',\n",
    "    'photography': 'art',\n",
    "    'designing': 'art',\n",
    "    'dancing': 'music',\n",
    "    'writting': 'literature',\n",
    "    'singing': 'music',\n",
    "    'food': 'culinary',\n",
    "    'makeup': 'fashion',\n",
    "    'astronomy': 'science',\n",
    "    'organising events': 'event planning',\n",
    "    'music': 'music',\n",
    "    'reading': 'literature',\n",
    "    'politics': 'politics',\n",
    "    'studying': 'education',\n",
    "    'diy': 'craft',\n",
    "    'yoga': 'fitness',\n",
    "    'travelling': 'travel',\n",
    "    'gardening': 'outdoor activities',\n",
    "    'social_networking': 'technology',\n",
    "    'movies': 'entertainment',\n",
    "    'collectibles': 'hobbies',\n",
    "    'acting': 'entertainment',\n",
    "    'cooking': 'culinary',\n",
    "    'calligraphy': 'art',\n",
    "    'fishing': 'outdoor activities',\n",
    "    'camping': 'outdoor activities'\n",
    "}\n",
    "tinder_df['interests'] = tinder_df['interests'].replace(mapping)"
   ]
  },
  {
   "cell_type": "code",
   "execution_count": 38,
   "metadata": {},
   "outputs": [],
   "source": [
    "# create a new DataFrame with one-hot encoded job column\n",
    "interest_dummies = pd.get_dummies(tinder_df[\"interests\"])\n",
    "\n",
    "# concatenate the new DataFrame with the original DataFrame\n",
    "tinder_df = pd.concat([tinder_df, interest_dummies], axis=1)\n",
    "\n",
    "# drop the original interest column\n",
    "tinder_df.drop(\"interests\", axis=1, inplace=True)"
   ]
  },
  {
   "cell_type": "code",
   "execution_count": 39,
   "metadata": {},
   "outputs": [
    {
     "data": {
      "text/html": [
       "<div>\n",
       "<style scoped>\n",
       "    .dataframe tbody tr th:only-of-type {\n",
       "        vertical-align: middle;\n",
       "    }\n",
       "\n",
       "    .dataframe tbody tr th {\n",
       "        vertical-align: top;\n",
       "    }\n",
       "\n",
       "    .dataframe thead th {\n",
       "        text-align: right;\n",
       "    }\n",
       "</style>\n",
       "<table border=\"1\" class=\"dataframe\">\n",
       "  <thead>\n",
       "    <tr style=\"text-align: right;\">\n",
       "      <th></th>\n",
       "      <th>username</th>\n",
       "      <th>age</th>\n",
       "      <th>status</th>\n",
       "      <th>sex</th>\n",
       "      <th>height</th>\n",
       "      <th>smokes</th>\n",
       "      <th>education_level</th>\n",
       "      <th>dropped_out</th>\n",
       "      <th>bio</th>\n",
       "      <th>other_interests</th>\n",
       "      <th>...</th>\n",
       "      <th>fitness</th>\n",
       "      <th>gaming</th>\n",
       "      <th>hobbies</th>\n",
       "      <th>literature</th>\n",
       "      <th>music</th>\n",
       "      <th>outdoor activities</th>\n",
       "      <th>politics</th>\n",
       "      <th>science</th>\n",
       "      <th>technology</th>\n",
       "      <th>travel</th>\n",
       "    </tr>\n",
       "  </thead>\n",
       "  <tbody>\n",
       "    <tr>\n",
       "      <th>0</th>\n",
       "      <td>Edith Lopez</td>\n",
       "      <td>3.295837</td>\n",
       "      <td>2.0</td>\n",
       "      <td>1</td>\n",
       "      <td>66.0</td>\n",
       "      <td>1.0</td>\n",
       "      <td>4.0</td>\n",
       "      <td>0</td>\n",
       "      <td>bottom line i love life! i work hard and i lov...</td>\n",
       "      <td>instruments</td>\n",
       "      <td>...</td>\n",
       "      <td>1</td>\n",
       "      <td>0</td>\n",
       "      <td>0</td>\n",
       "      <td>0</td>\n",
       "      <td>0</td>\n",
       "      <td>0</td>\n",
       "      <td>0</td>\n",
       "      <td>0</td>\n",
       "      <td>0</td>\n",
       "      <td>0</td>\n",
       "    </tr>\n",
       "    <tr>\n",
       "      <th>1</th>\n",
       "      <td>Travis Young</td>\n",
       "      <td>3.258097</td>\n",
       "      <td>2.0</td>\n",
       "      <td>0</td>\n",
       "      <td>68.0</td>\n",
       "      <td>1.0</td>\n",
       "      <td>3.0</td>\n",
       "      <td>0</td>\n",
       "      <td>i'm a straightforward, genuine, fun loving (i'...</td>\n",
       "      <td>instruments</td>\n",
       "      <td>...</td>\n",
       "      <td>0</td>\n",
       "      <td>0</td>\n",
       "      <td>0</td>\n",
       "      <td>0</td>\n",
       "      <td>0</td>\n",
       "      <td>0</td>\n",
       "      <td>0</td>\n",
       "      <td>0</td>\n",
       "      <td>0</td>\n",
       "      <td>0</td>\n",
       "    </tr>\n",
       "    <tr>\n",
       "      <th>2</th>\n",
       "      <td>Agnes Smith</td>\n",
       "      <td>2.995732</td>\n",
       "      <td>1.0</td>\n",
       "      <td>1</td>\n",
       "      <td>69.0</td>\n",
       "      <td>0.0</td>\n",
       "      <td>2.0</td>\n",
       "      <td>0</td>\n",
       "      <td>mmmmm yummy tacosss. yoga is where it's at. i ...</td>\n",
       "      <td>dancing</td>\n",
       "      <td>...</td>\n",
       "      <td>0</td>\n",
       "      <td>0</td>\n",
       "      <td>0</td>\n",
       "      <td>0</td>\n",
       "      <td>1</td>\n",
       "      <td>0</td>\n",
       "      <td>0</td>\n",
       "      <td>0</td>\n",
       "      <td>0</td>\n",
       "      <td>0</td>\n",
       "    </tr>\n",
       "    <tr>\n",
       "      <th>3</th>\n",
       "      <td>Salvador Klaver</td>\n",
       "      <td>3.295837</td>\n",
       "      <td>2.0</td>\n",
       "      <td>0</td>\n",
       "      <td>68.0</td>\n",
       "      <td>1.0</td>\n",
       "      <td>3.0</td>\n",
       "      <td>0</td>\n",
       "      <td>i'm a stealth geek. that special mix of techni...</td>\n",
       "      <td>acting</td>\n",
       "      <td>...</td>\n",
       "      <td>0</td>\n",
       "      <td>0</td>\n",
       "      <td>0</td>\n",
       "      <td>0</td>\n",
       "      <td>0</td>\n",
       "      <td>0</td>\n",
       "      <td>0</td>\n",
       "      <td>0</td>\n",
       "      <td>0</td>\n",
       "      <td>0</td>\n",
       "    </tr>\n",
       "    <tr>\n",
       "      <th>4</th>\n",
       "      <td>Elana Sewell</td>\n",
       "      <td>3.091042</td>\n",
       "      <td>2.0</td>\n",
       "      <td>1</td>\n",
       "      <td>68.0</td>\n",
       "      <td>0.0</td>\n",
       "      <td>2.0</td>\n",
       "      <td>1</td>\n",
       "      <td>with the whisper of the wind i was weaved into...</td>\n",
       "      <td>designing</td>\n",
       "      <td>...</td>\n",
       "      <td>0</td>\n",
       "      <td>0</td>\n",
       "      <td>0</td>\n",
       "      <td>0</td>\n",
       "      <td>0</td>\n",
       "      <td>0</td>\n",
       "      <td>0</td>\n",
       "      <td>0</td>\n",
       "      <td>0</td>\n",
       "      <td>0</td>\n",
       "    </tr>\n",
       "  </tbody>\n",
       "</table>\n",
       "<p>5 rows × 81 columns</p>\n",
       "</div>"
      ],
      "text/plain": [
       "          username       age  status  sex  height  smokes  education_level  \\\n",
       "0      Edith Lopez  3.295837     2.0    1    66.0     1.0              4.0   \n",
       "1     Travis Young  3.258097     2.0    0    68.0     1.0              3.0   \n",
       "2      Agnes Smith  2.995732     1.0    1    69.0     0.0              2.0   \n",
       "3  Salvador Klaver  3.295837     2.0    0    68.0     1.0              3.0   \n",
       "4     Elana Sewell  3.091042     2.0    1    68.0     0.0              2.0   \n",
       "\n",
       "   dropped_out                                                bio  \\\n",
       "0            0  bottom line i love life! i work hard and i lov...   \n",
       "1            0  i'm a straightforward, genuine, fun loving (i'...   \n",
       "2            0  mmmmm yummy tacosss. yoga is where it's at. i ...   \n",
       "3            0  i'm a stealth geek. that special mix of techni...   \n",
       "4            1  with the whisper of the wind i was weaved into...   \n",
       "\n",
       "  other_interests  ...  fitness  gaming  hobbies  literature  music  \\\n",
       "0     instruments  ...        1       0        0           0      0   \n",
       "1     instruments  ...        0       0        0           0      0   \n",
       "2         dancing  ...        0       0        0           0      1   \n",
       "3          acting  ...        0       0        0           0      0   \n",
       "4       designing  ...        0       0        0           0      0   \n",
       "\n",
       "   outdoor activities  politics  science  technology  travel  \n",
       "0                   0         0        0           0       0  \n",
       "1                   0         0        0           0       0  \n",
       "2                   0         0        0           0       0  \n",
       "3                   0         0        0           0       0  \n",
       "4                   0         0        0           0       0  \n",
       "\n",
       "[5 rows x 81 columns]"
      ]
     },
     "execution_count": 39,
     "metadata": {},
     "output_type": "execute_result"
    }
   ],
   "source": [
    "tinder_df.head()"
   ]
  },
  {
   "cell_type": "code",
   "execution_count": 40,
   "metadata": {},
   "outputs": [],
   "source": [
    "# create a mapping between interests and categories\n",
    "interests_mapping = {\n",
    "    'sports': 'fitness',\n",
    "    'painting': 'arts and crafts',\n",
    "    'instruments': 'arts and crafts',\n",
    "    'sketching': 'arts and crafts',\n",
    "    'craft': 'arts and crafts',\n",
    "    'video games': 'technology',\n",
    "    'photography': 'photography',\n",
    "    'designing': 'arts and crafts',\n",
    "    'dancing': 'arts and crafts',\n",
    "    'writting': 'education',\n",
    "    'singing': 'arts and crafts',\n",
    "    'food': 'food',\n",
    "    'makeup': 'arts and crafts',\n",
    "    'astronomy': 'education',\n",
    "    'organising events': 'event planning',\n",
    "    'music': 'music',\n",
    "    'reading': 'education',\n",
    "    'politics': 'arts and crafts',\n",
    "    'studying': 'education',\n",
    "    'diy': 'arts and crafts',\n",
    "    'yoga': 'fitness',\n",
    "    'travelling': 'fitness',\n",
    "    'gardening': 'outdoor activities',\n",
    "    'social_networking': 'outdoor activities',\n",
    "    'movies': 'movies',\n",
    "    'collectibles': 'technology',\n",
    "    'acting': 'arts and crafts',\n",
    "    'cooking': 'arts and crafts',\n",
    "    'calligraphy': 'arts and crafts',\n",
    "    'fishing': 'outdoor activities',\n",
    "    'camping': 'fitness'\n",
    "}\n",
    "\n",
    "# replace the interests with their corresponding categories\n",
    "tinder_df['other_interests'] = tinder_df['other_interests'].replace(interests_mapping)"
   ]
  },
  {
   "cell_type": "code",
   "execution_count": 41,
   "metadata": {},
   "outputs": [],
   "source": [
    "# create a new DataFrame with one-hot encoded job column\n",
    "other_interest_dummies = pd.get_dummies(tinder_df[\"other_interests\"])\n",
    "\n",
    "# concatenate the new DataFrame with the original DataFrame\n",
    "tinder_df = pd.concat([tinder_df, other_interest_dummies], axis=1)\n",
    "\n",
    "# drop the original other_interest interest column\n",
    "tinder_df.drop(\"other_interests\", axis=1, inplace=True)"
   ]
  },
  {
   "cell_type": "markdown",
   "metadata": {},
   "source": [
    "## Data Modelling"
   ]
  },
  {
   "cell_type": "code",
   "execution_count": 42,
   "metadata": {},
   "outputs": [],
   "source": [
    "# Initialize TfidfVectorizer object\n",
    "tfidf = TfidfVectorizer(stop_words='english')\n",
    "\n",
    "# Fit and transform the text data\n",
    "tfidf_matrix = tfidf.fit_transform(tinder_df['bio'])\n",
    "\n",
    "# Get the feature names from the TfidfVectorizer object\n",
    "feature_names = tfidf.vocabulary_\n",
    "\n",
    "# Convert tfidf matrix to DataFrame\n",
    "tfidf_df = pd.DataFrame(tfidf_matrix.toarray(), columns=feature_names)\n",
    "\n",
    "# Create a cosine similarity matrix based on all available features\n",
    "features = tinder_df.drop(\"bio\", axis=1).columns.tolist()\n",
    "for feature in features:\n",
    "    tfidf_matrix = pd.concat([tfidf_df, tinder_df[feature]], axis=1)\n",
    "cosine_sim = cosine_similarity(tfidf_matrix)\n",
    "\n",
    "# Define a function to recommend users based on a given username\n",
    "def recommend(username, num_recommendations=5):\n",
    "    # Get the index of the user with the given username\n",
    "    idx = tinder_df[tinder_df['username'] == username].index[0]\n",
    "\n",
    "    # Get the cosine similarity scores for the user with the given username\n",
    "    sim_scores = list(enumerate(cosine_sim[idx]))\n",
    "\n",
    "    # Sort the users by their similarity scores in descending order\n",
    "    sim_scores = sorted(sim_scores, key=lambda x: x[1], reverse=True)\n",
    "\n",
    "    # Get the indices of the top num_recommendations similar users\n",
    "    sim_indices = [i[0] for i in sim_scores[1:num_recommendations+1]]\n",
    "\n",
    "    # Return the usernames of the recommended users\n",
    "    return tinder_df['username'].iloc[sim_indices]\n"
   ]
  },
  {
   "cell_type": "markdown",
   "metadata": {},
   "source": [
    "*The model will show best k profiles for every username also here k is a hyperparameter*"
   ]
  },
  {
   "cell_type": "code",
   "execution_count": 43,
   "metadata": {},
   "outputs": [
    {
     "data": {
      "text/plain": [
       "1301       Carl Ramirez\n",
       "1          Travis Young\n",
       "1283    Tanner Grantham\n",
       "247        Eric Nollman\n",
       "1685       Thomas Moran\n",
       "Name: username, dtype: object"
      ]
     },
     "execution_count": 43,
     "metadata": {},
     "output_type": "execute_result"
    }
   ],
   "source": [
    "#k=5\n",
    "recommend('Alissa Wilbur',5)\n"
   ]
  }
 ],
 "metadata": {
  "kernelspec": {
   "display_name": "myenv:Python",
   "language": "python",
   "name": "conda-env-myenv-py"
  },
  "language_info": {
   "codemirror_mode": {
    "name": "ipython",
    "version": 3
   },
   "file_extension": ".py",
   "mimetype": "text/x-python",
   "name": "python",
   "nbconvert_exporter": "python",
   "pygments_lexer": "ipython3",
   "version": "3.9.16"
  },
  "widgets": {
   "application/vnd.jupyter.widget-state+json": {
    "state": {},
    "version_major": 2,
    "version_minor": 0
   }
  }
 },
 "nbformat": 4,
 "nbformat_minor": 4
}
